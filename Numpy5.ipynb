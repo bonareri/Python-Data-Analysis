{
  "cells": [
    {
      "cell_type": "markdown",
      "metadata": {
        "id": "view-in-github",
        "colab_type": "text"
      },
      "source": [
        "<a href=\"https://colab.research.google.com/github/bonareri/Python-Data-Analysis/blob/main/Numpy5.ipynb\" target=\"_parent\"><img src=\"https://colab.research.google.com/assets/colab-badge.svg\" alt=\"Open In Colab\"/></a>"
      ]
    },
    {
      "cell_type": "markdown",
      "metadata": {
        "id": "SGeCcwly-2a7"
      },
      "source": [
        "# Numpy Exercise 5\n",
        "\n",
        "### All of the questions in this exercise are attributed to rougier/numpy-100"
      ]
    },
    {
      "cell_type": "code",
      "execution_count": 1,
      "metadata": {
        "id": "7_f8ZeVS-2bA"
      },
      "outputs": [],
      "source": [
        "import numpy as np"
      ]
    },
    {
      "cell_type": "markdown",
      "metadata": {
        "id": "lbjjslR1-2bB"
      },
      "source": [
        "#### 61. Find the nearest value from a given value in an array (★★☆)"
      ]
    },
    {
      "cell_type": "code",
      "execution_count": 6,
      "metadata": {
        "id": "7Rjf_4M1-2bC"
      },
      "outputs": [],
      "source": [
        "def find_nearest(array, target):\n",
        "    # Convert the list to a NumPy array\n",
        "    array = np.array(array)\n",
        "    # Find the index of the nearest value\n",
        "    idx = (np.abs(array - target)).argmin()\n",
        "    # Return the nearest value\n",
        "    return array[idx]\n",
        "\n",
        "    array = [10, 22, 14, 26, 35, 40]\n",
        "    target = 20\n",
        "    nearest_value = find_nearest(array, target)\n",
        "    print(\"The nearest value to\", target, \"is\", nearest_value)"
      ]
    },
    {
      "cell_type": "markdown",
      "metadata": {
        "id": "KnJNUDuh-2bC"
      },
      "source": [
        "#### 62. Considering two arrays with shape (1,3) and (3,1), how to compute their sum using an iterator? (★★☆)"
      ]
    },
    {
      "cell_type": "code",
      "execution_count": 7,
      "metadata": {
        "colab": {
          "base_uri": "https://localhost:8080/"
        },
        "id": "YrmvIbFM-2bD",
        "outputId": "8ab8acbd-39f0-485a-d463-e831cbadf969"
      },
      "outputs": [
        {
          "output_type": "stream",
          "name": "stdout",
          "text": [
            "Element-wise sum:\n",
            "Index (0, 0): 5\n",
            "Index (0, 1): 6\n",
            "Index (0, 2): 7\n",
            "Index (1, 0): 6\n",
            "Index (1, 1): 7\n",
            "Index (1, 2): 8\n",
            "Index (2, 0): 7\n",
            "Index (2, 1): 8\n",
            "Index (2, 2): 9\n"
          ]
        }
      ],
      "source": [
        "# Define the arrays with shapes (1, 3) and (3, 1)\n",
        "array1 = np.array([[1, 2, 3]])  # Shape (1, 3)\n",
        "array2 = np.array([[4], [5], [6]])  # Shape (3, 1)\n",
        "\n",
        "# Create an iterator with broadcasting enabled\n",
        "result = array1 + array2\n",
        "iterator = np.nditer(result, flags=['multi_index'])\n",
        "\n",
        "# Print the sum for each element\n",
        "print(\"Element-wise sum:\")\n",
        "for x in iterator:\n",
        "    print(f\"Index {iterator.multi_index}: {x}\")\n"
      ]
    },
    {
      "cell_type": "markdown",
      "metadata": {
        "id": "uQfem5XL-2bD"
      },
      "source": [
        "#### 63. Create an array class that has a name attribute (★★☆)"
      ]
    },
    {
      "cell_type": "code",
      "execution_count": 8,
      "metadata": {
        "colab": {
          "base_uri": "https://localhost:8080/"
        },
        "id": "uAkQKG32-2bD",
        "outputId": "667c3403-f0ef-4119-e38e-8161f32fed90"
      },
      "outputs": [
        {
          "output_type": "stream",
          "name": "stdout",
          "text": [
            "My Array:\n",
            "[[1 2 3]\n",
            " [4 5 6]]\n",
            "Sum: 21\n",
            "Updated Array\n"
          ]
        }
      ],
      "source": [
        "class Array:\n",
        "    def __init__(self, data, name=\"Unnamed Array\"):\n",
        "        # Initialize the array data and name\n",
        "        self.data = np.array(data)\n",
        "        self.name = name\n",
        "\n",
        "    def __repr__(self):\n",
        "        # Return a formatted string for easy display of the array and its name\n",
        "        return f\"{self.name}:\\n{self.data}\"\n",
        "\n",
        "    def set_name(self, new_name):\n",
        "        # Method to set a new name for the array\n",
        "        self.name = new_name\n",
        "\n",
        "    def get_name(self):\n",
        "        # Method to get the current name of the array\n",
        "        return self.name\n",
        "\n",
        "    def sum(self):\n",
        "        # Example method to return the sum of all elements in the array\n",
        "        return self.data.sum()\n",
        "\n",
        "    # Add other methods as needed\n",
        "\n",
        "# Example Usage\n",
        "arr = Array([[1, 2, 3], [4, 5, 6]], name=\"My Array\")\n",
        "print(arr)           # Prints the array with its name\n",
        "print(\"Sum:\", arr.sum())  # Prints the sum of all elements\n",
        "arr.set_name(\"Updated Array\")\n",
        "print(arr.get_name()) # Prints the updated name\n"
      ]
    },
    {
      "cell_type": "markdown",
      "metadata": {
        "id": "DIIvnqI3-2bE"
      },
      "source": [
        "#### 64. Consider a given vector, how to add 1 to each element indexed by a second vector (be careful with repeated indices)? (★★★)"
      ]
    },
    {
      "cell_type": "code",
      "execution_count": 9,
      "metadata": {
        "colab": {
          "base_uri": "https://localhost:8080/"
        },
        "id": "2alF9AbJ-2bE",
        "outputId": "b0b8d5db-d59c-4268-c474-afcf69bc7288"
      },
      "outputs": [
        {
          "output_type": "stream",
          "name": "stdout",
          "text": [
            "Updated vector: [10 23 30 42 51]\n"
          ]
        }
      ],
      "source": [
        "# Given vector\n",
        "vector = np.array([10, 20, 30, 40, 50])\n",
        "\n",
        "# Indices where 1 should be added\n",
        "indices = np.array([1, 3, 1, 4, 3, 1])\n",
        "\n",
        "# Use np.add.at to handle repeated indices correctly\n",
        "np.add.at(vector, indices, 1)\n",
        "\n",
        "print(\"Updated vector:\", vector)"
      ]
    },
    {
      "cell_type": "markdown",
      "metadata": {
        "id": "FYd1XcBC-2bE"
      },
      "source": [
        "#### 65. How to accumulate elements of a vector (X) to an array (F) based on an index list (I)? (★★★)"
      ]
    },
    {
      "cell_type": "code",
      "execution_count": 10,
      "metadata": {
        "colab": {
          "base_uri": "https://localhost:8080/"
        },
        "id": "RZJ7fFVE-2bE",
        "outputId": "a1a816e0-2c10-4064-aad3-67c07883bf54"
      },
      "outputs": [
        {
          "output_type": "stream",
          "name": "stdout",
          "text": [
            "Accumulated array F: [6. 3. 6.]\n"
          ]
        }
      ],
      "source": [
        "# Example vector X\n",
        "X = np.array([1, 2, 3, 4, 5])\n",
        "\n",
        "# Index list I (where to add each element of X in array F)\n",
        "I = np.array([0, 2, 1, 2, 0])\n",
        "\n",
        "# Initialize array F with zeros, with a size large enough to include all indices in I\n",
        "F = np.zeros(3)\n",
        "\n",
        "# Accumulate values in X into F based on indices in I\n",
        "np.add.at(F, I, X)\n",
        "\n",
        "print(\"Accumulated array F:\", F)\n"
      ]
    },
    {
      "cell_type": "markdown",
      "metadata": {
        "id": "omIaQ6ci-2bE"
      },
      "source": [
        "#### 66. Considering a (w,h,3) image of (dtype=ubyte), compute the number of unique colors (★★☆)"
      ]
    },
    {
      "cell_type": "code",
      "execution_count": 11,
      "metadata": {
        "colab": {
          "base_uri": "https://localhost:8080/"
        },
        "id": "wsLApF9R-2bF",
        "outputId": "d36f8221-0ee9-4c74-fe20-90119817e7cb"
      },
      "outputs": [
        {
          "output_type": "stream",
          "name": "stdout",
          "text": [
            "Number of unique colors: 9992\n"
          ]
        }
      ],
      "source": [
        "# Example image array with shape (w, h, 3) and dtype=ubyte\n",
        "w, h = 100, 100\n",
        "image = np.random.randint(0, 256, size=(w, h, 3), dtype=np.uint8)\n",
        "\n",
        "# Reshape the image to a 2D array of pixels, where each row is a color (R, G, B)\n",
        "pixels = image.reshape(-1, 3)\n",
        "\n",
        "# Find unique rows (unique colors) and count them\n",
        "unique_colors = np.unique(pixels, axis=0)\n",
        "num_unique_colors = unique_colors.shape[0]\n",
        "\n",
        "print(\"Number of unique colors:\", num_unique_colors)\n"
      ]
    },
    {
      "cell_type": "markdown",
      "metadata": {
        "id": "8P6dqhGZ-2bF"
      },
      "source": [
        "#### 67. Considering a four dimensions array, how to get sum over the last two axis at once? (★★★)"
      ]
    },
    {
      "cell_type": "code",
      "execution_count": 12,
      "metadata": {
        "colab": {
          "base_uri": "https://localhost:8080/"
        },
        "id": "V-7x9rWU-2bF",
        "outputId": "973e9da7-f884-447f-91a5-d9c5c3910516"
      },
      "outputs": [
        {
          "output_type": "stream",
          "name": "stdout",
          "text": [
            "Resulting array after summing over the last two axes: [[12.42415526 18.05046049 14.57714606 16.82152235]\n",
            " [14.23156215 16.18083026 13.72669439 17.44625801]\n",
            " [14.14315355 16.6076829  16.02393524 14.46315758]]\n",
            "Shape of the resulting array: (3, 4)\n"
          ]
        }
      ],
      "source": [
        "# Example 4D array\n",
        "array = np.random.rand(3, 4, 5, 6)\n",
        "\n",
        "# Sum over the last two axes\n",
        "result = np.sum(array, axis=(-2, -1))\n",
        "\n",
        "print(\"Resulting array after summing over the last two axes:\", result)\n",
        "print(\"Shape of the resulting array:\", result.shape)\n"
      ]
    },
    {
      "cell_type": "markdown",
      "metadata": {
        "id": "rY32OeOZ-2bF"
      },
      "source": [
        "#### 68. Considering a one-dimensional vector D, how to compute means of subsets of D using a vector S of same size describing subset  indices? (★★★)"
      ]
    },
    {
      "cell_type": "code",
      "execution_count": 13,
      "metadata": {
        "colab": {
          "base_uri": "https://localhost:8080/"
        },
        "id": "vlpwCUxN-2bF",
        "outputId": "4cc6347f-b828-493e-adb0-d7ae2968d374"
      },
      "outputs": [
        {
          "output_type": "stream",
          "name": "stdout",
          "text": [
            "Means of each subset: [40. 40.]\n"
          ]
        }
      ],
      "source": [
        "# Example data\n",
        "D = np.array([10, 20, 30, 40, 50, 60, 70])\n",
        "S = np.array([0, 1, 0, 1, 0, 1, 0])  # Subset indices\n",
        "\n",
        "# Calculate the sum and count for each subset defined by S\n",
        "unique_indices = np.unique(S)\n",
        "means = np.array([D[S == i].mean() for i in unique_indices])\n",
        "\n",
        "print(\"Means of each subset:\", means)\n"
      ]
    },
    {
      "cell_type": "markdown",
      "metadata": {
        "id": "o0OOnUQj-2bF"
      },
      "source": [
        "#### 69. How to get the diagonal of a dot product? (★★★)"
      ]
    },
    {
      "cell_type": "code",
      "execution_count": null,
      "metadata": {
        "id": "rH2ml8D5-2bG"
      },
      "outputs": [],
      "source": []
    },
    {
      "cell_type": "markdown",
      "metadata": {
        "id": "PMtfVMPz-2bG"
      },
      "source": [
        "#### 70. Consider the vector [1, 2, 3, 4, 5], how to build a new vector with 3 consecutive zeros interleaved between each value? (★★★)"
      ]
    },
    {
      "cell_type": "code",
      "execution_count": 14,
      "metadata": {
        "colab": {
          "base_uri": "https://localhost:8080/"
        },
        "id": "OH8nnCjy-2bG",
        "outputId": "6ef22039-c061-4ea6-c519-83f947fd3c82"
      },
      "outputs": [
        {
          "output_type": "stream",
          "name": "stdout",
          "text": [
            "Diagonal of the dot product: [1.58346    1.40918475 0.48572823]\n"
          ]
        }
      ],
      "source": [
        "# Example matrices\n",
        "A = np.random.rand(3, 4)\n",
        "B = np.random.rand(4, 3)\n",
        "\n",
        "# Compute only the diagonal of the dot product A @ B\n",
        "diagonal = np.einsum('ij,ji->i', A, B)\n",
        "\n",
        "print(\"Diagonal of the dot product:\", diagonal)\n"
      ]
    },
    {
      "cell_type": "markdown",
      "metadata": {
        "id": "5R2AKFei-2bG"
      },
      "source": [
        "#### 71. Consider an array of dimension (5,5,3), how to mulitply it by an array with dimensions (5,5)? (★★★)"
      ]
    },
    {
      "cell_type": "code",
      "execution_count": 15,
      "metadata": {
        "colab": {
          "base_uri": "https://localhost:8080/"
        },
        "id": "n1x8qnmb-2bG",
        "outputId": "2400f64f-ac13-4f8d-8e24-3b01a8887f2b"
      },
      "outputs": [
        {
          "output_type": "stream",
          "name": "stdout",
          "text": [
            "Resulting array shape: (5, 5, 3)\n"
          ]
        }
      ],
      "source": [
        "# Example arrays\n",
        "array_3d = np.random.rand(5, 5, 3)  # Shape (5, 5, 3)\n",
        "array_2d = np.random.rand(5, 5)     # Shape (5, 5)\n",
        "\n",
        "# Multiply the 3D array by the 2D array using broadcasting\n",
        "result = array_3d * array_2d[:, :, np.newaxis]  # Expand dimensions of array_2d\n",
        "\n",
        "print(\"Resulting array shape:\", result.shape)  # Should be (5, 5, 3)\n"
      ]
    },
    {
      "cell_type": "markdown",
      "metadata": {
        "id": "koEipc30-2bG"
      },
      "source": [
        "#### 72. How to swap two rows of an array? (★★★)"
      ]
    },
    {
      "cell_type": "code",
      "execution_count": 16,
      "metadata": {
        "colab": {
          "base_uri": "https://localhost:8080/"
        },
        "id": "IVQ5ukMC-2bG",
        "outputId": "2cdb4ee7-95f3-4388-c840-25719fe03c02"
      },
      "outputs": [
        {
          "output_type": "stream",
          "name": "stdout",
          "text": [
            "Array after swapping rows:\n",
            "[[7 8 9]\n",
            " [4 5 6]\n",
            " [1 2 3]]\n"
          ]
        }
      ],
      "source": [
        "# Create a sample array\n",
        "array = np.array([[1, 2, 3],\n",
        "                  [4, 5, 6],\n",
        "                  [7, 8, 9]])\n",
        "\n",
        "# Specify the indices of the rows to swap\n",
        "row1, row2 = 0, 2  # Swapping the first and the third rows\n",
        "\n",
        "# Swap the rows using indexing\n",
        "array[[row1, row2]] = array[[row2, row1]]\n",
        "\n",
        "print(\"Array after swapping rows:\")\n",
        "print(array)\n"
      ]
    },
    {
      "cell_type": "markdown",
      "metadata": {
        "id": "2UlIgNzF-2bG"
      },
      "source": [
        "#### 73. Consider a set of 10 triplets describing 10 triangles (with shared vertices), find the set of unique line segments composing all the  triangles (★★★)"
      ]
    },
    {
      "cell_type": "code",
      "execution_count": 17,
      "metadata": {
        "colab": {
          "base_uri": "https://localhost:8080/"
        },
        "id": "r7EWGHnL-2bH",
        "outputId": "356617ad-8eb5-4b5c-9f4b-01ca8d8b1c83"
      },
      "outputs": [
        {
          "output_type": "stream",
          "name": "stdout",
          "text": [
            "Unique line segments: [(3, 4), (4, 9), (3, 7), (4, 6), (0, 2), (0, 5), (2, 5), (1, 3), (2, 8), (4, 5), (0, 1), (2, 4), (1, 2), (0, 4), (1, 5), (3, 5), (5, 8), (0, 3), (1, 4), (0, 6), (2, 3), (1, 7), (6, 9)]\n",
            "Number of unique line segments: 23\n"
          ]
        }
      ],
      "source": [
        "# Define a set of triplets (each triplet represents a triangle by its vertices)\n",
        "triplets = [\n",
        "    (0, 1, 2),  # Triangle 1\n",
        "    (0, 2, 3),  # Triangle 2\n",
        "    (1, 2, 4),  # Triangle 3\n",
        "    (3, 4, 5),  # Triangle 4\n",
        "    (0, 3, 5),  # Triangle 5\n",
        "    (1, 2, 5),  # Triangle 6\n",
        "    (0, 4, 6),  # Triangle 7\n",
        "    (1, 3, 7),  # Triangle 8\n",
        "    (2, 5, 8),  # Triangle 9\n",
        "    (4, 6, 9)   # Triangle 10\n",
        "]\n",
        "\n",
        "# Initialize a set to store unique line segments\n",
        "unique_segments = set()\n",
        "\n",
        "# Loop through each triplet\n",
        "for a, b, c in triplets:\n",
        "    # Create line segments as tuples (min, max) to ensure uniqueness\n",
        "    unique_segments.add(tuple(sorted((a, b))))\n",
        "    unique_segments.add(tuple(sorted((b, c))))\n",
        "    unique_segments.add(tuple(sorted((c, a))))\n",
        "\n",
        "# Convert the set to a list (if needed) and print the result\n",
        "unique_segments = list(unique_segments)\n",
        "\n",
        "print(\"Unique line segments:\", unique_segments)\n",
        "print(\"Number of unique line segments:\", len(unique_segments))\n"
      ]
    },
    {
      "cell_type": "markdown",
      "metadata": {
        "id": "SjelxLUq-2bH"
      },
      "source": [
        "#### 74. Given a sorted array C that corresponds to a bincount, how to produce an array A such that np.bincount(A) == C? (★★★)"
      ]
    },
    {
      "cell_type": "code",
      "execution_count": 18,
      "metadata": {
        "colab": {
          "base_uri": "https://localhost:8080/"
        },
        "id": "UZvqWLqB-2bH",
        "outputId": "733b252d-7d55-49e9-98c6-97928a036d7f"
      },
      "outputs": [
        {
          "output_type": "stream",
          "name": "stdout",
          "text": [
            "Array A: [1 1 2 2 2 3]\n",
            "Bincount of A: [0 2 3 1]\n"
          ]
        }
      ],
      "source": [
        "# Given sorted bincount array C\n",
        "C = np.array([0, 2, 3, 1])  # This means: 0 appears 0 times, 1 appears 2 times, 2 appears 3 times, 3 appears 1 time\n",
        "\n",
        "# Generate the array A based on the bincount C\n",
        "A = np.concatenate([np.full((count,), index) for index, count in enumerate(C)])\n",
        "\n",
        "print(\"Array A:\", A)\n",
        "print(\"Bincount of A:\", np.bincount(A))\n"
      ]
    },
    {
      "cell_type": "markdown",
      "metadata": {
        "id": "xkmHtaj0-2bH"
      },
      "source": [
        "#### 75. How to compute averages using a sliding window over an array? (★★★)"
      ]
    },
    {
      "cell_type": "code",
      "execution_count": 19,
      "metadata": {
        "colab": {
          "base_uri": "https://localhost:8080/"
        },
        "id": "MIq3WiOf-2bH",
        "outputId": "82084648-d867-4371-c07e-a4baf50c2d40"
      },
      "outputs": [
        {
          "output_type": "stream",
          "name": "stdout",
          "text": [
            "Sliding window averages: [2. 3. 4. 5. 6. 7. 8.]\n"
          ]
        }
      ],
      "source": [
        "def sliding_window_average(arr, window_size):\n",
        "    # Create a kernel for convolution\n",
        "    kernel = np.ones(window_size) / window_size\n",
        "    # Use np.convolve to compute the sliding window average\n",
        "    return np.convolve(arr, kernel, mode='valid')\n",
        "\n",
        "# Example usage\n",
        "data = np.array([1, 2, 3, 4, 5, 6, 7, 8, 9])\n",
        "window_size = 3\n",
        "averages = sliding_window_average(data, window_size)\n",
        "\n",
        "print(\"Sliding window averages:\", averages)\n"
      ]
    },
    {
      "cell_type": "markdown",
      "metadata": {
        "id": "1PLk5A56-2bH"
      },
      "source": [
        "#### 76. Consider a one-dimensional array Z, build a two-dimensional array whose first row is (Z[0],Z[1],Z[2]) and each subsequent row is  shifted by 1 (last row should be (Z[-3],Z[-2],Z[-1]) (★★★)"
      ]
    },
    {
      "cell_type": "code",
      "execution_count": 20,
      "metadata": {
        "colab": {
          "base_uri": "https://localhost:8080/"
        },
        "id": "0Vuf8ofq-2bH",
        "outputId": "a27102b0-2dc6-43e2-c068-8096231c7f0a"
      },
      "outputs": [
        {
          "output_type": "stream",
          "name": "stdout",
          "text": [
            "Resulting 2D array:\n",
            "[[1 2 3]\n",
            " [2 3 4]\n",
            " [3 4 5]\n",
            " [4 5 6]\n",
            " [5 6 7]\n",
            " [6 7 8]\n",
            " [7 8 9]]\n"
          ]
        }
      ],
      "source": [
        "# Define the one-dimensional array Z\n",
        "Z = np.array([1, 2, 3, 4, 5, 6, 7, 8, 9])\n",
        "\n",
        "# Define the number of rows and columns for the new array\n",
        "num_rows = len(Z) - 2  # We will have len(Z) - 2 rows (since we need 3 elements per row)\n",
        "num_cols = 3            # Each row will have 3 elements\n",
        "\n",
        "# Create the two-dimensional array\n",
        "result = np.zeros((num_rows, num_cols), dtype=Z.dtype)\n",
        "\n",
        "# Fill the result array\n",
        "for i in range(num_rows):\n",
        "    result[i] = Z[i:i + num_cols]\n",
        "\n",
        "print(\"Resulting 2D array:\")\n",
        "print(result)\n"
      ]
    },
    {
      "cell_type": "markdown",
      "metadata": {
        "id": "Ij3oec6Q-2bI"
      },
      "source": [
        "#### 77. How to negate a boolean, or to change the sign of a float inplace? (★★★)"
      ]
    },
    {
      "cell_type": "code",
      "execution_count": 21,
      "metadata": {
        "colab": {
          "base_uri": "https://localhost:8080/"
        },
        "id": "W2-kNm29-2bI",
        "outputId": "2b2859e4-c16f-4b14-cfd1-0adbd607441a"
      },
      "outputs": [
        {
          "output_type": "stream",
          "name": "stdout",
          "text": [
            "Negated boolean: False\n"
          ]
        }
      ],
      "source": [
        "# Boolean value\n",
        "bool_value = True\n",
        "\n",
        "# Negate the boolean\n",
        "bool_value = not bool_value\n",
        "\n",
        "print(\"Negated boolean:\", bool_value)  # Output: Negated boolean: False\n"
      ]
    },
    {
      "cell_type": "markdown",
      "metadata": {
        "id": "rvSlUXN_-2bI"
      },
      "source": [
        "#### 78. Consider 2 sets of points P0,P1 describing lines (2d) and a point p, how to compute distance from p to each line i (P0[i],P1[i])? (★★★)"
      ]
    },
    {
      "cell_type": "code",
      "execution_count": 22,
      "metadata": {
        "colab": {
          "base_uri": "https://localhost:8080/"
        },
        "id": "bYSHqD5C-2bI",
        "outputId": "6d8d3dbd-bbc0-4c47-e74b-a4d735310ae5"
      },
      "outputs": [
        {
          "output_type": "stream",
          "name": "stdout",
          "text": [
            "Distances from point to lines: [0.7071067811865476, 0.7071067811865476, 2.2188007849009166]\n"
          ]
        }
      ],
      "source": [
        "def distance_point_to_line(p, P0, P1):\n",
        "    # Convert points to numpy arrays for easy mathematical operations\n",
        "    p = np.array(p)\n",
        "    P0 = np.array(P0)\n",
        "    P1 = np.array(P1)\n",
        "\n",
        "    distances = []\n",
        "\n",
        "    for i in range(len(P0)):\n",
        "        A = P0[i]\n",
        "        B = P1[i]\n",
        "\n",
        "        # Vector AB\n",
        "        AB = B - A\n",
        "        # Vector AP\n",
        "        AP = p - A\n",
        "\n",
        "        # Calculate the cross product to find the area of the parallelogram\n",
        "        cross_product = np.abs(AB[0] * AP[1] - AB[1] * AP[0])\n",
        "        # Calculate the length of the line segment\n",
        "        length_AB = np.linalg.norm(AB)\n",
        "\n",
        "        # Distance from point p to line segment AB\n",
        "        if length_AB == 0:  # A and B are the same point\n",
        "            distance = np.linalg.norm(AP)  # Distance from A to P\n",
        "        else:\n",
        "            distance = cross_product / length_AB\n",
        "\n",
        "        distances.append(distance)\n",
        "\n",
        "    return distances\n",
        "\n",
        "# Example usage\n",
        "P0 = [[1, 1], [2, 2], [3, 1]]\n",
        "P1 = [[4, 4], [5, 5], [6, 3]]\n",
        "p = [2, 3]\n",
        "\n",
        "distances = distance_point_to_line(p, P0, P1)\n",
        "print(\"Distances from point to lines:\", distances)\n"
      ]
    },
    {
      "cell_type": "markdown",
      "metadata": {
        "id": "Co6NhDzI-2bI"
      },
      "source": [
        "#### 79. Consider 2 sets of points P0,P1 describing lines (2d) and a set of points P, how to compute distance from each point j (P[j]) to each line i (P0[i],P1[i])? (★★★)"
      ]
    },
    {
      "cell_type": "code",
      "execution_count": 23,
      "metadata": {
        "colab": {
          "base_uri": "https://localhost:8080/"
        },
        "id": "0Vi4n5f5-2bN",
        "outputId": "3e0dc98e-df7d-40b6-ec60-cf69d372a4fc"
      },
      "outputs": [
        {
          "output_type": "stream",
          "name": "stdout",
          "text": [
            "Distances from each point to each line:\n",
            "[[0.70710678 0.70710678 2.21880078]\n",
            " [0.70710678 0.70710678 1.94145069]\n",
            " [2.82842712 2.82842712 1.10940039]]\n"
          ]
        }
      ],
      "source": [
        "import numpy as np\n",
        "\n",
        "def distance_points_to_lines(P, P0, P1):\n",
        "    # Convert points to numpy arrays for easy mathematical operations\n",
        "    P = np.array(P)\n",
        "    P0 = np.array(P0)\n",
        "    P1 = np.array(P1)\n",
        "\n",
        "    distances = np.zeros((len(P), len(P0)))  # Create a distance matrix\n",
        "\n",
        "    for i in range(len(P0)):  # For each line\n",
        "        A = P0[i]\n",
        "        B = P1[i]\n",
        "\n",
        "        # Vector AB\n",
        "        AB = B - A\n",
        "        length_AB = np.linalg.norm(AB)  # Length of the line segment\n",
        "\n",
        "        for j in range(len(P)):  # For each point in P\n",
        "            point = P[j]\n",
        "            AP = point - A  # Vector from A to P\n",
        "\n",
        "            # Cross product to find the area of the parallelogram\n",
        "            cross_product = np.abs(AB[0] * AP[1] - AB[1] * AP[0])\n",
        "\n",
        "            # Calculate the distance from point P[j] to line segment AB\n",
        "            if length_AB == 0:  # A and B are the same point\n",
        "                distance = np.linalg.norm(AP)  # Distance from A to P\n",
        "            else:\n",
        "                distance = cross_product / length_AB\n",
        "\n",
        "            distances[j, i] = distance  # Store the distance in the matrix\n",
        "\n",
        "    return distances\n",
        "\n",
        "# Example usage\n",
        "P0 = [[1, 1], [2, 2], [3, 1]]\n",
        "P1 = [[4, 4], [5, 5], [6, 3]]\n",
        "P = [[2, 3], [1, 2], [5, 1]]\n",
        "\n",
        "distances = distance_points_to_lines(P, P0, P1)\n",
        "print(\"Distances from each point to each line:\")\n",
        "print(distances)\n"
      ]
    },
    {
      "cell_type": "markdown",
      "metadata": {
        "id": "Z6gNWj_p-2bN"
      },
      "source": [
        "#### 80. Consider an arbitrary array, write a function that extract a subpart with a fixed shape and centered on a given element (pad with a `fill` value when necessary) (★★★)"
      ]
    },
    {
      "cell_type": "code",
      "execution_count": 24,
      "metadata": {
        "colab": {
          "base_uri": "https://localhost:8080/"
        },
        "id": "IitiD5M7-2bN",
        "outputId": "14e50a9f-2082-4bd2-cad1-4241ae73f63f"
      },
      "outputs": [
        {
          "output_type": "stream",
          "name": "stdout",
          "text": [
            "Extracted Subarray:\n",
            "[[ 7  8  9]\n",
            " [12 13 14]\n",
            " [17 18 19]]\n"
          ]
        }
      ],
      "source": [
        "import numpy as np\n",
        "\n",
        "def extract_subarray(arr, center, shape, fill_value=0):\n",
        "    \"\"\"\n",
        "    Extract a subarray centered on a given element with padding if necessary.\n",
        "\n",
        "    Parameters:\n",
        "        arr (np.ndarray): Input array from which to extract the subarray.\n",
        "        center (tuple): Center position (row, col) in the array.\n",
        "        shape (tuple): Desired shape (height, width) of the subarray.\n",
        "        fill_value: Value to use for padding when necessary.\n",
        "\n",
        "    Returns:\n",
        "        np.ndarray: Extracted subarray with the specified shape, padded with fill_value.\n",
        "    \"\"\"\n",
        "    # Get the shape of the input array\n",
        "    arr_shape = arr.shape\n",
        "\n",
        "    # Determine the dimensions of the desired subarray\n",
        "    height, width = shape\n",
        "    center_row, center_col = center\n",
        "\n",
        "    # Calculate the start and end indices for the subarray\n",
        "    start_row = center_row - height // 2\n",
        "    end_row = start_row + height\n",
        "    start_col = center_col - width // 2\n",
        "    end_col = start_col + width\n",
        "\n",
        "    # Create a padded version of the array\n",
        "    padded_arr = np.full((arr_shape[0] + height, arr_shape[1] + width), fill_value)\n",
        "    padded_arr[height // 2: height // 2 + arr_shape[0], width // 2: width // 2 + arr_shape[1]] = arr\n",
        "\n",
        "    # Calculate the start indices for the padded array\n",
        "    padded_start_row = start_row + height // 2\n",
        "    padded_start_col = start_col + width // 2\n",
        "\n",
        "    # Extract the subarray\n",
        "    subarray = padded_arr[padded_start_row:padded_start_row + height, padded_start_col:padded_start_col + width]\n",
        "\n",
        "    return subarray\n",
        "\n",
        "# Example usage\n",
        "arr = np.array([[1, 2, 3, 4, 5],\n",
        "                [6, 7, 8, 9, 10],\n",
        "                [11, 12, 13, 14, 15],\n",
        "                [16, 17, 18, 19, 20],\n",
        "                [21, 22, 23, 24, 25]])\n",
        "\n",
        "center = (2, 2)  # Center on element 13\n",
        "shape = (3, 3)   # Desired shape for the subarray\n",
        "\n",
        "subarray = extract_subarray(arr, center, shape, fill_value=0)\n",
        "print(\"Extracted Subarray:\")\n",
        "print(subarray)\n"
      ]
    },
    {
      "cell_type": "markdown",
      "metadata": {
        "id": "JoglrJH7-2bN"
      },
      "source": [
        "#### 81. Consider an array Z = [1,2,3,4,5,6,7,8,9,10,11,12,13,14], how to generate an array R = [[1,2,3,4], [2,3,4,5], [3,4,5,6], ..., [11,12,13,14]]? (★★★)"
      ]
    },
    {
      "cell_type": "code",
      "execution_count": 25,
      "metadata": {
        "colab": {
          "base_uri": "https://localhost:8080/"
        },
        "id": "nruDRcP1-2bN",
        "outputId": "d9425228-6e09-4749-bc37-ed7a8a7767b9"
      },
      "outputs": [
        {
          "output_type": "stream",
          "name": "stdout",
          "text": [
            "Generated Array R:\n",
            "[[ 1  2  3  4]\n",
            " [ 2  3  4  5]\n",
            " [ 3  4  5  6]\n",
            " [ 4  5  6  7]\n",
            " [ 5  6  7  8]\n",
            " [ 6  7  8  9]\n",
            " [ 7  8  9 10]\n",
            " [ 8  9 10 11]\n",
            " [ 9 10 11 12]\n",
            " [10 11 12 13]\n",
            " [11 12 13 14]]\n"
          ]
        }
      ],
      "source": [
        "def generate_sliding_window(Z, window_size):\n",
        "    R = np.array([Z[i:i + window_size] for i in range(len(Z) - window_size + 1)])\n",
        "    return R\n",
        "\n",
        "# Given array\n",
        "Z = np.array([1, 2, 3, 4, 5, 6, 7, 8, 9, 10, 11, 12, 13, 14])\n",
        "window_size = 4\n",
        "\n",
        "# Generate the array R\n",
        "R = generate_sliding_window(Z, window_size)\n",
        "\n",
        "print(\"Generated Array R:\")\n",
        "print(R)\n"
      ]
    },
    {
      "cell_type": "markdown",
      "metadata": {
        "id": "EtEQuuWX-2bN"
      },
      "source": [
        "#### 82. Compute a matrix rank (★★★)"
      ]
    },
    {
      "cell_type": "code",
      "execution_count": 26,
      "metadata": {
        "colab": {
          "base_uri": "https://localhost:8080/"
        },
        "id": "AAW9Fw-S-2bN",
        "outputId": "666324e2-ee9d-48c2-89f2-ba22d508c657"
      },
      "outputs": [
        {
          "output_type": "stream",
          "name": "stdout",
          "text": [
            "The rank of the matrix is: 2\n"
          ]
        }
      ],
      "source": [
        "# Define a matrix\n",
        "matrix = np.array([[1, 2, 3],\n",
        "                   [4, 5, 6],\n",
        "                   [7, 8, 9]])\n",
        "\n",
        "# Compute the rank of the matrix\n",
        "rank = np.linalg.matrix_rank(matrix)\n",
        "\n",
        "print(\"The rank of the matrix is:\", rank)\n"
      ]
    },
    {
      "cell_type": "markdown",
      "metadata": {
        "id": "SQS-QGPf-2bN"
      },
      "source": [
        "#### 83. How to find the most frequent value in an array?"
      ]
    },
    {
      "cell_type": "code",
      "execution_count": 27,
      "metadata": {
        "colab": {
          "base_uri": "https://localhost:8080/"
        },
        "id": "R2RLZDhZ-2bO",
        "outputId": "fdeab354-b95e-4653-ce1e-cb3369ed86bf"
      },
      "outputs": [
        {
          "output_type": "stream",
          "name": "stdout",
          "text": [
            "Most frequent value: 1\n"
          ]
        }
      ],
      "source": [
        "def most_frequent_value(arr):\n",
        "    values, counts = np.unique(arr, return_counts=True)\n",
        "    most_frequent = values[np.argmax(counts)]\n",
        "    return most_frequent\n",
        "\n",
        "# Example usage\n",
        "arr = np.array([1, 2, 3, 4, 5, 1, 2, 1])\n",
        "most_frequent = most_frequent_value(arr)\n",
        "print(\"Most frequent value:\", most_frequent)\n"
      ]
    },
    {
      "cell_type": "markdown",
      "metadata": {
        "id": "CivCyK9P-2bO"
      },
      "source": [
        "#### 84. Extract all the contiguous 3x3 blocks from a random 10x10 matrix (★★★)"
      ]
    },
    {
      "cell_type": "code",
      "execution_count": 28,
      "metadata": {
        "colab": {
          "base_uri": "https://localhost:8080/"
        },
        "id": "CVugmIL3-2bO",
        "outputId": "5b105319-2ea8-4948-ea9e-110bb41cde4a"
      },
      "outputs": [
        {
          "output_type": "stream",
          "name": "stdout",
          "text": [
            "Original Matrix:\n",
            " [[0.51381276 0.9376615  0.32744336 0.88689419 0.75255321 0.19104222\n",
            "  0.05798421 0.57387226 0.45491803 0.53256532]\n",
            " [0.67701013 0.21589287 0.24212533 0.44010457 0.35596548 0.62129193\n",
            "  0.02729839 0.3643593  0.82542361 0.13491787]\n",
            " [0.23950953 0.43894809 0.80315131 0.96262594 0.1968175  0.87708634\n",
            "  0.10972474 0.27498817 0.67769881 0.89201367]\n",
            " [0.54505791 0.96891404 0.32773754 0.24922633 0.40956594 0.06744629\n",
            "  0.73056258 0.12722177 0.42868347 0.55472754]\n",
            " [0.81787173 0.67912358 0.26981526 0.62145251 0.29978654 0.55054627\n",
            "  0.07503896 0.28495955 0.89895255 0.75531475]\n",
            " [0.03757682 0.83107633 0.20801867 0.46705213 0.08563507 0.40456411\n",
            "  0.40994664 0.93226384 0.57356101 0.99022601]\n",
            " [0.36656769 0.34641533 0.89394475 0.56186844 0.0369333  0.22483579\n",
            "  0.6910441  0.93862154 0.76676794 0.41729203]\n",
            " [0.31266288 0.87166086 0.44091098 0.11507721 0.71562115 0.20537513\n",
            "  0.93177123 0.52258387 0.61216374 0.79685918]\n",
            " [0.9175301  0.79931885 0.72198451 0.72859747 0.43208209 0.4555095\n",
            "  0.04989569 0.67434777 0.0965176  0.94710542]\n",
            " [0.12508638 0.57655421 0.66288531 0.82402665 0.08261984 0.3027355\n",
            "  0.83106228 0.19332228 0.78416629 0.73612705]]\n",
            "\n",
            "Extracted 3x3 Blocks:\n",
            " [[[0.51381276 0.9376615  0.32744336]\n",
            "  [0.67701013 0.21589287 0.24212533]\n",
            "  [0.23950953 0.43894809 0.80315131]]\n",
            "\n",
            " [[0.9376615  0.32744336 0.88689419]\n",
            "  [0.21589287 0.24212533 0.44010457]\n",
            "  [0.43894809 0.80315131 0.96262594]]\n",
            "\n",
            " [[0.32744336 0.88689419 0.75255321]\n",
            "  [0.24212533 0.44010457 0.35596548]\n",
            "  [0.80315131 0.96262594 0.1968175 ]]\n",
            "\n",
            " [[0.88689419 0.75255321 0.19104222]\n",
            "  [0.44010457 0.35596548 0.62129193]\n",
            "  [0.96262594 0.1968175  0.87708634]]\n",
            "\n",
            " [[0.75255321 0.19104222 0.05798421]\n",
            "  [0.35596548 0.62129193 0.02729839]\n",
            "  [0.1968175  0.87708634 0.10972474]]\n",
            "\n",
            " [[0.19104222 0.05798421 0.57387226]\n",
            "  [0.62129193 0.02729839 0.3643593 ]\n",
            "  [0.87708634 0.10972474 0.27498817]]\n",
            "\n",
            " [[0.05798421 0.57387226 0.45491803]\n",
            "  [0.02729839 0.3643593  0.82542361]\n",
            "  [0.10972474 0.27498817 0.67769881]]\n",
            "\n",
            " [[0.57387226 0.45491803 0.53256532]\n",
            "  [0.3643593  0.82542361 0.13491787]\n",
            "  [0.27498817 0.67769881 0.89201367]]\n",
            "\n",
            " [[0.67701013 0.21589287 0.24212533]\n",
            "  [0.23950953 0.43894809 0.80315131]\n",
            "  [0.54505791 0.96891404 0.32773754]]\n",
            "\n",
            " [[0.21589287 0.24212533 0.44010457]\n",
            "  [0.43894809 0.80315131 0.96262594]\n",
            "  [0.96891404 0.32773754 0.24922633]]\n",
            "\n",
            " [[0.24212533 0.44010457 0.35596548]\n",
            "  [0.80315131 0.96262594 0.1968175 ]\n",
            "  [0.32773754 0.24922633 0.40956594]]\n",
            "\n",
            " [[0.44010457 0.35596548 0.62129193]\n",
            "  [0.96262594 0.1968175  0.87708634]\n",
            "  [0.24922633 0.40956594 0.06744629]]\n",
            "\n",
            " [[0.35596548 0.62129193 0.02729839]\n",
            "  [0.1968175  0.87708634 0.10972474]\n",
            "  [0.40956594 0.06744629 0.73056258]]\n",
            "\n",
            " [[0.62129193 0.02729839 0.3643593 ]\n",
            "  [0.87708634 0.10972474 0.27498817]\n",
            "  [0.06744629 0.73056258 0.12722177]]\n",
            "\n",
            " [[0.02729839 0.3643593  0.82542361]\n",
            "  [0.10972474 0.27498817 0.67769881]\n",
            "  [0.73056258 0.12722177 0.42868347]]\n",
            "\n",
            " [[0.3643593  0.82542361 0.13491787]\n",
            "  [0.27498817 0.67769881 0.89201367]\n",
            "  [0.12722177 0.42868347 0.55472754]]\n",
            "\n",
            " [[0.23950953 0.43894809 0.80315131]\n",
            "  [0.54505791 0.96891404 0.32773754]\n",
            "  [0.81787173 0.67912358 0.26981526]]\n",
            "\n",
            " [[0.43894809 0.80315131 0.96262594]\n",
            "  [0.96891404 0.32773754 0.24922633]\n",
            "  [0.67912358 0.26981526 0.62145251]]\n",
            "\n",
            " [[0.80315131 0.96262594 0.1968175 ]\n",
            "  [0.32773754 0.24922633 0.40956594]\n",
            "  [0.26981526 0.62145251 0.29978654]]\n",
            "\n",
            " [[0.96262594 0.1968175  0.87708634]\n",
            "  [0.24922633 0.40956594 0.06744629]\n",
            "  [0.62145251 0.29978654 0.55054627]]\n",
            "\n",
            " [[0.1968175  0.87708634 0.10972474]\n",
            "  [0.40956594 0.06744629 0.73056258]\n",
            "  [0.29978654 0.55054627 0.07503896]]\n",
            "\n",
            " [[0.87708634 0.10972474 0.27498817]\n",
            "  [0.06744629 0.73056258 0.12722177]\n",
            "  [0.55054627 0.07503896 0.28495955]]\n",
            "\n",
            " [[0.10972474 0.27498817 0.67769881]\n",
            "  [0.73056258 0.12722177 0.42868347]\n",
            "  [0.07503896 0.28495955 0.89895255]]\n",
            "\n",
            " [[0.27498817 0.67769881 0.89201367]\n",
            "  [0.12722177 0.42868347 0.55472754]\n",
            "  [0.28495955 0.89895255 0.75531475]]\n",
            "\n",
            " [[0.54505791 0.96891404 0.32773754]\n",
            "  [0.81787173 0.67912358 0.26981526]\n",
            "  [0.03757682 0.83107633 0.20801867]]\n",
            "\n",
            " [[0.96891404 0.32773754 0.24922633]\n",
            "  [0.67912358 0.26981526 0.62145251]\n",
            "  [0.83107633 0.20801867 0.46705213]]\n",
            "\n",
            " [[0.32773754 0.24922633 0.40956594]\n",
            "  [0.26981526 0.62145251 0.29978654]\n",
            "  [0.20801867 0.46705213 0.08563507]]\n",
            "\n",
            " [[0.24922633 0.40956594 0.06744629]\n",
            "  [0.62145251 0.29978654 0.55054627]\n",
            "  [0.46705213 0.08563507 0.40456411]]\n",
            "\n",
            " [[0.40956594 0.06744629 0.73056258]\n",
            "  [0.29978654 0.55054627 0.07503896]\n",
            "  [0.08563507 0.40456411 0.40994664]]\n",
            "\n",
            " [[0.06744629 0.73056258 0.12722177]\n",
            "  [0.55054627 0.07503896 0.28495955]\n",
            "  [0.40456411 0.40994664 0.93226384]]\n",
            "\n",
            " [[0.73056258 0.12722177 0.42868347]\n",
            "  [0.07503896 0.28495955 0.89895255]\n",
            "  [0.40994664 0.93226384 0.57356101]]\n",
            "\n",
            " [[0.12722177 0.42868347 0.55472754]\n",
            "  [0.28495955 0.89895255 0.75531475]\n",
            "  [0.93226384 0.57356101 0.99022601]]\n",
            "\n",
            " [[0.81787173 0.67912358 0.26981526]\n",
            "  [0.03757682 0.83107633 0.20801867]\n",
            "  [0.36656769 0.34641533 0.89394475]]\n",
            "\n",
            " [[0.67912358 0.26981526 0.62145251]\n",
            "  [0.83107633 0.20801867 0.46705213]\n",
            "  [0.34641533 0.89394475 0.56186844]]\n",
            "\n",
            " [[0.26981526 0.62145251 0.29978654]\n",
            "  [0.20801867 0.46705213 0.08563507]\n",
            "  [0.89394475 0.56186844 0.0369333 ]]\n",
            "\n",
            " [[0.62145251 0.29978654 0.55054627]\n",
            "  [0.46705213 0.08563507 0.40456411]\n",
            "  [0.56186844 0.0369333  0.22483579]]\n",
            "\n",
            " [[0.29978654 0.55054627 0.07503896]\n",
            "  [0.08563507 0.40456411 0.40994664]\n",
            "  [0.0369333  0.22483579 0.6910441 ]]\n",
            "\n",
            " [[0.55054627 0.07503896 0.28495955]\n",
            "  [0.40456411 0.40994664 0.93226384]\n",
            "  [0.22483579 0.6910441  0.93862154]]\n",
            "\n",
            " [[0.07503896 0.28495955 0.89895255]\n",
            "  [0.40994664 0.93226384 0.57356101]\n",
            "  [0.6910441  0.93862154 0.76676794]]\n",
            "\n",
            " [[0.28495955 0.89895255 0.75531475]\n",
            "  [0.93226384 0.57356101 0.99022601]\n",
            "  [0.93862154 0.76676794 0.41729203]]\n",
            "\n",
            " [[0.03757682 0.83107633 0.20801867]\n",
            "  [0.36656769 0.34641533 0.89394475]\n",
            "  [0.31266288 0.87166086 0.44091098]]\n",
            "\n",
            " [[0.83107633 0.20801867 0.46705213]\n",
            "  [0.34641533 0.89394475 0.56186844]\n",
            "  [0.87166086 0.44091098 0.11507721]]\n",
            "\n",
            " [[0.20801867 0.46705213 0.08563507]\n",
            "  [0.89394475 0.56186844 0.0369333 ]\n",
            "  [0.44091098 0.11507721 0.71562115]]\n",
            "\n",
            " [[0.46705213 0.08563507 0.40456411]\n",
            "  [0.56186844 0.0369333  0.22483579]\n",
            "  [0.11507721 0.71562115 0.20537513]]\n",
            "\n",
            " [[0.08563507 0.40456411 0.40994664]\n",
            "  [0.0369333  0.22483579 0.6910441 ]\n",
            "  [0.71562115 0.20537513 0.93177123]]\n",
            "\n",
            " [[0.40456411 0.40994664 0.93226384]\n",
            "  [0.22483579 0.6910441  0.93862154]\n",
            "  [0.20537513 0.93177123 0.52258387]]\n",
            "\n",
            " [[0.40994664 0.93226384 0.57356101]\n",
            "  [0.6910441  0.93862154 0.76676794]\n",
            "  [0.93177123 0.52258387 0.61216374]]\n",
            "\n",
            " [[0.93226384 0.57356101 0.99022601]\n",
            "  [0.93862154 0.76676794 0.41729203]\n",
            "  [0.52258387 0.61216374 0.79685918]]\n",
            "\n",
            " [[0.36656769 0.34641533 0.89394475]\n",
            "  [0.31266288 0.87166086 0.44091098]\n",
            "  [0.9175301  0.79931885 0.72198451]]\n",
            "\n",
            " [[0.34641533 0.89394475 0.56186844]\n",
            "  [0.87166086 0.44091098 0.11507721]\n",
            "  [0.79931885 0.72198451 0.72859747]]\n",
            "\n",
            " [[0.89394475 0.56186844 0.0369333 ]\n",
            "  [0.44091098 0.11507721 0.71562115]\n",
            "  [0.72198451 0.72859747 0.43208209]]\n",
            "\n",
            " [[0.56186844 0.0369333  0.22483579]\n",
            "  [0.11507721 0.71562115 0.20537513]\n",
            "  [0.72859747 0.43208209 0.4555095 ]]\n",
            "\n",
            " [[0.0369333  0.22483579 0.6910441 ]\n",
            "  [0.71562115 0.20537513 0.93177123]\n",
            "  [0.43208209 0.4555095  0.04989569]]\n",
            "\n",
            " [[0.22483579 0.6910441  0.93862154]\n",
            "  [0.20537513 0.93177123 0.52258387]\n",
            "  [0.4555095  0.04989569 0.67434777]]\n",
            "\n",
            " [[0.6910441  0.93862154 0.76676794]\n",
            "  [0.93177123 0.52258387 0.61216374]\n",
            "  [0.04989569 0.67434777 0.0965176 ]]\n",
            "\n",
            " [[0.93862154 0.76676794 0.41729203]\n",
            "  [0.52258387 0.61216374 0.79685918]\n",
            "  [0.67434777 0.0965176  0.94710542]]\n",
            "\n",
            " [[0.31266288 0.87166086 0.44091098]\n",
            "  [0.9175301  0.79931885 0.72198451]\n",
            "  [0.12508638 0.57655421 0.66288531]]\n",
            "\n",
            " [[0.87166086 0.44091098 0.11507721]\n",
            "  [0.79931885 0.72198451 0.72859747]\n",
            "  [0.57655421 0.66288531 0.82402665]]\n",
            "\n",
            " [[0.44091098 0.11507721 0.71562115]\n",
            "  [0.72198451 0.72859747 0.43208209]\n",
            "  [0.66288531 0.82402665 0.08261984]]\n",
            "\n",
            " [[0.11507721 0.71562115 0.20537513]\n",
            "  [0.72859747 0.43208209 0.4555095 ]\n",
            "  [0.82402665 0.08261984 0.3027355 ]]\n",
            "\n",
            " [[0.71562115 0.20537513 0.93177123]\n",
            "  [0.43208209 0.4555095  0.04989569]\n",
            "  [0.08261984 0.3027355  0.83106228]]\n",
            "\n",
            " [[0.20537513 0.93177123 0.52258387]\n",
            "  [0.4555095  0.04989569 0.67434777]\n",
            "  [0.3027355  0.83106228 0.19332228]]\n",
            "\n",
            " [[0.93177123 0.52258387 0.61216374]\n",
            "  [0.04989569 0.67434777 0.0965176 ]\n",
            "  [0.83106228 0.19332228 0.78416629]]\n",
            "\n",
            " [[0.52258387 0.61216374 0.79685918]\n",
            "  [0.67434777 0.0965176  0.94710542]\n",
            "  [0.19332228 0.78416629 0.73612705]]]\n"
          ]
        }
      ],
      "source": [
        "# Generate a random 10x10 matrix\n",
        "matrix = np.random.rand(10, 10)  # Using rand for random floats between 0 and 1\n",
        "\n",
        "# Extract 3x3 blocks\n",
        "blocks = []\n",
        "for i in range(8):  # 10 - 3 + 1 = 8\n",
        "    for j in range(8):  # Same logic for columns\n",
        "        block = matrix[i:i+3, j:j+3]  # Extract the block\n",
        "        blocks.append(block)\n",
        "\n",
        "# Convert blocks to a numpy array for easier handling (optional)\n",
        "blocks_array = np.array(blocks)\n",
        "\n",
        "# Print the random matrix and the extracted blocks\n",
        "print(\"Original Matrix:\\n\", matrix)\n",
        "print(\"\\nExtracted 3x3 Blocks:\\n\", blocks_array)\n"
      ]
    },
    {
      "cell_type": "markdown",
      "metadata": {
        "id": "zacg0Sr5-2bO"
      },
      "source": [
        "#### 85. Create a 2D array subclass such that Z[i,j] == Z[j,i] (★★★)"
      ]
    },
    {
      "cell_type": "code",
      "execution_count": 29,
      "metadata": {
        "colab": {
          "base_uri": "https://localhost:8080/"
        },
        "id": "OhcxvlMn-2bO",
        "outputId": "002cafde-2007-4bd2-f215-b7f0c193c11f"
      },
      "outputs": [
        {
          "output_type": "stream",
          "name": "stdout",
          "text": [
            "Symmetric Array:\n",
            " [[1 2 3]\n",
            " [2 5 6]\n",
            " [3 6 9]]\n",
            "\n",
            "After setting Z[0, 1] to 10:\n",
            " [[ 1 10  3]\n",
            " [10  5  6]\n",
            " [ 3  6  9]]\n",
            "\n",
            "Accessing Z[1, 0]: 10\n"
          ]
        }
      ],
      "source": [
        "import numpy as np\n",
        "\n",
        "class SymmetricArray(np.ndarray):\n",
        "    def __new__(cls, input_array):\n",
        "        # Create a new instance of the class\n",
        "        obj = np.asarray(input_array).view(cls)\n",
        "        return obj\n",
        "\n",
        "    def __setitem__(self, index, value):\n",
        "        # Ensure symmetry when setting values\n",
        "        i, j = index\n",
        "        super().__setitem__((i, j), value)\n",
        "        super().__setitem__((j, i), value)\n",
        "\n",
        "    def __repr__(self):\n",
        "        # Provide a readable representation\n",
        "        return f\"SymmetricArray({super().__repr__()})\"\n",
        "\n",
        "# Example usage\n",
        "# Create a 3x3 symmetric array\n",
        "data = [[1, 2, 3],\n",
        "        [2, 5, 6],\n",
        "        [3, 6, 9]]\n",
        "\n",
        "symmetric_array = SymmetricArray(data)\n",
        "\n",
        "# Print the symmetric array\n",
        "print(\"Symmetric Array:\\n\", symmetric_array)\n",
        "\n",
        "# Set a value and see symmetry in action\n",
        "symmetric_array[0, 1] = 10  # This should also set symmetric_array[1, 0] to 10\n",
        "print(\"\\nAfter setting Z[0, 1] to 10:\\n\", symmetric_array)\n",
        "\n",
        "# Access elements\n",
        "print(\"\\nAccessing Z[1, 0]:\", symmetric_array[1, 0])  # Should return 10\n"
      ]
    },
    {
      "cell_type": "markdown",
      "metadata": {
        "id": "C7mALXsn-2bO"
      },
      "source": [
        "#### 86. Consider a set of p matrices wich shape (n,n) and a set of p vectors with shape (n,1). How to compute the sum of of the p matrix products at once? (result has shape (n,1)) (★★★)"
      ]
    },
    {
      "cell_type": "code",
      "execution_count": 30,
      "metadata": {
        "colab": {
          "base_uri": "https://localhost:8080/"
        },
        "id": "JQBD8f6o-2bO",
        "outputId": "0f1697f7-a0ba-4a11-cd4f-8583d28e55a1"
      },
      "outputs": [
        {
          "output_type": "stream",
          "name": "stdout",
          "text": [
            "Result shape: (3, 1)\n",
            "Result:\n",
            " [[5.11938629]\n",
            " [2.9943493 ]\n",
            " [2.72936234]]\n"
          ]
        }
      ],
      "source": [
        "import numpy as np\n",
        "\n",
        "def sum_matrix_products(matrices, vectors):\n",
        "    # Assuming matrices is a list/array of shape (p, n, n)\n",
        "    # and vectors is a list/array of shape (p, n, 1)\n",
        "\n",
        "    # Calculate the product for each matrix-vector pair and sum them\n",
        "    result = np.zeros((matrices.shape[1], 1))  # Initialize result shape (n, 1)\n",
        "\n",
        "    for i in range(matrices.shape[0]):  # Loop over each matrix/vector\n",
        "        result += matrices[i].dot(vectors[i])  # Matrix-vector product\n",
        "\n",
        "    return result\n",
        "\n",
        "# Example usage\n",
        "n = 3\n",
        "p = 4  # Number of matrices and vectors\n",
        "matrices = np.random.rand(p, n, n)  # Shape (p, n, n)\n",
        "vectors = np.random.rand(p, n, 1)   # Shape (p, n, 1)\n",
        "\n",
        "result = sum_matrix_products(matrices, vectors)\n",
        "print(\"Result shape:\", result.shape)  # Should be (n, 1)\n",
        "print(\"Result:\\n\", result)\n"
      ]
    },
    {
      "cell_type": "markdown",
      "metadata": {
        "id": "IRsFOhZX-2bO"
      },
      "source": [
        "#### 87. Consider a 16x16 array, how to get the block-sum (block size is 4x4)? (★★★)"
      ]
    },
    {
      "cell_type": "code",
      "execution_count": 31,
      "metadata": {
        "colab": {
          "base_uri": "https://localhost:8080/"
        },
        "id": "R3pWlWd8-2bP",
        "outputId": "17301992-1bae-4e7b-c77b-38b5d2d05b9a"
      },
      "outputs": [
        {
          "output_type": "stream",
          "name": "stdout",
          "text": [
            "Original Array:\n",
            " [[0.49169649 0.48317469 0.22889195 0.19237426 0.6052869  0.18969491\n",
            "  0.83702608 0.61516152 0.28958858 0.45783476 0.67757221 0.66420195\n",
            "  0.87902898 0.2212444  0.72918952 0.64175726]\n",
            " [0.83582969 0.69356644 0.13454481 0.36860506 0.95399383 0.38076666\n",
            "  0.76258616 0.33474088 0.08321533 0.10856157 0.57738453 0.0721326\n",
            "  0.25602338 0.57898046 0.4708783  0.18298729]\n",
            " [0.94291681 0.15044342 0.03046399 0.93663856 0.63364488 0.71660604\n",
            "  0.50656811 0.11495521 0.6679293  0.48096942 0.28583725 0.15045074\n",
            "  0.06191228 0.768848   0.59431664 0.56428814]\n",
            " [0.4877564  0.57273567 0.98061583 0.82037607 0.56433983 0.67736141\n",
            "  0.15666339 0.5667431  0.62867655 0.82468272 0.5388741  0.5695919\n",
            "  0.63245887 0.14672984 0.27780767 0.92773411]\n",
            " [0.47565623 0.73212011 0.02304645 0.77906497 0.25399171 0.0806988\n",
            "  0.42830556 0.5330007  0.57535705 0.28813705 0.63432683 0.97484856\n",
            "  0.32954842 0.95256057 0.88403113 0.17415377]\n",
            " [0.81465724 0.52788606 0.08795279 0.90748681 0.62146375 0.43848869\n",
            "  0.93880887 0.48545301 0.12868131 0.31325942 0.91214183 0.71374957\n",
            "  0.79309301 0.5211148  0.90110107 0.23696302]\n",
            " [0.13665868 0.81711672 0.57274549 0.02473578 0.19148175 0.60232876\n",
            "  0.17492291 0.00145817 0.89768764 0.09050186 0.65939976 0.00361266\n",
            "  0.06764547 0.44254351 0.15845575 0.79242716]\n",
            " [0.79512354 0.0776179  0.4020211  0.67083722 0.48630405 0.46256206\n",
            "  0.92915529 0.98592315 0.72999996 0.15859762 0.71762982 0.59677639\n",
            "  0.8731365  0.73864436 0.05198794 0.36025699]\n",
            " [0.91396047 0.81090249 0.66424342 0.60964616 0.76667673 0.77838241\n",
            "  0.86379116 0.95332725 0.25586679 0.44296608 0.18354793 0.66659466\n",
            "  0.88443252 0.72913928 0.78672592 0.91419803]\n",
            " [0.51541425 0.71176463 0.3742096  0.69487788 0.58436901 0.73604171\n",
            "  0.30871523 0.79481793 0.04605165 0.42397071 0.00222369 0.35370374\n",
            "  0.94710953 0.32411516 0.69660305 0.92211584]\n",
            " [0.36619897 0.64756796 0.3163459  0.36617812 0.03419453 0.01139855\n",
            "  0.38476372 0.69027879 0.41211204 0.45447421 0.95694695 0.12185216\n",
            "  0.75789749 0.30676036 0.29580117 0.16495344]\n",
            " [0.55483137 0.22052454 0.97076207 0.53461564 0.28642995 0.02366654\n",
            "  0.17456213 0.34274593 0.53964051 0.02047117 0.9684899  0.20622403\n",
            "  0.60607807 0.22376403 0.73566879 0.63727779]\n",
            " [0.38722177 0.95052908 0.22291177 0.89618602 0.32799803 0.20208169\n",
            "  0.84349129 0.39508859 0.16470402 0.89229958 0.64852722 0.31312189\n",
            "  0.95082287 0.03947196 0.06728689 0.26858355]\n",
            " [0.77972058 0.07718426 0.84113846 0.90967481 0.69000598 0.71744189\n",
            "  0.7138438  0.33982535 0.77141508 0.77677438 0.52076695 0.56487628\n",
            "  0.52664885 0.23750249 0.40525459 0.40016622]\n",
            " [0.67372859 0.92948551 0.66761239 0.51096366 0.8638724  0.06227528\n",
            "  0.51181772 0.87351236 0.72142709 0.54963824 0.64143074 0.07478838\n",
            "  0.06248347 0.26866416 0.4144762  0.05969014]\n",
            " [0.69599002 0.59391131 0.72215615 0.73045598 0.85023645 0.3070941\n",
            "  0.28812201 0.51675731 0.1876291  0.22056831 0.38425275 0.72391104\n",
            "  0.14382281 0.78763037 0.41665688 0.82625296]]\n",
            "\n",
            "Block Sum (4x4):\n",
            " [[ 8.20372444  6.79479698  7.60678878  9.37314746]\n",
            " [ 8.1188479   9.34230125  5.63372207  9.03657388]\n",
            " [11.22440128  8.4361036   6.28772437  7.04575248]\n",
            " [ 7.57032624  9.27223999  7.88586634  8.39544756]]\n"
          ]
        }
      ],
      "source": [
        "import numpy as np\n",
        "\n",
        "# Create a random 16x16 array\n",
        "array = np.random.rand(16, 16)\n",
        "\n",
        "# Reshape the array to group into 4x4 blocks\n",
        "# New shape will be (4, 4, 4, 4) so we can sum the blocks\n",
        "reshaped = array.reshape(4, 4, 4, 4)\n",
        "\n",
        "# Sum the blocks along the last two axes (axis 2 and 3)\n",
        "block_sum = reshaped.sum(axis=(2, 3))\n",
        "\n",
        "print(\"Original Array:\\n\", array)\n",
        "print(\"\\nBlock Sum (4x4):\\n\", block_sum)\n"
      ]
    },
    {
      "cell_type": "markdown",
      "metadata": {
        "id": "Rup7-iGd-2bP"
      },
      "source": [
        "#### 88. How to implement the Game of Life using numpy arrays? (★★★)"
      ]
    },
    {
      "cell_type": "code",
      "execution_count": 32,
      "metadata": {
        "colab": {
          "base_uri": "https://localhost:8080/",
          "height": 432
        },
        "id": "9ohO4p7n-2bP",
        "outputId": "51e3fccd-12b8-4f45-f9cc-2f2eb74c42c1"
      },
      "outputs": [
        {
          "output_type": "display_data",
          "data": {
            "text/plain": [
              "<Figure size 640x480 with 1 Axes>"
            ],
            "image/png": "[encoded data removed]"
          },
          "metadata": {}
        }
      ],
      "source": [
        "import numpy as np\n",
        "import matplotlib.pyplot as plt\n",
        "import matplotlib.animation as animation\n",
        "\n",
        "def initialize_grid(size):\n",
        "    \"\"\"Initialize a grid with random live and dead cells.\"\"\"\n",
        "    return np.random.choice([0, 1], size=size, p=[0.7, 0.3])\n",
        "\n",
        "def update_grid(grid):\n",
        "    \"\"\"Update the grid according to the rules of the Game of Life.\"\"\"\n",
        "    new_grid = grid.copy()\n",
        "    # Get the number of live neighbors for each cell\n",
        "    for i in range(grid.shape[0]):\n",
        "        for j in range(grid.shape[1]):\n",
        "            # Calculate the sum of live neighbors\n",
        "            total = (\n",
        "                grid[i, (j-1)%grid.shape[1]] + grid[i, (j+1)%grid.shape[1]] +  # Left and Right\n",
        "                grid[(i-1)%grid.shape[0], j] + grid[(i+1)%grid.shape[0], j] +  # Up and Down\n",
        "                grid[(i-1)%grid.shape[0], (j-1)%grid.shape[1]] + grid[(i-1)%grid.shape[0], (j+1)%grid.shape[1]] +  # Top-Left and Top-Right\n",
        "                grid[(i+1)%grid.shape[0], (j-1)%grid.shape[1]] + grid[(i+1)%grid.shape[0], (j+1)%grid.shape[1]]  # Bottom-Left and Bottom-Right\n",
        "            )\n",
        "            # Apply the rules of the Game of Life\n",
        "            if grid[i, j] == 1:  # Cell is currently alive\n",
        "                if total < 2 or total > 3:\n",
        "                    new_grid[i, j] = 0  # Dies\n",
        "            else:  # Cell is currently dead\n",
        "                if total == 3:\n",
        "                    new_grid[i, j] = 1  # Becomes alive\n",
        "    return new_grid\n",
        "\n",
        "def run_simulation(size, generations):\n",
        "    \"\"\"Run the Game of Life simulation.\"\"\"\n",
        "    grid = initialize_grid(size)\n",
        "    fig, ax = plt.subplots()\n",
        "    img = ax.imshow(grid, interpolation='nearest', cmap='binary')\n",
        "\n",
        "    def update(frame):\n",
        "        nonlocal grid\n",
        "        grid = update_grid(grid)\n",
        "        img.set_array(grid)\n",
        "        return [img]\n",
        "\n",
        "    ani = animation.FuncAnimation(fig, update, frames=generations, interval=200, blit=True)\n",
        "    plt.show()\n",
        "\n",
        "# Example usage\n",
        "run_simulation(size=(50, 50), generations=100)\n"
      ]
    },
    {
      "cell_type": "markdown",
      "metadata": {
        "id": "PgAbq_UK-2bP"
      },
      "source": [
        "#### 89. How to get the n largest values of an array (★★★)"
      ]
    },
    {
      "cell_type": "code",
      "execution_count": 33,
      "metadata": {
        "colab": {
          "base_uri": "https://localhost:8080/"
        },
        "id": "pSIs95EQ-2bP",
        "outputId": "b3dc4bff-6b50-46d7-d22b-741f577392cf"
      },
      "outputs": [
        {
          "output_type": "stream",
          "name": "stdout",
          "text": [
            "The largest values are: [40 45 50]\n"
          ]
        }
      ],
      "source": [
        "import numpy as np\n",
        "\n",
        "# Create a sample array\n",
        "array = np.array([10, 20, 5, 3, 25, 15, 30, 50, 40, 45])\n",
        "\n",
        "# Specify how many largest values you want\n",
        "n = 3\n",
        "\n",
        "# Get the n largest values\n",
        "n_largest = np.sort(array)[-n:]\n",
        "\n",
        "print(\"The largest values are:\", n_largest)\n"
      ]
    },
    {
      "cell_type": "markdown",
      "metadata": {
        "id": "olNi64pB-2bP"
      },
      "source": [
        "#### 90. Given an arbitrary number of vectors, build the cartesian product (every combinations of every item) (★★★)"
      ]
    },
    {
      "cell_type": "code",
      "execution_count": 34,
      "metadata": {
        "colab": {
          "base_uri": "https://localhost:8080/"
        },
        "id": "RJ_BgYVd-2bP",
        "outputId": "5887d758-31bf-4e1b-f62b-440d552e2cc4"
      },
      "outputs": [
        {
          "output_type": "stream",
          "name": "stdout",
          "text": [
            "(1, 'a', True)\n",
            "(1, 'a', False)\n",
            "(1, 'b', True)\n",
            "(1, 'b', False)\n",
            "(2, 'a', True)\n",
            "(2, 'a', False)\n",
            "(2, 'b', True)\n",
            "(2, 'b', False)\n"
          ]
        }
      ],
      "source": [
        "import itertools\n",
        "import numpy as np\n",
        "\n",
        "# Define your arbitrary number of vectors\n",
        "vectors = [\n",
        "    np.array([1, 2]),\n",
        "    np.array(['a', 'b']),\n",
        "    np.array([True, False])\n",
        "]\n",
        "\n",
        "# Compute the Cartesian product\n",
        "cartesian_product = list(itertools.product(*vectors))\n",
        "\n",
        "# Display the result\n",
        "for combination in cartesian_product:\n",
        "    print(combination)\n"
      ]
    },
    {
      "cell_type": "markdown",
      "metadata": {
        "id": "-6N-28Pn-2bP"
      },
      "source": [
        "#### 91. How to create a record array from a regular array? (★★★)"
      ]
    },
    {
      "cell_type": "code",
      "execution_count": 37,
      "metadata": {
        "colab": {
          "base_uri": "https://localhost:8080/",
          "height": 356
        },
        "id": "qWSQtdqt-2bQ",
        "outputId": "92ce0ebf-2f55-4e31-b9bc-815c01f1d60c"
      },
      "outputs": [
        {
          "output_type": "error",
          "ename": "TypeError",
          "evalue": "Tuple must have size 2, but has size 3",
          "traceback": [
            "\u001b[0;31m---------------------------------------------------------------------------\u001b[0m",
            "\u001b[0;31mTypeError\u001b[0m                                 Traceback (most recent call last)",
            "\u001b[0;32m<ipython-input-37-02dde7fe9b5f>\u001b[0m in \u001b[0;36m<cell line: 14>\u001b[0;34m()\u001b[0m\n\u001b[1;32m     12\u001b[0m \u001b[0mformats\u001b[0m \u001b[0;34m=\u001b[0m \u001b[0;34m(\u001b[0m\u001b[0;34m'i4'\u001b[0m\u001b[0;34m,\u001b[0m \u001b[0;34m'f4'\u001b[0m\u001b[0;34m,\u001b[0m \u001b[0;34m'U10'\u001b[0m\u001b[0;34m)\u001b[0m  \u001b[0;31m# i4: int32, f4: float32, U10: Unicode string of length 10\u001b[0m\u001b[0;34m\u001b[0m\u001b[0;34m\u001b[0m\u001b[0m\n\u001b[1;32m     13\u001b[0m \u001b[0;34m\u001b[0m\u001b[0m\n\u001b[0;32m---> 14\u001b[0;31m \u001b[0mrecord_array\u001b[0m \u001b[0;34m=\u001b[0m \u001b[0mnp\u001b[0m\u001b[0;34m.\u001b[0m\u001b[0mcore\u001b[0m\u001b[0;34m.\u001b[0m\u001b[0mrecords\u001b[0m\u001b[0;34m.\u001b[0m\u001b[0mfromarrays\u001b[0m\u001b[0;34m(\u001b[0m\u001b[0mdata\u001b[0m\u001b[0;34m.\u001b[0m\u001b[0mT\u001b[0m\u001b[0;34m,\u001b[0m \u001b[0mnames\u001b[0m\u001b[0;34m=\u001b[0m\u001b[0mnames\u001b[0m\u001b[0;34m,\u001b[0m \u001b[0mformats\u001b[0m\u001b[0;34m=\u001b[0m\u001b[0mformats\u001b[0m\u001b[0;34m)\u001b[0m\u001b[0;34m\u001b[0m\u001b[0;34m\u001b[0m\u001b[0m\n\u001b[0m\u001b[1;32m     15\u001b[0m \u001b[0;34m\u001b[0m\u001b[0m\n\u001b[1;32m     16\u001b[0m \u001b[0;31m# Display the record array\u001b[0m\u001b[0;34m\u001b[0m\u001b[0;34m\u001b[0m\u001b[0m\n",
            "\u001b[0;32m/usr/local/lib/python3.10/dist-packages/numpy/core/records.py\u001b[0m in \u001b[0;36mfromarrays\u001b[0;34m(arrayList, dtype, shape, formats, names, titles, aligned, byteorder)\u001b[0m\n\u001b[1;32m    653\u001b[0m         \u001b[0mdescr\u001b[0m \u001b[0;34m=\u001b[0m \u001b[0msb\u001b[0m\u001b[0;34m.\u001b[0m\u001b[0mdtype\u001b[0m\u001b[0;34m(\u001b[0m\u001b[0mdtype\u001b[0m\u001b[0;34m)\u001b[0m\u001b[0;34m\u001b[0m\u001b[0;34m\u001b[0m\u001b[0m\n\u001b[1;32m    654\u001b[0m     \u001b[0;32melse\u001b[0m\u001b[0;34m:\u001b[0m\u001b[0;34m\u001b[0m\u001b[0;34m\u001b[0m\u001b[0m\n\u001b[0;32m--> 655\u001b[0;31m         \u001b[0mdescr\u001b[0m \u001b[0;34m=\u001b[0m \u001b[0mformat_parser\u001b[0m\u001b[0;34m(\u001b[0m\u001b[0mformats\u001b[0m\u001b[0;34m,\u001b[0m \u001b[0mnames\u001b[0m\u001b[0;34m,\u001b[0m \u001b[0mtitles\u001b[0m\u001b[0;34m,\u001b[0m \u001b[0maligned\u001b[0m\u001b[0;34m,\u001b[0m \u001b[0mbyteorder\u001b[0m\u001b[0;34m)\u001b[0m\u001b[0;34m.\u001b[0m\u001b[0mdtype\u001b[0m\u001b[0;34m\u001b[0m\u001b[0;34m\u001b[0m\u001b[0m\n\u001b[0m\u001b[1;32m    656\u001b[0m     \u001b[0m_names\u001b[0m \u001b[0;34m=\u001b[0m \u001b[0mdescr\u001b[0m\u001b[0;34m.\u001b[0m\u001b[0mnames\u001b[0m\u001b[0;34m\u001b[0m\u001b[0;34m\u001b[0m\u001b[0m\n\u001b[1;32m    657\u001b[0m \u001b[0;34m\u001b[0m\u001b[0m\n",
            "\u001b[0;32m/usr/local/lib/python3.10/dist-packages/numpy/core/records.py\u001b[0m in \u001b[0;36m__init__\u001b[0;34m(self, formats, names, titles, aligned, byteorder)\u001b[0m\n\u001b[1;32m    146\u001b[0m \u001b[0;34m\u001b[0m\u001b[0m\n\u001b[1;32m    147\u001b[0m     \u001b[0;32mdef\u001b[0m \u001b[0m__init__\u001b[0m\u001b[0;34m(\u001b[0m\u001b[0mself\u001b[0m\u001b[0;34m,\u001b[0m \u001b[0mformats\u001b[0m\u001b[0;34m,\u001b[0m \u001b[0mnames\u001b[0m\u001b[0;34m,\u001b[0m \u001b[0mtitles\u001b[0m\u001b[0;34m,\u001b[0m \u001b[0maligned\u001b[0m\u001b[0;34m=\u001b[0m\u001b[0;32mFalse\u001b[0m\u001b[0;34m,\u001b[0m \u001b[0mbyteorder\u001b[0m\u001b[0;34m=\u001b[0m\u001b[0;32mNone\u001b[0m\u001b[0;34m)\u001b[0m\u001b[0;34m:\u001b[0m\u001b[0;34m\u001b[0m\u001b[0;34m\u001b[0m\u001b[0m\n\u001b[0;32m--> 148\u001b[0;31m         \u001b[0mself\u001b[0m\u001b[0;34m.\u001b[0m\u001b[0m_parseFormats\u001b[0m\u001b[0;34m(\u001b[0m\u001b[0mformats\u001b[0m\u001b[0;34m,\u001b[0m \u001b[0maligned\u001b[0m\u001b[0;34m)\u001b[0m\u001b[0;34m\u001b[0m\u001b[0;34m\u001b[0m\u001b[0m\n\u001b[0m\u001b[1;32m    149\u001b[0m         \u001b[0mself\u001b[0m\u001b[0;34m.\u001b[0m\u001b[0m_setfieldnames\u001b[0m\u001b[0;34m(\u001b[0m\u001b[0mnames\u001b[0m\u001b[0;34m,\u001b[0m \u001b[0mtitles\u001b[0m\u001b[0;34m)\u001b[0m\u001b[0;34m\u001b[0m\u001b[0;34m\u001b[0m\u001b[0m\n\u001b[1;32m    150\u001b[0m         \u001b[0mself\u001b[0m\u001b[0;34m.\u001b[0m\u001b[0m_createdtype\u001b[0m\u001b[0;34m(\u001b[0m\u001b[0mbyteorder\u001b[0m\u001b[0;34m)\u001b[0m\u001b[0;34m\u001b[0m\u001b[0;34m\u001b[0m\u001b[0m\n",
            "\u001b[0;32m/usr/local/lib/python3.10/dist-packages/numpy/core/records.py\u001b[0m in \u001b[0;36m_parseFormats\u001b[0;34m(self, formats, aligned)\u001b[0m\n\u001b[1;32m    161\u001b[0m             )\n\u001b[1;32m    162\u001b[0m         \u001b[0;32melse\u001b[0m\u001b[0;34m:\u001b[0m\u001b[0;34m\u001b[0m\u001b[0;34m\u001b[0m\u001b[0m\n\u001b[0;32m--> 163\u001b[0;31m             \u001b[0mdtype\u001b[0m \u001b[0;34m=\u001b[0m \u001b[0msb\u001b[0m\u001b[0;34m.\u001b[0m\u001b[0mdtype\u001b[0m\u001b[0;34m(\u001b[0m\u001b[0mformats\u001b[0m\u001b[0;34m,\u001b[0m \u001b[0maligned\u001b[0m\u001b[0;34m)\u001b[0m\u001b[0;34m\u001b[0m\u001b[0;34m\u001b[0m\u001b[0m\n\u001b[0m\u001b[1;32m    164\u001b[0m         \u001b[0mfields\u001b[0m \u001b[0;34m=\u001b[0m \u001b[0mdtype\u001b[0m\u001b[0;34m.\u001b[0m\u001b[0mfields\u001b[0m\u001b[0;34m\u001b[0m\u001b[0;34m\u001b[0m\u001b[0m\n\u001b[1;32m    165\u001b[0m         \u001b[0;32mif\u001b[0m \u001b[0mfields\u001b[0m \u001b[0;32mis\u001b[0m \u001b[0;32mNone\u001b[0m\u001b[0;34m:\u001b[0m\u001b[0;34m\u001b[0m\u001b[0;34m\u001b[0m\u001b[0m\n",
            "\u001b[0;31mTypeError\u001b[0m: Tuple must have size 2, but has size 3"
          ]
        }
      ],
      "source": [
        "import numpy as np\n",
        "\n",
        "# Create a regular 2D array\n",
        "data = np.array([\n",
        "    [1, 2.5, 'Alice'],\n",
        "    [2, 3.5, 'Bob'],\n",
        "    [3, 4.5, 'Charlie']\n",
        "])\n",
        "\n",
        "# Define the names and types for the fields\n",
        "names = ('id', 'score', 'name')\n",
        "formats = ('i4', 'f4', 'U10')  # i4: int32, f4: float32, U10: Unicode string of length 10\n",
        "\n",
        "record_array = np.core.records.fromarrays(data.T, names=names, formats=formats)\n",
        "\n",
        "# Display the record array\n",
        "print(record_array)\n",
        "\n",
        "# Accessing elements by field names\n",
        "print(\"First record:\", record_array[0])\n",
        "print(\"Names:\", record_array['name'])\n",
        "\n"
      ]
    },
    {
      "cell_type": "markdown",
      "metadata": {
        "id": "c-AOXtOG-2bQ"
      },
      "source": [
        "#### 92. Consider a large vector Z, compute Z to the power of 3 using 3 different methods (★★★)"
      ]
    },
    {
      "cell_type": "code",
      "execution_count": 38,
      "metadata": {
        "colab": {
          "base_uri": "https://localhost:8080/"
        },
        "id": "sApQ2VtN-2bQ",
        "outputId": "6b7524c2-5c3b-4643-b0c1-22c3d67da211"
      },
      "outputs": [
        {
          "output_type": "stream",
          "name": "stdout",
          "text": [
            "Method 1 result (first 5 elements): [0.51788778 0.42771268 0.36396068 0.00221782 0.83605037]\n",
            "Method 2 result (first 5 elements): [0.51788778 0.42771268 0.36396068 0.00221782 0.83605037]\n",
            "Method 3 result (first 5 elements): [0.51788778 0.42771268 0.36396068 0.00221782 0.83605037]\n"
          ]
        }
      ],
      "source": [
        "import numpy as np\n",
        "\n",
        "# Create a large vector Z\n",
        "Z = np.random.rand(1000000)  # Example: a vector with 1 million elements\n",
        "\n",
        "# Method 1: Using the exponentiation operator\n",
        "Z_power1 = Z ** 3\n",
        "\n",
        "# Method 2: Using np.power function\n",
        "Z_power2 = np.power(Z, 3)\n",
        "\n",
        "# Method 3: Using np.multiply with broadcasting\n",
        "Z_power3 = np.multiply(Z, np.multiply(Z, Z))  # Z * (Z * Z)\n",
        "\n",
        "# Print the results (you can print only the first few elements for brevity)\n",
        "print(\"Method 1 result (first 5 elements):\", Z_power1[:5])\n",
        "print(\"Method 2 result (first 5 elements):\", Z_power2[:5])\n",
        "print(\"Method 3 result (first 5 elements):\", Z_power3[:5])\n"
      ]
    },
    {
      "cell_type": "markdown",
      "metadata": {
        "id": "gukVKdrY-2bQ"
      },
      "source": [
        "#### 93. Consider two arrays A and B of shape (8,3) and (2,2). How to find rows of A that contain elements of each row of B regardless of the order of the elements in B? (★★★)"
      ]
    },
    {
      "cell_type": "code",
      "execution_count": 39,
      "metadata": {
        "colab": {
          "base_uri": "https://localhost:8080/",
          "height": 356
        },
        "id": "b5N8xaF0-2bQ",
        "outputId": "81e00036-d502-4618-a32c-bfc24ffc1d2c"
      },
      "outputs": [
        {
          "output_type": "error",
          "ename": "AxisError",
          "evalue": "axis 1 is out of bounds for array of dimension 1",
          "traceback": [
            "\u001b[0;31m---------------------------------------------------------------------------\u001b[0m",
            "\u001b[0;31mAxisError\u001b[0m                                 Traceback (most recent call last)",
            "\u001b[0;32m<ipython-input-39-594b258a0c1c>\u001b[0m in \u001b[0;36m<cell line: 33>\u001b[0;34m()\u001b[0m\n\u001b[1;32m     31\u001b[0m \u001b[0;34m\u001b[0m\u001b[0m\n\u001b[1;32m     32\u001b[0m \u001b[0;31m# Find matching rows\u001b[0m\u001b[0;34m\u001b[0m\u001b[0;34m\u001b[0m\u001b[0m\n\u001b[0;32m---> 33\u001b[0;31m \u001b[0mresult\u001b[0m \u001b[0;34m=\u001b[0m \u001b[0mfind_rows_containing_elements\u001b[0m\u001b[0;34m(\u001b[0m\u001b[0mA\u001b[0m\u001b[0;34m,\u001b[0m \u001b[0mB\u001b[0m\u001b[0;34m)\u001b[0m\u001b[0;34m\u001b[0m\u001b[0;34m\u001b[0m\u001b[0m\n\u001b[0m\u001b[1;32m     34\u001b[0m \u001b[0;34m\u001b[0m\u001b[0m\n\u001b[1;32m     35\u001b[0m \u001b[0;31m# Print the results\u001b[0m\u001b[0;34m\u001b[0m\u001b[0;34m\u001b[0m\u001b[0m\n",
            "\u001b[0;32m<ipython-input-39-594b258a0c1c>\u001b[0m in \u001b[0;36mfind_rows_containing_elements\u001b[0;34m(A, B)\u001b[0m\n\u001b[1;32m     25\u001b[0m     \u001b[0;32mfor\u001b[0m \u001b[0mrow_b\u001b[0m \u001b[0;32min\u001b[0m \u001b[0mB\u001b[0m\u001b[0;34m:\u001b[0m\u001b[0;34m\u001b[0m\u001b[0;34m\u001b[0m\u001b[0m\n\u001b[1;32m     26\u001b[0m         \u001b[0;31m# Create a mask for rows in A that contain all elements of row_b\u001b[0m\u001b[0;34m\u001b[0m\u001b[0;34m\u001b[0m\u001b[0m\n\u001b[0;32m---> 27\u001b[0;31m         \u001b[0mmask\u001b[0m \u001b[0;34m=\u001b[0m \u001b[0mnp\u001b[0m\u001b[0;34m.\u001b[0m\u001b[0mall\u001b[0m\u001b[0;34m(\u001b[0m\u001b[0mnp\u001b[0m\u001b[0;34m.\u001b[0m\u001b[0misin\u001b[0m\u001b[0;34m(\u001b[0m\u001b[0mrow_b\u001b[0m\u001b[0;34m,\u001b[0m \u001b[0mA\u001b[0m\u001b[0;34m)\u001b[0m\u001b[0;34m,\u001b[0m \u001b[0maxis\u001b[0m\u001b[0;34m=\u001b[0m\u001b[0;36m1\u001b[0m\u001b[0;34m)\u001b[0m\u001b[0;34m\u001b[0m\u001b[0;34m\u001b[0m\u001b[0m\n\u001b[0m\u001b[1;32m     28\u001b[0m         \u001b[0mmatching_rows\u001b[0m\u001b[0;34m.\u001b[0m\u001b[0mappend\u001b[0m\u001b[0;34m(\u001b[0m\u001b[0mA\u001b[0m\u001b[0;34m[\u001b[0m\u001b[0mmask\u001b[0m\u001b[0;34m]\u001b[0m\u001b[0;34m)\u001b[0m\u001b[0;34m\u001b[0m\u001b[0;34m\u001b[0m\u001b[0m\n\u001b[1;32m     29\u001b[0m \u001b[0;34m\u001b[0m\u001b[0m\n",
            "\u001b[0;32m/usr/local/lib/python3.10/dist-packages/numpy/core/fromnumeric.py\u001b[0m in \u001b[0;36mall\u001b[0;34m(a, axis, out, keepdims, where)\u001b[0m\n\u001b[1;32m   2502\u001b[0m \u001b[0;34m\u001b[0m\u001b[0m\n\u001b[1;32m   2503\u001b[0m     \"\"\"\n\u001b[0;32m-> 2504\u001b[0;31m     return _wrapreduction(a, np.logical_and, 'all', axis, None, out,\n\u001b[0m\u001b[1;32m   2505\u001b[0m                           keepdims=keepdims, where=where)\n\u001b[1;32m   2506\u001b[0m \u001b[0;34m\u001b[0m\u001b[0m\n",
            "\u001b[0;32m/usr/local/lib/python3.10/dist-packages/numpy/core/fromnumeric.py\u001b[0m in \u001b[0;36m_wrapreduction\u001b[0;34m(obj, ufunc, method, axis, dtype, out, **kwargs)\u001b[0m\n\u001b[1;32m     86\u001b[0m                 \u001b[0;32mreturn\u001b[0m \u001b[0mreduction\u001b[0m\u001b[0;34m(\u001b[0m\u001b[0maxis\u001b[0m\u001b[0;34m=\u001b[0m\u001b[0maxis\u001b[0m\u001b[0;34m,\u001b[0m \u001b[0mout\u001b[0m\u001b[0;34m=\u001b[0m\u001b[0mout\u001b[0m\u001b[0;34m,\u001b[0m \u001b[0;34m**\u001b[0m\u001b[0mpasskwargs\u001b[0m\u001b[0;34m)\u001b[0m\u001b[0;34m\u001b[0m\u001b[0;34m\u001b[0m\u001b[0m\n\u001b[1;32m     87\u001b[0m \u001b[0;34m\u001b[0m\u001b[0m\n\u001b[0;32m---> 88\u001b[0;31m     \u001b[0;32mreturn\u001b[0m \u001b[0mufunc\u001b[0m\u001b[0;34m.\u001b[0m\u001b[0mreduce\u001b[0m\u001b[0;34m(\u001b[0m\u001b[0mobj\u001b[0m\u001b[0;34m,\u001b[0m \u001b[0maxis\u001b[0m\u001b[0;34m,\u001b[0m \u001b[0mdtype\u001b[0m\u001b[0;34m,\u001b[0m \u001b[0mout\u001b[0m\u001b[0;34m,\u001b[0m \u001b[0;34m**\u001b[0m\u001b[0mpasskwargs\u001b[0m\u001b[0;34m)\u001b[0m\u001b[0;34m\u001b[0m\u001b[0;34m\u001b[0m\u001b[0m\n\u001b[0m\u001b[1;32m     89\u001b[0m \u001b[0;34m\u001b[0m\u001b[0m\n\u001b[1;32m     90\u001b[0m \u001b[0;34m\u001b[0m\u001b[0m\n",
            "\u001b[0;31mAxisError\u001b[0m: axis 1 is out of bounds for array of dimension 1"
          ]
        }
      ],
      "source": [
        "import numpy as np\n",
        "\n",
        "# Define arrays A and B\n",
        "A = np.array([\n",
        "    [1, 2, 3],\n",
        "    [4, 5, 6],\n",
        "    [7, 8, 9],\n",
        "    [1, 5, 3],\n",
        "    [2, 4, 6],\n",
        "    [1, 2, 4],\n",
        "    [8, 3, 7],\n",
        "    [2, 3, 1]\n",
        "])\n",
        "\n",
        "B = np.array([\n",
        "    [1, 2],\n",
        "    [3, 4]\n",
        "])\n",
        "\n",
        "# Function to find rows in A that contain elements of each row in B\n",
        "def find_rows_containing_elements(A, B):\n",
        "    matching_rows = []\n",
        "\n",
        "    # Check each row in B\n",
        "    for row_b in B:\n",
        "        # Create a mask for rows in A that contain all elements of row_b\n",
        "        mask = np.all(np.isin(row_b, A), axis=1)\n",
        "        matching_rows.append(A[mask])\n",
        "\n",
        "    return matching_rows\n",
        "\n",
        "# Find matching rows\n",
        "result = find_rows_containing_elements(A, B)\n",
        "\n",
        "# Print the results\n",
        "for i, rows in enumerate(result):\n",
        "    print(f\"Rows of A that contain elements of row {i} of B: {rows}\")\n"
      ]
    },
    {
      "cell_type": "markdown",
      "metadata": {
        "id": "C7PXxAA6-2bQ"
      },
      "source": [
        "#### 94. Considering a 10x3 matrix, extract rows with unequal values (e.g. [2,2,3]) (★★★)"
      ]
    },
    {
      "cell_type": "code",
      "execution_count": 40,
      "metadata": {
        "colab": {
          "base_uri": "https://localhost:8080/"
        },
        "id": "VsegHaKg-2bQ",
        "outputId": "40ee3905-638a-48f7-ced2-cb097d55e56c"
      },
      "outputs": [
        {
          "output_type": "stream",
          "name": "stdout",
          "text": [
            "Rows with unequal values:\n",
            "[[ 1  2  3]\n",
            " [ 2  2  3]\n",
            " [ 4  5  6]\n",
            " [ 8  8  9]\n",
            " [11 12 11]\n",
            " [13 14 15]\n",
            " [17 18 19]]\n"
          ]
        }
      ],
      "source": [
        "import numpy as np\n",
        "\n",
        "# Create a sample 10x3 matrix\n",
        "matrix = np.array([\n",
        "    [1, 2, 3],\n",
        "    [2, 2, 3],\n",
        "    [4, 5, 6],\n",
        "    [7, 7, 7],\n",
        "    [8, 8, 9],\n",
        "    [10, 10, 10],\n",
        "    [11, 12, 11],\n",
        "    [13, 14, 15],\n",
        "    [16, 16, 16],\n",
        "    [17, 18, 19]\n",
        "])\n",
        "\n",
        "# Function to extract rows with unequal values\n",
        "def extract_unequal_rows(mat):\n",
        "    # Use np.unique to find unique values in each row and check if their count is more than 1\n",
        "    unequal_rows_mask = np.array([len(np.unique(row)) > 1 for row in mat])\n",
        "    return mat[unequal_rows_mask]\n",
        "\n",
        "# Extract rows with unequal values\n",
        "result = extract_unequal_rows(matrix)\n",
        "\n",
        "# Print the result\n",
        "print(\"Rows with unequal values:\")\n",
        "print(result)\n"
      ]
    },
    {
      "cell_type": "markdown",
      "metadata": {
        "id": "JxUp7mnH-2bQ"
      },
      "source": [
        "#### 95. Convert a vector of ints into a matrix binary representation (★★★)"
      ]
    },
    {
      "cell_type": "code",
      "execution_count": 41,
      "metadata": {
        "colab": {
          "base_uri": "https://localhost:8080/",
          "height": 332
        },
        "id": "GRwCyhHY-2bQ",
        "outputId": "74d08f37-a0b7-400a-912c-fbd5af41b122"
      },
      "outputs": [
        {
          "output_type": "error",
          "ename": "AttributeError",
          "evalue": "'numpy.int64' object has no attribute 'bit_length'",
          "traceback": [
            "\u001b[0;31m---------------------------------------------------------------------------\u001b[0m",
            "\u001b[0;31mAttributeError\u001b[0m                            Traceback (most recent call last)",
            "\u001b[0;32m<ipython-input-41-6711e48634ce>\u001b[0m in \u001b[0;36m<cell line: 18>\u001b[0;34m()\u001b[0m\n\u001b[1;32m     16\u001b[0m \u001b[0;34m\u001b[0m\u001b[0m\n\u001b[1;32m     17\u001b[0m \u001b[0;31m# Convert the vector to a binary matrix\u001b[0m\u001b[0;34m\u001b[0m\u001b[0;34m\u001b[0m\u001b[0m\n\u001b[0;32m---> 18\u001b[0;31m \u001b[0mbinary_representation\u001b[0m \u001b[0;34m=\u001b[0m \u001b[0mvector_to_binary_matrix\u001b[0m\u001b[0;34m(\u001b[0m\u001b[0mvector\u001b[0m\u001b[0;34m)\u001b[0m\u001b[0;34m\u001b[0m\u001b[0;34m\u001b[0m\u001b[0m\n\u001b[0m\u001b[1;32m     19\u001b[0m \u001b[0;34m\u001b[0m\u001b[0m\n\u001b[1;32m     20\u001b[0m \u001b[0;31m# Print the result\u001b[0m\u001b[0;34m\u001b[0m\u001b[0;34m\u001b[0m\u001b[0m\n",
            "\u001b[0;32m<ipython-input-41-6711e48634ce>\u001b[0m in \u001b[0;36mvector_to_binary_matrix\u001b[0;34m(vec)\u001b[0m\n\u001b[1;32m      8\u001b[0m     \u001b[0;31m# Determine the number of bits needed for the largest integer\u001b[0m\u001b[0;34m\u001b[0m\u001b[0;34m\u001b[0m\u001b[0m\n\u001b[1;32m      9\u001b[0m     \u001b[0mmax_value\u001b[0m \u001b[0;34m=\u001b[0m \u001b[0mnp\u001b[0m\u001b[0;34m.\u001b[0m\u001b[0mmax\u001b[0m\u001b[0;34m(\u001b[0m\u001b[0mvec\u001b[0m\u001b[0;34m)\u001b[0m\u001b[0;34m\u001b[0m\u001b[0;34m\u001b[0m\u001b[0m\n\u001b[0;32m---> 10\u001b[0;31m     \u001b[0mnum_bits\u001b[0m \u001b[0;34m=\u001b[0m \u001b[0mmax_value\u001b[0m\u001b[0;34m.\u001b[0m\u001b[0mbit_length\u001b[0m\u001b[0;34m(\u001b[0m\u001b[0;34m)\u001b[0m  \u001b[0;31m# Get the number of bits required to represent max_value\u001b[0m\u001b[0;34m\u001b[0m\u001b[0;34m\u001b[0m\u001b[0m\n\u001b[0m\u001b[1;32m     11\u001b[0m \u001b[0;34m\u001b[0m\u001b[0m\n\u001b[1;32m     12\u001b[0m     \u001b[0;31m# Create a binary matrix\u001b[0m\u001b[0;34m\u001b[0m\u001b[0;34m\u001b[0m\u001b[0m\n",
            "\u001b[0;31mAttributeError\u001b[0m: 'numpy.int64' object has no attribute 'bit_length'"
          ]
        }
      ],
      "source": [
        "import numpy as np\n",
        "\n",
        "# Create a vector of integers\n",
        "vector = np.array([3, 5, 7, 10, 12])\n",
        "\n",
        "# Function to convert vector to matrix binary representation\n",
        "def vector_to_binary_matrix(vec):\n",
        "    # Determine the number of bits needed for the largest integer\n",
        "    max_value = np.max(vec)\n",
        "    num_bits = max_value.bit_length()  # Get the number of bits required to represent max_value\n",
        "\n",
        "    # Create a binary matrix\n",
        "    binary_matrix = np.array([[int(bit) for bit in format(num, '0' + str(num_bits) + 'b')] for num in vec])\n",
        "\n",
        "    return binary_matrix\n",
        "\n",
        "# Convert the vector to a binary matrix\n",
        "binary_representation = vector_to_binary_matrix(vector)\n",
        "\n",
        "# Print the result\n",
        "print(\"Binary representation of the vector:\")\n",
        "print(binary_representation)\n"
      ]
    },
    {
      "cell_type": "markdown",
      "metadata": {
        "id": "XYUVViLZ-2bR"
      },
      "source": [
        "#### 96. Given a two dimensional array, how to extract unique rows? (★★★)"
      ]
    },
    {
      "cell_type": "code",
      "execution_count": 42,
      "metadata": {
        "colab": {
          "base_uri": "https://localhost:8080/"
        },
        "id": "yqHtA335-2bR",
        "outputId": "fe5ccaec-8437-42b8-b9f0-2e87d4171bea"
      },
      "outputs": [
        {
          "output_type": "stream",
          "name": "stdout",
          "text": [
            "Unique rows in the array:\n",
            "[[ 1  2  3]\n",
            " [ 4  5  6]\n",
            " [ 7  8  9]\n",
            " [10 11 12]]\n"
          ]
        }
      ],
      "source": [
        "import numpy as np\n",
        "\n",
        "# Create a sample 2D array with some duplicate rows\n",
        "array_2d = np.array([\n",
        "    [1, 2, 3],\n",
        "    [4, 5, 6],\n",
        "    [1, 2, 3],\n",
        "    [7, 8, 9],\n",
        "    [4, 5, 6],\n",
        "    [10, 11, 12]\n",
        "])\n",
        "\n",
        "# Extract unique rows\n",
        "unique_rows = np.unique(array_2d, axis=0)\n",
        "\n",
        "# Print the result\n",
        "print(\"Unique rows in the array:\")\n",
        "print(unique_rows)\n"
      ]
    },
    {
      "cell_type": "markdown",
      "metadata": {
        "id": "xqYFzliA-2bR"
      },
      "source": [
        "#### 97. Considering 2 vectors A & B, write the einsum equivalent of inner, outer, sum, and mul function (★★★)"
      ]
    },
    {
      "cell_type": "code",
      "execution_count": 43,
      "metadata": {
        "id": "X9U87blY-2bR"
      },
      "outputs": [],
      "source": [
        "import numpy as np\n",
        "\n",
        "# Define two vectors\n",
        "A = np.array([1, 2, 3])\n",
        "B = np.array([4, 5, 6])\n"
      ]
    },
    {
      "cell_type": "markdown",
      "metadata": {
        "id": "Mt7bmxWx-2bR"
      },
      "source": [
        "#### 98. Considering a path described by two vectors (X,Y), how to sample it using equidistant samples (★★★)?"
      ]
    },
    {
      "cell_type": "code",
      "execution_count": 44,
      "metadata": {
        "colab": {
          "base_uri": "https://localhost:8080/"
        },
        "id": "-7grrIbS-2bR",
        "outputId": "e228b4bc-793b-4bc2-ac25-b090e37ee0bb"
      },
      "outputs": [
        {
          "output_type": "stream",
          "name": "stdout",
          "text": [
            "Sampled X coordinates: [0.         0.44444444 0.88888889 1.33333333 1.77777778 2.22222222\n",
            " 2.66666667 3.11111111 3.55555556 4.        ]\n",
            "Sampled Y coordinates: [0.         0.44444444 0.88888889 0.66666667 0.22222222 0.22222222\n",
            " 0.66666667 0.88888889 0.44444444 0.        ]\n"
          ]
        }
      ],
      "source": [
        "import numpy as np\n",
        "from scipy.interpolate import interp1d\n",
        "\n",
        "# Define your vectors\n",
        "X = np.array([0, 1, 2, 3, 4])\n",
        "Y = np.array([0, 1, 0, 1, 0])\n",
        "\n",
        "# Step 1: Calculate the cumulative distance along the path\n",
        "dx = np.diff(X)\n",
        "dy = np.diff(Y)\n",
        "distances = np.sqrt(dx**2 + dy**2)  # Calculate the Euclidean distances between consecutive points\n",
        "cumulative_distance = np.concatenate(([0], np.cumsum(distances)))  # Cumulative distance\n",
        "\n",
        "# Step 2: Define the number of equidistant samples\n",
        "num_samples = 10  # Change this to desired number of samples\n",
        "equidistant_distances = np.linspace(0, cumulative_distance[-1], num_samples)  # Equidistant distances\n",
        "\n",
        "# Step 3: Interpolate X and Y coordinates\n",
        "interp_x = interp1d(cumulative_distance, X, kind='linear')\n",
        "interp_y = interp1d(cumulative_distance, Y, kind='linear')\n",
        "\n",
        "# Sample the path at equidistant distances\n",
        "sampled_x = interp_x(equidistant_distances)\n",
        "sampled_y = interp_y(equidistant_distances)\n",
        "\n",
        "# Print the results\n",
        "print(\"Sampled X coordinates:\", sampled_x)\n",
        "print(\"Sampled Y coordinates:\", sampled_y)\n"
      ]
    },
    {
      "cell_type": "markdown",
      "metadata": {
        "id": "a_8SFX82-2bR"
      },
      "source": [
        "#### 99. Given an integer n and a 2D array X, select from X the rows which can be interpreted as draws from a multinomial distribution with n degrees, i.e., the rows which only contain integers and which sum to n. (★★★)"
      ]
    },
    {
      "cell_type": "code",
      "execution_count": 45,
      "metadata": {
        "colab": {
          "base_uri": "https://localhost:8080/"
        },
        "id": "A50OmHVM-2bR",
        "outputId": "250b805d-202f-452e-f0fe-fa0fba04d56e"
      },
      "outputs": [
        {
          "output_type": "stream",
          "name": "stdout",
          "text": [
            "Selected Rows:\n",
            "[[1 2 2]\n",
            " [0 5 0]\n",
            " [2 2 1]\n",
            " [3 1 1]]\n"
          ]
        }
      ],
      "source": [
        "import numpy as np\n",
        "\n",
        "def select_multinomial_rows(X, n):\n",
        "    # Convert X to a NumPy array if it isn't already\n",
        "    X = np.array(X)\n",
        "\n",
        "    # Condition 1: Check if all elements are non-negative integers\n",
        "    non_negative_integers = np.all((X >= 0) & (X == np.floor(X)), axis=1)\n",
        "\n",
        "    # Condition 2: Check if the sum of each row equals n\n",
        "    sum_equals_n = np.sum(X, axis=1) == n\n",
        "\n",
        "    # Combine both conditions\n",
        "    valid_rows = non_negative_integers & sum_equals_n\n",
        "\n",
        "    # Select rows that satisfy both conditions\n",
        "    selected_rows = X[valid_rows]\n",
        "\n",
        "    return selected_rows\n",
        "\n",
        "# Example usage\n",
        "n = 5\n",
        "X = np.array([[1, 2, 2], [0, 5, 0], [3, 2, 1], [2, 2, 1], [3, 1, 1], [6, 0, 0]])\n",
        "selected_rows = select_multinomial_rows(X, n)\n",
        "print(\"Selected Rows:\")\n",
        "print(selected_rows)\n"
      ]
    },
    {
      "cell_type": "markdown",
      "metadata": {
        "id": "B6mC5EA6-2bS"
      },
      "source": [
        "#### 100. Compute bootstrapped 95% confidence intervals for the mean of a 1D array X (i.e., resample the elements of an array with replacement N times, compute the mean of each sample, and then compute percentiles over the means). (★★★)"
      ]
    },
    {
      "cell_type": "code",
      "execution_count": 46,
      "metadata": {
        "colab": {
          "base_uri": "https://localhost:8080/"
        },
        "id": "iatkgQkC-2bS",
        "outputId": "30774213-e6f9-4ae0-a30b-fa03b8d47a8d"
      },
      "outputs": [
        {
          "output_type": "stream",
          "name": "stdout",
          "text": [
            "Bootstrapped 95% Confidence Interval for the Mean: (3.8, 7.102499999999997)\n"
          ]
        }
      ],
      "source": [
        "import numpy as np\n",
        "\n",
        "def bootstrap_confidence_interval(X, N=1000, alpha=0.05):\n",
        "    # Convert X to a NumPy array if it isn't already\n",
        "    X = np.array(X)\n",
        "\n",
        "    # Number of data points\n",
        "    n = len(X)\n",
        "\n",
        "    # Generate bootstrap samples and compute their means\n",
        "    bootstrap_means = np.empty(N)\n",
        "    for i in range(N):\n",
        "        # Resample X with replacement\n",
        "        sample = np.random.choice(X, size=n, replace=True)\n",
        "        # Compute the mean of the sample\n",
        "        bootstrap_means[i] = np.mean(sample)\n",
        "\n",
        "    # Compute the percentiles for the confidence intervals\n",
        "    lower_percentile = np.percentile(bootstrap_means, 100 * (alpha / 2))\n",
        "    upper_percentile = np.percentile(bootstrap_means, 100 * (1 - alpha / 2))\n",
        "\n",
        "    return lower_percentile, upper_percentile\n",
        "\n",
        "# Example usage\n",
        "X = [1, 2, 3, 4, 5, 6, 7, 8, 9, 10]\n",
        "lower_ci, upper_ci = bootstrap_confidence_interval(X)\n",
        "\n",
        "print(f\"Bootstrapped 95% Confidence Interval for the Mean: ({lower_ci}, {upper_ci})\")\n"
      ]
    },
    {
      "cell_type": "code",
      "execution_count": null,
      "metadata": {
        "id": "c0yV3CxG-2bS"
      },
      "outputs": [],
      "source": []
    }
  ],
  "metadata": {
    "kernelspec": {
      "display_name": "Python 3",
      "language": "python",
      "name": "python3"
    },
    "language_info": {
      "codemirror_mode": {
        "name": "ipython",
        "version": 3
      },
      "file_extension": ".py",
      "mimetype": "text/x-python",
      "name": "python",
      "nbconvert_exporter": "python",
      "pygments_lexer": "ipython3",
      "version": "3.7.4"
    },
    "colab": {
      "provenance": [],
      "include_colab_link": true
    }
  },
  "nbformat": 4,
  "nbformat_minor": 0
}
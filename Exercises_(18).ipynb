{
  "cells": [
    {
      "cell_type": "markdown",
      "metadata": {
        "id": "view-in-github",
        "colab_type": "text"
      },
      "source": [
        "<a href=\"https://colab.research.google.com/github/bonareri/Python-Data-Analysis/blob/main/Exercises_(18).ipynb\" target=\"_parent\"><img src=\"https://colab.research.google.com/assets/colab-badge.svg\" alt=\"Open In Colab\"/></a>"
      ]
    },
    {
      "cell_type": "markdown",
      "metadata": {
        "id": "jlBmgCZk0HcR"
      },
      "source": [
        "# Wind Statistics"
      ]
    },
    {
      "cell_type": "markdown",
      "metadata": {
        "id": "Z3fT6LM80HcY"
      },
      "source": [
        "### Introduction:\n",
        "\n",
        "The data have been modified to contain some missing values, identified by NaN.  \n",
        "Using pandas should make this exercise\n",
        "easier, in particular for the bonus question.\n",
        "\n",
        "You should be able to perform all of these operations without using\n",
        "a for loop or other looping construct.\n",
        "\n",
        "\n",
        "1. The data in 'wind.data' has the following format:"
      ]
    },
    {
      "cell_type": "code",
      "execution_count": null,
      "metadata": {
        "id": "SeaJNE8k0Hcc",
        "outputId": "8d0f46c5-f068-4c11-b10f-cf3e8913ce72"
      },
      "outputs": [
        {
          "data": {
            "text/plain": [
              "'\\nYr Mo Dy   RPT   VAL   ROS   KIL   SHA   BIR   DUB   CLA   MUL   CLO   BEL   MAL\\n61  1  1 15.04 14.96 13.17  9.29   NaN  9.87 13.67 10.25 10.83 12.58 18.50 15.04\\n61  1  2 14.71   NaN 10.83  6.50 12.62  7.67 11.50 10.04  9.79  9.67 17.54 13.83\\n61  1  3 18.50 16.88 12.33 10.13 11.17  6.17 11.25   NaN  8.50  7.67 12.75 12.71\\n'"
            ]
          },
          "execution_count": 434,
          "metadata": {},
          "output_type": "execute_result"
        }
      ],
      "source": [
        "\"\"\"\n",
        "Yr Mo Dy   RPT   VAL   ROS   KIL   SHA   BIR   DUB   CLA   MUL   CLO   BEL   MAL\n",
        "61  1  1 15.04 14.96 13.17  9.29   NaN  9.87 13.67 10.25 10.83 12.58 18.50 15.04\n",
        "61  1  2 14.71   NaN 10.83  6.50 12.62  7.67 11.50 10.04  9.79  9.67 17.54 13.83\n",
        "61  1  3 18.50 16.88 12.33 10.13 11.17  6.17 11.25   NaN  8.50  7.67 12.75 12.71\n",
        "\"\"\""
      ]
    },
    {
      "cell_type": "markdown",
      "metadata": {
        "id": "KDy0Lhky0Hch"
      },
      "source": [
        "   The first three columns are year, month and day.  The\n",
        "   remaining 12 columns are average windspeeds in knots at 12\n",
        "   locations in Ireland on that day.   \n",
        "\n",
        "   More information about the dataset go [here](wind.desc)."
      ]
    },
    {
      "cell_type": "markdown",
      "metadata": {
        "collapsed": false,
        "id": "hiINnfbr0Hcj"
      },
      "source": [
        "### Step 1. Import the necessary libraries"
      ]
    },
    {
      "cell_type": "code",
      "execution_count": 1,
      "metadata": {
        "id": "koBbD5fl0Hck"
      },
      "outputs": [],
      "source": [
        "#importing the dataset\n",
        "import pandas as pd\n",
        "import datetime"
      ]
    },
    {
      "cell_type": "markdown",
      "metadata": {
        "id": "9X54n_AT0Hcl"
      },
      "source": [
        "### Step 2. Import the dataset from this [address](https://raw.githubusercontent.com/guipsamora/pandas_exercises/master/06_Stats/Wind_Stats/wind.data)"
      ]
    },
    {
      "cell_type": "markdown",
      "metadata": {
        "id": "c_SS-9mz0Hcl"
      },
      "source": [
        "### Step 3. Assign it to a variable called data and replace the first 3 columns by a proper datetime index."
      ]
    },
    {
      "cell_type": "code",
      "execution_count": 14,
      "metadata": {
        "colab": {
          "base_uri": "https://localhost:8080/",
          "height": 295
        },
        "id": "jyp1ZDG40Hcm",
        "outputId": "c6b41b83-194c-4b22-8949-9348b5bc484a"
      },
      "outputs": [
        {
          "output_type": "stream",
          "name": "stderr",
          "text": [
            "<ipython-input-14-f67947f086a5>:1: FutureWarning: Support for nested sequences for 'parse_dates' in pd.read_csv is deprecated. Combine the desired columns with pd.to_datetime after parsing instead.\n",
            "  data = pd.read_csv('https://raw.githubusercontent.com/guipsamora/pandas_exercises/master/06_Stats/Wind_Stats/wind.data', sep = \"\\s+\", parse_dates = [[0,1,2]])\n",
            "<ipython-input-14-f67947f086a5>:1: UserWarning: Could not infer format, so each element will be parsed individually, falling back to `dateutil`. To ensure parsing is consistent and as-expected, please specify a format.\n",
            "  data = pd.read_csv('https://raw.githubusercontent.com/guipsamora/pandas_exercises/master/06_Stats/Wind_Stats/wind.data', sep = \"\\s+\", parse_dates = [[0,1,2]])\n"
          ]
        },
        {
          "output_type": "execute_result",
          "data": {
            "text/plain": [
              "    Yr_Mo_Dy    RPT    VAL    ROS    KIL    SHA   BIR    DUB    CLA    MUL  \\\n",
              "0 2061-01-01  15.04  14.96  13.17   9.29    NaN  9.87  13.67  10.25  10.83   \n",
              "1 2061-01-02  14.71    NaN  10.83   6.50  12.62  7.67  11.50  10.04   9.79   \n",
              "2 2061-01-03  18.50  16.88  12.33  10.13  11.17  6.17  11.25    NaN   8.50   \n",
              "3 2061-01-04  10.58   6.63  11.75   4.58   4.54  2.88   8.63   1.79   5.83   \n",
              "4 2061-01-05  13.33  13.25  11.42   6.17  10.71  8.21  11.92   6.54  10.92   \n",
              "\n",
              "     CLO    BEL    MAL  \n",
              "0  12.58  18.50  15.04  \n",
              "1   9.67  17.54  13.83  \n",
              "2   7.67  12.75  12.71  \n",
              "3   5.88   5.46  10.88  \n",
              "4  10.34  12.92  11.83  "
            ],
            "text/html": [
              "\n",
              "  <div id=\"df-08313603-a6b2-4d95-ba7d-e364b6b15844\" class=\"colab-df-container\">\n",
              "    <div>\n",
              "<style scoped>\n",
              "    .dataframe tbody tr th:only-of-type {\n",
              "        vertical-align: middle;\n",
              "    }\n",
              "\n",
              "    .dataframe tbody tr th {\n",
              "        vertical-align: top;\n",
              "    }\n",
              "\n",
              "    .dataframe thead th {\n",
              "        text-align: right;\n",
              "    }\n",
              "</style>\n",
              "<table border=\"1\" class=\"dataframe\">\n",
              "  <thead>\n",
              "    <tr style=\"text-align: right;\">\n",
              "      <th></th>\n",
              "      <th>Yr_Mo_Dy</th>\n",
              "      <th>RPT</th>\n",
              "      <th>VAL</th>\n",
              "      <th>ROS</th>\n",
              "      <th>KIL</th>\n",
              "      <th>SHA</th>\n",
              "      <th>BIR</th>\n",
              "      <th>DUB</th>\n",
              "      <th>CLA</th>\n",
              "      <th>MUL</th>\n",
              "      <th>CLO</th>\n",
              "      <th>BEL</th>\n",
              "      <th>MAL</th>\n",
              "    </tr>\n",
              "  </thead>\n",
              "  <tbody>\n",
              "    <tr>\n",
              "      <th>0</th>\n",
              "      <td>2061-01-01</td>\n",
              "      <td>15.04</td>\n",
              "      <td>14.96</td>\n",
              "      <td>13.17</td>\n",
              "      <td>9.29</td>\n",
              "      <td>NaN</td>\n",
              "      <td>9.87</td>\n",
              "      <td>13.67</td>\n",
              "      <td>10.25</td>\n",
              "      <td>10.83</td>\n",
              "      <td>12.58</td>\n",
              "      <td>18.50</td>\n",
              "      <td>15.04</td>\n",
              "    </tr>\n",
              "    <tr>\n",
              "      <th>1</th>\n",
              "      <td>2061-01-02</td>\n",
              "      <td>14.71</td>\n",
              "      <td>NaN</td>\n",
              "      <td>10.83</td>\n",
              "      <td>6.50</td>\n",
              "      <td>12.62</td>\n",
              "      <td>7.67</td>\n",
              "      <td>11.50</td>\n",
              "      <td>10.04</td>\n",
              "      <td>9.79</td>\n",
              "      <td>9.67</td>\n",
              "      <td>17.54</td>\n",
              "      <td>13.83</td>\n",
              "    </tr>\n",
              "    <tr>\n",
              "      <th>2</th>\n",
              "      <td>2061-01-03</td>\n",
              "      <td>18.50</td>\n",
              "      <td>16.88</td>\n",
              "      <td>12.33</td>\n",
              "      <td>10.13</td>\n",
              "      <td>11.17</td>\n",
              "      <td>6.17</td>\n",
              "      <td>11.25</td>\n",
              "      <td>NaN</td>\n",
              "      <td>8.50</td>\n",
              "      <td>7.67</td>\n",
              "      <td>12.75</td>\n",
              "      <td>12.71</td>\n",
              "    </tr>\n",
              "    <tr>\n",
              "      <th>3</th>\n",
              "      <td>2061-01-04</td>\n",
              "      <td>10.58</td>\n",
              "      <td>6.63</td>\n",
              "      <td>11.75</td>\n",
              "      <td>4.58</td>\n",
              "      <td>4.54</td>\n",
              "      <td>2.88</td>\n",
              "      <td>8.63</td>\n",
              "      <td>1.79</td>\n",
              "      <td>5.83</td>\n",
              "      <td>5.88</td>\n",
              "      <td>5.46</td>\n",
              "      <td>10.88</td>\n",
              "    </tr>\n",
              "    <tr>\n",
              "      <th>4</th>\n",
              "      <td>2061-01-05</td>\n",
              "      <td>13.33</td>\n",
              "      <td>13.25</td>\n",
              "      <td>11.42</td>\n",
              "      <td>6.17</td>\n",
              "      <td>10.71</td>\n",
              "      <td>8.21</td>\n",
              "      <td>11.92</td>\n",
              "      <td>6.54</td>\n",
              "      <td>10.92</td>\n",
              "      <td>10.34</td>\n",
              "      <td>12.92</td>\n",
              "      <td>11.83</td>\n",
              "    </tr>\n",
              "  </tbody>\n",
              "</table>\n",
              "</div>\n",
              "    <div class=\"colab-df-buttons\">\n",
              "\n",
              "  <div class=\"colab-df-container\">\n",
              "    <button class=\"colab-df-convert\" onclick=\"convertToInteractive('df-08313603-a6b2-4d95-ba7d-e364b6b15844')\"\n",
              "            title=\"Convert this dataframe to an interactive table.\"\n",
              "            style=\"display:none;\">\n",
              "\n",
              "  <svg xmlns=\"http://www.w3.org/2000/svg\" height=\"24px\" viewBox=\"0 -960 960 960\">\n",
              "    <path d=\"M120-120v-720h720v720H120Zm60-500h600v-160H180v160Zm220 220h160v-160H400v160Zm0 220h160v-160H400v160ZM180-400h160v-160H180v160Zm440 0h160v-160H620v160ZM180-180h160v-160H180v160Zm440 0h160v-160H620v160Z\"/>\n",
              "  </svg>\n",
              "    </button>\n",
              "\n",
              "  <style>\n",
              "    .colab-df-container {\n",
              "      display:flex;\n",
              "      gap: 12px;\n",
              "    }\n",
              "\n",
              "    .colab-df-convert {\n",
              "      background-color: #E8F0FE;\n",
              "      border: none;\n",
              "      border-radius: 50%;\n",
              "      cursor: pointer;\n",
              "      display: none;\n",
              "      fill: #1967D2;\n",
              "      height: 32px;\n",
              "      padding: 0 0 0 0;\n",
              "      width: 32px;\n",
              "    }\n",
              "\n",
              "    .colab-df-convert:hover {\n",
              "      background-color: #E2EBFA;\n",
              "      box-shadow: 0px 1px 2px rgba(60, 64, 67, 0.3), 0px 1px 3px 1px rgba(60, 64, 67, 0.15);\n",
              "      fill: #174EA6;\n",
              "    }\n",
              "\n",
              "    .colab-df-buttons div {\n",
              "      margin-bottom: 4px;\n",
              "    }\n",
              "\n",
              "    [theme=dark] .colab-df-convert {\n",
              "      background-color: #3B4455;\n",
              "      fill: #D2E3FC;\n",
              "    }\n",
              "\n",
              "    [theme=dark] .colab-df-convert:hover {\n",
              "      background-color: #434B5C;\n",
              "      box-shadow: 0px 1px 3px 1px rgba(0, 0, 0, 0.15);\n",
              "      filter: drop-shadow(0px 1px 2px rgba(0, 0, 0, 0.3));\n",
              "      fill: #FFFFFF;\n",
              "    }\n",
              "  </style>\n",
              "\n",
              "    <script>\n",
              "      const buttonEl =\n",
              "        document.querySelector('#df-08313603-a6b2-4d95-ba7d-e364b6b15844 button.colab-df-convert');\n",
              "      buttonEl.style.display =\n",
              "        google.colab.kernel.accessAllowed ? 'block' : 'none';\n",
              "\n",
              "      async function convertToInteractive(key) {\n",
              "        const element = document.querySelector('#df-08313603-a6b2-4d95-ba7d-e364b6b15844');\n",
              "        const dataTable =\n",
              "          await google.colab.kernel.invokeFunction('convertToInteractive',\n",
              "                                                    [key], {});\n",
              "        if (!dataTable) return;\n",
              "\n",
              "        const docLinkHtml = 'Like what you see? Visit the ' +\n",
              "          '<a target=\"_blank\" href=https://colab.research.google.com/notebooks/data_table.ipynb>data table notebook</a>'\n",
              "          + ' to learn more about interactive tables.';\n",
              "        element.innerHTML = '';\n",
              "        dataTable['output_type'] = 'display_data';\n",
              "        await google.colab.output.renderOutput(dataTable, element);\n",
              "        const docLink = document.createElement('div');\n",
              "        docLink.innerHTML = docLinkHtml;\n",
              "        element.appendChild(docLink);\n",
              "      }\n",
              "    </script>\n",
              "  </div>\n",
              "\n",
              "\n",
              "<div id=\"df-e39d4f18-f7ed-419f-9da2-3945169fd1d6\">\n",
              "  <button class=\"colab-df-quickchart\" onclick=\"quickchart('df-e39d4f18-f7ed-419f-9da2-3945169fd1d6')\"\n",
              "            title=\"Suggest charts\"\n",
              "            style=\"display:none;\">\n",
              "\n",
              "<svg xmlns=\"http://www.w3.org/2000/svg\" height=\"24px\"viewBox=\"0 0 24 24\"\n",
              "     width=\"24px\">\n",
              "    <g>\n",
              "        <path d=\"M19 3H5c-1.1 0-2 .9-2 2v14c0 1.1.9 2 2 2h14c1.1 0 2-.9 2-2V5c0-1.1-.9-2-2-2zM9 17H7v-7h2v7zm4 0h-2V7h2v10zm4 0h-2v-4h2v4z\"/>\n",
              "    </g>\n",
              "</svg>\n",
              "  </button>\n",
              "\n",
              "<style>\n",
              "  .colab-df-quickchart {\n",
              "      --bg-color: #E8F0FE;\n",
              "      --fill-color: #1967D2;\n",
              "      --hover-bg-color: #E2EBFA;\n",
              "      --hover-fill-color: #174EA6;\n",
              "      --disabled-fill-color: #AAA;\n",
              "      --disabled-bg-color: #DDD;\n",
              "  }\n",
              "\n",
              "  [theme=dark] .colab-df-quickchart {\n",
              "      --bg-color: #3B4455;\n",
              "      --fill-color: #D2E3FC;\n",
              "      --hover-bg-color: #434B5C;\n",
              "      --hover-fill-color: #FFFFFF;\n",
              "      --disabled-bg-color: #3B4455;\n",
              "      --disabled-fill-color: #666;\n",
              "  }\n",
              "\n",
              "  .colab-df-quickchart {\n",
              "    background-color: var(--bg-color);\n",
              "    border: none;\n",
              "    border-radius: 50%;\n",
              "    cursor: pointer;\n",
              "    display: none;\n",
              "    fill: var(--fill-color);\n",
              "    height: 32px;\n",
              "    padding: 0;\n",
              "    width: 32px;\n",
              "  }\n",
              "\n",
              "  .colab-df-quickchart:hover {\n",
              "    background-color: var(--hover-bg-color);\n",
              "    box-shadow: 0 1px 2px rgba(60, 64, 67, 0.3), 0 1px 3px 1px rgba(60, 64, 67, 0.15);\n",
              "    fill: var(--button-hover-fill-color);\n",
              "  }\n",
              "\n",
              "  .colab-df-quickchart-complete:disabled,\n",
              "  .colab-df-quickchart-complete:disabled:hover {\n",
              "    background-color: var(--disabled-bg-color);\n",
              "    fill: var(--disabled-fill-color);\n",
              "    box-shadow: none;\n",
              "  }\n",
              "\n",
              "  .colab-df-spinner {\n",
              "    border: 2px solid var(--fill-color);\n",
              "    border-color: transparent;\n",
              "    border-bottom-color: var(--fill-color);\n",
              "    animation:\n",
              "      spin 1s steps(1) infinite;\n",
              "  }\n",
              "\n",
              "  @keyframes spin {\n",
              "    0% {\n",
              "      border-color: transparent;\n",
              "      border-bottom-color: var(--fill-color);\n",
              "      border-left-color: var(--fill-color);\n",
              "    }\n",
              "    20% {\n",
              "      border-color: transparent;\n",
              "      border-left-color: var(--fill-color);\n",
              "      border-top-color: var(--fill-color);\n",
              "    }\n",
              "    30% {\n",
              "      border-color: transparent;\n",
              "      border-left-color: var(--fill-color);\n",
              "      border-top-color: var(--fill-color);\n",
              "      border-right-color: var(--fill-color);\n",
              "    }\n",
              "    40% {\n",
              "      border-color: transparent;\n",
              "      border-right-color: var(--fill-color);\n",
              "      border-top-color: var(--fill-color);\n",
              "    }\n",
              "    60% {\n",
              "      border-color: transparent;\n",
              "      border-right-color: var(--fill-color);\n",
              "    }\n",
              "    80% {\n",
              "      border-color: transparent;\n",
              "      border-right-color: var(--fill-color);\n",
              "      border-bottom-color: var(--fill-color);\n",
              "    }\n",
              "    90% {\n",
              "      border-color: transparent;\n",
              "      border-bottom-color: var(--fill-color);\n",
              "    }\n",
              "  }\n",
              "</style>\n",
              "\n",
              "  <script>\n",
              "    async function quickchart(key) {\n",
              "      const quickchartButtonEl =\n",
              "        document.querySelector('#' + key + ' button');\n",
              "      quickchartButtonEl.disabled = true;  // To prevent multiple clicks.\n",
              "      quickchartButtonEl.classList.add('colab-df-spinner');\n",
              "      try {\n",
              "        const charts = await google.colab.kernel.invokeFunction(\n",
              "            'suggestCharts', [key], {});\n",
              "      } catch (error) {\n",
              "        console.error('Error during call to suggestCharts:', error);\n",
              "      }\n",
              "      quickchartButtonEl.classList.remove('colab-df-spinner');\n",
              "      quickchartButtonEl.classList.add('colab-df-quickchart-complete');\n",
              "    }\n",
              "    (() => {\n",
              "      let quickchartButtonEl =\n",
              "        document.querySelector('#df-e39d4f18-f7ed-419f-9da2-3945169fd1d6 button');\n",
              "      quickchartButtonEl.style.display =\n",
              "        google.colab.kernel.accessAllowed ? 'block' : 'none';\n",
              "    })();\n",
              "  </script>\n",
              "</div>\n",
              "\n",
              "    </div>\n",
              "  </div>\n"
            ],
            "application/vnd.google.colaboratory.intrinsic+json": {
              "type": "dataframe",
              "variable_name": "data",
              "summary": "{\n  \"name\": \"data\",\n  \"rows\": 6574,\n  \"fields\": [\n    {\n      \"column\": \"Yr_Mo_Dy\",\n      \"properties\": {\n        \"dtype\": \"date\",\n        \"min\": \"1974-01-01 00:00:00\",\n        \"max\": \"2073-12-31 00:00:00\",\n        \"num_unique_values\": 6574,\n        \"samples\": [\n          \"2062-09-04 00:00:00\",\n          \"2073-02-28 00:00:00\",\n          \"2064-11-20 00:00:00\"\n        ],\n        \"semantic_type\": \"\",\n        \"description\": \"\"\n      }\n    },\n    {\n      \"column\": \"RPT\",\n      \"properties\": {\n        \"dtype\": \"number\",\n        \"std\": 5.618412959473287,\n        \"min\": 0.67,\n        \"max\": 35.8,\n        \"num_unique_values\": 671,\n        \"samples\": [\n          1.5,\n          4.25,\n          18.29\n        ],\n        \"semantic_type\": \"\",\n        \"description\": \"\"\n      }\n    },\n    {\n      \"column\": \"VAL\",\n      \"properties\": {\n        \"dtype\": \"number\",\n        \"std\": 5.267356471594362,\n        \"min\": 0.21,\n        \"max\": 33.37,\n        \"num_unique_values\": 607,\n        \"samples\": [\n          1.87,\n          12.62,\n          7.46\n        ],\n        \"semantic_type\": \"\",\n        \"description\": \"\"\n      }\n    },\n    {\n      \"column\": \"ROS\",\n      \"properties\": {\n        \"dtype\": \"number\",\n        \"std\": 5.008449958866736,\n        \"min\": 1.5,\n        \"max\": 33.84,\n        \"num_unique_values\": 611,\n        \"samples\": [\n          13.08,\n          19.92,\n          9.29\n        ],\n        \"semantic_type\": \"\",\n        \"description\": \"\"\n      }\n    },\n    {\n      \"column\": \"KIL\",\n      \"properties\": {\n        \"dtype\": \"number\",\n        \"std\": 3.605811207145495,\n        \"min\": 0.0,\n        \"max\": 28.46,\n        \"num_unique_values\": 450,\n        \"samples\": [\n          13.67,\n          16.79,\n          5.66\n        ],\n        \"semantic_type\": \"\",\n        \"description\": \"\"\n      }\n    },\n    {\n      \"column\": \"SHA\",\n      \"properties\": {\n        \"dtype\": \"number\",\n        \"std\": 4.936125157203559,\n        \"min\": 0.13,\n        \"max\": 37.54,\n        \"num_unique_values\": 596,\n        \"samples\": [\n          15.21,\n          20.46,\n          37.54\n        ],\n        \"semantic_type\": \"\",\n        \"description\": \"\"\n      }\n    },\n    {\n      \"column\": \"BIR\",\n      \"properties\": {\n        \"dtype\": \"number\",\n        \"std\": 3.9686831153772104,\n        \"min\": 0.0,\n        \"max\": 26.16,\n        \"num_unique_values\": 461,\n        \"samples\": [\n          17.0,\n          7.17,\n          13.29\n        ],\n        \"semantic_type\": \"\",\n        \"description\": \"\"\n      }\n    },\n    {\n      \"column\": \"DUB\",\n      \"properties\": {\n        \"dtype\": \"number\",\n        \"std\": 4.977554606833084,\n        \"min\": 0.0,\n        \"max\": 30.37,\n        \"num_unique_values\": 580,\n        \"samples\": [\n          25.54,\n          18.0,\n          9.13\n        ],\n        \"semantic_type\": \"\",\n        \"description\": \"\"\n      }\n    },\n    {\n      \"column\": \"CLA\",\n      \"properties\": {\n        \"dtype\": \"number\",\n        \"std\": 4.499449045244696,\n        \"min\": 0.0,\n        \"max\": 31.08,\n        \"num_unique_values\": 534,\n        \"samples\": [\n          11.46,\n          8.63,\n          8.17\n        ],\n        \"semantic_type\": \"\",\n        \"description\": \"\"\n      }\n    },\n    {\n      \"column\": \"MUL\",\n      \"properties\": {\n        \"dtype\": \"number\",\n        \"std\": 4.166872499235665,\n        \"min\": 0.0,\n        \"max\": 25.88,\n        \"num_unique_values\": 503,\n        \"samples\": [\n          5.91,\n          9.54,\n          5.54\n        ],\n        \"semantic_type\": \"\",\n        \"description\": \"\"\n      }\n    },\n    {\n      \"column\": \"CLO\",\n      \"properties\": {\n        \"dtype\": \"number\",\n        \"std\": 4.503954446879152,\n        \"min\": 0.04,\n        \"max\": 28.21,\n        \"num_unique_values\": 533,\n        \"samples\": [\n          7.96,\n          1.67,\n          4.71\n        ],\n        \"semantic_type\": \"\",\n        \"description\": \"\"\n      }\n    },\n    {\n      \"column\": \"BEL\",\n      \"properties\": {\n        \"dtype\": \"number\",\n        \"std\": 5.83503700057374,\n        \"min\": 0.13,\n        \"max\": 42.38,\n        \"num_unique_values\": 687,\n        \"samples\": [\n          14.17,\n          26.04,\n          0.58\n        ],\n        \"semantic_type\": \"\",\n        \"description\": \"\"\n      }\n    },\n    {\n      \"column\": \"MAL\",\n      \"properties\": {\n        \"dtype\": \"number\",\n        \"std\": 6.6997935173664205,\n        \"min\": 0.67,\n        \"max\": 42.54,\n        \"num_unique_values\": 779,\n        \"samples\": [\n          25.96,\n          28.84,\n          30.46\n        ],\n        \"semantic_type\": \"\",\n        \"description\": \"\"\n      }\n    }\n  ]\n}"
            }
          },
          "metadata": {},
          "execution_count": 14
        }
      ],
      "source": [
        "data = pd.read_csv('https://raw.githubusercontent.com/guipsamora/pandas_exercises/master/06_Stats/Wind_Stats/wind.data', sep = \"\\s+\", parse_dates = [[0,1,2]])\n",
        "data.head()"
      ]
    },
    {
      "cell_type": "markdown",
      "metadata": {
        "id": "IXe3DQRo0Hco"
      },
      "source": [
        "### Step 4. Year 2061? Do we really have data from this year? Create a function to fix it and apply it."
      ]
    },
    {
      "cell_type": "code",
      "execution_count": 3,
      "metadata": {
        "id": "4Wj_2CW90Hco"
      },
      "outputs": [],
      "source": [
        "#fixing the year column\n",
        "def fix_year(x):\n",
        "    year = x.year - 100 if x.year > 1989 else x.year\n",
        "    return datetime.date(year, x.month, x.day)"
      ]
    },
    {
      "cell_type": "code",
      "source": [
        "data.columns"
      ],
      "metadata": {
        "colab": {
          "base_uri": "https://localhost:8080/"
        },
        "id": "bvwk1DL62kMl",
        "outputId": "b22d3550-e85c-41fb-cad4-4cb568c70154"
      },
      "execution_count": 15,
      "outputs": [
        {
          "output_type": "execute_result",
          "data": {
            "text/plain": [
              "Index(['Yr_Mo_Dy', 'RPT', 'VAL', 'ROS', 'KIL', 'SHA', 'BIR', 'DUB', 'CLA',\n",
              "       'MUL', 'CLO', 'BEL', 'MAL'],\n",
              "      dtype='object')"
            ]
          },
          "metadata": {},
          "execution_count": 15
        }
      ]
    },
    {
      "cell_type": "markdown",
      "metadata": {
        "id": "UXC9VPZ50Hcp"
      },
      "source": [
        "### Step 5. Set the right dates as the index. Pay attention at the data type, it should be datetime64[ns]."
      ]
    },
    {
      "cell_type": "code",
      "execution_count": 16,
      "metadata": {
        "colab": {
          "base_uri": "https://localhost:8080/"
        },
        "id": "5Py4qc5f0Hcq",
        "outputId": "1ad54ebe-464b-41b4-effa-8e5b6937867c"
      },
      "outputs": [
        {
          "output_type": "stream",
          "name": "stdout",
          "text": [
            "DatetimeIndex(['2061-01-01', '2061-01-02', '2061-01-03', '2061-01-04',\n",
            "               '2061-01-05', '2061-01-06', '2061-01-07', '2061-01-08',\n",
            "               '2061-01-09', '2061-01-10',\n",
            "               ...\n",
            "               '1978-12-22', '1978-12-23', '1978-12-24', '1978-12-25',\n",
            "               '1978-12-26', '1978-12-27', '1978-12-28', '1978-12-29',\n",
            "               '1978-12-30', '1978-12-31'],\n",
            "              dtype='datetime64[ns]', name='Yr_Mo_Dy', length=6574, freq=None)\n"
          ]
        }
      ],
      "source": [
        "# Convert the 'Yr_Mo_Dy' column to datetime format\n",
        "data['Yr_Mo_Dy'] = pd.to_datetime(data['Yr_Mo_Dy'], errors='coerce')\n",
        "\n",
        "# Check if there are any invalid or missing dates\n",
        "if data['Yr_Mo_Dy'].isna().any():\n",
        "    print(\"There are invalid dates in 'Yr_Mo_Dy'. Please check the data.\")\n",
        "else:\n",
        "    # Set the 'Yr_Mo_Dy' column as the index\n",
        "    data.set_index('Yr_Mo_Dy', inplace=True)\n",
        "\n",
        "# Verify that the index is now of datetime64[ns] type\n",
        "print(data.index)"
      ]
    },
    {
      "cell_type": "markdown",
      "metadata": {
        "id": "Z4cuJDCF0Hcq"
      },
      "source": [
        "### Step 6. Compute how many values are missing for each location over the entire record.  \n",
        "#### They should be ignored in all calculations below."
      ]
    },
    {
      "cell_type": "code",
      "execution_count": 5,
      "metadata": {
        "colab": {
          "base_uri": "https://localhost:8080/",
          "height": 460
        },
        "id": "d6X5DcjR0Hcr",
        "outputId": "b13831c6-e550-4c5c-bccf-4651caa3d875"
      },
      "outputs": [
        {
          "output_type": "execute_result",
          "data": {
            "text/plain": [
              "RPT    6\n",
              "VAL    3\n",
              "ROS    2\n",
              "KIL    5\n",
              "SHA    2\n",
              "BIR    0\n",
              "DUB    3\n",
              "CLA    2\n",
              "MUL    3\n",
              "CLO    1\n",
              "BEL    0\n",
              "MAL    4\n",
              "dtype: int64"
            ],
            "text/html": [
              "<div>\n",
              "<style scoped>\n",
              "    .dataframe tbody tr th:only-of-type {\n",
              "        vertical-align: middle;\n",
              "    }\n",
              "\n",
              "    .dataframe tbody tr th {\n",
              "        vertical-align: top;\n",
              "    }\n",
              "\n",
              "    .dataframe thead th {\n",
              "        text-align: right;\n",
              "    }\n",
              "</style>\n",
              "<table border=\"1\" class=\"dataframe\">\n",
              "  <thead>\n",
              "    <tr style=\"text-align: right;\">\n",
              "      <th></th>\n",
              "      <th>0</th>\n",
              "    </tr>\n",
              "  </thead>\n",
              "  <tbody>\n",
              "    <tr>\n",
              "      <th>RPT</th>\n",
              "      <td>6</td>\n",
              "    </tr>\n",
              "    <tr>\n",
              "      <th>VAL</th>\n",
              "      <td>3</td>\n",
              "    </tr>\n",
              "    <tr>\n",
              "      <th>ROS</th>\n",
              "      <td>2</td>\n",
              "    </tr>\n",
              "    <tr>\n",
              "      <th>KIL</th>\n",
              "      <td>5</td>\n",
              "    </tr>\n",
              "    <tr>\n",
              "      <th>SHA</th>\n",
              "      <td>2</td>\n",
              "    </tr>\n",
              "    <tr>\n",
              "      <th>BIR</th>\n",
              "      <td>0</td>\n",
              "    </tr>\n",
              "    <tr>\n",
              "      <th>DUB</th>\n",
              "      <td>3</td>\n",
              "    </tr>\n",
              "    <tr>\n",
              "      <th>CLA</th>\n",
              "      <td>2</td>\n",
              "    </tr>\n",
              "    <tr>\n",
              "      <th>MUL</th>\n",
              "      <td>3</td>\n",
              "    </tr>\n",
              "    <tr>\n",
              "      <th>CLO</th>\n",
              "      <td>1</td>\n",
              "    </tr>\n",
              "    <tr>\n",
              "      <th>BEL</th>\n",
              "      <td>0</td>\n",
              "    </tr>\n",
              "    <tr>\n",
              "      <th>MAL</th>\n",
              "      <td>4</td>\n",
              "    </tr>\n",
              "  </tbody>\n",
              "</table>\n",
              "</div><br><label><b>dtype:</b> int64</label>"
            ]
          },
          "metadata": {},
          "execution_count": 5
        }
      ],
      "source": [
        "#checking  missing values\n",
        "data.isnull().sum()"
      ]
    },
    {
      "cell_type": "markdown",
      "metadata": {
        "id": "DigSONWh0Hcr"
      },
      "source": [
        "### Step 7. Compute how many non-missing values there are in total."
      ]
    },
    {
      "cell_type": "code",
      "execution_count": 6,
      "metadata": {
        "scrolled": true,
        "colab": {
          "base_uri": "https://localhost:8080/",
          "height": 460
        },
        "id": "yWtgL3wf0Hcs",
        "outputId": "c1ed7de5-30f8-4ddc-efd6-6ec689688fd6"
      },
      "outputs": [
        {
          "output_type": "execute_result",
          "data": {
            "text/plain": [
              "RPT    6568\n",
              "VAL    6571\n",
              "ROS    6572\n",
              "KIL    6569\n",
              "SHA    6572\n",
              "BIR    6574\n",
              "DUB    6571\n",
              "CLA    6572\n",
              "MUL    6571\n",
              "CLO    6573\n",
              "BEL    6574\n",
              "MAL    6570\n",
              "dtype: int64"
            ],
            "text/html": [
              "<div>\n",
              "<style scoped>\n",
              "    .dataframe tbody tr th:only-of-type {\n",
              "        vertical-align: middle;\n",
              "    }\n",
              "\n",
              "    .dataframe tbody tr th {\n",
              "        vertical-align: top;\n",
              "    }\n",
              "\n",
              "    .dataframe thead th {\n",
              "        text-align: right;\n",
              "    }\n",
              "</style>\n",
              "<table border=\"1\" class=\"dataframe\">\n",
              "  <thead>\n",
              "    <tr style=\"text-align: right;\">\n",
              "      <th></th>\n",
              "      <th>0</th>\n",
              "    </tr>\n",
              "  </thead>\n",
              "  <tbody>\n",
              "    <tr>\n",
              "      <th>RPT</th>\n",
              "      <td>6568</td>\n",
              "    </tr>\n",
              "    <tr>\n",
              "      <th>VAL</th>\n",
              "      <td>6571</td>\n",
              "    </tr>\n",
              "    <tr>\n",
              "      <th>ROS</th>\n",
              "      <td>6572</td>\n",
              "    </tr>\n",
              "    <tr>\n",
              "      <th>KIL</th>\n",
              "      <td>6569</td>\n",
              "    </tr>\n",
              "    <tr>\n",
              "      <th>SHA</th>\n",
              "      <td>6572</td>\n",
              "    </tr>\n",
              "    <tr>\n",
              "      <th>BIR</th>\n",
              "      <td>6574</td>\n",
              "    </tr>\n",
              "    <tr>\n",
              "      <th>DUB</th>\n",
              "      <td>6571</td>\n",
              "    </tr>\n",
              "    <tr>\n",
              "      <th>CLA</th>\n",
              "      <td>6572</td>\n",
              "    </tr>\n",
              "    <tr>\n",
              "      <th>MUL</th>\n",
              "      <td>6571</td>\n",
              "    </tr>\n",
              "    <tr>\n",
              "      <th>CLO</th>\n",
              "      <td>6573</td>\n",
              "    </tr>\n",
              "    <tr>\n",
              "      <th>BEL</th>\n",
              "      <td>6574</td>\n",
              "    </tr>\n",
              "    <tr>\n",
              "      <th>MAL</th>\n",
              "      <td>6570</td>\n",
              "    </tr>\n",
              "  </tbody>\n",
              "</table>\n",
              "</div><br><label><b>dtype:</b> int64</label>"
            ]
          },
          "metadata": {},
          "execution_count": 6
        }
      ],
      "source": [
        "#checking non- missing values\n",
        "data.notnull().sum()"
      ]
    },
    {
      "cell_type": "markdown",
      "metadata": {
        "id": "bFnByTJl0Hct"
      },
      "source": [
        "### Step 8. Calculate the mean windspeeds of the windspeeds over all the locations and all the times.\n",
        "#### A single number for the entire dataset."
      ]
    },
    {
      "cell_type": "code",
      "execution_count": 7,
      "metadata": {
        "colab": {
          "base_uri": "https://localhost:8080/"
        },
        "id": "-XRlY2vM0Hct",
        "outputId": "847b1c86-1c63-4030-9ff5-0e431def1148"
      },
      "outputs": [
        {
          "output_type": "execute_result",
          "data": {
            "text/plain": [
              "10.227982360836938"
            ]
          },
          "metadata": {},
          "execution_count": 7
        }
      ],
      "source": [
        "#mean windspeeds of the windspeeds over all the locations and all the times.\n",
        "data.mean().mean()"
      ]
    },
    {
      "cell_type": "markdown",
      "metadata": {
        "id": "U126bhBs0Hcu"
      },
      "source": [
        "### Step 9. Create a DataFrame called loc_stats and calculate the min, max and mean windspeeds and standard deviations of the windspeeds at each location over all the days\n",
        "\n",
        "#### A different set of numbers for each location."
      ]
    },
    {
      "cell_type": "code",
      "execution_count": 8,
      "metadata": {
        "colab": {
          "base_uri": "https://localhost:8080/",
          "height": 320
        },
        "id": "oL2vqGbu0Hcu",
        "outputId": "cbccd754-0dd6-453b-bc17-c3e98044f775"
      },
      "outputs": [
        {
          "output_type": "execute_result",
          "data": {
            "text/plain": [
              "               RPT          VAL          ROS          KIL          SHA  \\\n",
              "count  6568.000000  6571.000000  6572.000000  6569.000000  6572.000000   \n",
              "mean     12.362987    10.644314    11.660526     6.306468    10.455834   \n",
              "std       5.618413     5.267356     5.008450     3.605811     4.936125   \n",
              "min       0.670000     0.210000     1.500000     0.000000     0.130000   \n",
              "25%       8.120000     6.670000     8.000000     3.580000     6.750000   \n",
              "50%      11.710000    10.170000    10.920000     5.750000     9.960000   \n",
              "75%      15.920000    14.040000    14.670000     8.420000    13.540000   \n",
              "max      35.800000    33.370000    33.840000    28.460000    37.540000   \n",
              "\n",
              "               BIR          DUB          CLA          MUL          CLO  \\\n",
              "count  6574.000000  6571.000000  6572.000000  6571.000000  6573.000000   \n",
              "mean      7.092254     9.797343     8.495053     8.493590     8.707332   \n",
              "std       3.968683     4.977555     4.499449     4.166872     4.503954   \n",
              "min       0.000000     0.000000     0.000000     0.000000     0.040000   \n",
              "25%       4.000000     6.000000     5.090000     5.370000     5.330000   \n",
              "50%       6.830000     9.210000     8.080000     8.170000     8.290000   \n",
              "75%       9.670000    12.960000    11.420000    11.190000    11.630000   \n",
              "max      26.160000    30.370000    31.080000    25.880000    28.210000   \n",
              "\n",
              "               BEL          MAL  \n",
              "count  6574.000000  6570.000000  \n",
              "mean     13.121007    15.599079  \n",
              "std       5.835037     6.699794  \n",
              "min       0.130000     0.670000  \n",
              "25%       8.710000    10.710000  \n",
              "50%      12.500000    15.000000  \n",
              "75%      16.880000    19.830000  \n",
              "max      42.380000    42.540000  "
            ],
            "text/html": [
              "\n",
              "  <div id=\"df-f061a3b4-b792-4503-b454-e7e97fb16f3e\" class=\"colab-df-container\">\n",
              "    <div>\n",
              "<style scoped>\n",
              "    .dataframe tbody tr th:only-of-type {\n",
              "        vertical-align: middle;\n",
              "    }\n",
              "\n",
              "    .dataframe tbody tr th {\n",
              "        vertical-align: top;\n",
              "    }\n",
              "\n",
              "    .dataframe thead th {\n",
              "        text-align: right;\n",
              "    }\n",
              "</style>\n",
              "<table border=\"1\" class=\"dataframe\">\n",
              "  <thead>\n",
              "    <tr style=\"text-align: right;\">\n",
              "      <th></th>\n",
              "      <th>RPT</th>\n",
              "      <th>VAL</th>\n",
              "      <th>ROS</th>\n",
              "      <th>KIL</th>\n",
              "      <th>SHA</th>\n",
              "      <th>BIR</th>\n",
              "      <th>DUB</th>\n",
              "      <th>CLA</th>\n",
              "      <th>MUL</th>\n",
              "      <th>CLO</th>\n",
              "      <th>BEL</th>\n",
              "      <th>MAL</th>\n",
              "    </tr>\n",
              "  </thead>\n",
              "  <tbody>\n",
              "    <tr>\n",
              "      <th>count</th>\n",
              "      <td>6568.000000</td>\n",
              "      <td>6571.000000</td>\n",
              "      <td>6572.000000</td>\n",
              "      <td>6569.000000</td>\n",
              "      <td>6572.000000</td>\n",
              "      <td>6574.000000</td>\n",
              "      <td>6571.000000</td>\n",
              "      <td>6572.000000</td>\n",
              "      <td>6571.000000</td>\n",
              "      <td>6573.000000</td>\n",
              "      <td>6574.000000</td>\n",
              "      <td>6570.000000</td>\n",
              "    </tr>\n",
              "    <tr>\n",
              "      <th>mean</th>\n",
              "      <td>12.362987</td>\n",
              "      <td>10.644314</td>\n",
              "      <td>11.660526</td>\n",
              "      <td>6.306468</td>\n",
              "      <td>10.455834</td>\n",
              "      <td>7.092254</td>\n",
              "      <td>9.797343</td>\n",
              "      <td>8.495053</td>\n",
              "      <td>8.493590</td>\n",
              "      <td>8.707332</td>\n",
              "      <td>13.121007</td>\n",
              "      <td>15.599079</td>\n",
              "    </tr>\n",
              "    <tr>\n",
              "      <th>std</th>\n",
              "      <td>5.618413</td>\n",
              "      <td>5.267356</td>\n",
              "      <td>5.008450</td>\n",
              "      <td>3.605811</td>\n",
              "      <td>4.936125</td>\n",
              "      <td>3.968683</td>\n",
              "      <td>4.977555</td>\n",
              "      <td>4.499449</td>\n",
              "      <td>4.166872</td>\n",
              "      <td>4.503954</td>\n",
              "      <td>5.835037</td>\n",
              "      <td>6.699794</td>\n",
              "    </tr>\n",
              "    <tr>\n",
              "      <th>min</th>\n",
              "      <td>0.670000</td>\n",
              "      <td>0.210000</td>\n",
              "      <td>1.500000</td>\n",
              "      <td>0.000000</td>\n",
              "      <td>0.130000</td>\n",
              "      <td>0.000000</td>\n",
              "      <td>0.000000</td>\n",
              "      <td>0.000000</td>\n",
              "      <td>0.000000</td>\n",
              "      <td>0.040000</td>\n",
              "      <td>0.130000</td>\n",
              "      <td>0.670000</td>\n",
              "    </tr>\n",
              "    <tr>\n",
              "      <th>25%</th>\n",
              "      <td>8.120000</td>\n",
              "      <td>6.670000</td>\n",
              "      <td>8.000000</td>\n",
              "      <td>3.580000</td>\n",
              "      <td>6.750000</td>\n",
              "      <td>4.000000</td>\n",
              "      <td>6.000000</td>\n",
              "      <td>5.090000</td>\n",
              "      <td>5.370000</td>\n",
              "      <td>5.330000</td>\n",
              "      <td>8.710000</td>\n",
              "      <td>10.710000</td>\n",
              "    </tr>\n",
              "    <tr>\n",
              "      <th>50%</th>\n",
              "      <td>11.710000</td>\n",
              "      <td>10.170000</td>\n",
              "      <td>10.920000</td>\n",
              "      <td>5.750000</td>\n",
              "      <td>9.960000</td>\n",
              "      <td>6.830000</td>\n",
              "      <td>9.210000</td>\n",
              "      <td>8.080000</td>\n",
              "      <td>8.170000</td>\n",
              "      <td>8.290000</td>\n",
              "      <td>12.500000</td>\n",
              "      <td>15.000000</td>\n",
              "    </tr>\n",
              "    <tr>\n",
              "      <th>75%</th>\n",
              "      <td>15.920000</td>\n",
              "      <td>14.040000</td>\n",
              "      <td>14.670000</td>\n",
              "      <td>8.420000</td>\n",
              "      <td>13.540000</td>\n",
              "      <td>9.670000</td>\n",
              "      <td>12.960000</td>\n",
              "      <td>11.420000</td>\n",
              "      <td>11.190000</td>\n",
              "      <td>11.630000</td>\n",
              "      <td>16.880000</td>\n",
              "      <td>19.830000</td>\n",
              "    </tr>\n",
              "    <tr>\n",
              "      <th>max</th>\n",
              "      <td>35.800000</td>\n",
              "      <td>33.370000</td>\n",
              "      <td>33.840000</td>\n",
              "      <td>28.460000</td>\n",
              "      <td>37.540000</td>\n",
              "      <td>26.160000</td>\n",
              "      <td>30.370000</td>\n",
              "      <td>31.080000</td>\n",
              "      <td>25.880000</td>\n",
              "      <td>28.210000</td>\n",
              "      <td>42.380000</td>\n",
              "      <td>42.540000</td>\n",
              "    </tr>\n",
              "  </tbody>\n",
              "</table>\n",
              "</div>\n",
              "    <div class=\"colab-df-buttons\">\n",
              "\n",
              "  <div class=\"colab-df-container\">\n",
              "    <button class=\"colab-df-convert\" onclick=\"convertToInteractive('df-f061a3b4-b792-4503-b454-e7e97fb16f3e')\"\n",
              "            title=\"Convert this dataframe to an interactive table.\"\n",
              "            style=\"display:none;\">\n",
              "\n",
              "  <svg xmlns=\"http://www.w3.org/2000/svg\" height=\"24px\" viewBox=\"0 -960 960 960\">\n",
              "    <path d=\"M120-120v-720h720v720H120Zm60-500h600v-160H180v160Zm220 220h160v-160H400v160Zm0 220h160v-160H400v160ZM180-400h160v-160H180v160Zm440 0h160v-160H620v160ZM180-180h160v-160H180v160Zm440 0h160v-160H620v160Z\"/>\n",
              "  </svg>\n",
              "    </button>\n",
              "\n",
              "  <style>\n",
              "    .colab-df-container {\n",
              "      display:flex;\n",
              "      gap: 12px;\n",
              "    }\n",
              "\n",
              "    .colab-df-convert {\n",
              "      background-color: #E8F0FE;\n",
              "      border: none;\n",
              "      border-radius: 50%;\n",
              "      cursor: pointer;\n",
              "      display: none;\n",
              "      fill: #1967D2;\n",
              "      height: 32px;\n",
              "      padding: 0 0 0 0;\n",
              "      width: 32px;\n",
              "    }\n",
              "\n",
              "    .colab-df-convert:hover {\n",
              "      background-color: #E2EBFA;\n",
              "      box-shadow: 0px 1px 2px rgba(60, 64, 67, 0.3), 0px 1px 3px 1px rgba(60, 64, 67, 0.15);\n",
              "      fill: #174EA6;\n",
              "    }\n",
              "\n",
              "    .colab-df-buttons div {\n",
              "      margin-bottom: 4px;\n",
              "    }\n",
              "\n",
              "    [theme=dark] .colab-df-convert {\n",
              "      background-color: #3B4455;\n",
              "      fill: #D2E3FC;\n",
              "    }\n",
              "\n",
              "    [theme=dark] .colab-df-convert:hover {\n",
              "      background-color: #434B5C;\n",
              "      box-shadow: 0px 1px 3px 1px rgba(0, 0, 0, 0.15);\n",
              "      filter: drop-shadow(0px 1px 2px rgba(0, 0, 0, 0.3));\n",
              "      fill: #FFFFFF;\n",
              "    }\n",
              "  </style>\n",
              "\n",
              "    <script>\n",
              "      const buttonEl =\n",
              "        document.querySelector('#df-f061a3b4-b792-4503-b454-e7e97fb16f3e button.colab-df-convert');\n",
              "      buttonEl.style.display =\n",
              "        google.colab.kernel.accessAllowed ? 'block' : 'none';\n",
              "\n",
              "      async function convertToInteractive(key) {\n",
              "        const element = document.querySelector('#df-f061a3b4-b792-4503-b454-e7e97fb16f3e');\n",
              "        const dataTable =\n",
              "          await google.colab.kernel.invokeFunction('convertToInteractive',\n",
              "                                                    [key], {});\n",
              "        if (!dataTable) return;\n",
              "\n",
              "        const docLinkHtml = 'Like what you see? Visit the ' +\n",
              "          '<a target=\"_blank\" href=https://colab.research.google.com/notebooks/data_table.ipynb>data table notebook</a>'\n",
              "          + ' to learn more about interactive tables.';\n",
              "        element.innerHTML = '';\n",
              "        dataTable['output_type'] = 'display_data';\n",
              "        await google.colab.output.renderOutput(dataTable, element);\n",
              "        const docLink = document.createElement('div');\n",
              "        docLink.innerHTML = docLinkHtml;\n",
              "        element.appendChild(docLink);\n",
              "      }\n",
              "    </script>\n",
              "  </div>\n",
              "\n",
              "\n",
              "<div id=\"df-5d5d1865-45ab-4691-900a-3bb4c4ff5529\">\n",
              "  <button class=\"colab-df-quickchart\" onclick=\"quickchart('df-5d5d1865-45ab-4691-900a-3bb4c4ff5529')\"\n",
              "            title=\"Suggest charts\"\n",
              "            style=\"display:none;\">\n",
              "\n",
              "<svg xmlns=\"http://www.w3.org/2000/svg\" height=\"24px\"viewBox=\"0 0 24 24\"\n",
              "     width=\"24px\">\n",
              "    <g>\n",
              "        <path d=\"M19 3H5c-1.1 0-2 .9-2 2v14c0 1.1.9 2 2 2h14c1.1 0 2-.9 2-2V5c0-1.1-.9-2-2-2zM9 17H7v-7h2v7zm4 0h-2V7h2v10zm4 0h-2v-4h2v4z\"/>\n",
              "    </g>\n",
              "</svg>\n",
              "  </button>\n",
              "\n",
              "<style>\n",
              "  .colab-df-quickchart {\n",
              "      --bg-color: #E8F0FE;\n",
              "      --fill-color: #1967D2;\n",
              "      --hover-bg-color: #E2EBFA;\n",
              "      --hover-fill-color: #174EA6;\n",
              "      --disabled-fill-color: #AAA;\n",
              "      --disabled-bg-color: #DDD;\n",
              "  }\n",
              "\n",
              "  [theme=dark] .colab-df-quickchart {\n",
              "      --bg-color: #3B4455;\n",
              "      --fill-color: #D2E3FC;\n",
              "      --hover-bg-color: #434B5C;\n",
              "      --hover-fill-color: #FFFFFF;\n",
              "      --disabled-bg-color: #3B4455;\n",
              "      --disabled-fill-color: #666;\n",
              "  }\n",
              "\n",
              "  .colab-df-quickchart {\n",
              "    background-color: var(--bg-color);\n",
              "    border: none;\n",
              "    border-radius: 50%;\n",
              "    cursor: pointer;\n",
              "    display: none;\n",
              "    fill: var(--fill-color);\n",
              "    height: 32px;\n",
              "    padding: 0;\n",
              "    width: 32px;\n",
              "  }\n",
              "\n",
              "  .colab-df-quickchart:hover {\n",
              "    background-color: var(--hover-bg-color);\n",
              "    box-shadow: 0 1px 2px rgba(60, 64, 67, 0.3), 0 1px 3px 1px rgba(60, 64, 67, 0.15);\n",
              "    fill: var(--button-hover-fill-color);\n",
              "  }\n",
              "\n",
              "  .colab-df-quickchart-complete:disabled,\n",
              "  .colab-df-quickchart-complete:disabled:hover {\n",
              "    background-color: var(--disabled-bg-color);\n",
              "    fill: var(--disabled-fill-color);\n",
              "    box-shadow: none;\n",
              "  }\n",
              "\n",
              "  .colab-df-spinner {\n",
              "    border: 2px solid var(--fill-color);\n",
              "    border-color: transparent;\n",
              "    border-bottom-color: var(--fill-color);\n",
              "    animation:\n",
              "      spin 1s steps(1) infinite;\n",
              "  }\n",
              "\n",
              "  @keyframes spin {\n",
              "    0% {\n",
              "      border-color: transparent;\n",
              "      border-bottom-color: var(--fill-color);\n",
              "      border-left-color: var(--fill-color);\n",
              "    }\n",
              "    20% {\n",
              "      border-color: transparent;\n",
              "      border-left-color: var(--fill-color);\n",
              "      border-top-color: var(--fill-color);\n",
              "    }\n",
              "    30% {\n",
              "      border-color: transparent;\n",
              "      border-left-color: var(--fill-color);\n",
              "      border-top-color: var(--fill-color);\n",
              "      border-right-color: var(--fill-color);\n",
              "    }\n",
              "    40% {\n",
              "      border-color: transparent;\n",
              "      border-right-color: var(--fill-color);\n",
              "      border-top-color: var(--fill-color);\n",
              "    }\n",
              "    60% {\n",
              "      border-color: transparent;\n",
              "      border-right-color: var(--fill-color);\n",
              "    }\n",
              "    80% {\n",
              "      border-color: transparent;\n",
              "      border-right-color: var(--fill-color);\n",
              "      border-bottom-color: var(--fill-color);\n",
              "    }\n",
              "    90% {\n",
              "      border-color: transparent;\n",
              "      border-bottom-color: var(--fill-color);\n",
              "    }\n",
              "  }\n",
              "</style>\n",
              "\n",
              "  <script>\n",
              "    async function quickchart(key) {\n",
              "      const quickchartButtonEl =\n",
              "        document.querySelector('#' + key + ' button');\n",
              "      quickchartButtonEl.disabled = true;  // To prevent multiple clicks.\n",
              "      quickchartButtonEl.classList.add('colab-df-spinner');\n",
              "      try {\n",
              "        const charts = await google.colab.kernel.invokeFunction(\n",
              "            'suggestCharts', [key], {});\n",
              "      } catch (error) {\n",
              "        console.error('Error during call to suggestCharts:', error);\n",
              "      }\n",
              "      quickchartButtonEl.classList.remove('colab-df-spinner');\n",
              "      quickchartButtonEl.classList.add('colab-df-quickchart-complete');\n",
              "    }\n",
              "    (() => {\n",
              "      let quickchartButtonEl =\n",
              "        document.querySelector('#df-5d5d1865-45ab-4691-900a-3bb4c4ff5529 button');\n",
              "      quickchartButtonEl.style.display =\n",
              "        google.colab.kernel.accessAllowed ? 'block' : 'none';\n",
              "    })();\n",
              "  </script>\n",
              "</div>\n",
              "\n",
              "  <div id=\"id_0cdf683f-31d2-46b6-b49a-72213003aa93\">\n",
              "    <style>\n",
              "      .colab-df-generate {\n",
              "        background-color: #E8F0FE;\n",
              "        border: none;\n",
              "        border-radius: 50%;\n",
              "        cursor: pointer;\n",
              "        display: none;\n",
              "        fill: #1967D2;\n",
              "        height: 32px;\n",
              "        padding: 0 0 0 0;\n",
              "        width: 32px;\n",
              "      }\n",
              "\n",
              "      .colab-df-generate:hover {\n",
              "        background-color: #E2EBFA;\n",
              "        box-shadow: 0px 1px 2px rgba(60, 64, 67, 0.3), 0px 1px 3px 1px rgba(60, 64, 67, 0.15);\n",
              "        fill: #174EA6;\n",
              "      }\n",
              "\n",
              "      [theme=dark] .colab-df-generate {\n",
              "        background-color: #3B4455;\n",
              "        fill: #D2E3FC;\n",
              "      }\n",
              "\n",
              "      [theme=dark] .colab-df-generate:hover {\n",
              "        background-color: #434B5C;\n",
              "        box-shadow: 0px 1px 3px 1px rgba(0, 0, 0, 0.15);\n",
              "        filter: drop-shadow(0px 1px 2px rgba(0, 0, 0, 0.3));\n",
              "        fill: #FFFFFF;\n",
              "      }\n",
              "    </style>\n",
              "    <button class=\"colab-df-generate\" onclick=\"generateWithVariable('loc_stats')\"\n",
              "            title=\"Generate code using this dataframe.\"\n",
              "            style=\"display:none;\">\n",
              "\n",
              "  <svg xmlns=\"http://www.w3.org/2000/svg\" height=\"24px\"viewBox=\"0 0 24 24\"\n",
              "       width=\"24px\">\n",
              "    <path d=\"M7,19H8.4L18.45,9,17,7.55,7,17.6ZM5,21V16.75L18.45,3.32a2,2,0,0,1,2.83,0l1.4,1.43a1.91,1.91,0,0,1,.58,1.4,1.91,1.91,0,0,1-.58,1.4L9.25,21ZM18.45,9,17,7.55Zm-12,3A5.31,5.31,0,0,0,4.9,8.1,5.31,5.31,0,0,0,1,6.5,5.31,5.31,0,0,0,4.9,4.9,5.31,5.31,0,0,0,6.5,1,5.31,5.31,0,0,0,8.1,4.9,5.31,5.31,0,0,0,12,6.5,5.46,5.46,0,0,0,6.5,12Z\"/>\n",
              "  </svg>\n",
              "    </button>\n",
              "    <script>\n",
              "      (() => {\n",
              "      const buttonEl =\n",
              "        document.querySelector('#id_0cdf683f-31d2-46b6-b49a-72213003aa93 button.colab-df-generate');\n",
              "      buttonEl.style.display =\n",
              "        google.colab.kernel.accessAllowed ? 'block' : 'none';\n",
              "\n",
              "      buttonEl.onclick = () => {\n",
              "        google.colab.notebook.generateWithVariable('loc_stats');\n",
              "      }\n",
              "      })();\n",
              "    </script>\n",
              "  </div>\n",
              "\n",
              "    </div>\n",
              "  </div>\n"
            ],
            "application/vnd.google.colaboratory.intrinsic+json": {
              "type": "dataframe",
              "variable_name": "loc_stats",
              "summary": "{\n  \"name\": \"loc_stats\",\n  \"rows\": 8,\n  \"fields\": [\n    {\n      \"column\": \"RPT\",\n      \"properties\": {\n        \"dtype\": \"number\",\n        \"std\": 2317.6062548661657,\n        \"min\": 0.67,\n        \"max\": 6568.0,\n        \"num_unique_values\": 8,\n        \"samples\": [\n          12.362987210718636,\n          11.71,\n          6568.0\n        ],\n        \"semantic_type\": \"\",\n        \"description\": \"\"\n      }\n    },\n    {\n      \"column\": \"VAL\",\n      \"properties\": {\n        \"dtype\": \"number\",\n        \"std\": 2319.160794919598,\n        \"min\": 0.21,\n        \"max\": 6571.0,\n        \"num_unique_values\": 8,\n        \"samples\": [\n          10.644314411809468,\n          10.17,\n          6571.0\n        ],\n        \"semantic_type\": \"\",\n        \"description\": \"\"\n      }\n    },\n    {\n      \"column\": \"ROS\",\n      \"properties\": {\n        \"dtype\": \"number\",\n        \"std\": 2319.2498136549743,\n        \"min\": 1.5,\n        \"max\": 6572.0,\n        \"num_unique_values\": 8,\n        \"samples\": [\n          11.660526475958614,\n          10.92,\n          6572.0\n        ],\n        \"semantic_type\": \"\",\n        \"description\": \"\"\n      }\n    },\n    {\n      \"column\": \"KIL\",\n      \"properties\": {\n        \"dtype\": \"number\",\n        \"std\": 2319.673926225712,\n        \"min\": 0.0,\n        \"max\": 6569.0,\n        \"num_unique_values\": 8,\n        \"samples\": [\n          6.306468260009134,\n          5.75,\n          6569.0\n        ],\n        \"semantic_type\": \"\",\n        \"description\": \"\"\n      }\n    },\n    {\n      \"column\": \"SHA\",\n      \"properties\": {\n        \"dtype\": \"number\",\n        \"std\": 2319.372079281237,\n        \"min\": 0.13,\n        \"max\": 6572.0,\n        \"num_unique_values\": 8,\n        \"samples\": [\n          10.455833840535604,\n          9.96,\n          6572.0\n        ],\n        \"semantic_type\": \"\",\n        \"description\": \"\"\n      }\n    },\n    {\n      \"column\": \"BIR\",\n      \"properties\": {\n        \"dtype\": \"number\",\n        \"std\": 2321.357891711831,\n        \"min\": 0.0,\n        \"max\": 6574.0,\n        \"num_unique_values\": 8,\n        \"samples\": [\n          7.092254335260115,\n          6.83,\n          6574.0\n        ],\n        \"semantic_type\": \"\",\n        \"description\": \"\"\n      }\n    },\n    {\n      \"column\": \"DUB\",\n      \"properties\": {\n        \"dtype\": \"number\",\n        \"std\": 2319.5137368937853,\n        \"min\": 0.0,\n        \"max\": 6571.0,\n        \"num_unique_values\": 8,\n        \"samples\": [\n          9.797342870187187,\n          9.21,\n          6571.0\n        ],\n        \"semantic_type\": \"\",\n        \"description\": \"\"\n      }\n    },\n    {\n      \"column\": \"CLA\",\n      \"properties\": {\n        \"dtype\": \"number\",\n        \"std\": 2320.103472423333,\n        \"min\": 0.0,\n        \"max\": 6572.0,\n        \"num_unique_values\": 8,\n        \"samples\": [\n          8.495053256238588,\n          8.08,\n          6572.0\n        ],\n        \"semantic_type\": \"\",\n        \"description\": \"\"\n      }\n    },\n    {\n      \"column\": \"MUL\",\n      \"properties\": {\n        \"dtype\": \"number\",\n        \"std\": 2320.016256376891,\n        \"min\": 0.0,\n        \"max\": 6571.0,\n        \"num_unique_values\": 8,\n        \"samples\": [\n          8.493590016740221,\n          8.17,\n          6571.0\n        ],\n        \"semantic_type\": \"\",\n        \"description\": \"\"\n      }\n    },\n    {\n      \"column\": \"CLO\",\n      \"properties\": {\n        \"dtype\": \"number\",\n        \"std\": 2320.552044964535,\n        \"min\": 0.04,\n        \"max\": 6573.0,\n        \"num_unique_values\": 8,\n        \"samples\": [\n          8.707331507682946,\n          8.29,\n          6573.0\n        ],\n        \"semantic_type\": \"\",\n        \"description\": \"\"\n      }\n    },\n    {\n      \"column\": \"BEL\",\n      \"properties\": {\n        \"dtype\": \"number\",\n        \"std\": 2319.265633595314,\n        \"min\": 0.13,\n        \"max\": 6574.0,\n        \"num_unique_values\": 8,\n        \"samples\": [\n          13.121006997261942,\n          12.5,\n          6574.0\n        ],\n        \"semantic_type\": \"\",\n        \"description\": \"\"\n      }\n    },\n    {\n      \"column\": \"MAL\",\n      \"properties\": {\n        \"dtype\": \"number\",\n        \"std\": 2317.2699299309747,\n        \"min\": 0.67,\n        \"max\": 6570.0,\n        \"num_unique_values\": 8,\n        \"samples\": [\n          15.599079147640794,\n          15.0,\n          6570.0\n        ],\n        \"semantic_type\": \"\",\n        \"description\": \"\"\n      }\n    }\n  ]\n}"
            }
          },
          "metadata": {},
          "execution_count": 8
        }
      ],
      "source": [
        "loc_stats = data.describe()\n",
        "loc_stats"
      ]
    },
    {
      "cell_type": "markdown",
      "metadata": {
        "id": "CSHDBm_Z0Hcv"
      },
      "source": [
        "### Step 10. Create a DataFrame called day_stats and calculate the min, max and mean windspeed and standard deviations of the windspeeds across all the locations at each day.\n",
        "\n",
        "#### A different set of numbers for each day."
      ]
    },
    {
      "cell_type": "code",
      "execution_count": 17,
      "metadata": {
        "colab": {
          "base_uri": "https://localhost:8080/"
        },
        "id": "6gY50oTZ0Hcv",
        "outputId": "61a78fd2-abd0-46da-c5d5-424d8ade770f"
      },
      "outputs": [
        {
          "output_type": "stream",
          "name": "stdout",
          "text": [
            "            min_windspeed  max_windspeed  mean_windspeed  std_windspeed\n",
            "Yr_Mo_Dy                                                               \n",
            "2061-01-01           9.29          18.50       12.816000       2.875205\n",
            "2061-01-02           6.50          17.54       10.999000       3.147791\n",
            "2061-01-03           6.17          16.88       10.956000       3.051896\n",
            "2061-01-04           1.79          11.75        6.259091       3.088587\n",
            "2061-01-05           6.17          13.25       10.384545       2.404676\n",
            "...                   ...            ...             ...            ...\n",
            "1978-12-27           8.08          40.08       16.629091       8.247084\n",
            "1978-12-28           5.00          41.46       15.326364      10.140485\n",
            "1978-12-29           8.71          29.58       14.970909       6.030661\n",
            "1978-12-30           9.13          28.79       15.082727       5.718009\n",
            "1978-12-31           9.59          27.29       14.954545       5.755118\n",
            "\n",
            "[6574 rows x 4 columns]\n"
          ]
        }
      ],
      "source": [
        "windspeed_data = data.iloc[:, 1:]\n",
        "\n",
        "# Calculate daily statistics\n",
        "day_stats = pd.DataFrame({\n",
        "    'min_windspeed': windspeed_data.min(axis=1),\n",
        "    'max_windspeed': windspeed_data.max(axis=1),\n",
        "    'mean_windspeed': windspeed_data.mean(axis=1),\n",
        "    'std_windspeed': windspeed_data.std(axis=1)\n",
        "})\n",
        "\n",
        "# Display the first few rows of day_stats\n",
        "print(day_stats)\n"
      ]
    },
    {
      "cell_type": "markdown",
      "metadata": {
        "id": "sFwR6pyV0Hcv"
      },
      "source": [
        "### Step 11. Find the average windspeed in January for each location.  \n",
        "#### Treat January 1961 and January 1962 both as January."
      ]
    },
    {
      "cell_type": "code",
      "execution_count": 18,
      "metadata": {
        "colab": {
          "base_uri": "https://localhost:8080/"
        },
        "id": "pajnjxZM0Hcw",
        "outputId": "e14e997e-0e03-4a25-aa22-2edf90a0268f"
      },
      "outputs": [
        {
          "output_type": "stream",
          "name": "stdout",
          "text": [
            "RPT    14.847325\n",
            "VAL    12.914560\n",
            "ROS    13.299624\n",
            "KIL     7.199498\n",
            "SHA    11.667734\n",
            "BIR     8.054839\n",
            "DUB    11.819355\n",
            "CLA     9.512047\n",
            "MUL     9.543208\n",
            "CLO    10.053566\n",
            "BEL    14.550520\n",
            "MAL    18.028763\n",
            "dtype: float64\n"
          ]
        }
      ],
      "source": [
        "# Filter rows for January\n",
        "january_data = data[data.index.month == 1]\n",
        "\n",
        "# Calculate the average windspeed for January for each location\n",
        "avg_jan_windspeed = january_data.mean()\n",
        "\n",
        "# Display the result\n",
        "print(avg_jan_windspeed)\n"
      ]
    },
    {
      "cell_type": "markdown",
      "metadata": {
        "id": "qdbjS5iI0Hcw"
      },
      "source": [
        "### Step 12. Downsample the record to a yearly frequency for each location."
      ]
    },
    {
      "cell_type": "code",
      "execution_count": 19,
      "metadata": {
        "colab": {
          "base_uri": "https://localhost:8080/"
        },
        "id": "D5eruEs90Hcx",
        "outputId": "73cf5272-2f6b-47cf-ac15-fc12b73731c7"
      },
      "outputs": [
        {
          "output_type": "stream",
          "name": "stdout",
          "text": [
            "                  RPT        VAL        ROS       KIL        SHA       BIR  \\\n",
            "Yr_Mo_Dy                                                                     \n",
            "1974-12-31  13.643096  11.811781  12.336356  6.427041  11.110986  6.809781   \n",
            "1975-12-31  12.008575  10.293836  11.564712  5.269096   9.190082  5.668521   \n",
            "1976-12-31  11.737842  10.203115  10.761230  5.109426   8.846339  6.311038   \n",
            "1977-12-31  13.099616  11.144493  12.627836  6.073945  10.003836  8.586438   \n",
            "1978-12-31  12.504356  11.044274  11.380000  6.082356  10.167233  7.650658   \n",
            "...               ...        ...        ...       ...        ...       ...   \n",
            "2069-12-31  11.166356   9.723699  10.902000  5.767973   9.873918  6.189973   \n",
            "2070-12-31  12.600329  10.726932  11.730247  6.217178  10.567370  7.609452   \n",
            "2071-12-31  11.273123   9.095178  11.088329  5.241507   9.440329  6.097151   \n",
            "2072-12-31  12.463962  10.561311  12.058333  5.929699   9.430410  6.358825   \n",
            "2073-12-31  11.828466  10.680493  10.680493  5.547863   9.640877  6.548740   \n",
            "\n",
            "                  DUB       CLA       MUL       CLO        BEL        MAL  \n",
            "Yr_Mo_Dy                                                                   \n",
            "1974-12-31  10.084603  9.896986  9.331753  8.736356  13.252959  16.947671  \n",
            "1975-12-31   8.562603  7.843836  8.797945  7.382822  12.631671  15.307863  \n",
            "1976-12-31   9.149126  7.146202  8.883716  7.883087  12.332377  15.471448  \n",
            "1977-12-31  11.523205  8.378384  9.098192  8.821616  13.459068  16.590849  \n",
            "1978-12-31   9.489342  8.800466  9.089753  8.301699  12.967397  16.771370  \n",
            "...               ...       ...       ...       ...        ...        ...  \n",
            "2069-12-31   8.564493  7.711397  7.924521  7.754384  12.621233  15.762904  \n",
            "2070-12-31   9.609890  8.334630  9.297616  8.289808  13.183644  16.456027  \n",
            "2071-12-31   8.385890  6.757315  7.915370  7.229753  12.208932  15.025233  \n",
            "2072-12-31   9.704508  7.680792  8.357295  7.515273  12.727377  15.028716  \n",
            "2073-12-31   8.482110  7.614274  8.245534  7.812411  12.169699  15.441096  \n",
            "\n",
            "[100 rows x 12 columns]\n"
          ]
        },
        {
          "output_type": "stream",
          "name": "stderr",
          "text": [
            "<ipython-input-19-0f3a73f404df>:2: FutureWarning: 'Y' is deprecated and will be removed in a future version, please use 'YE' instead.\n",
            "  yearly_data = data.resample('Y').mean()\n"
          ]
        }
      ],
      "source": [
        "# Downsample the data to yearly frequency, calculating the mean for each year\n",
        "yearly_data = data.resample('Y').mean()\n",
        "\n",
        "# Display the yearly data\n",
        "print(yearly_data)\n"
      ]
    },
    {
      "cell_type": "markdown",
      "metadata": {
        "id": "AN0aP64g0Hcx"
      },
      "source": [
        "### Step 13. Downsample the record to a monthly frequency for each location."
      ]
    },
    {
      "cell_type": "code",
      "execution_count": 20,
      "metadata": {
        "colab": {
          "base_uri": "https://localhost:8080/"
        },
        "id": "55Krne5H0Hcy",
        "outputId": "b9dcb66e-af83-44f3-f8ba-999766937aca"
      },
      "outputs": [
        {
          "output_type": "stream",
          "name": "stdout",
          "text": [
            "                  RPT        VAL        ROS        KIL        SHA        BIR  \\\n",
            "Yr_Mo_Dy                                                                       \n",
            "1974-01-31  20.990968  17.623548  17.514839  10.549355  15.858387  11.298387   \n",
            "1974-02-28  13.576071  12.451786  11.263571   6.103929  10.590357   6.516429   \n",
            "1974-03-31  11.156129  10.725484  12.019355   5.743226   9.576452   5.892903   \n",
            "1974-04-30   9.481000   6.919667  12.099333   4.061000   7.659000   4.046333   \n",
            "1974-05-31  13.381290  11.769677  12.355484   6.656452  10.874194   6.481290   \n",
            "...               ...        ...        ...        ...        ...        ...   \n",
            "2073-08-31   8.955161   7.868710   8.996774   4.396129   7.860645   4.989355   \n",
            "2073-09-30  11.632667  10.963667  11.634667   5.194333   9.100333   5.730667   \n",
            "2073-10-31  11.531935   9.858710  11.535161   4.356452   8.773226   5.189677   \n",
            "2073-11-30  11.540667  10.868000  10.613000   5.385000  10.463667   6.147333   \n",
            "2073-12-31  13.670000  12.086774  11.278065   5.619355  10.672581   6.914516   \n",
            "\n",
            "                  DUB        CLA        MUL        CLO        BEL        MAL  \n",
            "Yr_Mo_Dy                                                                      \n",
            "1974-01-31  14.112258  12.786452  14.691935  15.092903  19.929677  24.573226  \n",
            "1974-02-28   9.818929   8.578929   9.212857   9.045000  12.172143  16.891786  \n",
            "1974-03-31   8.520000   9.039032   8.339032   7.626774  11.234516  15.141613  \n",
            "1974-04-30   5.438667   7.609333   6.058667   5.024000   7.983333   9.898000  \n",
            "1974-05-31   9.680645  10.810645   8.830323   9.624516  13.319032  16.006774  \n",
            "...               ...        ...        ...        ...        ...        ...  \n",
            "2073-08-31   6.051290   5.173548   6.171935   5.745161  10.512258  12.328710  \n",
            "2073-09-30   7.053000   7.048333   6.911667   6.111667  12.149667  13.966667  \n",
            "2073-10-31   6.455806   7.140000   6.254516   6.890323  10.758387  14.955484  \n",
            "2073-11-30   7.525667   7.619667   8.378333   8.311333  11.499333  18.441000  \n",
            "2073-12-31  10.841290   8.516129   9.311613   9.702581  13.274194  19.728387  \n",
            "\n",
            "[1200 rows x 12 columns]\n"
          ]
        },
        {
          "output_type": "stream",
          "name": "stderr",
          "text": [
            "<ipython-input-20-000120f52ba2>:2: FutureWarning: 'M' is deprecated and will be removed in a future version, please use 'ME' instead.\n",
            "  monthly_data = data.resample('M').mean()\n"
          ]
        }
      ],
      "source": [
        "# Downsample the data to monthly frequency, calculating the mean for each month\n",
        "monthly_data = data.resample('M').mean()\n",
        "\n",
        "# Display the monthly data\n",
        "print(monthly_data)\n"
      ]
    },
    {
      "cell_type": "markdown",
      "metadata": {
        "id": "VxeYDsI10Hcy"
      },
      "source": [
        "### Step 14. Downsample the record to a weekly frequency for each location."
      ]
    },
    {
      "cell_type": "code",
      "execution_count": 21,
      "metadata": {
        "colab": {
          "base_uri": "https://localhost:8080/"
        },
        "id": "4zVYNVVF0Hcz",
        "outputId": "e00d2ba2-dd2a-4426-af24-87eb798ed216"
      },
      "outputs": [
        {
          "output_type": "stream",
          "name": "stdout",
          "text": [
            "                  RPT        VAL        ROS        KIL        SHA        BIR  \\\n",
            "Yr_Mo_Dy                                                                       \n",
            "1974-01-06  23.655000  16.278333  20.560000  12.075000  15.348333  12.673333   \n",
            "1974-01-13  21.450000  19.514286  17.290000  11.137143  17.608571  11.971429   \n",
            "1974-01-20  21.335714  19.190000  16.964286   9.992857  17.074286  11.382857   \n",
            "1974-01-27  17.612857  15.737143  14.915714   8.802857  13.285714   9.658571   \n",
            "1974-02-03  20.007143  16.865714  17.445714  10.608571  15.530000  10.611429   \n",
            "...               ...        ...        ...        ...        ...        ...   \n",
            "2073-12-03  11.661429  10.261429  10.628571   4.364286   9.871429   5.492857   \n",
            "2073-12-10  15.694286  12.995714  12.791429   6.320000  11.505714   8.112857   \n",
            "2073-12-17  16.344286  14.101429  11.411429   8.208571  13.975714   8.802857   \n",
            "2073-12-24  12.392857  11.960000  10.768571   3.892857   8.131429   3.692857   \n",
            "2073-12-31  11.060000  10.392857  10.272857   4.714286   9.727143   7.328571   \n",
            "\n",
            "                  DUB        CLA        MUL        CLO        BEL        MAL  \n",
            "Yr_Mo_Dy                                                                      \n",
            "1974-01-06  12.596667  12.833333  16.118333  17.248333  18.036667  24.450000  \n",
            "1974-01-13  14.857143  13.392857  14.938571  15.547143  22.870000  25.210000  \n",
            "1974-01-20  15.731429  13.565714  14.878571  14.397143  21.941429  26.510000  \n",
            "1974-01-27  12.470000  11.328571  12.655714  12.832857  16.857143  20.892857  \n",
            "1974-02-03  14.541429  12.344286  14.465714  14.528571  17.280000  23.570000  \n",
            "...               ...        ...        ...        ...        ...        ...  \n",
            "2073-12-03   7.125714   7.052857   6.977143   5.842857  10.535714  14.047143  \n",
            "2073-12-10  11.882857   9.108571   9.885714  10.530000  13.750000  20.047143  \n",
            "2073-12-17  15.197143  11.102857  12.381429  13.410000  16.552857  26.521429  \n",
            "2073-12-24   6.232857   5.584286   6.428571   6.214286   8.862857  13.075714  \n",
            "2073-12-31  10.298571   8.632857   9.340000   9.744286  14.678571  20.182857  \n",
            "\n",
            "[5218 rows x 12 columns]\n"
          ]
        }
      ],
      "source": [
        "# Downsample the data to weekly frequency, calculating the mean for each week\n",
        "weekly_data = data.resample('W').mean()\n",
        "\n",
        "# Display the weekly data\n",
        "print(weekly_data)\n"
      ]
    },
    {
      "cell_type": "markdown",
      "metadata": {
        "id": "cPBkoMyb0Hc0"
      },
      "source": [
        "### Step 15. Calculate the min, max and mean windspeeds and standard deviations of the windspeeds across all locations for each week (assume that the first week starts on January 2 1961) for the first 52 weeks."
      ]
    },
    {
      "cell_type": "code",
      "execution_count": 23,
      "metadata": {
        "colab": {
          "base_uri": "https://localhost:8080/"
        },
        "id": "lMx1k7BJ0Hc1",
        "outputId": "c145c139-833b-437d-edc7-66de6433e2b2"
      },
      "outputs": [
        {
          "output_type": "stream",
          "name": "stdout",
          "text": [
            "            min_windspeed  max_windspeed  mean_windspeed  std_windspeed\n",
            "Yr_Mo_Dy                                                               \n",
            "1974-01-07      11.665714      23.148571       16.312381       4.078631\n",
            "1974-01-14      11.505714      25.964286       17.586667       4.483078\n",
            "1974-01-21       8.940000      24.992857       15.646190       4.381543\n",
            "1974-01-28       9.968571      25.005714       15.757262       4.109858\n",
            "1974-02-04       9.391429      20.594286       13.909524       3.419341\n",
            "1974-02-11       8.358571      20.732857       13.820000       3.999873\n",
            "1974-02-18       6.295714      15.200000       10.482738       2.863044\n",
            "1974-02-25       3.405714      15.298571        7.247738       3.047709\n",
            "1974-03-04       3.804286      13.647143        7.765476       2.855588\n",
            "1974-03-11       6.405714      19.398571       11.503929       3.490894\n",
            "1974-03-18       7.301429      17.411429       11.736190       2.904195\n",
            "1974-03-25       5.644286      15.268571        9.810119       2.592617\n",
            "1974-04-01       3.338571       9.862857        6.611190       2.363740\n",
            "1974-04-08       5.291429      13.952857        8.593690       2.770932\n",
            "1974-04-15       3.612857      12.400000        7.812738       2.654845\n",
            "1974-04-22       1.858571       8.027143        4.574405       2.022717\n",
            "1974-04-29       2.702857      14.017143        6.452619       2.933705\n",
            "1974-05-06       5.952857      13.671429        9.635119       2.484235\n",
            "1974-05-13       8.418571      18.995714       13.265357       3.225541\n",
            "1974-05-20       6.332857      16.601429       11.195952       3.334130\n",
            "1974-05-27       6.291429      17.404286       10.959167       3.237110\n",
            "1974-06-03       5.031429      16.387143        9.637976       3.080009\n",
            "1974-06-10       6.930000      17.447143       11.360238       3.058615\n",
            "1974-06-17       3.825714      10.714286        6.793095       2.154065\n",
            "1974-06-24       4.952857      12.891429        9.589167       2.543839\n",
            "1974-07-01       4.315714      12.840000        7.862381       2.415353\n",
            "1974-07-08       5.638571      12.742857        9.780238       2.457064\n",
            "1974-07-15       6.088571      15.590000       10.797143       2.942358\n",
            "1974-07-22       6.262857      19.944286       10.791667       3.715661\n",
            "1974-07-29       5.484286      14.911429        9.468571       2.696187\n",
            "1974-08-05       3.904286      10.965714        6.948095       2.571893\n",
            "1974-08-12       5.567143      16.160000        9.969048       2.901602\n",
            "1974-08-19       4.582857      14.007143        8.843452       2.700153\n",
            "1974-08-26       5.030000      15.742857       10.306071       3.138534\n",
            "1974-09-02       4.862857      13.100000        8.955952       2.711635\n",
            "1974-09-09       7.035714      17.892857       11.524881       3.554579\n",
            "1974-09-16       5.261429      15.358571        9.430357       2.815869\n",
            "1974-09-23       6.177143      21.622857       11.576905       4.347597\n",
            "1974-09-30       5.244286      13.964286        9.337857       3.167877\n",
            "1974-10-07       6.320000      21.982857       11.811786       4.540213\n",
            "1974-10-14       3.351429      14.802857        7.632976       3.358439\n",
            "1974-10-21       5.440000      16.971429        9.950952       3.730990\n",
            "1974-10-28       7.565714      24.325714       12.799286       4.399781\n",
            "1974-11-04       5.482857      14.154286        9.341905       2.772106\n",
            "1974-11-11       6.672857      21.988571       12.577619       4.075922\n",
            "1974-11-18       5.417143      16.492857        9.560476       3.157202\n",
            "1974-11-25       5.264286      15.860000       10.007619       3.147569\n",
            "1974-12-02       6.940000      21.417143       12.750714       3.807026\n",
            "1974-12-09       7.881429      24.432857       14.623095       4.470852\n",
            "1974-12-16       9.617143      23.811429       15.243571       3.963004\n",
            "1974-12-23      11.978571      27.322857       18.649167       4.355915\n",
            "1974-12-30       9.761429      22.452857       15.873810       3.770803\n"
          ]
        }
      ],
      "source": [
        "# Resample to weekly frequency, starting the week on January 2, 1961 (Monday)\n",
        "weekly_data = data.resample('W-MON', origin='1961-01-02').mean()\n",
        "\n",
        "# Limit to the first 52 weeks\n",
        "weekly_data_52 = weekly_data.head(52)\n",
        "\n",
        "# Calculate min, max, mean, and standard deviation across all locations for each week\n",
        "weekly_stats = pd.DataFrame({\n",
        "    'min_windspeed': weekly_data_52.min(axis=1),\n",
        "    'max_windspeed': weekly_data_52.max(axis=1),\n",
        "    'mean_windspeed': weekly_data_52.mean(axis=1),\n",
        "    'std_windspeed': weekly_data_52.std(axis=1),\n",
        "})\n",
        "\n",
        "# Display the result\n",
        "print(weekly_stats)\n"
      ]
    },
    {
      "cell_type": "code",
      "source": [],
      "metadata": {
        "id": "E5JYlExi4WN9"
      },
      "execution_count": null,
      "outputs": []
    }
  ],
  "metadata": {
    "anaconda-cloud": {},
    "kernelspec": {
      "display_name": "Python 3",
      "name": "python3"
    },
    "language_info": {
      "name": "python"
    },
    "colab": {
      "provenance": [],
      "include_colab_link": true
    }
  },
  "nbformat": 4,
  "nbformat_minor": 0
}
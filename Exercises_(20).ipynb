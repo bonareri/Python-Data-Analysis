{
  "cells": [
    {
      "cell_type": "markdown",
      "metadata": {
        "id": "view-in-github",
        "colab_type": "text"
      },
      "source": [
        "<a href=\"https://colab.research.google.com/github/bonareri/Python-Data-Analysis/blob/main/Exercises_(20).ipynb\" target=\"_parent\"><img src=\"https://colab.research.google.com/assets/colab-badge.svg\" alt=\"Open In Colab\"/></a>"
      ]
    },
    {
      "cell_type": "markdown",
      "metadata": {
        "id": "w02acZBQ-b1l"
      },
      "source": [
        "# Investor - Flow of Funds - US"
      ]
    },
    {
      "cell_type": "markdown",
      "metadata": {
        "id": "ozv1p2_c-b1o"
      },
      "source": [
        "### Introduction:\n",
        "\n",
        "Special thanks to: https://github.com/rgrp for sharing the dataset.\n",
        "\n",
        "### Step 1. Import the necessary libraries"
      ]
    },
    {
      "cell_type": "code",
      "execution_count": 2,
      "metadata": {
        "id": "SmUTimds-b1p"
      },
      "outputs": [],
      "source": [
        "#importing the libraries\n",
        "import pandas as pd\n",
        "import numpy as np"
      ]
    },
    {
      "cell_type": "markdown",
      "metadata": {
        "id": "-W_KUQoV-b1q"
      },
      "source": [
        "### Step 2. Import the dataset from this [address](https://raw.githubusercontent.com/datasets/investor-flow-of-funds-us/master/data/weekly.csv)."
      ]
    },
    {
      "cell_type": "markdown",
      "metadata": {
        "id": "CRiYqjY_-b1q"
      },
      "source": [
        "### Step 3. Assign it to a variable called"
      ]
    },
    {
      "cell_type": "code",
      "execution_count": 12,
      "metadata": {
        "colab": {
          "base_uri": "https://localhost:8080/",
          "height": 206
        },
        "id": "RcfJpAHJ-b1r",
        "outputId": "6256d157-55d5-4c78-ba4a-6de8e805d147"
      },
      "outputs": [
        {
          "output_type": "execute_result",
          "data": {
            "text/plain": [
              "         Date  Total Equity  Domestic Equity  World Equity  Hybrid  \\\n",
              "0  2012-12-05         -7426            -6060         -1367     -74   \n",
              "1  2012-12-12         -8783            -7520         -1263     123   \n",
              "2  2012-12-19         -5496            -5470           -26     -73   \n",
              "3  2012-12-26         -4451            -4076          -375     550   \n",
              "4  2013-01-02        -11156            -9622         -1533    -158   \n",
              "\n",
              "   Total Bond  Taxable Bond  Municipal Bond  Total  \n",
              "0        5317          4210            1107  -2183  \n",
              "1        1818          1598             219  -6842  \n",
              "2         103          3472           -3369  -5466  \n",
              "3        2610          3333            -722  -1291  \n",
              "4        2383          2103             280  -8931  "
            ],
            "text/html": [
              "\n",
              "  <div id=\"df-67b0592e-cc41-45e3-956d-572fe21b094e\" class=\"colab-df-container\">\n",
              "    <div>\n",
              "<style scoped>\n",
              "    .dataframe tbody tr th:only-of-type {\n",
              "        vertical-align: middle;\n",
              "    }\n",
              "\n",
              "    .dataframe tbody tr th {\n",
              "        vertical-align: top;\n",
              "    }\n",
              "\n",
              "    .dataframe thead th {\n",
              "        text-align: right;\n",
              "    }\n",
              "</style>\n",
              "<table border=\"1\" class=\"dataframe\">\n",
              "  <thead>\n",
              "    <tr style=\"text-align: right;\">\n",
              "      <th></th>\n",
              "      <th>Date</th>\n",
              "      <th>Total Equity</th>\n",
              "      <th>Domestic Equity</th>\n",
              "      <th>World Equity</th>\n",
              "      <th>Hybrid</th>\n",
              "      <th>Total Bond</th>\n",
              "      <th>Taxable Bond</th>\n",
              "      <th>Municipal Bond</th>\n",
              "      <th>Total</th>\n",
              "    </tr>\n",
              "  </thead>\n",
              "  <tbody>\n",
              "    <tr>\n",
              "      <th>0</th>\n",
              "      <td>2012-12-05</td>\n",
              "      <td>-7426</td>\n",
              "      <td>-6060</td>\n",
              "      <td>-1367</td>\n",
              "      <td>-74</td>\n",
              "      <td>5317</td>\n",
              "      <td>4210</td>\n",
              "      <td>1107</td>\n",
              "      <td>-2183</td>\n",
              "    </tr>\n",
              "    <tr>\n",
              "      <th>1</th>\n",
              "      <td>2012-12-12</td>\n",
              "      <td>-8783</td>\n",
              "      <td>-7520</td>\n",
              "      <td>-1263</td>\n",
              "      <td>123</td>\n",
              "      <td>1818</td>\n",
              "      <td>1598</td>\n",
              "      <td>219</td>\n",
              "      <td>-6842</td>\n",
              "    </tr>\n",
              "    <tr>\n",
              "      <th>2</th>\n",
              "      <td>2012-12-19</td>\n",
              "      <td>-5496</td>\n",
              "      <td>-5470</td>\n",
              "      <td>-26</td>\n",
              "      <td>-73</td>\n",
              "      <td>103</td>\n",
              "      <td>3472</td>\n",
              "      <td>-3369</td>\n",
              "      <td>-5466</td>\n",
              "    </tr>\n",
              "    <tr>\n",
              "      <th>3</th>\n",
              "      <td>2012-12-26</td>\n",
              "      <td>-4451</td>\n",
              "      <td>-4076</td>\n",
              "      <td>-375</td>\n",
              "      <td>550</td>\n",
              "      <td>2610</td>\n",
              "      <td>3333</td>\n",
              "      <td>-722</td>\n",
              "      <td>-1291</td>\n",
              "    </tr>\n",
              "    <tr>\n",
              "      <th>4</th>\n",
              "      <td>2013-01-02</td>\n",
              "      <td>-11156</td>\n",
              "      <td>-9622</td>\n",
              "      <td>-1533</td>\n",
              "      <td>-158</td>\n",
              "      <td>2383</td>\n",
              "      <td>2103</td>\n",
              "      <td>280</td>\n",
              "      <td>-8931</td>\n",
              "    </tr>\n",
              "  </tbody>\n",
              "</table>\n",
              "</div>\n",
              "    <div class=\"colab-df-buttons\">\n",
              "\n",
              "  <div class=\"colab-df-container\">\n",
              "    <button class=\"colab-df-convert\" onclick=\"convertToInteractive('df-67b0592e-cc41-45e3-956d-572fe21b094e')\"\n",
              "            title=\"Convert this dataframe to an interactive table.\"\n",
              "            style=\"display:none;\">\n",
              "\n",
              "  <svg xmlns=\"http://www.w3.org/2000/svg\" height=\"24px\" viewBox=\"0 -960 960 960\">\n",
              "    <path d=\"M120-120v-720h720v720H120Zm60-500h600v-160H180v160Zm220 220h160v-160H400v160Zm0 220h160v-160H400v160ZM180-400h160v-160H180v160Zm440 0h160v-160H620v160ZM180-180h160v-160H180v160Zm440 0h160v-160H620v160Z\"/>\n",
              "  </svg>\n",
              "    </button>\n",
              "\n",
              "  <style>\n",
              "    .colab-df-container {\n",
              "      display:flex;\n",
              "      gap: 12px;\n",
              "    }\n",
              "\n",
              "    .colab-df-convert {\n",
              "      background-color: #E8F0FE;\n",
              "      border: none;\n",
              "      border-radius: 50%;\n",
              "      cursor: pointer;\n",
              "      display: none;\n",
              "      fill: #1967D2;\n",
              "      height: 32px;\n",
              "      padding: 0 0 0 0;\n",
              "      width: 32px;\n",
              "    }\n",
              "\n",
              "    .colab-df-convert:hover {\n",
              "      background-color: #E2EBFA;\n",
              "      box-shadow: 0px 1px 2px rgba(60, 64, 67, 0.3), 0px 1px 3px 1px rgba(60, 64, 67, 0.15);\n",
              "      fill: #174EA6;\n",
              "    }\n",
              "\n",
              "    .colab-df-buttons div {\n",
              "      margin-bottom: 4px;\n",
              "    }\n",
              "\n",
              "    [theme=dark] .colab-df-convert {\n",
              "      background-color: #3B4455;\n",
              "      fill: #D2E3FC;\n",
              "    }\n",
              "\n",
              "    [theme=dark] .colab-df-convert:hover {\n",
              "      background-color: #434B5C;\n",
              "      box-shadow: 0px 1px 3px 1px rgba(0, 0, 0, 0.15);\n",
              "      filter: drop-shadow(0px 1px 2px rgba(0, 0, 0, 0.3));\n",
              "      fill: #FFFFFF;\n",
              "    }\n",
              "  </style>\n",
              "\n",
              "    <script>\n",
              "      const buttonEl =\n",
              "        document.querySelector('#df-67b0592e-cc41-45e3-956d-572fe21b094e button.colab-df-convert');\n",
              "      buttonEl.style.display =\n",
              "        google.colab.kernel.accessAllowed ? 'block' : 'none';\n",
              "\n",
              "      async function convertToInteractive(key) {\n",
              "        const element = document.querySelector('#df-67b0592e-cc41-45e3-956d-572fe21b094e');\n",
              "        const dataTable =\n",
              "          await google.colab.kernel.invokeFunction('convertToInteractive',\n",
              "                                                    [key], {});\n",
              "        if (!dataTable) return;\n",
              "\n",
              "        const docLinkHtml = 'Like what you see? Visit the ' +\n",
              "          '<a target=\"_blank\" href=https://colab.research.google.com/notebooks/data_table.ipynb>data table notebook</a>'\n",
              "          + ' to learn more about interactive tables.';\n",
              "        element.innerHTML = '';\n",
              "        dataTable['output_type'] = 'display_data';\n",
              "        await google.colab.output.renderOutput(dataTable, element);\n",
              "        const docLink = document.createElement('div');\n",
              "        docLink.innerHTML = docLinkHtml;\n",
              "        element.appendChild(docLink);\n",
              "      }\n",
              "    </script>\n",
              "  </div>\n",
              "\n",
              "\n",
              "<div id=\"df-8fd31b85-9c4f-4c21-801b-aaa7beed813f\">\n",
              "  <button class=\"colab-df-quickchart\" onclick=\"quickchart('df-8fd31b85-9c4f-4c21-801b-aaa7beed813f')\"\n",
              "            title=\"Suggest charts\"\n",
              "            style=\"display:none;\">\n",
              "\n",
              "<svg xmlns=\"http://www.w3.org/2000/svg\" height=\"24px\"viewBox=\"0 0 24 24\"\n",
              "     width=\"24px\">\n",
              "    <g>\n",
              "        <path d=\"M19 3H5c-1.1 0-2 .9-2 2v14c0 1.1.9 2 2 2h14c1.1 0 2-.9 2-2V5c0-1.1-.9-2-2-2zM9 17H7v-7h2v7zm4 0h-2V7h2v10zm4 0h-2v-4h2v4z\"/>\n",
              "    </g>\n",
              "</svg>\n",
              "  </button>\n",
              "\n",
              "<style>\n",
              "  .colab-df-quickchart {\n",
              "      --bg-color: #E8F0FE;\n",
              "      --fill-color: #1967D2;\n",
              "      --hover-bg-color: #E2EBFA;\n",
              "      --hover-fill-color: #174EA6;\n",
              "      --disabled-fill-color: #AAA;\n",
              "      --disabled-bg-color: #DDD;\n",
              "  }\n",
              "\n",
              "  [theme=dark] .colab-df-quickchart {\n",
              "      --bg-color: #3B4455;\n",
              "      --fill-color: #D2E3FC;\n",
              "      --hover-bg-color: #434B5C;\n",
              "      --hover-fill-color: #FFFFFF;\n",
              "      --disabled-bg-color: #3B4455;\n",
              "      --disabled-fill-color: #666;\n",
              "  }\n",
              "\n",
              "  .colab-df-quickchart {\n",
              "    background-color: var(--bg-color);\n",
              "    border: none;\n",
              "    border-radius: 50%;\n",
              "    cursor: pointer;\n",
              "    display: none;\n",
              "    fill: var(--fill-color);\n",
              "    height: 32px;\n",
              "    padding: 0;\n",
              "    width: 32px;\n",
              "  }\n",
              "\n",
              "  .colab-df-quickchart:hover {\n",
              "    background-color: var(--hover-bg-color);\n",
              "    box-shadow: 0 1px 2px rgba(60, 64, 67, 0.3), 0 1px 3px 1px rgba(60, 64, 67, 0.15);\n",
              "    fill: var(--button-hover-fill-color);\n",
              "  }\n",
              "\n",
              "  .colab-df-quickchart-complete:disabled,\n",
              "  .colab-df-quickchart-complete:disabled:hover {\n",
              "    background-color: var(--disabled-bg-color);\n",
              "    fill: var(--disabled-fill-color);\n",
              "    box-shadow: none;\n",
              "  }\n",
              "\n",
              "  .colab-df-spinner {\n",
              "    border: 2px solid var(--fill-color);\n",
              "    border-color: transparent;\n",
              "    border-bottom-color: var(--fill-color);\n",
              "    animation:\n",
              "      spin 1s steps(1) infinite;\n",
              "  }\n",
              "\n",
              "  @keyframes spin {\n",
              "    0% {\n",
              "      border-color: transparent;\n",
              "      border-bottom-color: var(--fill-color);\n",
              "      border-left-color: var(--fill-color);\n",
              "    }\n",
              "    20% {\n",
              "      border-color: transparent;\n",
              "      border-left-color: var(--fill-color);\n",
              "      border-top-color: var(--fill-color);\n",
              "    }\n",
              "    30% {\n",
              "      border-color: transparent;\n",
              "      border-left-color: var(--fill-color);\n",
              "      border-top-color: var(--fill-color);\n",
              "      border-right-color: var(--fill-color);\n",
              "    }\n",
              "    40% {\n",
              "      border-color: transparent;\n",
              "      border-right-color: var(--fill-color);\n",
              "      border-top-color: var(--fill-color);\n",
              "    }\n",
              "    60% {\n",
              "      border-color: transparent;\n",
              "      border-right-color: var(--fill-color);\n",
              "    }\n",
              "    80% {\n",
              "      border-color: transparent;\n",
              "      border-right-color: var(--fill-color);\n",
              "      border-bottom-color: var(--fill-color);\n",
              "    }\n",
              "    90% {\n",
              "      border-color: transparent;\n",
              "      border-bottom-color: var(--fill-color);\n",
              "    }\n",
              "  }\n",
              "</style>\n",
              "\n",
              "  <script>\n",
              "    async function quickchart(key) {\n",
              "      const quickchartButtonEl =\n",
              "        document.querySelector('#' + key + ' button');\n",
              "      quickchartButtonEl.disabled = true;  // To prevent multiple clicks.\n",
              "      quickchartButtonEl.classList.add('colab-df-spinner');\n",
              "      try {\n",
              "        const charts = await google.colab.kernel.invokeFunction(\n",
              "            'suggestCharts', [key], {});\n",
              "      } catch (error) {\n",
              "        console.error('Error during call to suggestCharts:', error);\n",
              "      }\n",
              "      quickchartButtonEl.classList.remove('colab-df-spinner');\n",
              "      quickchartButtonEl.classList.add('colab-df-quickchart-complete');\n",
              "    }\n",
              "    (() => {\n",
              "      let quickchartButtonEl =\n",
              "        document.querySelector('#df-8fd31b85-9c4f-4c21-801b-aaa7beed813f button');\n",
              "      quickchartButtonEl.style.display =\n",
              "        google.colab.kernel.accessAllowed ? 'block' : 'none';\n",
              "    })();\n",
              "  </script>\n",
              "</div>\n",
              "\n",
              "    </div>\n",
              "  </div>\n"
            ],
            "application/vnd.google.colaboratory.intrinsic+json": {
              "type": "dataframe",
              "variable_name": "investor",
              "summary": "{\n  \"name\": \"investor\",\n  \"rows\": 44,\n  \"fields\": [\n    {\n      \"column\": \"Date\",\n      \"properties\": {\n        \"dtype\": \"object\",\n        \"num_unique_values\": 44,\n        \"samples\": [\n          \"2015-02-11\",\n          \"2014-08-20\",\n          \"2014-08-27\"\n        ],\n        \"semantic_type\": \"\",\n        \"description\": \"\"\n      }\n    },\n    {\n      \"column\": \"Total Equity\",\n      \"properties\": {\n        \"dtype\": \"number\",\n        \"std\": 4318,\n        \"min\": -11156,\n        \"max\": 14817,\n        \"num_unique_values\": 44,\n        \"samples\": [\n          1268,\n          2671,\n          -577\n        ],\n        \"semantic_type\": \"\",\n        \"description\": \"\"\n      }\n    },\n    {\n      \"column\": \"Domestic Equity\",\n      \"properties\": {\n        \"dtype\": \"number\",\n        \"std\": 3223,\n        \"min\": -9622,\n        \"max\": 7995,\n        \"num_unique_values\": 44,\n        \"samples\": [\n          -27,\n          738,\n          -2199\n        ],\n        \"semantic_type\": \"\",\n        \"description\": \"\"\n      }\n    },\n    {\n      \"column\": \"World Equity\",\n      \"properties\": {\n        \"dtype\": \"number\",\n        \"std\": 1533,\n        \"min\": -1533,\n        \"max\": 6821,\n        \"num_unique_values\": 44,\n        \"samples\": [\n          1296,\n          1933,\n          1623\n        ],\n        \"semantic_type\": \"\",\n        \"description\": \"\"\n      }\n    },\n    {\n      \"column\": \"Hybrid\",\n      \"properties\": {\n        \"dtype\": \"number\",\n        \"std\": 670,\n        \"min\": -1057,\n        \"max\": 2888,\n        \"num_unique_values\": 44,\n        \"samples\": [\n          959,\n          821,\n          943\n        ],\n        \"semantic_type\": \"\",\n        \"description\": \"\"\n      }\n    },\n    {\n      \"column\": \"Total Bond\",\n      \"properties\": {\n        \"dtype\": \"number\",\n        \"std\": 2729,\n        \"min\": -8193,\n        \"max\": 9766,\n        \"num_unique_values\": 44,\n        \"samples\": [\n          5862,\n          4999,\n          3655\n        ],\n        \"semantic_type\": \"\",\n        \"description\": \"\"\n      }\n    },\n    {\n      \"column\": \"Taxable Bond\",\n      \"properties\": {\n        \"dtype\": \"number\",\n        \"std\": 2574,\n        \"min\": -8658,\n        \"max\": 7311,\n        \"num_unique_values\": 44,\n        \"samples\": [\n          5169,\n          4185,\n          2921\n        ],\n        \"semantic_type\": \"\",\n        \"description\": \"\"\n      }\n    },\n    {\n      \"column\": \"Municipal Bond\",\n      \"properties\": {\n        \"dtype\": \"number\",\n        \"std\": 786,\n        \"min\": -3369,\n        \"max\": 2455,\n        \"num_unique_values\": 43,\n        \"samples\": [\n          675,\n          734,\n          661\n        ],\n        \"semantic_type\": \"\",\n        \"description\": \"\"\n      }\n    },\n    {\n      \"column\": \"Total\",\n      \"properties\": {\n        \"dtype\": \"number\",\n        \"std\": 6228,\n        \"min\": -9040,\n        \"max\": 27471,\n        \"num_unique_values\": 44,\n        \"samples\": [\n          8089,\n          8490,\n          4021\n        ],\n        \"semantic_type\": \"\",\n        \"description\": \"\"\n      }\n    }\n  ]\n}"
            }
          },
          "metadata": {},
          "execution_count": 12
        }
      ],
      "source": [
        "investor = pd.read_csv('https://raw.githubusercontent.com/datasets/investor-flow-of-funds-us/master/data/weekly.csv')\n",
        "investor.head()"
      ]
    },
    {
      "cell_type": "markdown",
      "metadata": {
        "id": "d4eB-UKh-b1r"
      },
      "source": [
        "### Step 4.  What is the frequency of the dataset?"
      ]
    },
    {
      "cell_type": "code",
      "execution_count": 10,
      "metadata": {
        "colab": {
          "base_uri": "https://localhost:8080/"
        },
        "id": "vF0A0ZTz-b1r",
        "outputId": "cffba4aa-1d4e-474a-bf81-d7a012de8326"
      },
      "outputs": [
        {
          "output_type": "stream",
          "name": "stdout",
          "text": [
            "The frequency of the 'investor' dataset is: None\n"
          ]
        }
      ],
      "source": [
        "investor['Date'] = pd.to_datetime(investor['Date'])\n",
        "\n",
        "# Now set the 'Date' column as the index\n",
        "investor.set_index('Date', inplace=True)\n",
        "\n",
        "# Check the frequency of the index\n",
        "frequency = investor.index.inferred_freq\n",
        "\n",
        "# Display the frequency of the dataset\n",
        "print(f\"The frequency of the 'investor' dataset is: {frequency}\")\n"
      ]
    },
    {
      "cell_type": "markdown",
      "metadata": {
        "id": "C_9wtRcK-b1r"
      },
      "source": [
        "### Step 5. Set the column Date as the index."
      ]
    },
    {
      "cell_type": "code",
      "execution_count": 14,
      "metadata": {
        "colab": {
          "base_uri": "https://localhost:8080/"
        },
        "id": "IBtEyX8m-b1s",
        "outputId": "eba67d60-904c-4a07-ba9f-1969a1b21962"
      },
      "outputs": [
        {
          "output_type": "stream",
          "name": "stdout",
          "text": [
            "            Total Equity  Domestic Equity  World Equity  Hybrid  Total Bond  \\\n",
            "Date                                                                          \n",
            "2012-12-05         -7426            -6060         -1367     -74        5317   \n",
            "2012-12-12         -8783            -7520         -1263     123        1818   \n",
            "2012-12-19         -5496            -5470           -26     -73         103   \n",
            "2012-12-26         -4451            -4076          -375     550        2610   \n",
            "2013-01-02        -11156            -9622         -1533    -158        2383   \n",
            "\n",
            "            Taxable Bond  Municipal Bond  Total  \n",
            "Date                                             \n",
            "2012-12-05          4210            1107  -2183  \n",
            "2012-12-12          1598             219  -6842  \n",
            "2012-12-19          3472           -3369  -5466  \n",
            "2012-12-26          3333            -722  -1291  \n",
            "2013-01-02          2103             280  -8931  \n"
          ]
        }
      ],
      "source": [
        "# Convert the 'Date' column to datetime format (if not already)\n",
        "investor['Date'] = pd.to_datetime(investor['Date'], errors='coerce')\n",
        "\n",
        "# Set the 'Date' column as the index\n",
        "investor.set_index('Date', inplace=True)\n",
        "\n",
        "# Display the first few rows to verify\n",
        "print(investor.head())"
      ]
    },
    {
      "cell_type": "markdown",
      "metadata": {
        "id": "uO1FrvVn-b1s"
      },
      "source": [
        "### Step 6. What is the type of the index?"
      ]
    },
    {
      "cell_type": "code",
      "execution_count": 15,
      "metadata": {
        "colab": {
          "base_uri": "https://localhost:8080/"
        },
        "id": "ybRDhoFg-b1s",
        "outputId": "b374e46a-da50-416b-f6d1-1287d6795863"
      },
      "outputs": [
        {
          "output_type": "execute_result",
          "data": {
            "text/plain": [
              "dtype('<M8[ns]')"
            ]
          },
          "metadata": {},
          "execution_count": 15
        }
      ],
      "source": [
        "#type of index\n",
        "investor.index.dtype"
      ]
    },
    {
      "cell_type": "markdown",
      "metadata": {
        "id": "__K9mS6I-b1t"
      },
      "source": [
        "### Step 7. Set the index to a DatetimeIndex type"
      ]
    },
    {
      "cell_type": "code",
      "execution_count": 17,
      "metadata": {
        "colab": {
          "base_uri": "https://localhost:8080/"
        },
        "id": "dkDdBJhA-b1t",
        "outputId": "99101751-1e8c-4b47-87f5-30102fc4ad8a"
      },
      "outputs": [
        {
          "output_type": "stream",
          "name": "stdout",
          "text": [
            "<class 'pandas.core.indexes.datetimes.DatetimeIndex'>\n",
            "            Total Equity  Domestic Equity  World Equity  Hybrid  Total Bond  \\\n",
            "Date                                                                          \n",
            "2012-12-05         -7426            -6060         -1367     -74        5317   \n",
            "2012-12-12         -8783            -7520         -1263     123        1818   \n",
            "2012-12-19         -5496            -5470           -26     -73         103   \n",
            "2012-12-26         -4451            -4076          -375     550        2610   \n",
            "2013-01-02        -11156            -9622         -1533    -158        2383   \n",
            "\n",
            "            Taxable Bond  Municipal Bond  Total  \n",
            "Date                                             \n",
            "2012-12-05          4210            1107  -2183  \n",
            "2012-12-12          1598             219  -6842  \n",
            "2012-12-19          3472           -3369  -5466  \n",
            "2012-12-26          3333            -722  -1291  \n",
            "2013-01-02          2103             280  -8931  \n"
          ]
        }
      ],
      "source": [
        "# Explicitly set the index as a DatetimeIndex (if needed)\n",
        "investor.index = pd.to_datetime(investor.index)\n",
        "\n",
        "# Verify the index type\n",
        "print(type(investor.index))  # Should show <class 'pandas.core.indexes.datetimes.DatetimeIndex'>\n",
        "\n",
        "# Display the first few rows to verify\n",
        "print(investor.head())\n"
      ]
    },
    {
      "cell_type": "markdown",
      "metadata": {
        "id": "0TrLVZ4e-b1t"
      },
      "source": [
        "### Step 8.  Change the frequency to monthly, sum the values and assign it to monthly."
      ]
    },
    {
      "cell_type": "code",
      "execution_count": 18,
      "metadata": {
        "colab": {
          "base_uri": "https://localhost:8080/"
        },
        "id": "tYMPcsdB-b1t",
        "outputId": "9a4f4009-e0a8-418a-9b27-a9a8b814a498"
      },
      "outputs": [
        {
          "output_type": "stream",
          "name": "stdout",
          "text": [
            "            Total Equity  Domestic Equity  World Equity  Hybrid  Total Bond  \\\n",
            "Date                                                                          \n",
            "2012-12-31        -26156           -23126         -3031     526        9848   \n",
            "2013-01-31          3661            -1627          5288    2730       12149   \n",
            "2013-02-28             0                0             0       0           0   \n",
            "2013-03-31             0                0             0       0           0   \n",
            "2013-04-30             0                0             0       0           0   \n",
            "\n",
            "            Taxable Bond  Municipal Bond  Total  \n",
            "Date                                             \n",
            "2012-12-31         12613           -2765 -15782  \n",
            "2013-01-31          9414            2735  18540  \n",
            "2013-02-28             0               0      0  \n",
            "2013-03-31             0               0      0  \n",
            "2013-04-30             0               0      0  \n"
          ]
        },
        {
          "output_type": "stream",
          "name": "stderr",
          "text": [
            "<ipython-input-18-554db876b54e>:2: FutureWarning: 'M' is deprecated and will be removed in a future version, please use 'ME' instead.\n",
            "  monthly = investor.resample('M').sum()\n"
          ]
        }
      ],
      "source": [
        "# Resample the data to monthly frequency and sum the values for each month\n",
        "monthly = investor.resample('M').sum()\n",
        "\n",
        "# Display the first few rows of the monthly resampled data\n",
        "print(monthly.head())"
      ]
    },
    {
      "cell_type": "markdown",
      "metadata": {
        "id": "IvQ3Zlpj-b1t"
      },
      "source": [
        "### Step 9. You will notice that it filled the dataFrame with months that don't have any data with NaN. Let's drop these rows."
      ]
    },
    {
      "cell_type": "code",
      "execution_count": 19,
      "metadata": {
        "colab": {
          "base_uri": "https://localhost:8080/"
        },
        "id": "LUH2hNQH-b1t",
        "outputId": "63d7585a-7bb1-49bc-914f-fb7c36acc2b4"
      },
      "outputs": [
        {
          "output_type": "stream",
          "name": "stdout",
          "text": [
            "            Total Equity  Domestic Equity  World Equity  Hybrid  Total Bond  \\\n",
            "Date                                                                          \n",
            "2012-12-31        -26156           -23126         -3031     526        9848   \n",
            "2013-01-31          3661            -1627          5288    2730       12149   \n",
            "2013-02-28             0                0             0       0           0   \n",
            "2013-03-31             0                0             0       0           0   \n",
            "2013-04-30             0                0             0       0           0   \n",
            "\n",
            "            Taxable Bond  Municipal Bond  Total  \n",
            "Date                                             \n",
            "2012-12-31         12613           -2765 -15782  \n",
            "2013-01-31          9414            2735  18540  \n",
            "2013-02-28             0               0      0  \n",
            "2013-03-31             0               0      0  \n",
            "2013-04-30             0               0      0  \n"
          ]
        }
      ],
      "source": [
        "# Drop rows with NaN values after resampling\n",
        "monthly_cleaned = monthly.dropna()\n",
        "\n",
        "# Display the first few rows of the cleaned DataFrame\n",
        "print(monthly_cleaned.head())"
      ]
    },
    {
      "cell_type": "markdown",
      "metadata": {
        "id": "a4N1Qn26-b1t"
      },
      "source": [
        "### Step 10. Good, now we have the monthly data. Now change the frequency to year."
      ]
    },
    {
      "cell_type": "code",
      "execution_count": 20,
      "metadata": {
        "colab": {
          "base_uri": "https://localhost:8080/"
        },
        "id": "utKtjsVe-b1t",
        "outputId": "4d2d3e52-6e99-48b7-8961-e9a6b82b4858"
      },
      "outputs": [
        {
          "output_type": "stream",
          "name": "stdout",
          "text": [
            "            Total Equity  Domestic Equity  World Equity  Hybrid  Total Bond  \\\n",
            "Date                                                                          \n",
            "2012-12-31        -26156           -23126         -3031     526        9848   \n",
            "2013-12-31          3661            -1627          5288    2730       12149   \n",
            "2014-12-31           330           -44689         45021   19570       59890   \n",
            "2015-12-31         15049           -10459         25508    7280       26028   \n",
            "\n",
            "            Taxable Bond  Municipal Bond  Total  \n",
            "Date                                             \n",
            "2012-12-31         12613           -2765 -15782  \n",
            "2013-12-31          9414            2735  18540  \n",
            "2014-12-31         44994           14896  79787  \n",
            "2015-12-31         17986            8041  48357  \n"
          ]
        },
        {
          "output_type": "stream",
          "name": "stderr",
          "text": [
            "<ipython-input-20-43df2caf6c72>:2: FutureWarning: 'Y' is deprecated and will be removed in a future version, please use 'YE' instead.\n",
            "  yearly = monthly_cleaned.resample('Y').sum()\n"
          ]
        }
      ],
      "source": [
        "# Resample the data to yearly frequency and sum the values for each year\n",
        "yearly = monthly_cleaned.resample('Y').sum()\n",
        "\n",
        "# Display the first few rows of the yearly resampled data\n",
        "print(yearly.head())"
      ]
    },
    {
      "cell_type": "markdown",
      "metadata": {
        "id": "UmckBlb7-b1t"
      },
      "source": [
        "### BONUS: Create your own question and answer it.\n",
        "\n",
        "How can I calculate the cumulative sum of a column over time in a Pandas DataFrame?"
      ]
    },
    {
      "cell_type": "code",
      "execution_count": 21,
      "metadata": {
        "collapsed": true,
        "colab": {
          "base_uri": "https://localhost:8080/"
        },
        "id": "dv1TAUPn-b1u",
        "outputId": "09d548cf-e9ba-4f4a-eeb3-02f71791efed"
      },
      "outputs": [
        {
          "output_type": "stream",
          "name": "stdout",
          "text": [
            "Date\n",
            "2012-12-05    -7426\n",
            "2012-12-12   -16209\n",
            "2012-12-19   -21705\n",
            "2012-12-26   -26156\n",
            "2013-01-02   -37312\n",
            "Name: Total Equity, dtype: int64\n"
          ]
        }
      ],
      "source": [
        "# Assuming 'Total Equity' is the column we want the cumulative sum for\n",
        "cumulative_sum = investor['Total Equity'].cumsum()\n",
        "\n",
        "# Display the first few rows of the cumulative sum\n",
        "print(cumulative_sum.head())"
      ]
    },
    {
      "cell_type": "code",
      "source": [],
      "metadata": {
        "id": "KHeZW2-xBZKY"
      },
      "execution_count": null,
      "outputs": []
    }
  ],
  "metadata": {
    "kernelspec": {
      "display_name": "Python 3",
      "name": "python3"
    },
    "language_info": {
      "name": "python"
    },
    "colab": {
      "provenance": [],
      "include_colab_link": true
    }
  },
  "nbformat": 4,
  "nbformat_minor": 0
}
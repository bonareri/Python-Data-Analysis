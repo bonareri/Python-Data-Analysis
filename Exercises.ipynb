{
  "cells": [
    {
      "cell_type": "markdown",
      "metadata": {
        "id": "view-in-github",
        "colab_type": "text"
      },
      "source": [
        "<a href=\"https://colab.research.google.com/github/bonareri/Python-Data-Analysis/blob/main/Exercises.ipynb\" target=\"_parent\"><img src=\"https://colab.research.google.com/assets/colab-badge.svg\" alt=\"Open In Colab\"/></a>"
      ]
    },
    {
      "cell_type": "markdown",
      "metadata": {
        "id": "kH3RLKPZJ4pk"
      },
      "source": [
        "# Pokemon"
      ]
    },
    {
      "cell_type": "markdown",
      "metadata": {
        "id": "_ewEOXVAJ4pr"
      },
      "source": [
        "### Introduction:\n",
        "\n",
        "This time you will create the data.\n",
        "\n",
        "\n",
        "\n",
        "### Step 1. Import the necessary libraries"
      ]
    },
    {
      "cell_type": "code",
      "execution_count": 3,
      "metadata": {
        "id": "lVVGQqgjJ4pt"
      },
      "outputs": [],
      "source": [
        "import pandas as pd\n",
        "import numpy as np"
      ]
    },
    {
      "cell_type": "markdown",
      "metadata": {
        "id": "ssGojZs9J4pu"
      },
      "source": [
        "### Step 2. Create a data dictionary that looks like the DataFrame below"
      ]
    },
    {
      "cell_type": "code",
      "execution_count": 11,
      "metadata": {
        "collapsed": true,
        "colab": {
          "base_uri": "https://localhost:8080/"
        },
        "id": "iITmpw_-J4pv",
        "outputId": "5524da92-d4a0-4f13-ffbb-a9eef5b7dcff"
      },
      "outputs": [
        {
          "output_type": "stream",
          "name": "stdout",
          "text": [
            "    evolution  hp        name pokedex   type\n",
            "0     Ivysaur  45   Bulbasaur     yes  grass\n",
            "1  Charmeleon  39  Charmander      no   fire\n",
            "2   Wartortle  44    Squirtle     yes  water\n",
            "3     Metapod  45    Caterpie      no    bug\n"
          ]
        }
      ],
      "source": [
        "data_dict = {\n",
        "    \"evolution\": [\"Ivysaur\", \"Charmeleon\", \"Wartortle\", \"Metapod\"],\n",
        "    \"hp\": [45, 39, 44, 45],\n",
        "    \"name\": [\"Bulbasaur\", \"Charmander\", \"Squirtle\", \"Caterpie\"],\n",
        "    \"pokedex\": [\"yes\", \"no\", \"yes\", \"no\"],\n",
        "    \"type\": [\"grass\", \"fire\", \"water\", \"bug\"]\n",
        "    }\n",
        "\n",
        "pokemon = pd.DataFrame(data_dict)\n",
        "print(pokemon)"
      ]
    },
    {
      "cell_type": "markdown",
      "metadata": {
        "id": "5W3dEkdgJ4pw"
      },
      "source": [
        "### Step 3. Assign it to a variable called pokemon"
      ]
    },
    {
      "cell_type": "markdown",
      "metadata": {
        "id": "68rVbqANJ4p1"
      },
      "source": [
        "### Step 4. Ops...it seems the DataFrame columns are in alphabetical order. Place  the order of the columns as name, type, hp, evolution, pokedex"
      ]
    },
    {
      "cell_type": "code",
      "execution_count": 12,
      "metadata": {
        "colab": {
          "base_uri": "https://localhost:8080/"
        },
        "id": "9AYppRjPJ4p2",
        "outputId": "fef7ce93-112e-4bb5-a9a3-3161826fe6ae"
      },
      "outputs": [
        {
          "output_type": "stream",
          "name": "stdout",
          "text": [
            "         name   type  hp   evolution pokedex\n",
            "0   Bulbasaur  grass  45     Ivysaur     yes\n",
            "1  Charmander   fire  39  Charmeleon      no\n",
            "2    Squirtle  water  44   Wartortle     yes\n",
            "3    Caterpie    bug  45     Metapod      no\n"
          ]
        }
      ],
      "source": [
        "pokemon_df = pokemon[[\"name\", \"type\", \"hp\", \"evolution\", \"pokedex\"]]\n",
        "print(pokemon_df)"
      ]
    },
    {
      "cell_type": "markdown",
      "metadata": {
        "id": "VrmayYNMJ4p3"
      },
      "source": [
        "### Step 5. Add another column called place, and insert what you have in mind."
      ]
    },
    {
      "cell_type": "code",
      "execution_count": 13,
      "metadata": {
        "colab": {
          "base_uri": "https://localhost:8080/"
        },
        "id": "nmKwl7pbJ4p5",
        "outputId": "d6c301b7-49f1-409a-a8a2-bdff015ecb91"
      },
      "outputs": [
        {
          "output_type": "stream",
          "name": "stdout",
          "text": [
            "    evolution  hp        name pokedex   type   place\n",
            "0     Ivysaur  45   Bulbasaur     yes  grass  forest\n",
            "1  Charmeleon  39  Charmander      no   fire    cave\n",
            "2   Wartortle  44    Squirtle     yes  water    lake\n",
            "3     Metapod  45    Caterpie      no    bug    cave\n"
          ]
        }
      ],
      "source": [
        "pokemon[\"place\"] = [\"forest\", \"cave\", \"lake\", \"cave\"]\n",
        "print(pokemon)"
      ]
    },
    {
      "cell_type": "markdown",
      "metadata": {
        "id": "BlsCD-RiJ4p6"
      },
      "source": [
        "### Step 6. Present the type of each column"
      ]
    },
    {
      "cell_type": "code",
      "execution_count": 14,
      "metadata": {
        "colab": {
          "base_uri": "https://localhost:8080/"
        },
        "id": "VpNTSdxIJ4p7",
        "outputId": "77ba8f63-82aa-41aa-8838-3ca329f045b0"
      },
      "outputs": [
        {
          "output_type": "stream",
          "name": "stdout",
          "text": [
            "evolution    object\n",
            "hp            int64\n",
            "name         object\n",
            "pokedex      object\n",
            "type         object\n",
            "place        object\n",
            "dtype: object\n"
          ]
        }
      ],
      "source": [
        "print(pokemon.dtypes)"
      ]
    },
    {
      "cell_type": "markdown",
      "metadata": {
        "id": "5Xx1QcSXJ4p8"
      },
      "source": [
        "### BONUS: Create your own question and answer it."
      ]
    },
    {
      "cell_type": "markdown",
      "source": [
        "# Create a DataFrame df with information about students’ scores in different subjects:\n",
        "1. Add a new column called \"average_score\" that calculates the average score of each student across math, science, and english.\n",
        "2. Filter and display only those students whose average score is greater than 85."
      ],
      "metadata": {
        "id": "g_3hYx2ocQJ7"
      }
    },
    {
      "cell_type": "code",
      "execution_count": 15,
      "metadata": {
        "collapsed": true,
        "colab": {
          "base_uri": "https://localhost:8080/"
        },
        "id": "n2Dtdwk0J4p9",
        "outputId": "e5e57444-3dd3-4c8a-cddd-40c95386a73c"
      },
      "outputs": [
        {
          "output_type": "stream",
          "name": "stdout",
          "text": [
            "      name  math  science  english\n",
            "0    Alice    90       88       92\n",
            "1      Bob    85       92       88\n",
            "2  Charlie    78       89       91\n",
            "3    David    92       95       87\n"
          ]
        }
      ],
      "source": [
        "data = {\n",
        "    \"name\": [\"Alice\", \"Bob\", \"Charlie\", \"David\"],\n",
        "    \"math\": [90, 85, 78, 92],\n",
        "    \"science\": [88, 92, 89, 95],\n",
        "    \"english\": [92, 88, 91, 87]\n",
        "}\n",
        "\n",
        "df = pd.DataFrame(data)\n",
        "print(df)"
      ]
    },
    {
      "cell_type": "code",
      "source": [
        "#Adding a new column called average\n",
        "df[\"average_score\"] = df[[\"math\", \"science\", \"english\",]].mean(axis=1)\n",
        "\n",
        "#filtering students with average_score > 85\n",
        "filtered_df = df[df[\"average_score\"] > 85]\n",
        "print(filtered_df)"
      ],
      "metadata": {
        "colab": {
          "base_uri": "https://localhost:8080/"
        },
        "id": "DS_jx6OYdH2_",
        "outputId": "661aa14d-bdd0-4249-bccc-b55468a74ab4"
      },
      "execution_count": 17,
      "outputs": [
        {
          "output_type": "stream",
          "name": "stdout",
          "text": [
            "      name  math  science  english  average_score\n",
            "0    Alice    90       88       92      90.000000\n",
            "1      Bob    85       92       88      88.333333\n",
            "2  Charlie    78       89       91      86.000000\n",
            "3    David    92       95       87      91.333333\n"
          ]
        }
      ]
    },
    {
      "cell_type": "code",
      "source": [],
      "metadata": {
        "id": "goU-_5Dhdx4r"
      },
      "execution_count": null,
      "outputs": []
    }
  ],
  "metadata": {
    "kernelspec": {
      "display_name": "Python 3",
      "name": "python3"
    },
    "language_info": {
      "name": "python"
    },
    "colab": {
      "provenance": [],
      "include_colab_link": true
    }
  },
  "nbformat": 4,
  "nbformat_minor": 0
}
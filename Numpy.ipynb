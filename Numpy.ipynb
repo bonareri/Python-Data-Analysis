{
  "nbformat": 4,
  "nbformat_minor": 0,
  "metadata": {
    "colab": {
      "provenance": [],
      "authorship_tag": "ABX9TyNFNkj76TNk/xNYxzn958b7",
      "include_colab_link": true
    },
    "kernelspec": {
      "name": "python3",
      "display_name": "Python 3"
    },
    "language_info": {
      "name": "python"
    }
  },
  "cells": [
    {
      "cell_type": "markdown",
      "metadata": {
        "id": "view-in-github",
        "colab_type": "text"
      },
      "source": [
        "<a href=\"https://colab.research.google.com/github/bonareri/Python-Data-Analysis/blob/main/Numpy.ipynb\" target=\"_parent\"><img src=\"https://colab.research.google.com/assets/colab-badge.svg\" alt=\"Open In Colab\"/></a>"
      ]
    },
    {
      "cell_type": "markdown",
      "source": [
        "Python Data Analysis"
      ],
      "metadata": {
        "id": "k0VRSD6JU4ss"
      }
    },
    {
      "cell_type": "code",
      "source": [
        "!pip install numpy\n"
      ],
      "metadata": {
        "colab": {
          "base_uri": "https://localhost:8080/"
        },
        "id": "ISi5iHr7UkOO",
        "outputId": "e63846fe-7439-46df-9c01-4db7a26b7458"
      },
      "execution_count": 1,
      "outputs": [
        {
          "output_type": "stream",
          "name": "stdout",
          "text": [
            "Requirement already satisfied: numpy in /usr/local/lib/python3.10/dist-packages (1.26.4)\n"
          ]
        }
      ]
    },
    {
      "cell_type": "code",
      "source": [
        "import numpy as np"
      ],
      "metadata": {
        "id": "s9tH7-1xVM75"
      },
      "execution_count": 3,
      "outputs": []
    },
    {
      "cell_type": "code",
      "source": [
        "np.__version__"
      ],
      "metadata": {
        "colab": {
          "base_uri": "https://localhost:8080/",
          "height": 35
        },
        "id": "2EbsF0ZaVdOH",
        "outputId": "f070d9d9-7291-46b4-c86c-2b5813c42228"
      },
      "execution_count": 4,
      "outputs": [
        {
          "output_type": "execute_result",
          "data": {
            "text/plain": [
              "'1.26.4'"
            ],
            "application/vnd.google.colaboratory.intrinsic+json": {
              "type": "string"
            }
          },
          "metadata": {},
          "execution_count": 4
        }
      ]
    },
    {
      "cell_type": "code",
      "source": [
        "np?"
      ],
      "metadata": {
        "id": "tCgwg1U0VhKd"
      },
      "execution_count": 5,
      "outputs": []
    },
    {
      "cell_type": "code",
      "source": [
        "x = [1, 2, 3, 4, 5]\n",
        "print(type (x))\n",
        "x = np.array(x)\n",
        "\n",
        "print(type(x))\n"
      ],
      "metadata": {
        "colab": {
          "base_uri": "https://localhost:8080/"
        },
        "id": "HDgW0MTNV0co",
        "outputId": "ac32e2cd-5c68-4a47-cc76-dbe45b1332bd"
      },
      "execution_count": 6,
      "outputs": [
        {
          "output_type": "stream",
          "name": "stdout",
          "text": [
            "<class 'list'>\n",
            "<class 'numpy.ndarray'>\n"
          ]
        }
      ]
    },
    {
      "cell_type": "code",
      "source": [
        "a = [1,2,'Ann', True, False]\n",
        "b = np.array(a)\n",
        "print(b)\n",
        "print(type(b))"
      ],
      "metadata": {
        "colab": {
          "base_uri": "https://localhost:8080/"
        },
        "id": "BlzSlcyhcuyT",
        "outputId": "25a2e8d7-807c-433e-96ee-e39aaa54fa64"
      },
      "execution_count": 7,
      "outputs": [
        {
          "output_type": "stream",
          "name": "stdout",
          "text": [
            "['1' '2' 'Ann' 'True' 'False']\n",
            "<class 'numpy.ndarray'>\n"
          ]
        }
      ]
    },
    {
      "cell_type": "code",
      "source": [
        "arr = np.arange(10)\n",
        "print(arr)\n",
        "print(type(arr))"
      ],
      "metadata": {
        "colab": {
          "base_uri": "https://localhost:8080/"
        },
        "id": "9NayCiuVdSkf",
        "outputId": "2fc6d06c-1401-407e-ffa8-51e06119be7d"
      },
      "execution_count": 9,
      "outputs": [
        {
          "output_type": "stream",
          "name": "stdout",
          "text": [
            "[0 1 2 3 4 5 6 7 8 9]\n",
            "<class 'numpy.ndarray'>\n"
          ]
        }
      ]
    },
    {
      "cell_type": "code",
      "source": [
        "#Start, stop\n",
        "arr = np.arange(2, 10, 3)\n",
        "print(arr)\n",
        "print(type(arr))"
      ],
      "metadata": {
        "colab": {
          "base_uri": "https://localhost:8080/"
        },
        "id": "P9w8oFc7d2uO",
        "outputId": "0db58e51-de59-4b98-f248-21ff0dc3bd1e"
      },
      "execution_count": 12,
      "outputs": [
        {
          "output_type": "stream",
          "name": "stdout",
          "text": [
            "[2 5 8]\n",
            "<class 'numpy.ndarray'>\n"
          ]
        }
      ]
    },
    {
      "cell_type": "code",
      "source": [
        "#linspace\n",
        "arr = np.linspace(1, 4, 6)\n",
        "print(arr)\n",
        "print(type(arr))"
      ],
      "metadata": {
        "colab": {
          "base_uri": "https://localhost:8080/"
        },
        "id": "eC8XvrsyfMLB",
        "outputId": "b811de9c-e672-478a-c9af-ac522f8ab8d4"
      },
      "execution_count": 13,
      "outputs": [
        {
          "output_type": "stream",
          "name": "stdout",
          "text": [
            "[1.  1.6 2.2 2.8 3.4 4. ]\n",
            "<class 'numpy.ndarray'>\n"
          ]
        }
      ]
    },
    {
      "cell_type": "code",
      "source": [
        "# prompt: random\n",
        "\n",
        "# random numbers\n",
        "arr = np.random.rand(5)\n",
        "print(arr)\n",
        "print(type(arr))\n",
        "# random integers between 1 and 10\n",
        "arr = np.random.randint(1, 10, size=5)\n",
        "print(arr)\n",
        "print(type(arr))\n",
        "# random numbers from a normal distribution\n",
        "arr = np.random.randn(5)\n",
        "print(arr)\n",
        "print(type(arr))\n"
      ],
      "metadata": {
        "colab": {
          "base_uri": "https://localhost:8080/"
        },
        "id": "MTFO9l9Rg0Ru",
        "outputId": "2fa139ac-773d-4031-c3ee-2e3eef2d7919"
      },
      "execution_count": 14,
      "outputs": [
        {
          "output_type": "stream",
          "name": "stdout",
          "text": [
            "[0.65768929 0.37691433 0.48361878 0.81617282 0.5368454 ]\n",
            "<class 'numpy.ndarray'>\n",
            "[7 4 5 2 7]\n",
            "<class 'numpy.ndarray'>\n",
            "[-1.15832541  0.66729607  0.04426049 -0.55642378 -1.5101505 ]\n",
            "<class 'numpy.ndarray'>\n"
          ]
        }
      ]
    },
    {
      "cell_type": "code",
      "source": [
        "#Generate a random float between 0 and 1\n",
        "arr = np.random.random((2,3))\n",
        "print(arr)\n",
        "print(type(arr))\n",
        "#"
      ],
      "metadata": {
        "colab": {
          "base_uri": "https://localhost:8080/"
        },
        "id": "No1f_gT2jiyA",
        "outputId": "e62b72b7-a621-4770-ed94-c0ac599bcd59"
      },
      "execution_count": 16,
      "outputs": [
        {
          "output_type": "stream",
          "name": "stdout",
          "text": [
            "[[0.80322394 0.81274165 0.19209085]\n",
            " [0.06383352 0.94510259 0.31040146]]\n",
            "<class 'numpy.ndarray'>\n"
          ]
        }
      ]
    },
    {
      "cell_type": "code",
      "source": [
        "# random numbers\n",
        "arr = np.random.rand(5)\n",
        "print(arr)\n",
        "print(type(arr))"
      ],
      "metadata": {
        "colab": {
          "base_uri": "https://localhost:8080/"
        },
        "id": "SKKdm1Jxj0zh",
        "outputId": "f01ebce4-cf94-41d3-8860-2bdba4e58593"
      },
      "execution_count": 17,
      "outputs": [
        {
          "output_type": "stream",
          "name": "stdout",
          "text": [
            "[0.27350376 0.30064721 0.80549423 0.6674767  0.78535482]\n",
            "<class 'numpy.ndarray'>\n"
          ]
        }
      ]
    },
    {
      "cell_type": "markdown",
      "source": [
        "Numpy Attributes"
      ],
      "metadata": {
        "id": "Py8VDOzZkX8P"
      }
    },
    {
      "cell_type": "code",
      "source": [
        "np.array([1,2,3,4,5])"
      ],
      "metadata": {
        "colab": {
          "base_uri": "https://localhost:8080/"
        },
        "id": "dySUwDHfrehm",
        "outputId": "5344155f-7726-4404-fbd3-1389c4f32d41"
      },
      "execution_count": 18,
      "outputs": [
        {
          "output_type": "execute_result",
          "data": {
            "text/plain": [
              "array([1, 2, 3, 4, 5])"
            ]
          },
          "metadata": {},
          "execution_count": 18
        }
      ]
    },
    {
      "cell_type": "code",
      "source": [
        "mat = np.array([[[1,2,3],[3,4,5],[6,7,8]]], dtype=int)\n",
        "print(mat)"
      ],
      "metadata": {
        "colab": {
          "base_uri": "https://localhost:8080/"
        },
        "id": "3BB0N784rqwI",
        "outputId": "f853cbad-c507-4a36-cc54-3df000fd70bd"
      },
      "execution_count": 19,
      "outputs": [
        {
          "output_type": "stream",
          "name": "stdout",
          "text": [
            "[[[1 2 3]\n",
            "  [3 4 5]\n",
            "  [6 7 8]]]\n"
          ]
        }
      ]
    },
    {
      "cell_type": "code",
      "source": [
        "mat.ndim"
      ],
      "metadata": {
        "colab": {
          "base_uri": "https://localhost:8080/"
        },
        "id": "YObXkGpushPG",
        "outputId": "c78bbc91-98c0-46cf-f2dd-6505737b9b8c"
      },
      "execution_count": 20,
      "outputs": [
        {
          "output_type": "execute_result",
          "data": {
            "text/plain": [
              "3"
            ]
          },
          "metadata": {},
          "execution_count": 20
        }
      ]
    },
    {
      "cell_type": "code",
      "source": [
        "arr = np.random.random(5, 20 (5, 4, 5))"
      ],
      "metadata": {
        "colab": {
          "base_uri": "https://localhost:8080/",
          "height": 211
        },
        "id": "2yDT1Bd5udDZ",
        "outputId": "be7205fe-043a-4f4e-b844-3abb5b2c0de5"
      },
      "execution_count": 21,
      "outputs": [
        {
          "output_type": "stream",
          "name": "stderr",
          "text": [
            "<>:1: SyntaxWarning: 'int' object is not callable; perhaps you missed a comma?\n",
            "<>:1: SyntaxWarning: 'int' object is not callable; perhaps you missed a comma?\n",
            "<ipython-input-21-0918bba28de4>:1: SyntaxWarning: 'int' object is not callable; perhaps you missed a comma?\n",
            "  arr = np.random.random(5, 20 (5, 4, 5))\n"
          ]
        },
        {
          "output_type": "error",
          "ename": "TypeError",
          "evalue": "'int' object is not callable",
          "traceback": [
            "\u001b[0;31m---------------------------------------------------------------------------\u001b[0m",
            "\u001b[0;31mTypeError\u001b[0m                                 Traceback (most recent call last)",
            "\u001b[0;32m<ipython-input-21-0918bba28de4>\u001b[0m in \u001b[0;36m<cell line: 1>\u001b[0;34m()\u001b[0m\n\u001b[0;32m----> 1\u001b[0;31m \u001b[0marr\u001b[0m \u001b[0;34m=\u001b[0m \u001b[0mnp\u001b[0m\u001b[0;34m.\u001b[0m\u001b[0mrandom\u001b[0m\u001b[0;34m.\u001b[0m\u001b[0mrandom\u001b[0m\u001b[0;34m(\u001b[0m\u001b[0;36m5\u001b[0m\u001b[0;34m,\u001b[0m \u001b[0;36m20\u001b[0m \u001b[0;34m(\u001b[0m\u001b[0;36m5\u001b[0m\u001b[0;34m,\u001b[0m \u001b[0;36m4\u001b[0m\u001b[0;34m,\u001b[0m \u001b[0;36m5\u001b[0m\u001b[0;34m)\u001b[0m\u001b[0;34m)\u001b[0m\u001b[0;34m\u001b[0m\u001b[0;34m\u001b[0m\u001b[0m\n\u001b[0m",
            "\u001b[0;31mTypeError\u001b[0m: 'int' object is not callable"
          ]
        }
      ]
    },
    {
      "cell_type": "code",
      "source": [
        "#Integer Types\n",
        "int_arr = np.array([1, 2, 3], dtype=np.int32)\n",
        "print(type(int_arr))\n",
        "print(int_arr)\n",
        "print(int_arr.dtype)\n",
        "print(\"\\n\")\n",
        "\n",
        "#Float Types\n",
        "float_arr = np.array([1, 2, 3], dtype=np.float64)\n",
        "print(type(float_arr))\n",
        "print(float_arr)\n",
        "print(float_arr.dtype)\n",
        "print(\"\\n\")\n",
        "#"
      ],
      "metadata": {
        "colab": {
          "base_uri": "https://localhost:8080/"
        },
        "id": "hoppfYgLwomI",
        "outputId": "890665f0-c9f3-4256-e7db-050d6606382d"
      },
      "execution_count": 24,
      "outputs": [
        {
          "output_type": "stream",
          "name": "stdout",
          "text": [
            "<class 'numpy.ndarray'>\n",
            "[1 2 3]\n",
            "int32\n",
            "\n",
            "\n",
            "<class 'numpy.ndarray'>\n",
            "[1. 2. 3.]\n",
            "float64\n",
            "\n",
            "\n"
          ]
        }
      ]
    },
    {
      "cell_type": "code",
      "source": [
        "#Giving a new shape to an array without changing its data\n",
        "\n",
        "arr = np.array([[1,2,3,7,8], [4,5,6,9,10]])\n",
        "print(f\"Shape : {arr.shape}\")\n",
        "print(arr)\n",
        "print(\"\\n\")\n",
        "\n",
        "arr2 = arr.reshape(5,2)\n",
        "print(f\"Arr 2 Shape : {arr2.shape}\")\n",
        "print(arr2)\n"
      ],
      "metadata": {
        "colab": {
          "base_uri": "https://localhost:8080/"
        },
        "id": "M76Z7yV-xCxr",
        "outputId": "79cb31d7-b9db-4899-db4e-f611999b8065"
      },
      "execution_count": 27,
      "outputs": [
        {
          "output_type": "stream",
          "name": "stdout",
          "text": [
            "Shape : (2, 5)\n",
            "[[ 1  2  3  7  8]\n",
            " [ 4  5  6  9 10]]\n",
            "\n",
            "\n",
            "Arr 2 Shape : (5, 2)\n",
            "[[ 1  2]\n",
            " [ 3  7]\n",
            " [ 8  4]\n",
            " [ 5  6]\n",
            " [ 9 10]]\n"
          ]
        }
      ]
    },
    {
      "cell_type": "code",
      "source": [
        "#flatens the array into a 1 D\n",
        "arr3 = arr.reshape(-1)\n",
        "print(f\"Arr 3 Shape : {arr3.shape}\")\n",
        "print(arr3)"
      ],
      "metadata": {
        "colab": {
          "base_uri": "https://localhost:8080/"
        },
        "id": "H_75NeU33lec",
        "outputId": "4b2551e2-a38b-40ba-e64f-1cf2eb2fa621"
      },
      "execution_count": 28,
      "outputs": [
        {
          "output_type": "stream",
          "name": "stdout",
          "text": [
            "Arr 3 Shape : (10,)\n",
            "[ 1  2  3  7  8  4  5  6  9 10]\n"
          ]
        }
      ]
    },
    {
      "cell_type": "code",
      "source": [
        "#creates a row vecror\n",
        "arr3 = arr.reshape(1, -1)\n",
        "print(f\"Arr 3 Shape : {arr3.shape}\")\n",
        "print(arr3)"
      ],
      "metadata": {
        "colab": {
          "base_uri": "https://localhost:8080/"
        },
        "id": "8DSOcxlP4dLs",
        "outputId": "8f08c940-31bd-4ef7-fc9e-f853f665a3b4"
      },
      "execution_count": 29,
      "outputs": [
        {
          "output_type": "stream",
          "name": "stdout",
          "text": [
            "Arr 3 Shape : (1, 10)\n",
            "[[ 1  2  3  7  8  4  5  6  9 10]]\n"
          ]
        }
      ]
    },
    {
      "cell_type": "code",
      "source": [
        "#creates a column vector\n",
        "arr3 = arr.reshape(-1, 1)\n",
        "print(f\"Arr 3 Shape : {arr3.shape}\")\n",
        "print(arr3)"
      ],
      "metadata": {
        "colab": {
          "base_uri": "https://localhost:8080/"
        },
        "id": "6_zFRX6p4ieO",
        "outputId": "908057d3-dbb3-493c-e09d-060d771c501d"
      },
      "execution_count": 30,
      "outputs": [
        {
          "output_type": "stream",
          "name": "stdout",
          "text": [
            "Arr 3 Shape : (10, 1)\n",
            "[[ 1]\n",
            " [ 2]\n",
            " [ 3]\n",
            " [ 7]\n",
            " [ 8]\n",
            " [ 4]\n",
            " [ 5]\n",
            " [ 6]\n",
            " [ 9]\n",
            " [10]]\n"
          ]
        }
      ]
    }
  ]
}
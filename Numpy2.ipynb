{
  "cells": [
    {
      "cell_type": "markdown",
      "metadata": {
        "id": "view-in-github",
        "colab_type": "text"
      },
      "source": [
        "<a href=\"https://colab.research.google.com/github/bonareri/Python-Data-Analysis/blob/main/Numpy2.ipynb\" target=\"_parent\"><img src=\"https://colab.research.google.com/assets/colab-badge.svg\" alt=\"Open In Colab\"/></a>"
      ]
    },
    {
      "cell_type": "markdown",
      "metadata": {
        "id": "l-ZHsc5SX2Cs"
      },
      "source": [
        "# Numpy Exercise 2\n",
        "\n",
        "### All of the questions in this exercise are attributed to rougier/numpy-100"
      ]
    },
    {
      "cell_type": "code",
      "execution_count": 2,
      "metadata": {
        "id": "LL5uu40GX2C4"
      },
      "outputs": [],
      "source": [
        "import numpy as np"
      ]
    },
    {
      "cell_type": "markdown",
      "metadata": {
        "id": "ADud57StX2C6"
      },
      "source": [
        "#### 16. How to add a border (filled with 0's) around an existing array? (★☆☆)"
      ]
    },
    {
      "cell_type": "code",
      "execution_count": 7,
      "metadata": {
        "colab": {
          "base_uri": "https://localhost:8080/"
        },
        "id": "67TrUQ59X2C9",
        "outputId": "28800195-b0b6-4e0d-e846-e9d74d03c69f"
      },
      "outputs": [
        {
          "output_type": "stream",
          "name": "stdout",
          "text": [
            "[[0 0 0 0 0]\n",
            " [0 1 2 3 0]\n",
            " [0 4 5 6 0]\n",
            " [0 7 8 9 0]\n",
            " [0 0 0 0 0]]\n"
          ]
        }
      ],
      "source": [
        "a= np.array([[1,2,3],[4,5,6],[7,8,9]])\n",
        "with_border = np.zeros((a.shape[0] + 2, a.shape[1] + 2), dtype=a.dtype); with_border[1:-1, 1:-1] = a\n",
        "print(with_border)"
      ]
    },
    {
      "cell_type": "markdown",
      "metadata": {
        "id": "gw5z6GrYX2C-"
      },
      "source": [
        "#### 17. What is the result of the following expression? (★☆☆)\n",
        "```python\n",
        "0 * np.nan\n",
        "np.nan == np.nan\n",
        "np.inf > np.nan\n",
        "np.nan - np.nan\n",
        "np.nan in set([np.nan])\n",
        "0.3 == 3 * 0.1\n",
        "```"
      ]
    },
    {
      "cell_type": "code",
      "execution_count": 8,
      "metadata": {
        "colab": {
          "base_uri": "https://localhost:8080/"
        },
        "id": "pwKh_tCpX2DA",
        "outputId": "5e54e8de-1496-4f9f-9e29-d34e8c3e0e28"
      },
      "outputs": [
        {
          "output_type": "execute_result",
          "data": {
            "text/plain": [
              "False"
            ]
          },
          "metadata": {},
          "execution_count": 8
        }
      ],
      "source": [
        "0 * np.nan\n",
        "np.nan == np.nan\n",
        "np.inf > np.nan\n",
        "np.nan - np.nan\n",
        "np.nan in set([np.nan])\n",
        "0.3 == 3 * 0.1"
      ]
    },
    {
      "cell_type": "markdown",
      "metadata": {
        "id": "1zGuwt8TX2DB"
      },
      "source": [
        "#### 18. Create a 5x5 matrix with values 1,2,3,4 just below the diagonal (★☆☆)"
      ]
    },
    {
      "cell_type": "code",
      "execution_count": 10,
      "metadata": {
        "colab": {
          "base_uri": "https://localhost:8080/"
        },
        "id": "aggqJCjUX2DD",
        "outputId": "62ab89bf-2c2f-40b7-9406-af2ecc467235"
      },
      "outputs": [
        {
          "output_type": "stream",
          "name": "stdout",
          "text": [
            "[[0. 0. 0. 0. 0.]\n",
            " [1. 0. 0. 0. 0.]\n",
            " [0. 2. 0. 0. 0.]\n",
            " [0. 0. 3. 0. 0.]\n",
            " [0. 0. 0. 4. 0.]]\n"
          ]
        }
      ],
      "source": [
        "matrix = np.zeros((5, 5))\n",
        "np.fill_diagonal(matrix[1:], [1, 2, 3, 4])\n",
        "print(matrix)"
      ]
    },
    {
      "cell_type": "markdown",
      "metadata": {
        "id": "_ZgbC1SaX2DE"
      },
      "source": [
        "#### 19. Create a 8x8 matrix and fill it with a checkerboard pattern (★☆☆)"
      ]
    },
    {
      "cell_type": "code",
      "execution_count": 11,
      "metadata": {
        "colab": {
          "base_uri": "https://localhost:8080/"
        },
        "id": "-BU9gW1cX2DG",
        "outputId": "962a2fab-52ea-4fa8-d5e2-5446ee14a96c"
      },
      "outputs": [
        {
          "output_type": "stream",
          "name": "stdout",
          "text": [
            "[[0. 1. 0. 1. 0. 1. 0. 1.]\n",
            " [1. 0. 1. 0. 1. 0. 1. 0.]\n",
            " [0. 1. 0. 1. 0. 1. 0. 1.]\n",
            " [1. 0. 1. 0. 1. 0. 1. 0.]\n",
            " [0. 1. 0. 1. 0. 1. 0. 1.]\n",
            " [1. 0. 1. 0. 1. 0. 1. 0.]\n",
            " [0. 1. 0. 1. 0. 1. 0. 1.]\n",
            " [1. 0. 1. 0. 1. 0. 1. 0.]]\n"
          ]
        }
      ],
      "source": [
        "matrix = np.zeros((8, 8))\n",
        "matrix[1::2, ::2] = 1\n",
        "matrix[::2, 1::2] = 1\n",
        "print(matrix)"
      ]
    },
    {
      "cell_type": "markdown",
      "metadata": {
        "id": "0M5OQiZyX2DH"
      },
      "source": [
        "#### 20. Consider a (6,7,8) shape array, what is the index (x,y,z) of the 100th element?"
      ]
    },
    {
      "cell_type": "code",
      "execution_count": 13,
      "metadata": {
        "colab": {
          "base_uri": "https://localhost:8080/"
        },
        "id": "61qn4QwrX2DI",
        "outputId": "4a694636-87d0-4533-e5af-2cea816198fc"
      },
      "outputs": [
        {
          "output_type": "stream",
          "name": "stdout",
          "text": [
            "(1, 5, 3)\n"
          ]
        }
      ],
      "source": [
        "shape = (6, 7, 8)\n",
        "flat_index = 99\n",
        "unravel_index = np.unravel_index(flat_index, shape)\n",
        "print(unravel_index)"
      ]
    },
    {
      "cell_type": "markdown",
      "metadata": {
        "id": "ADwD9bEpX2DJ"
      },
      "source": [
        "#### 21. Create a checkerboard 8x8 matrix using the tile function (★☆☆)"
      ]
    },
    {
      "cell_type": "code",
      "execution_count": 14,
      "metadata": {
        "colab": {
          "base_uri": "https://localhost:8080/"
        },
        "id": "y9bBXJgAX2DK",
        "outputId": "826d5c7f-7ed1-492a-984f-fadbfb5f80d9"
      },
      "outputs": [
        {
          "output_type": "stream",
          "name": "stdout",
          "text": [
            "[[0 1 0 1 0 1 0 1]\n",
            " [1 0 1 0 1 0 1 0]\n",
            " [0 1 0 1 0 1 0 1]\n",
            " [1 0 1 0 1 0 1 0]\n",
            " [0 1 0 1 0 1 0 1]\n",
            " [1 0 1 0 1 0 1 0]\n",
            " [0 1 0 1 0 1 0 1]\n",
            " [1 0 1 0 1 0 1 0]]\n"
          ]
        }
      ],
      "source": [
        "matrix = np.array([[0, 1], [1, 0]])\n",
        "checkerboard = np.tile(matrix, (4, 4))\n",
        "print(checkerboard)"
      ]
    },
    {
      "cell_type": "markdown",
      "metadata": {
        "id": "ULJfKvxAX2DK"
      },
      "source": [
        "#### 22. Normalize a 5x5 random matrix (★☆☆)"
      ]
    },
    {
      "cell_type": "code",
      "execution_count": 16,
      "metadata": {
        "colab": {
          "base_uri": "https://localhost:8080/"
        },
        "id": "6FVi-vJRX2DK",
        "outputId": "7517cbff-3564-40f6-bd60-30e753e30850"
      },
      "outputs": [
        {
          "output_type": "stream",
          "name": "stdout",
          "text": [
            "[[-1.37055036  1.30740435 -0.86331431 -0.7972352  -1.54449813]\n",
            " [ 0.6908334   0.71286045 -0.18077332  1.1049751  -0.9025054 ]\n",
            " [-0.45496138  0.17643973 -1.29722948 -1.5605933   0.51125748]\n",
            " [-0.60349782 -1.14406859  1.65428114  0.8984513   0.06483395]\n",
            " [ 1.36112165  0.24624985  1.21009878  1.12207211 -0.34165199]]\n"
          ]
        }
      ],
      "source": [
        "rand_matrix = np.random.rand(5, 5)\n",
        "normalized_matrix = (rand_matrix - np.mean(rand_matrix)) / np.std(rand_matrix)\n",
        "print(normalized_matrix)\n"
      ]
    },
    {
      "cell_type": "markdown",
      "metadata": {
        "id": "E__9VuYXX2DL"
      },
      "source": [
        "#### 23. Create a custom dtype that describes a color as four unsigned bytes (RGBA) (★☆☆)"
      ]
    },
    {
      "cell_type": "code",
      "execution_count": 2,
      "metadata": {
        "colab": {
          "base_uri": "https://localhost:8080/"
        },
        "id": "Bzwwn4q5X2DL",
        "outputId": "0ad77731-fc80-4f30-d791-7ab8e32be3d3"
      },
      "outputs": [
        {
          "output_type": "stream",
          "name": "stdout",
          "text": [
            "[(255,   0,   0, 255) (  0, 255,   0, 255) (  0,   0, 255, 255)]\n"
          ]
        }
      ],
      "source": [
        "import numpy as np\n",
        "\n",
        "color_dtype = np.dtype([\n",
        "    ('red', np.uint8),\n",
        "    ('green', np.uint8),\n",
        "    ('blue', np.uint8),\n",
        "    ('alpha', np.uint8)\n",
        "])\n",
        "\n",
        "colors = np.array([(255, 0, 0, 255), (0, 255, 0, 255), (0, 0, 255, 255)], dtype=color_dtype)\n",
        "print(colors)"
      ]
    },
    {
      "cell_type": "markdown",
      "metadata": {
        "id": "HjEh7O05X2DM"
      },
      "source": [
        "#### 24. Multiply a 5x3 matrix by a 3x2 matrix (real matrix product) (★☆☆)"
      ]
    },
    {
      "cell_type": "code",
      "execution_count": 5,
      "metadata": {
        "colab": {
          "base_uri": "https://localhost:8080/"
        },
        "id": "maTzvZajX2DN",
        "outputId": "46d8f985-29bc-473d-f254-14361af6d60c"
      },
      "outputs": [
        {
          "output_type": "stream",
          "name": "stdout",
          "text": [
            "[[0.71064976 0.82398578 0.60828696]\n",
            " [0.14699532 0.57146565 0.28515558]\n",
            " [0.03454868 0.04309862 0.55161784]\n",
            " [0.13533239 0.5066049  0.98107307]\n",
            " [0.41328193 0.89633328 0.60449725]]\n",
            "[[0.38481014 0.82695944]\n",
            " [0.15462947 0.45697361]\n",
            " [0.88216253 0.47490739]]\n",
            "[[0.93748568 1.25309826]\n",
            " [0.39648429 0.51812638]\n",
            " [0.50657559 0.31023268]\n",
            " [0.99587922 0.80933831]\n",
            " [0.83089944 1.03844826]]\n"
          ]
        }
      ],
      "source": [
        "matrix_1 = np.random.rand(5, 3)\n",
        "matrix_2 = np.random.rand(3, 2)\n",
        "result = np.dot(matrix_1, matrix_2)\n",
        "print(matrix_1)\n",
        "print(matrix_2)\n",
        "print(result)"
      ]
    },
    {
      "cell_type": "markdown",
      "metadata": {
        "id": "lG7SKrExX2DN"
      },
      "source": [
        "#### 25. Given a 1D array, negate all elements which are between 3 and 8, in place. (★☆☆)"
      ]
    },
    {
      "cell_type": "code",
      "execution_count": 6,
      "metadata": {
        "colab": {
          "base_uri": "https://localhost:8080/"
        },
        "id": "TvhdsxUhX2DO",
        "outputId": "76258a77-0b0c-48c1-f0e6-ca6ae7318276"
      },
      "outputs": [
        {
          "output_type": "stream",
          "name": "stdout",
          "text": [
            "[ 1  2  3 -4 -5 -6 -7  8  9 10]\n"
          ]
        }
      ],
      "source": [
        "array = np.array([1, 2, 3, 4, 5, 6, 7, 8, 9, 10])\n",
        "array[(array > 3) & (array < 8)] *= -1\n",
        "print(array)"
      ]
    },
    {
      "cell_type": "markdown",
      "metadata": {
        "id": "ei8MITbMX2DO"
      },
      "source": [
        "#### 26. What is the output of the following script? (★☆☆)\n",
        "```python\n",
        "# Author: Jake VanderPlas\n",
        "\n",
        "print(sum(range(5),-1))\n",
        "from numpy import *\n",
        "print(sum(range(5),-1))\n",
        "```"
      ]
    },
    {
      "cell_type": "code",
      "source": [
        "print(sum(range(5),-1))\n",
        "from numpy import *\n",
        "print(sum(range(5),-1))"
      ],
      "metadata": {
        "colab": {
          "base_uri": "https://localhost:8080/"
        },
        "id": "P-j223-_4Vbf",
        "outputId": "d8300475-5502-411f-ccbd-e00dd42b815f"
      },
      "execution_count": 7,
      "outputs": [
        {
          "output_type": "stream",
          "name": "stdout",
          "text": [
            "9\n",
            "10\n"
          ]
        }
      ]
    },
    {
      "cell_type": "markdown",
      "metadata": {
        "id": "1XXNoamgX2DP"
      },
      "source": [
        "#### 27. Consider an integer vector Z, which of these expressions are legal?\n",
        "(★☆☆)\n",
        "```python\n",
        "Z**Z     \n",
        "2 << Z >> 2\n",
        "Z <- Z\n",
        "1j*Z\n",
        "Z/1/1\n",
        "Z<Z>Z\n",
        "```"
      ]
    },
    {
      "cell_type": "markdown",
      "source": [
        "The legal expressions are:\n",
        "\n",
        "Z**Z\n",
        "2 << Z >> 2\n",
        "1j*Z\n",
        "Z/1/1\n",
        "The illegal expressions are:\n",
        "\n",
        "Z <- Z\n",
        "Z<Z>Z"
      ],
      "metadata": {
        "id": "wPjeleog9HZb"
      }
    },
    {
      "cell_type": "code",
      "execution_count": null,
      "metadata": {
        "id": "-oZDfcLQX2DP"
      },
      "outputs": [],
      "source": []
    },
    {
      "cell_type": "markdown",
      "metadata": {
        "id": "Qrdsxt7TX2DQ"
      },
      "source": [
        "#### 28. What are the result of the following expressions?\n",
        "```python\n",
        "np.array(0) / np.array(0)\n",
        "np.array(0) // np.array(0)\n",
        "np.array([np.nan]).astype(int).astype(float)\n",
        "```"
      ]
    },
    {
      "cell_type": "code",
      "execution_count": 8,
      "metadata": {
        "colab": {
          "base_uri": "https://localhost:8080/"
        },
        "id": "aAP3m18dX2DQ",
        "outputId": "193f3d82-4b27-4659-de38-4d828203640e"
      },
      "outputs": [
        {
          "output_type": "stream",
          "name": "stderr",
          "text": [
            "<ipython-input-8-cd809174da5d>:1: RuntimeWarning: invalid value encountered in divide\n",
            "  np.array(0) / np.array(0)\n",
            "<ipython-input-8-cd809174da5d>:2: RuntimeWarning: divide by zero encountered in floor_divide\n",
            "  np.array(0) // np.array(0)\n",
            "<ipython-input-8-cd809174da5d>:3: RuntimeWarning: invalid value encountered in cast\n",
            "  np.array([np.nan]).astype(int).astype(float)\n"
          ]
        },
        {
          "output_type": "execute_result",
          "data": {
            "text/plain": [
              "array([-9.22337204e+18])"
            ]
          },
          "metadata": {},
          "execution_count": 8
        }
      ],
      "source": [
        "np.array(0) / np.array(0)\n",
        "np.array(0) // np.array(0)\n",
        "np.array([np.nan]).astype(int).astype(float)"
      ]
    },
    {
      "cell_type": "markdown",
      "metadata": {
        "id": "wMaJwDX-X2DR"
      },
      "source": [
        "#### 29. How to round away from zero a float array ? (★☆☆)"
      ]
    },
    {
      "cell_type": "code",
      "execution_count": 9,
      "metadata": {
        "colab": {
          "base_uri": "https://localhost:8080/"
        },
        "id": "UiNlSj6lX2DS",
        "outputId": "e1290c55-72a0-4f91-fdc6-bb1a2a14c525"
      },
      "outputs": [
        {
          "output_type": "stream",
          "name": "stdout",
          "text": [
            "[ 2.  3. -1. -2.  0.]\n"
          ]
        }
      ],
      "source": [
        "arr = np.array([1.2, 2.5, -1.2, -2.5, 0.0])\n",
        "rounded_arr = np.ceil(arr)\n",
        "print(rounded_arr)"
      ]
    },
    {
      "cell_type": "markdown",
      "metadata": {
        "id": "RDw2tpxdX2DT"
      },
      "source": [
        "#### 30. How to find common values between two arrays? (★☆☆)"
      ]
    },
    {
      "cell_type": "code",
      "execution_count": 10,
      "metadata": {
        "colab": {
          "base_uri": "https://localhost:8080/"
        },
        "id": "o2Jr7hGDX2DU",
        "outputId": "5833c5ff-4863-47c0-e161-d02cb8393ed4"
      },
      "outputs": [
        {
          "output_type": "stream",
          "name": "stdout",
          "text": [
            "[3 4 5]\n"
          ]
        }
      ],
      "source": [
        "array_1 = np.array([1, 2, 3, 4, 5])\n",
        "array_2 = np.array([3, 4, 5, 6, 7])\n",
        "common_values = np.intersect1d(array_1, array_2)\n",
        "print(common_values)"
      ]
    },
    {
      "cell_type": "code",
      "source": [],
      "metadata": {
        "id": "UEjy5Rk5-Z7B"
      },
      "execution_count": null,
      "outputs": []
    }
  ],
  "metadata": {
    "kernelspec": {
      "display_name": "Python 3",
      "language": "python",
      "name": "python3"
    },
    "language_info": {
      "codemirror_mode": {
        "name": "ipython",
        "version": 3
      },
      "file_extension": ".py",
      "mimetype": "text/x-python",
      "name": "python",
      "nbconvert_exporter": "python",
      "pygments_lexer": "ipython3",
      "version": "3.7.4"
    },
    "colab": {
      "provenance": [],
      "include_colab_link": true
    }
  },
  "nbformat": 4,
  "nbformat_minor": 0
}
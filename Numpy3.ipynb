{
  "cells": [
    {
      "cell_type": "markdown",
      "metadata": {
        "id": "view-in-github",
        "colab_type": "text"
      },
      "source": [
        "<a href=\"https://colab.research.google.com/github/bonareri/Python-Data-Analysis/blob/main/Numpy3.ipynb\" target=\"_parent\"><img src=\"https://colab.research.google.com/assets/colab-badge.svg\" alt=\"Open In Colab\"/></a>"
      ]
    },
    {
      "cell_type": "markdown",
      "metadata": {
        "id": "NKlVrEC95cDW"
      },
      "source": [
        "# Numpy Exercise 3\n",
        "\n",
        "### All of the questions in this exercise are attributed to rougier/numpy-100"
      ]
    },
    {
      "cell_type": "code",
      "execution_count": null,
      "metadata": {
        "id": "j4aYCE3d5cDh"
      },
      "outputs": [],
      "source": []
    },
    {
      "cell_type": "markdown",
      "metadata": {
        "id": "35V9vU6C5cDk"
      },
      "source": [
        "#### 31. How to ignore all numpy warnings (not recommended)? (★☆☆)"
      ]
    },
    {
      "cell_type": "code",
      "execution_count": 1,
      "metadata": {
        "colab": {
          "base_uri": "https://localhost:8080/"
        },
        "id": "pdr9qKus5cDn",
        "outputId": "67d5a3ab-5f75-4471-f534-60aacf726cd6"
      },
      "outputs": [
        {
          "output_type": "execute_result",
          "data": {
            "text/plain": [
              "array([inf, inf, inf])"
            ]
          },
          "metadata": {},
          "execution_count": 1
        }
      ],
      "source": [
        "import warnings\n",
        "import numpy as np\n",
        "\n",
        "#ignore all warnings\n",
        "warnings.filterwarnings('ignore')\n",
        "\n",
        "#example of code that might give a warning\n",
        "np.array([1,2,3])/0\n"
      ]
    },
    {
      "cell_type": "markdown",
      "metadata": {
        "id": "jBudLXYY5cDo"
      },
      "source": [
        "#### 32. Is the following expressions true? (★☆☆)\n",
        "```python\n",
        "np.sqrt(-1) == np.emath.sqrt(-1)\n",
        "np.sqrt(-1) will produce a warning and result in nan (Not a Number) because the standard numpy.sqrt function is intended for real numbers and does not handle negative inputs as complex numbers.\n",
        "np.emath.sqrt(-1), on the other hand, will return a complex number because np.emath.sqrt (from the numpy.emath module) is designed to handle complex numbers. So np.emath.sqrt(-1) will output 1j, which is the imaginary unit.\n",
        "```"
      ]
    },
    {
      "cell_type": "code",
      "execution_count": 2,
      "metadata": {
        "colab": {
          "base_uri": "https://localhost:8080/"
        },
        "id": "o7mHGvKR5cDp",
        "outputId": "42ef3757-21df-4dfc-c9ce-151ab61e3815"
      },
      "outputs": [
        {
          "output_type": "execute_result",
          "data": {
            "text/plain": [
              "False"
            ]
          },
          "metadata": {},
          "execution_count": 2
        }
      ],
      "source": [
        "np.sqrt(-1) == np.emath.sqrt(-1)"
      ]
    },
    {
      "cell_type": "markdown",
      "metadata": {
        "id": "MRyfFaEJ5cDq"
      },
      "source": [
        "#### 33. How to get the dates of yesterday, today and tomorrow? (★☆☆)"
      ]
    },
    {
      "cell_type": "code",
      "execution_count": 3,
      "metadata": {
        "colab": {
          "base_uri": "https://localhost:8080/"
        },
        "id": "oQbv-4XB5cDr",
        "outputId": "faf1441d-7cf3-4a33-deab-90781faf2394"
      },
      "outputs": [
        {
          "output_type": "stream",
          "name": "stdout",
          "text": [
            "Today's date: 2024-10-30\n",
            "Yesterday's date: 2024-10-29\n",
            "Tomorrow's date: 2024-10-31\n"
          ]
        }
      ],
      "source": [
        "#Todays date\n",
        "today = np.datetime64('today', 'D')\n",
        "\n",
        "#Yesterdays date\n",
        "yesterday = today - np.timedelta64(1, 'D')\n",
        "\n",
        "#Tomorrows date\n",
        "tomorrow = today + np.timedelta64(1, 'D')\n",
        "\n",
        "print(\"Today's date:\", today)\n",
        "print(\"Yesterday's date:\", yesterday)\n",
        "print(\"Tomorrow's date:\", tomorrow)\n"
      ]
    },
    {
      "cell_type": "markdown",
      "metadata": {
        "id": "eeyO_KOy5cDs"
      },
      "source": [
        "#### 34. How to get all the dates corresponding to the month of July 2016? (★★☆)"
      ]
    },
    {
      "cell_type": "code",
      "execution_count": 4,
      "metadata": {
        "colab": {
          "base_uri": "https://localhost:8080/"
        },
        "id": "4nVYIbT95cDt",
        "outputId": "cc2c21fd-d283-44e8-9287-c5d9c4831eba"
      },
      "outputs": [
        {
          "output_type": "stream",
          "name": "stdout",
          "text": [
            "['2016-07-01' '2016-07-02' '2016-07-03' '2016-07-04' '2016-07-05'\n",
            " '2016-07-06' '2016-07-07' '2016-07-08' '2016-07-09' '2016-07-10'\n",
            " '2016-07-11' '2016-07-12' '2016-07-13' '2016-07-14' '2016-07-15'\n",
            " '2016-07-16' '2016-07-17' '2016-07-18' '2016-07-19' '2016-07-20'\n",
            " '2016-07-21' '2016-07-22' '2016-07-23' '2016-07-24' '2016-07-25'\n",
            " '2016-07-26' '2016-07-27' '2016-07-28' '2016-07-29' '2016-07-30'\n",
            " '2016-07-31']\n"
          ]
        }
      ],
      "source": [
        "#Defines start and end of dates in July 2016\n",
        "start_date = np.datetime64('2016-07-01')\n",
        "end_date = np.datetime64('2016-08-01')\n",
        "\n",
        "#Generate all dates within this range\n",
        "july_2016_dates = np.arange(start_date, end_date, dtype='datetime64[D]')\n",
        "\n",
        "print(july_2016_dates)"
      ]
    },
    {
      "cell_type": "markdown",
      "metadata": {
        "id": "TqohB_6S5cDu"
      },
      "source": [
        "#### 35. How to compute ((A+B)*(-A/2)) in place (without copy)? (★★☆)"
      ]
    },
    {
      "cell_type": "code",
      "execution_count": 8,
      "metadata": {
        "colab": {
          "base_uri": "https://localhost:8080/"
        },
        "id": "46U22i9k5cDu",
        "outputId": "4da720e9-de89-4f2c-f54c-531f79f0c197"
      },
      "outputs": [
        {
          "output_type": "stream",
          "name": "stdout",
          "text": [
            "[ -2.5  -7.  -13.5]\n"
          ]
        }
      ],
      "source": [
        "# Example arrays\n",
        "A = np.array([1, 2, 3], dtype=float)\n",
        "B = np.array([4, 5, 6], dtype=float)\n",
        "\n",
        "# Compute A + B and store in A\n",
        "A += B\n",
        "\n",
        "# Multiply by -original_A/2\n",
        "original_A = A - B\n",
        "A *= -original_A / 2\n",
        "\n",
        "print(A)"
      ]
    },
    {
      "cell_type": "markdown",
      "metadata": {
        "id": "XsL-QTsw5cDv"
      },
      "source": [
        "#### 36. Extract the integer part of a random array of positive numbers using 4 different methods (★★☆)"
      ]
    },
    {
      "cell_type": "code",
      "execution_count": 9,
      "metadata": {
        "colab": {
          "base_uri": "https://localhost:8080/"
        },
        "id": "UqLwq1BP5cDv",
        "outputId": "d7b0de1c-7636-424a-edde-ddf3d3d13864"
      },
      "outputs": [
        {
          "output_type": "stream",
          "name": "stdout",
          "text": [
            "Original Array: [47.32306709 93.40255091  7.75202925 61.92893526 46.5704568  23.7638914\n",
            " 24.74072533 70.9284335  69.55699091 15.66653408]\n",
            "Integer Part using np.floor(): [47 93  7 61 46 23 24 70 69 15]\n"
          ]
        }
      ],
      "source": [
        "# Generate a random array of positive numbers\n",
        "random_array = np.random.rand(10) * 100  # Random numbers between 0 and 100\n",
        "\n",
        "# Using np.floor()\n",
        "integer_part_floor = np.floor(random_array).astype(int)\n",
        "\n",
        "print(\"Original Array:\", random_array)\n",
        "print(\"Integer Part using np.floor():\", integer_part_floor)\n"
      ]
    },
    {
      "cell_type": "markdown",
      "metadata": {
        "id": "IiXOPjFS5cDv"
      },
      "source": [
        "#### 37. Create a 5x5 matrix with row values ranging from 0 to 4 (★★☆)"
      ]
    },
    {
      "cell_type": "code",
      "execution_count": 11,
      "metadata": {
        "colab": {
          "base_uri": "https://localhost:8080/"
        },
        "id": "1SFratHY5cDw",
        "outputId": "d59f51ac-ca2a-4819-e901-c085c4322abd"
      },
      "outputs": [
        {
          "output_type": "stream",
          "name": "stdout",
          "text": [
            "[[0 1 2 3 4]\n",
            " [0 1 2 3 4]\n",
            " [0 1 2 3 4]\n",
            " [0 1 2 3 4]\n",
            " [0 1 2 3 4]]\n"
          ]
        }
      ],
      "source": [
        "matrix = np.tile(np.arange(0, 5), (5, 1))\n",
        "\n",
        "print(matrix)"
      ]
    },
    {
      "cell_type": "markdown",
      "metadata": {
        "id": "PRnT05_E5cDw"
      },
      "source": [
        "#### 38. Consider a generator function that generates 10 integers and use it to build an array (★☆☆)"
      ]
    },
    {
      "cell_type": "code",
      "execution_count": 13,
      "metadata": {
        "colab": {
          "base_uri": "https://localhost:8080/"
        },
        "id": "ENsMcf4y5cDx",
        "outputId": "e6f43970-1fda-440c-a6cd-bfe1d52be111"
      },
      "outputs": [
        {
          "output_type": "stream",
          "name": "stdout",
          "text": [
            "Generated array: [23 69 94  8 86 49 84 12 40 20]\n"
          ]
        }
      ],
      "source": [
        "#creating the function\n",
        "def generator_function(n):\n",
        "    for _ in range(n):\n",
        "        yield np.random.randint(1, 100)\n",
        "\n",
        "gen = generator_function(10)\n",
        "\n",
        "#using the function to create an array\n",
        "array = np.array(list(gen))\n",
        "\n",
        "print(\"Generated array:\", array)\n"
      ]
    },
    {
      "cell_type": "markdown",
      "metadata": {
        "id": "dJ1xAsN55cDy"
      },
      "source": [
        "#### 39. Create a vector of size 10 with values ranging from 0 to 1, both excluded (★★☆)"
      ]
    },
    {
      "cell_type": "code",
      "execution_count": 15,
      "metadata": {
        "colab": {
          "base_uri": "https://localhost:8080/"
        },
        "id": "hCwcfbxm5cDy",
        "outputId": "7126ec46-60aa-473f-c5cd-5321c6954ac5"
      },
      "outputs": [
        {
          "output_type": "stream",
          "name": "stdout",
          "text": [
            "[0.17815677 0.85880207 0.9836539  0.39506985 0.9467114  0.58170192\n",
            " 0.21736346 0.48325741 0.39072392 0.2072666 ]\n"
          ]
        }
      ],
      "source": [
        "vector = np.random.uniform(0, 1, size=10)\n",
        "\n",
        "print(vector)\n"
      ]
    },
    {
      "cell_type": "markdown",
      "metadata": {
        "id": "20Jy4wfy5cDz"
      },
      "source": [
        "#### 40. Create a random vector of size 10 and sort it (★★☆)"
      ]
    },
    {
      "cell_type": "code",
      "execution_count": 20,
      "metadata": {
        "colab": {
          "base_uri": "https://localhost:8080/"
        },
        "id": "ApkAyAhp5cDz",
        "outputId": "504be9c1-215b-4c8c-95e1-b8447f414b67"
      },
      "outputs": [
        {
          "output_type": "stream",
          "name": "stdout",
          "text": [
            "Rndom Vector : [0.68624662 0.06351424 0.4523015  0.97881948 0.59014065 0.68431183\n",
            " 0.17401809 0.45472539 0.61141234 0.51028339]\n",
            "Sorted Vector : [0.06351424 0.17401809 0.4523015  0.45472539 0.51028339 0.59014065\n",
            " 0.61141234 0.68431183 0.68624662 0.97881948]\n"
          ]
        }
      ],
      "source": [
        "random_vector = np.random.rand(10)\n",
        "\n",
        "sorted_vector = np.sort(random_vector)\n",
        "\n",
        "print(\"Rndom Vector :\",random_vector)\n",
        "print(\"Sorted Vector :\", sorted_vector)"
      ]
    },
    {
      "cell_type": "markdown",
      "metadata": {
        "id": "91Vv3Q-l5cD0"
      },
      "source": [
        "#### 41. How to sum a small array faster than np.sum? (★★☆)"
      ]
    },
    {
      "cell_type": "code",
      "execution_count": 21,
      "metadata": {
        "colab": {
          "base_uri": "https://localhost:8080/"
        },
        "id": "D0lOVPul5cD0",
        "outputId": "c8dc5a36-e6b5-431a-82db-a34960f315eb"
      },
      "outputs": [
        {
          "output_type": "stream",
          "name": "stdout",
          "text": [
            "Sum using built-in sum: 15\n"
          ]
        }
      ],
      "source": [
        "small_array = np.array([1, 2, 3, 4, 5])\n",
        "\n",
        "# Using built-in sum\n",
        "result = sum(small_array)\n",
        "print(\"Sum using built-in sum:\", result)\n"
      ]
    },
    {
      "cell_type": "markdown",
      "metadata": {
        "id": "MjEj0TVC5cD0"
      },
      "source": [
        "#### 42. Consider two random array A and B, check if they are equal (★★☆)"
      ]
    },
    {
      "cell_type": "code",
      "execution_count": 22,
      "metadata": {
        "colab": {
          "base_uri": "https://localhost:8080/"
        },
        "id": "8GWJgeFI5cD1",
        "outputId": "460a6a1c-4fed-4ea2-f1f4-478d08fb7066"
      },
      "outputs": [
        {
          "output_type": "stream",
          "name": "stdout",
          "text": [
            "Array A: [0.90464301 0.39854976 0.03431627 0.03964019 0.91644312]\n",
            "Array B: [0.58068928 0.997978   0.83724863 0.31362283 0.58244002]\n",
            "Are A and B equal? False\n"
          ]
        }
      ],
      "source": [
        "A = np.random.rand(5)  # Random array of size 5\n",
        "B = np.random.rand(5)  # Another random array of size 5\n",
        "\n",
        "#Checking if the arrays are equal\n",
        "are_equal = np.array_equal(A, B)\n",
        "\n",
        "print(\"Array A:\", A)\n",
        "print(\"Array B:\", B)\n",
        "print(\"Are A and B equal?\", are_equal)\n"
      ]
    },
    {
      "cell_type": "markdown",
      "metadata": {
        "id": "OQuG-Pw75cD1"
      },
      "source": [
        "#### 43. Make an array immutable (read-only) (★★☆)"
      ]
    },
    {
      "cell_type": "code",
      "execution_count": 23,
      "metadata": {
        "colab": {
          "base_uri": "https://localhost:8080/"
        },
        "id": "tvvvJUsn5cD1",
        "outputId": "f19c40c3-554f-4694-9dbf-3a6ec5baa280"
      },
      "outputs": [
        {
          "output_type": "stream",
          "name": "stdout",
          "text": [
            "Array: [1 2 3 4 5]\n",
            "Is the array writable? False\n",
            "Error: assignment destination is read-only\n"
          ]
        }
      ],
      "source": [
        "array = np.array([1, 2, 3, 4, 5])\n",
        "\n",
        "#Making the array read-only\n",
        "array.flags.writeable = False\n",
        "\n",
        "# Displaying the array and its writeable status\n",
        "print(\"Array:\", array)\n",
        "print(\"Is the array writable?\", array.flags.writeable)\n",
        "\n",
        "#Trying to modify the array (this will raise an error)\n",
        "try:\n",
        "    array[0] = 10  # Attempt to modify the array\n",
        "except ValueError as e:\n",
        "    print(\"Error:\", e)\n"
      ]
    },
    {
      "cell_type": "markdown",
      "metadata": {
        "id": "iEKn_ybE5cD2"
      },
      "source": [
        "#### 44. Consider a random 10x2 matrix representing cartesian coordinates, convert them to polar coordinates (★★☆)"
      ]
    },
    {
      "cell_type": "code",
      "execution_count": 24,
      "metadata": {
        "colab": {
          "base_uri": "https://localhost:8080/"
        },
        "id": "p03RKQs55cD2",
        "outputId": "ef2d99a6-d7aa-4c62-d542-a3c7c67f61c7"
      },
      "outputs": [
        {
          "output_type": "stream",
          "name": "stdout",
          "text": [
            "Cartesian Coordinates:\n",
            " [[0.55034366 0.35379031]\n",
            " [0.07381896 0.38124192]\n",
            " [0.78349645 0.70279951]\n",
            " [0.98541089 0.52197022]\n",
            " [0.7250379  0.8964666 ]\n",
            " [0.8818217  0.59871567]\n",
            " [0.00570657 0.87276166]\n",
            " [0.97214462 0.59292406]\n",
            " [0.35090896 0.11553689]\n",
            " [0.8578311  0.16194596]]\n",
            "\n",
            "Polar Coordinates (r, θ):\n",
            " [[0.65425204 0.57133485]\n",
            " [0.38832285 1.37953551]\n",
            " [1.05251786 0.73115743]\n",
            " [1.11511772 0.48712282]\n",
            " [1.15296675 0.89072889]\n",
            " [1.06586583 0.59646051]\n",
            " [0.87278031 1.5642579 ]\n",
            " [1.13869403 0.54767692]\n",
            " [0.36943994 0.31807137]\n",
            " [0.87298378 0.18658938]]\n"
          ]
        }
      ],
      "source": [
        "#Generate a random 10x2 matrix representing Cartesian coordinates\n",
        "cartesian_coords = np.random.rand(10, 2)  # Random values between 0 and 1\n",
        "\n",
        "# Extract x and y coordinates\n",
        "x = cartesian_coords[:, 0]\n",
        "y = cartesian_coords[:, 1]\n",
        "\n",
        "# Calculate polar coordinates\n",
        "r = np.sqrt(x**2 + y**2)  # Calculate the radius\n",
        "theta = np.arctan2(y, x)  # Calculate the angle in radians\n",
        "\n",
        "# Combine r and theta into a single array\n",
        "polar_coords = np.column_stack((r, theta))\n",
        "\n",
        "# Display results\n",
        "print(\"Cartesian Coordinates:\\n\", cartesian_coords)\n",
        "print(\"\\nPolar Coordinates (r, θ):\\n\", polar_coords)\n"
      ]
    },
    {
      "cell_type": "markdown",
      "metadata": {
        "id": "_zzzFg785cD3"
      },
      "source": [
        "#### 45. Create random vector of size 10 and replace the maximum value by 0 (★★☆)"
      ]
    },
    {
      "cell_type": "code",
      "execution_count": 26,
      "metadata": {
        "colab": {
          "base_uri": "https://localhost:8080/"
        },
        "id": "bhNkOYa15cD4",
        "outputId": "a91a74c2-07d3-4931-fdc8-c918913a5e17"
      },
      "outputs": [
        {
          "output_type": "stream",
          "name": "stdout",
          "text": [
            "Original Vector: [0.65834706 0.30028958 0.42204545 0.73199279 0.         0.67807928\n",
            " 0.34021736 0.57683974 0.31782812 0.0333056 ]\n",
            "Vector with Maximum Value Replaced by 0: [0.65834706 0.30028958 0.42204545 0.73199279 0.         0.67807928\n",
            " 0.34021736 0.57683974 0.31782812 0.0333056 ]\n"
          ]
        }
      ],
      "source": [
        "random_vector = np.random.rand(10)  # Random vector of size 10\n",
        "\n",
        "# Find the index of the maximum value\n",
        "max_index = np.argmax(random_vector)\n",
        "\n",
        "# Replace the maximum value with 0\n",
        "random_vector[max_index] = 0\n",
        "\n",
        "print(\"Original Vector:\", random_vector)\n",
        "print(\"Vector with Maximum Value Replaced by 0:\", random_vector)"
      ]
    },
    {
      "cell_type": "code",
      "source": [],
      "metadata": {
        "id": "eHk7RjMoGSJw"
      },
      "execution_count": null,
      "outputs": []
    }
  ],
  "metadata": {
    "kernelspec": {
      "display_name": "Python 3",
      "language": "python",
      "name": "python3"
    },
    "language_info": {
      "codemirror_mode": {
        "name": "ipython",
        "version": 3
      },
      "file_extension": ".py",
      "mimetype": "text/x-python",
      "name": "python",
      "nbconvert_exporter": "python",
      "pygments_lexer": "ipython3",
      "version": "3.7.4"
    },
    "colab": {
      "provenance": [],
      "include_colab_link": true
    }
  },
  "nbformat": 4,
  "nbformat_minor": 0
}
{
  "cells": [
    {
      "cell_type": "markdown",
      "metadata": {
        "id": "view-in-github",
        "colab_type": "text"
      },
      "source": [
        "<a href=\"https://colab.research.google.com/github/bonareri/Python-Data-Analysis/blob/main/Exercises_(19).ipynb\" target=\"_parent\"><img src=\"https://colab.research.google.com/assets/colab-badge.svg\" alt=\"Open In Colab\"/></a>"
      ]
    },
    {
      "cell_type": "markdown",
      "metadata": {
        "id": "MaTQw-zW5XBW"
      },
      "source": [
        "# Getting Financial Data - Google Finance"
      ]
    },
    {
      "cell_type": "markdown",
      "metadata": {
        "id": "yEMvSXhH5XBg"
      },
      "source": [
        "### Introduction:\n",
        "\n",
        "This time you will get data from a website.\n",
        "\n",
        "\n",
        "### Step 1. Import the necessary libraries"
      ]
    },
    {
      "cell_type": "code",
      "execution_count": 1,
      "metadata": {
        "id": "K29xSVqZ5XBk"
      },
      "outputs": [],
      "source": [
        "#importing libraries\n",
        "import pandas as pd\n",
        "import numpy as np\n",
        "import datetime as dt\n",
        "import pandas_datareader.data as web"
      ]
    },
    {
      "cell_type": "markdown",
      "metadata": {
        "id": "CZllAkY65XBn"
      },
      "source": [
        "### Step 2. Create your time range (start and end variables). The start date should be 01/01/2015 and the end should today (whatever your today is)"
      ]
    },
    {
      "cell_type": "code",
      "execution_count": 7,
      "metadata": {
        "colab": {
          "base_uri": "https://localhost:8080/"
        },
        "id": "XQ82kspa5XBp",
        "outputId": "ef0aa95e-4398-4b48-fd14-2257a80dc15d"
      },
      "outputs": [
        {
          "output_type": "execute_result",
          "data": {
            "text/plain": [
              "(datetime.datetime(2015, 1, 1, 0, 0),\n",
              " datetime.datetime(2024, 11, 19, 14, 58, 1, 859555))"
            ]
          },
          "metadata": {},
          "execution_count": 7
        }
      ],
      "source": [
        "# Define start and end dates using datetime as dt\n",
        "start_date = dt.datetime(2015, 1, 1)\n",
        "end_date = dt.datetime.today()\n",
        "\n",
        "# Display the start and end dates\n",
        "start_date, end_date\n"
      ]
    },
    {
      "cell_type": "markdown",
      "metadata": {
        "id": "u5LxAkB35XBq"
      },
      "source": [
        "### Step 3. Select the Apple, Tesla, Twitter, IBM, LinkedIn stocks symbols and assign them to a variable called stocks"
      ]
    },
    {
      "cell_type": "code",
      "execution_count": 3,
      "metadata": {
        "colab": {
          "base_uri": "https://localhost:8080/"
        },
        "id": "08s7ePQz5XBr",
        "outputId": "257b6554-f06f-47c5-e33e-2a521ea69401"
      },
      "outputs": [
        {
          "output_type": "execute_result",
          "data": {
            "text/plain": [
              "['AAPL', 'TSLA', 'TWTR', 'IBM', 'MSFT']"
            ]
          },
          "metadata": {},
          "execution_count": 3
        }
      ],
      "source": [
        "# Stock symbols for Apple, Tesla, Twitter, IBM, and LinkedIn\n",
        "stocks = ['AAPL', 'TSLA', 'TWTR', 'IBM', 'MSFT']\n",
        "\n",
        "# Display the stock symbols\n",
        "stocks"
      ]
    },
    {
      "cell_type": "markdown",
      "metadata": {
        "id": "-f9P2MsL5XBs"
      },
      "source": [
        "### Step 4. Read the data from google, assign to df and print it"
      ]
    },
    {
      "cell_type": "code",
      "source": [
        "!pip install pandas_datareader"
      ],
      "metadata": {
        "colab": {
          "base_uri": "https://localhost:8080/"
        },
        "id": "Fvillqb77BwB",
        "outputId": "b491fc80-5c89-45c1-883a-57c5af3f1061"
      },
      "execution_count": 6,
      "outputs": [
        {
          "output_type": "stream",
          "name": "stdout",
          "text": [
            "Requirement already satisfied: pandas_datareader in /usr/local/lib/python3.10/dist-packages (0.10.0)\n",
            "Requirement already satisfied: lxml in /usr/local/lib/python3.10/dist-packages (from pandas_datareader) (5.3.0)\n",
            "Requirement already satisfied: pandas>=0.23 in /usr/local/lib/python3.10/dist-packages (from pandas_datareader) (2.2.2)\n",
            "Requirement already satisfied: requests>=2.19.0 in /usr/local/lib/python3.10/dist-packages (from pandas_datareader) (2.32.3)\n",
            "Requirement already satisfied: numpy>=1.22.4 in /usr/local/lib/python3.10/dist-packages (from pandas>=0.23->pandas_datareader) (1.26.4)\n",
            "Requirement already satisfied: python-dateutil>=2.8.2 in /usr/local/lib/python3.10/dist-packages (from pandas>=0.23->pandas_datareader) (2.8.2)\n",
            "Requirement already satisfied: pytz>=2020.1 in /usr/local/lib/python3.10/dist-packages (from pandas>=0.23->pandas_datareader) (2024.2)\n",
            "Requirement already satisfied: tzdata>=2022.7 in /usr/local/lib/python3.10/dist-packages (from pandas>=0.23->pandas_datareader) (2024.2)\n",
            "Requirement already satisfied: charset-normalizer<4,>=2 in /usr/local/lib/python3.10/dist-packages (from requests>=2.19.0->pandas_datareader) (3.4.0)\n",
            "Requirement already satisfied: idna<4,>=2.5 in /usr/local/lib/python3.10/dist-packages (from requests>=2.19.0->pandas_datareader) (3.10)\n",
            "Requirement already satisfied: urllib3<3,>=1.21.1 in /usr/local/lib/python3.10/dist-packages (from requests>=2.19.0->pandas_datareader) (2.2.3)\n",
            "Requirement already satisfied: certifi>=2017.4.17 in /usr/local/lib/python3.10/dist-packages (from requests>=2.19.0->pandas_datareader) (2024.8.30)\n",
            "Requirement already satisfied: six>=1.5 in /usr/local/lib/python3.10/dist-packages (from python-dateutil>=2.8.2->pandas>=0.23->pandas_datareader) (1.16.0)\n"
          ]
        }
      ]
    },
    {
      "cell_type": "code",
      "execution_count": 11,
      "metadata": {
        "colab": {
          "base_uri": "https://localhost:8080/"
        },
        "id": "o6XF5kl65XBt",
        "outputId": "277916ee-f3c7-4d32-948e-fa2a009b945d"
      },
      "outputs": [
        {
          "output_type": "stream",
          "name": "stderr",
          "text": [
            "[*********************100%***********************]  5 of 5 completed\n",
            "ERROR:yfinance:\n",
            "1 Failed download:\n",
            "ERROR:yfinance:['TWTR']: YFTzMissingError('$%ticker%: possibly delisted; no timezone found')\n"
          ]
        },
        {
          "output_type": "stream",
          "name": "stdout",
          "text": [
            "Price                      Adj Close                                         \\\n",
            "Ticker                          AAPL         IBM       MSFT       TSLA TWTR   \n",
            "Date                                                                          \n",
            "2015-01-02 00:00:00+00:00  24.347174  100.658310  40.232849  14.620667  NaN   \n",
            "2015-01-05 00:00:00+00:00  23.661276   99.074478  39.862877  14.006000  NaN   \n",
            "2015-01-06 00:00:00+00:00  23.663502   96.937836  39.277821  14.085333  NaN   \n",
            "2015-01-07 00:00:00+00:00  23.995317   96.304291  39.776833  14.063333  NaN   \n",
            "2015-01-08 00:00:00+00:00  24.917271   98.397446  40.946980  14.041333  NaN   \n",
            "\n",
            "Price                          Close                                         \\\n",
            "Ticker                          AAPL         IBM       MSFT       TSLA TWTR   \n",
            "Date                                                                          \n",
            "2015-01-02 00:00:00+00:00  27.332500  154.933075  46.759998  14.620667  NaN   \n",
            "2015-01-05 00:00:00+00:00  26.562500  152.495224  46.330002  14.006000  NaN   \n",
            "2015-01-06 00:00:00+00:00  26.565001  149.206497  45.650002  14.085333  NaN   \n",
            "2015-01-07 00:00:00+00:00  26.937500  148.231354  46.230000  14.063333  NaN   \n",
            "2015-01-08 00:00:00+00:00  27.972500  151.453156  47.590000  14.041333  NaN   \n",
            "\n",
            "Price                      ...       Open                                    \\\n",
            "Ticker                     ...       AAPL         IBM       MSFT       TSLA   \n",
            "Date                       ...                                                \n",
            "2015-01-02 00:00:00+00:00  ...  27.847500  154.216064  46.660000  14.858000   \n",
            "2015-01-05 00:00:00+00:00  ...  27.072500  154.177826  46.369999  14.303333   \n",
            "2015-01-06 00:00:00+00:00  ...  26.635000  152.648178  46.380001  14.004000   \n",
            "2015-01-07 00:00:00+00:00  ...  26.799999  150.286804  45.980000  14.223333   \n",
            "2015-01-08 00:00:00+00:00  ...  27.307501  149.369019  46.750000  14.187333   \n",
            "\n",
            "Price                              Volume                                    \n",
            "Ticker                    TWTR       AAPL      IBM      MSFT      TSLA TWTR  \n",
            "Date                                                                         \n",
            "2015-01-02 00:00:00+00:00  NaN  212818400  5779673  27913900  71466000  NaN  \n",
            "2015-01-05 00:00:00+00:00  NaN  257142000  5104898  39673900  80527500  NaN  \n",
            "2015-01-06 00:00:00+00:00  NaN  263188400  6429448  36447900  93928500  NaN  \n",
            "2015-01-07 00:00:00+00:00  NaN  160423600  4918083  29114100  44526000  NaN  \n",
            "2015-01-08 00:00:00+00:00  NaN  237458000  4431693  29645200  51637500  NaN  \n",
            "\n",
            "[5 rows x 30 columns]\n"
          ]
        }
      ],
      "source": [
        "import yfinance as yf\n",
        "\n",
        "# Define stock symbols and time range\n",
        "stocks = ['AAPL', 'TSLA', 'TWTR', 'IBM', 'MSFT']\n",
        "start_date = dt.datetime(2015, 1, 1)\n",
        "end_date = dt.datetime.today()\n",
        "\n",
        "# Download the data using yfinance\n",
        "df = yf.download(stocks, start=start_date, end=end_date)\n",
        "\n",
        "# Display the data\n",
        "print(df.head())\n"
      ]
    },
    {
      "cell_type": "markdown",
      "metadata": {
        "id": "L9F76V4J5XBu"
      },
      "source": [
        "### Step 5.  What is the type of structure of df ?"
      ]
    },
    {
      "cell_type": "code",
      "execution_count": 12,
      "metadata": {
        "colab": {
          "base_uri": "https://localhost:8080/"
        },
        "id": "o8odzhWd5XBv",
        "outputId": "2be44e31-fcd2-4087-c83d-99067d095173"
      },
      "outputs": [
        {
          "output_type": "stream",
          "name": "stdout",
          "text": [
            "<class 'pandas.core.frame.DataFrame'>\n"
          ]
        }
      ],
      "source": [
        "print(type(df))"
      ]
    },
    {
      "cell_type": "markdown",
      "metadata": {
        "id": "L8JeQ6YQ5XBw"
      },
      "source": [
        "### Step 6. Print all the Items axis values\n",
        "#### To learn more about the Panel structure go to [documentation](http://pandas.pydata.org/pandas-docs/stable/dsintro.html#panel)"
      ]
    },
    {
      "cell_type": "code",
      "execution_count": 13,
      "metadata": {
        "colab": {
          "base_uri": "https://localhost:8080/"
        },
        "id": "hHj8iYPZ5XBx",
        "outputId": "b8024e91-1989-4bf5-dc0b-ccb0f8237083"
      },
      "outputs": [
        {
          "output_type": "stream",
          "name": "stdout",
          "text": [
            "[DatetimeIndex(['2015-01-02 00:00:00+00:00', '2015-01-05 00:00:00+00:00',\n",
            "               '2015-01-06 00:00:00+00:00', '2015-01-07 00:00:00+00:00',\n",
            "               '2015-01-08 00:00:00+00:00', '2015-01-09 00:00:00+00:00',\n",
            "               '2015-01-12 00:00:00+00:00', '2015-01-13 00:00:00+00:00',\n",
            "               '2015-01-14 00:00:00+00:00', '2015-01-15 00:00:00+00:00',\n",
            "               ...\n",
            "               '2024-11-06 00:00:00+00:00', '2024-11-07 00:00:00+00:00',\n",
            "               '2024-11-08 00:00:00+00:00', '2024-11-11 00:00:00+00:00',\n",
            "               '2024-11-12 00:00:00+00:00', '2024-11-13 00:00:00+00:00',\n",
            "               '2024-11-14 00:00:00+00:00', '2024-11-15 00:00:00+00:00',\n",
            "               '2024-11-18 00:00:00+00:00', '2024-11-19 00:00:00+00:00'],\n",
            "              dtype='datetime64[ns, UTC]', name='Date', length=2488, freq=None), MultiIndex([('Adj Close', 'AAPL'),\n",
            "            ('Adj Close',  'IBM'),\n",
            "            ('Adj Close', 'MSFT'),\n",
            "            ('Adj Close', 'TSLA'),\n",
            "            ('Adj Close', 'TWTR'),\n",
            "            (    'Close', 'AAPL'),\n",
            "            (    'Close',  'IBM'),\n",
            "            (    'Close', 'MSFT'),\n",
            "            (    'Close', 'TSLA'),\n",
            "            (    'Close', 'TWTR'),\n",
            "            (     'High', 'AAPL'),\n",
            "            (     'High',  'IBM'),\n",
            "            (     'High', 'MSFT'),\n",
            "            (     'High', 'TSLA'),\n",
            "            (     'High', 'TWTR'),\n",
            "            (      'Low', 'AAPL'),\n",
            "            (      'Low',  'IBM'),\n",
            "            (      'Low', 'MSFT'),\n",
            "            (      'Low', 'TSLA'),\n",
            "            (      'Low', 'TWTR'),\n",
            "            (     'Open', 'AAPL'),\n",
            "            (     'Open',  'IBM'),\n",
            "            (     'Open', 'MSFT'),\n",
            "            (     'Open', 'TSLA'),\n",
            "            (     'Open', 'TWTR'),\n",
            "            (   'Volume', 'AAPL'),\n",
            "            (   'Volume',  'IBM'),\n",
            "            (   'Volume', 'MSFT'),\n",
            "            (   'Volume', 'TSLA'),\n",
            "            (   'Volume', 'TWTR')],\n",
            "           names=['Price', 'Ticker'])]\n"
          ]
        }
      ],
      "source": [
        "print(df.axes)"
      ]
    },
    {
      "cell_type": "markdown",
      "metadata": {
        "id": "rnIAieuR5XBx"
      },
      "source": [
        "### Step 7. Good, now we know  the data avaiable. Create a dataFrame called vol, with the Volume values."
      ]
    },
    {
      "cell_type": "code",
      "execution_count": 14,
      "metadata": {
        "colab": {
          "base_uri": "https://localhost:8080/"
        },
        "id": "BsPkjunT5XBy",
        "outputId": "e3dc95b0-6d4b-48d1-f18a-1cf8d8742ef0"
      },
      "outputs": [
        {
          "output_type": "stream",
          "name": "stdout",
          "text": [
            "Ticker                          AAPL      IBM      MSFT      TSLA  TWTR\n",
            "Date                                                                   \n",
            "2015-01-02 00:00:00+00:00  212818400  5779673  27913900  71466000   NaN\n",
            "2015-01-05 00:00:00+00:00  257142000  5104898  39673900  80527500   NaN\n",
            "2015-01-06 00:00:00+00:00  263188400  6429448  36447900  93928500   NaN\n",
            "2015-01-07 00:00:00+00:00  160423600  4918083  29114100  44526000   NaN\n",
            "2015-01-08 00:00:00+00:00  237458000  4431693  29645200  51637500   NaN\n"
          ]
        }
      ],
      "source": [
        "vol = df['Volume']\n",
        "print(vol.head())"
      ]
    },
    {
      "cell_type": "markdown",
      "metadata": {
        "id": "z3ID2F_95XBy"
      },
      "source": [
        "### Step 8. Aggregate the data of Volume to weekly\n",
        "#### Hint: Be careful to not sum data from the same week of 2015 and other years."
      ]
    },
    {
      "cell_type": "code",
      "execution_count": 19,
      "metadata": {
        "scrolled": true,
        "colab": {
          "base_uri": "https://localhost:8080/"
        },
        "id": "Fc-GQW_g5XBz",
        "outputId": "89161fad-7015-45f5-be16-c318d7459e8a"
      },
      "outputs": [
        {
          "output_type": "stream",
          "name": "stderr",
          "text": [
            "[*********************100%***********************]  5 of 5 completed\n",
            "ERROR:yfinance:\n",
            "1 Failed download:\n",
            "ERROR:yfinance:['TWTR']: YFTzMissingError('$%ticker%: possibly delisted; no timezone found')\n"
          ]
        },
        {
          "output_type": "stream",
          "name": "stdout",
          "text": [
            "Price                      Adj Close                                         \\\n",
            "Ticker                          AAPL         IBM       MSFT       TSLA TWTR   \n",
            "Date                                                                          \n",
            "2015-01-02 00:00:00+00:00  24.347166  100.658333  40.232861  14.620667  NaN   \n",
            "2015-01-05 00:00:00+00:00  23.661274   99.074455  39.862885  14.006000  NaN   \n",
            "2015-01-06 00:00:00+00:00  23.663502   96.937798  39.277798  14.085333  NaN   \n",
            "2015-01-07 00:00:00+00:00  23.995317   96.304268  39.776833  14.063333  NaN   \n",
            "2015-01-08 00:00:00+00:00  24.917269   98.397461  40.946983  14.041333  NaN   \n",
            "\n",
            "Price                          Close                                         \\\n",
            "Ticker                          AAPL         IBM       MSFT       TSLA TWTR   \n",
            "Date                                                                          \n",
            "2015-01-02 00:00:00+00:00  27.332500  154.933075  46.759998  14.620667  NaN   \n",
            "2015-01-05 00:00:00+00:00  26.562500  152.495224  46.330002  14.006000  NaN   \n",
            "2015-01-06 00:00:00+00:00  26.565001  149.206497  45.650002  14.085333  NaN   \n",
            "2015-01-07 00:00:00+00:00  26.937500  148.231354  46.230000  14.063333  NaN   \n",
            "2015-01-08 00:00:00+00:00  27.972500  151.453156  47.590000  14.041333  NaN   \n",
            "\n",
            "Price                      ...       Open                                    \\\n",
            "Ticker                     ...       AAPL         IBM       MSFT       TSLA   \n",
            "Date                       ...                                                \n",
            "2015-01-02 00:00:00+00:00  ...  27.847500  154.216064  46.660000  14.858000   \n",
            "2015-01-05 00:00:00+00:00  ...  27.072500  154.177826  46.369999  14.303333   \n",
            "2015-01-06 00:00:00+00:00  ...  26.635000  152.648178  46.380001  14.004000   \n",
            "2015-01-07 00:00:00+00:00  ...  26.799999  150.286804  45.980000  14.223333   \n",
            "2015-01-08 00:00:00+00:00  ...  27.307501  149.369019  46.750000  14.187333   \n",
            "\n",
            "Price                              Volume                                    \n",
            "Ticker                    TWTR       AAPL      IBM      MSFT      TSLA TWTR  \n",
            "Date                                                                         \n",
            "2015-01-02 00:00:00+00:00  NaN  212818400  5779673  27913900  71466000  NaN  \n",
            "2015-01-05 00:00:00+00:00  NaN  257142000  5104898  39673900  80527500  NaN  \n",
            "2015-01-06 00:00:00+00:00  NaN  263188400  6429448  36447900  93928500  NaN  \n",
            "2015-01-07 00:00:00+00:00  NaN  160423600  4918083  29114100  44526000  NaN  \n",
            "2015-01-08 00:00:00+00:00  NaN  237458000  4431693  29645200  51637500  NaN  \n",
            "\n",
            "[5 rows x 30 columns]\n",
            "MultiIndex([('Adj Close', 'AAPL'),\n",
            "            ('Adj Close',  'IBM'),\n",
            "            ('Adj Close', 'MSFT'),\n",
            "            ('Adj Close', 'TSLA'),\n",
            "            ('Adj Close', 'TWTR'),\n",
            "            (    'Close', 'AAPL'),\n",
            "            (    'Close',  'IBM'),\n",
            "            (    'Close', 'MSFT'),\n",
            "            (    'Close', 'TSLA'),\n",
            "            (    'Close', 'TWTR'),\n",
            "            (     'High', 'AAPL'),\n",
            "            (     'High',  'IBM'),\n",
            "            (     'High', 'MSFT'),\n",
            "            (     'High', 'TSLA'),\n",
            "            (     'High', 'TWTR'),\n",
            "            (      'Low', 'AAPL'),\n",
            "            (      'Low',  'IBM'),\n",
            "            (      'Low', 'MSFT'),\n",
            "            (      'Low', 'TSLA'),\n",
            "            (      'Low', 'TWTR'),\n",
            "            (     'Open', 'AAPL'),\n",
            "            (     'Open',  'IBM'),\n",
            "            (     'Open', 'MSFT'),\n",
            "            (     'Open', 'TSLA'),\n",
            "            (     'Open', 'TWTR'),\n",
            "            (   'Volume', 'AAPL'),\n",
            "            (   'Volume',  'IBM'),\n",
            "            (   'Volume', 'MSFT'),\n",
            "            (   'Volume', 'TSLA'),\n",
            "            (   'Volume', 'TWTR')],\n",
            "           names=['Price', 'Ticker'])\n",
            "Multi-index columns:\n",
            "[['Adj Close', 'Close', 'High', 'Low', 'Open', 'Volume'], ['AAPL', 'IBM', 'MSFT', 'TSLA', 'TWTR']]\n",
            "Price                          Volume\n",
            "Ticker                           AAPL\n",
            "Date                                 \n",
            "2015-01-05 00:00:00+00:00   469960400\n",
            "2015-01-12 00:00:00+00:00  1074471200\n",
            "2015-01-19 00:00:00+00:00  1018303200\n",
            "2015-01-26 00:00:00+00:00  1017408000\n",
            "2015-02-02 00:00:00+00:00  1891867200\n"
          ]
        }
      ],
      "source": [
        "\n",
        "# Define stock symbols and time range\n",
        "stocks = ['AAPL', 'TSLA', 'TWTR', 'IBM', 'MSFT']\n",
        "start_date = dt.datetime(2015, 1, 1)\n",
        "end_date = dt.datetime.today()\n",
        "\n",
        "# Download the data using yfinance\n",
        "df = yf.download(stocks, start=start_date, end=end_date)\n",
        "\n",
        "# Check the structure of the downloaded data\n",
        "print(df.head())\n",
        "print(df.columns)\n",
        "\n",
        "# Check the column levels (if multi-indexed)\n",
        "if isinstance(df.columns, pd.MultiIndex):\n",
        "    print(\"Multi-index columns:\")\n",
        "    print(df.columns.levels)\n",
        "\n",
        "# Resample to weekly data and aggregate the 'Volume' column (sum of volume for each week)\n",
        "if isinstance(df.columns, pd.MultiIndex):\n",
        "    # Handling multi-index columns if applicable\n",
        "    weekly_df = df.resample('W-MON').agg({\n",
        "        ('Open', 'AAPL'): 'first',  # First price of the week for AAPL, adjust for other stocks similarly\n",
        "        ('High', 'AAPL'): 'max',\n",
        "        ('Low', 'AAPL'): 'min',\n",
        "        ('Close', 'AAPL'): 'last',\n",
        "        ('Adj Close', 'AAPL'): 'last',\n",
        "        ('Volume', 'AAPL'): 'sum'\n",
        "    })\n",
        "else:\n",
        "    weekly_df = df.resample('W-MON').agg({\n",
        "        'Open': 'first',  # First price of the week\n",
        "        'High': 'max',    # Maximum price of the week\n",
        "        'Low': 'min',     # Minimum price of the week\n",
        "        'Close': 'last',  # Last price of the week\n",
        "        'Adj Close': 'last',  # Last adjusted close price of the week\n",
        "        'Volume': 'sum'   # Sum of volume for the week\n",
        "})\n",
        "\n",
        "# Extract the Volume data into a new DataFrame called vol\n",
        "vol = weekly_df[['Volume']]\n",
        "\n",
        "# Display the first few rows of the vol DataFrame\n",
        "print(vol.head())\n"
      ]
    },
    {
      "cell_type": "markdown",
      "metadata": {
        "id": "m7Y0FbW45XBz"
      },
      "source": [
        "### Step 9. Find all the volume traded in the year of 2015"
      ]
    },
    {
      "cell_type": "code",
      "execution_count": 20,
      "metadata": {
        "colab": {
          "base_uri": "https://localhost:8080/"
        },
        "id": "79lQCFvW5XB0",
        "outputId": "a4a3f17d-fb04-4acc-b181-db0b10b3b061"
      },
      "outputs": [
        {
          "output_type": "stream",
          "name": "stderr",
          "text": [
            "[*********************100%***********************]  5 of 5 completed\n",
            "ERROR:yfinance:\n",
            "1 Failed download:\n",
            "ERROR:yfinance:['TWTR']: YFTzMissingError('$%ticker%: possibly delisted; no timezone found')\n"
          ]
        },
        {
          "output_type": "stream",
          "name": "stdout",
          "text": [
            "Price                      Adj Close                                         \\\n",
            "Ticker                          AAPL         IBM       MSFT       TSLA TWTR   \n",
            "Date                                                                          \n",
            "2015-01-02 00:00:00+00:00  24.347166  100.658325  40.232845  14.620667  NaN   \n",
            "2015-01-05 00:00:00+00:00  23.661280   99.074463  39.862869  14.006000  NaN   \n",
            "2015-01-06 00:00:00+00:00  23.663494   96.937820  39.277794  14.085333  NaN   \n",
            "2015-01-07 00:00:00+00:00  23.995316   96.304268  39.776836  14.063333  NaN   \n",
            "2015-01-08 00:00:00+00:00  24.917269   98.397453  40.946999  14.041333  NaN   \n",
            "\n",
            "Price                          Close                                         \\\n",
            "Ticker                          AAPL         IBM       MSFT       TSLA TWTR   \n",
            "Date                                                                          \n",
            "2015-01-02 00:00:00+00:00  27.332500  154.933075  46.759998  14.620667  NaN   \n",
            "2015-01-05 00:00:00+00:00  26.562500  152.495224  46.330002  14.006000  NaN   \n",
            "2015-01-06 00:00:00+00:00  26.565001  149.206497  45.650002  14.085333  NaN   \n",
            "2015-01-07 00:00:00+00:00  26.937500  148.231354  46.230000  14.063333  NaN   \n",
            "2015-01-08 00:00:00+00:00  27.972500  151.453156  47.590000  14.041333  NaN   \n",
            "\n",
            "Price                      ...       Open                                    \\\n",
            "Ticker                     ...       AAPL         IBM       MSFT       TSLA   \n",
            "Date                       ...                                                \n",
            "2015-01-02 00:00:00+00:00  ...  27.847500  154.216064  46.660000  14.858000   \n",
            "2015-01-05 00:00:00+00:00  ...  27.072500  154.177826  46.369999  14.303333   \n",
            "2015-01-06 00:00:00+00:00  ...  26.635000  152.648178  46.380001  14.004000   \n",
            "2015-01-07 00:00:00+00:00  ...  26.799999  150.286804  45.980000  14.223333   \n",
            "2015-01-08 00:00:00+00:00  ...  27.307501  149.369019  46.750000  14.187333   \n",
            "\n",
            "Price                              Volume                                    \n",
            "Ticker                    TWTR       AAPL      IBM      MSFT      TSLA TWTR  \n",
            "Date                                                                         \n",
            "2015-01-02 00:00:00+00:00  NaN  212818400  5779673  27913900  71466000  NaN  \n",
            "2015-01-05 00:00:00+00:00  NaN  257142000  5104898  39673900  80527500  NaN  \n",
            "2015-01-06 00:00:00+00:00  NaN  263188400  6429448  36447900  93928500  NaN  \n",
            "2015-01-07 00:00:00+00:00  NaN  160423600  4918083  29114100  44526000  NaN  \n",
            "2015-01-08 00:00:00+00:00  NaN  237458000  4431693  29645200  51637500  NaN  \n",
            "\n",
            "[5 rows x 30 columns]\n",
            "MultiIndex([('Adj Close', 'AAPL'),\n",
            "            ('Adj Close',  'IBM'),\n",
            "            ('Adj Close', 'MSFT'),\n",
            "            ('Adj Close', 'TSLA'),\n",
            "            ('Adj Close', 'TWTR'),\n",
            "            (    'Close', 'AAPL'),\n",
            "            (    'Close',  'IBM'),\n",
            "            (    'Close', 'MSFT'),\n",
            "            (    'Close', 'TSLA'),\n",
            "            (    'Close', 'TWTR'),\n",
            "            (     'High', 'AAPL'),\n",
            "            (     'High',  'IBM'),\n",
            "            (     'High', 'MSFT'),\n",
            "            (     'High', 'TSLA'),\n",
            "            (     'High', 'TWTR'),\n",
            "            (      'Low', 'AAPL'),\n",
            "            (      'Low',  'IBM'),\n",
            "            (      'Low', 'MSFT'),\n",
            "            (      'Low', 'TSLA'),\n",
            "            (      'Low', 'TWTR'),\n",
            "            (     'Open', 'AAPL'),\n",
            "            (     'Open',  'IBM'),\n",
            "            (     'Open', 'MSFT'),\n",
            "            (     'Open', 'TSLA'),\n",
            "            (     'Open', 'TWTR'),\n",
            "            (   'Volume', 'AAPL'),\n",
            "            (   'Volume',  'IBM'),\n",
            "            (   'Volume', 'MSFT'),\n",
            "            (   'Volume', 'TSLA'),\n",
            "            (   'Volume', 'TWTR')],\n",
            "           names=['Price', 'Ticker'])\n",
            "Total Volume Traded in 2015:\n",
            "Ticker\n",
            "AAPL    5.210055e+10\n",
            "IBM     1.152818e+09\n",
            "MSFT    9.032122e+09\n",
            "TSLA    1.628254e+10\n",
            "TWTR    0.000000e+00\n",
            "dtype: float64\n"
          ]
        }
      ],
      "source": [
        "# Define stock symbols and time range\n",
        "stocks = ['AAPL', 'TSLA', 'TWTR', 'IBM', 'MSFT']\n",
        "start_date = dt.datetime(2015, 1, 1)\n",
        "end_date = dt.datetime(2015, 12, 31)\n",
        "\n",
        "# Download the data using yfinance\n",
        "df = yf.download(stocks, start=start_date, end=end_date)\n",
        "\n",
        "# Check the structure of the DataFrame\n",
        "print(df.head())\n",
        "print(df.columns)\n",
        "\n",
        "# Sum the Volume traded for each stock in 2015\n",
        "# If data is multi-indexed, sum the volume for each stock\n",
        "if isinstance(df.columns, pd.MultiIndex):\n",
        "    volume_2015 = df['Volume'].loc['2015'].sum()\n",
        "else:\n",
        "    volume_2015 = df['Volume'].sum()\n",
        "\n",
        "# Display the total volume for 2015\n",
        "print(\"Total Volume Traded in 2015:\")\n",
        "print(volume_2015)\n"
      ]
    },
    {
      "cell_type": "markdown",
      "metadata": {
        "id": "wCK8F-2I5XB0"
      },
      "source": [
        "### BONUS: Create your own question and answer it.\n",
        "\n",
        "What is the average closing price of each stock in the year 2020?"
      ]
    },
    {
      "cell_type": "code",
      "execution_count": 21,
      "metadata": {
        "collapsed": true,
        "colab": {
          "base_uri": "https://localhost:8080/"
        },
        "id": "n71za-6N5XB1",
        "outputId": "6825b08e-4a54-4d84-87de-e4e62b14e9ea"
      },
      "outputs": [
        {
          "output_type": "stream",
          "name": "stderr",
          "text": [
            "[*********************100%***********************]  5 of 5 completed\n",
            "ERROR:yfinance:\n",
            "1 Failed download:\n",
            "ERROR:yfinance:['TWTR']: YFTzMissingError('$%ticker%: possibly delisted; no timezone found')\n"
          ]
        },
        {
          "output_type": "stream",
          "name": "stdout",
          "text": [
            "Price                      Adj Close                                          \\\n",
            "Ticker                          AAPL         IBM        MSFT       TSLA TWTR   \n",
            "Date                                                                           \n",
            "2020-01-02 00:00:00+00:00  72.796021  102.597878  153.938202  28.684000  NaN   \n",
            "2020-01-03 00:00:00+00:00  72.088295  101.779625  152.021393  29.534000  NaN   \n",
            "2020-01-06 00:00:00+00:00  72.662720  101.597794  152.414337  30.102667  NaN   \n",
            "2020-01-07 00:00:00+00:00  72.320992  101.665977  151.024658  31.270666  NaN   \n",
            "2020-01-08 00:00:00+00:00  73.484360  102.514519  153.430237  32.809334  NaN   \n",
            "\n",
            "Price                          Close                                          \\\n",
            "Ticker                          AAPL         IBM        MSFT       TSLA TWTR   \n",
            "Date                                                                           \n",
            "2020-01-02 00:00:00+00:00  75.087502  129.464630  160.619995  28.684000  NaN   \n",
            "2020-01-03 00:00:00+00:00  74.357498  128.432129  158.619995  29.534000  NaN   \n",
            "2020-01-06 00:00:00+00:00  74.949997  128.202682  159.029999  30.102667  NaN   \n",
            "2020-01-07 00:00:00+00:00  74.597504  128.288712  157.580002  31.270666  NaN   \n",
            "2020-01-08 00:00:00+00:00  75.797501  129.359467  160.089996  32.809334  NaN   \n",
            "\n",
            "Price                      ...       Open                                     \\\n",
            "Ticker                     ...       AAPL         IBM        MSFT       TSLA   \n",
            "Date                       ...                                                 \n",
            "2020-01-02 00:00:00+00:00  ...  74.059998  129.063095  158.779999  28.299999   \n",
            "2020-01-03 00:00:00+00:00  ...  74.287498  127.695984  158.320007  29.366667   \n",
            "2020-01-06 00:00:00+00:00  ...  73.447502  127.552582  157.080002  29.364668   \n",
            "2020-01-07 00:00:00+00:00  ...  74.959999  127.810707  159.320007  30.760000   \n",
            "2020-01-08 00:00:00+00:00  ...  74.290001  128.594650  158.929993  31.580000   \n",
            "\n",
            "Price                              Volume                                     \n",
            "Ticker                    TWTR       AAPL      IBM      MSFT       TSLA TWTR  \n",
            "Date                                                                          \n",
            "2020-01-02 00:00:00+00:00  NaN  135480400  3293436  22622100  142981500  NaN  \n",
            "2020-01-03 00:00:00+00:00  NaN  146322800  2482890  21116200  266677500  NaN  \n",
            "2020-01-06 00:00:00+00:00  NaN  118387200  2537073  20813700  151995000  NaN  \n",
            "2020-01-07 00:00:00+00:00  NaN  108872000  3232977  21634100  268231500  NaN  \n",
            "2020-01-08 00:00:00+00:00  NaN  132079200  4545916  27746500  467164500  NaN  \n",
            "\n",
            "[5 rows x 30 columns]\n",
            "MultiIndex([('Adj Close', 'AAPL'),\n",
            "            ('Adj Close',  'IBM'),\n",
            "            ('Adj Close', 'MSFT'),\n",
            "            ('Adj Close', 'TSLA'),\n",
            "            ('Adj Close', 'TWTR'),\n",
            "            (    'Close', 'AAPL'),\n",
            "            (    'Close',  'IBM'),\n",
            "            (    'Close', 'MSFT'),\n",
            "            (    'Close', 'TSLA'),\n",
            "            (    'Close', 'TWTR'),\n",
            "            (     'High', 'AAPL'),\n",
            "            (     'High',  'IBM'),\n",
            "            (     'High', 'MSFT'),\n",
            "            (     'High', 'TSLA'),\n",
            "            (     'High', 'TWTR'),\n",
            "            (      'Low', 'AAPL'),\n",
            "            (      'Low',  'IBM'),\n",
            "            (      'Low', 'MSFT'),\n",
            "            (      'Low', 'TSLA'),\n",
            "            (      'Low', 'TWTR'),\n",
            "            (     'Open', 'AAPL'),\n",
            "            (     'Open',  'IBM'),\n",
            "            (     'Open', 'MSFT'),\n",
            "            (     'Open', 'TSLA'),\n",
            "            (     'Open', 'TWTR'),\n",
            "            (   'Volume', 'AAPL'),\n",
            "            (   'Volume',  'IBM'),\n",
            "            (   'Volume', 'MSFT'),\n",
            "            (   'Volume', 'TSLA'),\n",
            "            (   'Volume', 'TWTR')],\n",
            "           names=['Price', 'Ticker'])\n",
            "Average Closing Price for Each Stock in 2020:\n",
            "Ticker\n",
            "AAPL     95.198889\n",
            "IBM     118.923905\n",
            "MSFT    192.909484\n",
            "TSLA     96.115857\n",
            "TWTR           NaN\n",
            "dtype: float64\n"
          ]
        }
      ],
      "source": [
        "# Define stock symbols and time range\n",
        "stocks = ['AAPL', 'TSLA', 'TWTR', 'IBM', 'MSFT']\n",
        "start_date = dt.datetime(2020, 1, 1)\n",
        "end_date = dt.datetime(2020, 12, 31)\n",
        "\n",
        "# Download the data using yfinance\n",
        "df = yf.download(stocks, start=start_date, end=end_date)\n",
        "\n",
        "# Check the structure of the DataFrame\n",
        "print(df.head())\n",
        "print(df.columns)\n",
        "\n",
        "# Calculate the average closing price for each stock in 2020\n",
        "# If the data is multi-indexed, select 'Close' for each stock and calculate the mean\n",
        "if isinstance(df.columns, pd.MultiIndex):\n",
        "    avg_close_2020 = df['Close'].loc['2020'].mean()\n",
        "else:\n",
        "    avg_close_2020 = df['Close'].mean()\n",
        "\n",
        "# Display the average closing prices for each stock in 2020\n",
        "print(\"Average Closing Price for Each Stock in 2020:\")\n",
        "print(avg_close_2020)\n"
      ]
    },
    {
      "cell_type": "code",
      "source": [],
      "metadata": {
        "id": "TDLiWMd_-FOW"
      },
      "execution_count": null,
      "outputs": []
    }
  ],
  "metadata": {
    "kernelspec": {
      "display_name": "Python 3",
      "name": "python3"
    },
    "language_info": {
      "name": "python"
    },
    "colab": {
      "provenance": [],
      "include_colab_link": true
    }
  },
  "nbformat": 4,
  "nbformat_minor": 0
}
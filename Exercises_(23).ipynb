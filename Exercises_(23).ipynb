{
  "cells": [
    {
      "cell_type": "markdown",
      "metadata": {
        "id": "view-in-github",
        "colab_type": "text"
      },
      "source": [
        "<a href=\"https://colab.research.google.com/github/bonareri/Python-Data-Analysis/blob/main/Exercises_(23).ipynb\" target=\"_parent\"><img src=\"https://colab.research.google.com/assets/colab-badge.svg\" alt=\"Open In Colab\"/></a>"
      ]
    },
    {
      "cell_type": "markdown",
      "metadata": {
        "id": "XwBLtICnFXna"
      },
      "source": [
        "# Wine"
      ]
    },
    {
      "cell_type": "markdown",
      "metadata": {
        "id": "7gdKk4JqFXnd"
      },
      "source": [
        "### Introduction:\n",
        "\n",
        "This exercise is a adaptation from the UCI Wine dataset.\n",
        "The only pupose is to practice deleting data with pandas.\n",
        "\n",
        "### Step 1. Import the necessary libraries"
      ]
    },
    {
      "cell_type": "code",
      "execution_count": 1,
      "metadata": {
        "id": "T-Ad-wAPFXnf"
      },
      "outputs": [],
      "source": [
        "#importing the libraries\n",
        "import pandas as pd\n",
        "import numpy as np"
      ]
    },
    {
      "cell_type": "markdown",
      "metadata": {
        "id": "giou9tOgFXng"
      },
      "source": [
        "### Step 2. Import the dataset from this [address](https://archive.ics.uci.edu/ml/machine-learning-databases/wine/wine.data)."
      ]
    },
    {
      "cell_type": "markdown",
      "metadata": {
        "id": "0dDRYXLyFXng"
      },
      "source": [
        "### Step 3. Assign it to a variable called wine"
      ]
    },
    {
      "cell_type": "code",
      "execution_count": 2,
      "metadata": {
        "colab": {
          "base_uri": "https://localhost:8080/",
          "height": 206
        },
        "id": "YcJ8-NgPFXng",
        "outputId": "910a790b-c8d0-4aaa-d20c-63fae9fde56c"
      },
      "outputs": [
        {
          "output_type": "execute_result",
          "data": {
            "text/plain": [
              "   1  14.23  1.71  2.43  15.6  127   2.8  3.06   .28  2.29  5.64  1.04  3.92  \\\n",
              "0  1  13.20  1.78  2.14  11.2  100  2.65  2.76  0.26  1.28  4.38  1.05  3.40   \n",
              "1  1  13.16  2.36  2.67  18.6  101  2.80  3.24  0.30  2.81  5.68  1.03  3.17   \n",
              "2  1  14.37  1.95  2.50  16.8  113  3.85  3.49  0.24  2.18  7.80  0.86  3.45   \n",
              "3  1  13.24  2.59  2.87  21.0  118  2.80  2.69  0.39  1.82  4.32  1.04  2.93   \n",
              "4  1  14.20  1.76  2.45  15.2  112  3.27  3.39  0.34  1.97  6.75  1.05  2.85   \n",
              "\n",
              "   1065  \n",
              "0  1050  \n",
              "1  1185  \n",
              "2  1480  \n",
              "3   735  \n",
              "4  1450  "
            ],
            "text/html": [
              "\n",
              "  <div id=\"df-8024983d-d9d9-4762-9d4c-33e1734107ec\" class=\"colab-df-container\">\n",
              "    <div>\n",
              "<style scoped>\n",
              "    .dataframe tbody tr th:only-of-type {\n",
              "        vertical-align: middle;\n",
              "    }\n",
              "\n",
              "    .dataframe tbody tr th {\n",
              "        vertical-align: top;\n",
              "    }\n",
              "\n",
              "    .dataframe thead th {\n",
              "        text-align: right;\n",
              "    }\n",
              "</style>\n",
              "<table border=\"1\" class=\"dataframe\">\n",
              "  <thead>\n",
              "    <tr style=\"text-align: right;\">\n",
              "      <th></th>\n",
              "      <th>1</th>\n",
              "      <th>14.23</th>\n",
              "      <th>1.71</th>\n",
              "      <th>2.43</th>\n",
              "      <th>15.6</th>\n",
              "      <th>127</th>\n",
              "      <th>2.8</th>\n",
              "      <th>3.06</th>\n",
              "      <th>.28</th>\n",
              "      <th>2.29</th>\n",
              "      <th>5.64</th>\n",
              "      <th>1.04</th>\n",
              "      <th>3.92</th>\n",
              "      <th>1065</th>\n",
              "    </tr>\n",
              "  </thead>\n",
              "  <tbody>\n",
              "    <tr>\n",
              "      <th>0</th>\n",
              "      <td>1</td>\n",
              "      <td>13.20</td>\n",
              "      <td>1.78</td>\n",
              "      <td>2.14</td>\n",
              "      <td>11.2</td>\n",
              "      <td>100</td>\n",
              "      <td>2.65</td>\n",
              "      <td>2.76</td>\n",
              "      <td>0.26</td>\n",
              "      <td>1.28</td>\n",
              "      <td>4.38</td>\n",
              "      <td>1.05</td>\n",
              "      <td>3.40</td>\n",
              "      <td>1050</td>\n",
              "    </tr>\n",
              "    <tr>\n",
              "      <th>1</th>\n",
              "      <td>1</td>\n",
              "      <td>13.16</td>\n",
              "      <td>2.36</td>\n",
              "      <td>2.67</td>\n",
              "      <td>18.6</td>\n",
              "      <td>101</td>\n",
              "      <td>2.80</td>\n",
              "      <td>3.24</td>\n",
              "      <td>0.30</td>\n",
              "      <td>2.81</td>\n",
              "      <td>5.68</td>\n",
              "      <td>1.03</td>\n",
              "      <td>3.17</td>\n",
              "      <td>1185</td>\n",
              "    </tr>\n",
              "    <tr>\n",
              "      <th>2</th>\n",
              "      <td>1</td>\n",
              "      <td>14.37</td>\n",
              "      <td>1.95</td>\n",
              "      <td>2.50</td>\n",
              "      <td>16.8</td>\n",
              "      <td>113</td>\n",
              "      <td>3.85</td>\n",
              "      <td>3.49</td>\n",
              "      <td>0.24</td>\n",
              "      <td>2.18</td>\n",
              "      <td>7.80</td>\n",
              "      <td>0.86</td>\n",
              "      <td>3.45</td>\n",
              "      <td>1480</td>\n",
              "    </tr>\n",
              "    <tr>\n",
              "      <th>3</th>\n",
              "      <td>1</td>\n",
              "      <td>13.24</td>\n",
              "      <td>2.59</td>\n",
              "      <td>2.87</td>\n",
              "      <td>21.0</td>\n",
              "      <td>118</td>\n",
              "      <td>2.80</td>\n",
              "      <td>2.69</td>\n",
              "      <td>0.39</td>\n",
              "      <td>1.82</td>\n",
              "      <td>4.32</td>\n",
              "      <td>1.04</td>\n",
              "      <td>2.93</td>\n",
              "      <td>735</td>\n",
              "    </tr>\n",
              "    <tr>\n",
              "      <th>4</th>\n",
              "      <td>1</td>\n",
              "      <td>14.20</td>\n",
              "      <td>1.76</td>\n",
              "      <td>2.45</td>\n",
              "      <td>15.2</td>\n",
              "      <td>112</td>\n",
              "      <td>3.27</td>\n",
              "      <td>3.39</td>\n",
              "      <td>0.34</td>\n",
              "      <td>1.97</td>\n",
              "      <td>6.75</td>\n",
              "      <td>1.05</td>\n",
              "      <td>2.85</td>\n",
              "      <td>1450</td>\n",
              "    </tr>\n",
              "  </tbody>\n",
              "</table>\n",
              "</div>\n",
              "    <div class=\"colab-df-buttons\">\n",
              "\n",
              "  <div class=\"colab-df-container\">\n",
              "    <button class=\"colab-df-convert\" onclick=\"convertToInteractive('df-8024983d-d9d9-4762-9d4c-33e1734107ec')\"\n",
              "            title=\"Convert this dataframe to an interactive table.\"\n",
              "            style=\"display:none;\">\n",
              "\n",
              "  <svg xmlns=\"http://www.w3.org/2000/svg\" height=\"24px\" viewBox=\"0 -960 960 960\">\n",
              "    <path d=\"M120-120v-720h720v720H120Zm60-500h600v-160H180v160Zm220 220h160v-160H400v160Zm0 220h160v-160H400v160ZM180-400h160v-160H180v160Zm440 0h160v-160H620v160ZM180-180h160v-160H180v160Zm440 0h160v-160H620v160Z\"/>\n",
              "  </svg>\n",
              "    </button>\n",
              "\n",
              "  <style>\n",
              "    .colab-df-container {\n",
              "      display:flex;\n",
              "      gap: 12px;\n",
              "    }\n",
              "\n",
              "    .colab-df-convert {\n",
              "      background-color: #E8F0FE;\n",
              "      border: none;\n",
              "      border-radius: 50%;\n",
              "      cursor: pointer;\n",
              "      display: none;\n",
              "      fill: #1967D2;\n",
              "      height: 32px;\n",
              "      padding: 0 0 0 0;\n",
              "      width: 32px;\n",
              "    }\n",
              "\n",
              "    .colab-df-convert:hover {\n",
              "      background-color: #E2EBFA;\n",
              "      box-shadow: 0px 1px 2px rgba(60, 64, 67, 0.3), 0px 1px 3px 1px rgba(60, 64, 67, 0.15);\n",
              "      fill: #174EA6;\n",
              "    }\n",
              "\n",
              "    .colab-df-buttons div {\n",
              "      margin-bottom: 4px;\n",
              "    }\n",
              "\n",
              "    [theme=dark] .colab-df-convert {\n",
              "      background-color: #3B4455;\n",
              "      fill: #D2E3FC;\n",
              "    }\n",
              "\n",
              "    [theme=dark] .colab-df-convert:hover {\n",
              "      background-color: #434B5C;\n",
              "      box-shadow: 0px 1px 3px 1px rgba(0, 0, 0, 0.15);\n",
              "      filter: drop-shadow(0px 1px 2px rgba(0, 0, 0, 0.3));\n",
              "      fill: #FFFFFF;\n",
              "    }\n",
              "  </style>\n",
              "\n",
              "    <script>\n",
              "      const buttonEl =\n",
              "        document.querySelector('#df-8024983d-d9d9-4762-9d4c-33e1734107ec button.colab-df-convert');\n",
              "      buttonEl.style.display =\n",
              "        google.colab.kernel.accessAllowed ? 'block' : 'none';\n",
              "\n",
              "      async function convertToInteractive(key) {\n",
              "        const element = document.querySelector('#df-8024983d-d9d9-4762-9d4c-33e1734107ec');\n",
              "        const dataTable =\n",
              "          await google.colab.kernel.invokeFunction('convertToInteractive',\n",
              "                                                    [key], {});\n",
              "        if (!dataTable) return;\n",
              "\n",
              "        const docLinkHtml = 'Like what you see? Visit the ' +\n",
              "          '<a target=\"_blank\" href=https://colab.research.google.com/notebooks/data_table.ipynb>data table notebook</a>'\n",
              "          + ' to learn more about interactive tables.';\n",
              "        element.innerHTML = '';\n",
              "        dataTable['output_type'] = 'display_data';\n",
              "        await google.colab.output.renderOutput(dataTable, element);\n",
              "        const docLink = document.createElement('div');\n",
              "        docLink.innerHTML = docLinkHtml;\n",
              "        element.appendChild(docLink);\n",
              "      }\n",
              "    </script>\n",
              "  </div>\n",
              "\n",
              "\n",
              "<div id=\"df-1c5796d2-e75a-410d-8079-49ff6507dd03\">\n",
              "  <button class=\"colab-df-quickchart\" onclick=\"quickchart('df-1c5796d2-e75a-410d-8079-49ff6507dd03')\"\n",
              "            title=\"Suggest charts\"\n",
              "            style=\"display:none;\">\n",
              "\n",
              "<svg xmlns=\"http://www.w3.org/2000/svg\" height=\"24px\"viewBox=\"0 0 24 24\"\n",
              "     width=\"24px\">\n",
              "    <g>\n",
              "        <path d=\"M19 3H5c-1.1 0-2 .9-2 2v14c0 1.1.9 2 2 2h14c1.1 0 2-.9 2-2V5c0-1.1-.9-2-2-2zM9 17H7v-7h2v7zm4 0h-2V7h2v10zm4 0h-2v-4h2v4z\"/>\n",
              "    </g>\n",
              "</svg>\n",
              "  </button>\n",
              "\n",
              "<style>\n",
              "  .colab-df-quickchart {\n",
              "      --bg-color: #E8F0FE;\n",
              "      --fill-color: #1967D2;\n",
              "      --hover-bg-color: #E2EBFA;\n",
              "      --hover-fill-color: #174EA6;\n",
              "      --disabled-fill-color: #AAA;\n",
              "      --disabled-bg-color: #DDD;\n",
              "  }\n",
              "\n",
              "  [theme=dark] .colab-df-quickchart {\n",
              "      --bg-color: #3B4455;\n",
              "      --fill-color: #D2E3FC;\n",
              "      --hover-bg-color: #434B5C;\n",
              "      --hover-fill-color: #FFFFFF;\n",
              "      --disabled-bg-color: #3B4455;\n",
              "      --disabled-fill-color: #666;\n",
              "  }\n",
              "\n",
              "  .colab-df-quickchart {\n",
              "    background-color: var(--bg-color);\n",
              "    border: none;\n",
              "    border-radius: 50%;\n",
              "    cursor: pointer;\n",
              "    display: none;\n",
              "    fill: var(--fill-color);\n",
              "    height: 32px;\n",
              "    padding: 0;\n",
              "    width: 32px;\n",
              "  }\n",
              "\n",
              "  .colab-df-quickchart:hover {\n",
              "    background-color: var(--hover-bg-color);\n",
              "    box-shadow: 0 1px 2px rgba(60, 64, 67, 0.3), 0 1px 3px 1px rgba(60, 64, 67, 0.15);\n",
              "    fill: var(--button-hover-fill-color);\n",
              "  }\n",
              "\n",
              "  .colab-df-quickchart-complete:disabled,\n",
              "  .colab-df-quickchart-complete:disabled:hover {\n",
              "    background-color: var(--disabled-bg-color);\n",
              "    fill: var(--disabled-fill-color);\n",
              "    box-shadow: none;\n",
              "  }\n",
              "\n",
              "  .colab-df-spinner {\n",
              "    border: 2px solid var(--fill-color);\n",
              "    border-color: transparent;\n",
              "    border-bottom-color: var(--fill-color);\n",
              "    animation:\n",
              "      spin 1s steps(1) infinite;\n",
              "  }\n",
              "\n",
              "  @keyframes spin {\n",
              "    0% {\n",
              "      border-color: transparent;\n",
              "      border-bottom-color: var(--fill-color);\n",
              "      border-left-color: var(--fill-color);\n",
              "    }\n",
              "    20% {\n",
              "      border-color: transparent;\n",
              "      border-left-color: var(--fill-color);\n",
              "      border-top-color: var(--fill-color);\n",
              "    }\n",
              "    30% {\n",
              "      border-color: transparent;\n",
              "      border-left-color: var(--fill-color);\n",
              "      border-top-color: var(--fill-color);\n",
              "      border-right-color: var(--fill-color);\n",
              "    }\n",
              "    40% {\n",
              "      border-color: transparent;\n",
              "      border-right-color: var(--fill-color);\n",
              "      border-top-color: var(--fill-color);\n",
              "    }\n",
              "    60% {\n",
              "      border-color: transparent;\n",
              "      border-right-color: var(--fill-color);\n",
              "    }\n",
              "    80% {\n",
              "      border-color: transparent;\n",
              "      border-right-color: var(--fill-color);\n",
              "      border-bottom-color: var(--fill-color);\n",
              "    }\n",
              "    90% {\n",
              "      border-color: transparent;\n",
              "      border-bottom-color: var(--fill-color);\n",
              "    }\n",
              "  }\n",
              "</style>\n",
              "\n",
              "  <script>\n",
              "    async function quickchart(key) {\n",
              "      const quickchartButtonEl =\n",
              "        document.querySelector('#' + key + ' button');\n",
              "      quickchartButtonEl.disabled = true;  // To prevent multiple clicks.\n",
              "      quickchartButtonEl.classList.add('colab-df-spinner');\n",
              "      try {\n",
              "        const charts = await google.colab.kernel.invokeFunction(\n",
              "            'suggestCharts', [key], {});\n",
              "      } catch (error) {\n",
              "        console.error('Error during call to suggestCharts:', error);\n",
              "      }\n",
              "      quickchartButtonEl.classList.remove('colab-df-spinner');\n",
              "      quickchartButtonEl.classList.add('colab-df-quickchart-complete');\n",
              "    }\n",
              "    (() => {\n",
              "      let quickchartButtonEl =\n",
              "        document.querySelector('#df-1c5796d2-e75a-410d-8079-49ff6507dd03 button');\n",
              "      quickchartButtonEl.style.display =\n",
              "        google.colab.kernel.accessAllowed ? 'block' : 'none';\n",
              "    })();\n",
              "  </script>\n",
              "</div>\n",
              "\n",
              "    </div>\n",
              "  </div>\n"
            ],
            "application/vnd.google.colaboratory.intrinsic+json": {
              "type": "dataframe",
              "variable_name": "wine",
              "summary": "{\n  \"name\": \"wine\",\n  \"rows\": 177,\n  \"fields\": [\n    {\n      \"column\": \"1\",\n      \"properties\": {\n        \"dtype\": \"number\",\n        \"std\": 0,\n        \"min\": 1,\n        \"max\": 3,\n        \"num_unique_values\": 3,\n        \"samples\": [\n          1,\n          2,\n          3\n        ],\n        \"semantic_type\": \"\",\n        \"description\": \"\"\n      }\n    },\n    {\n      \"column\": \"14.23\",\n      \"properties\": {\n        \"dtype\": \"number\",\n        \"std\": 0.8088084424378916,\n        \"min\": 11.03,\n        \"max\": 14.83,\n        \"num_unique_values\": 125,\n        \"samples\": [\n          13.64,\n          13.94,\n          14.22\n        ],\n        \"semantic_type\": \"\",\n        \"description\": \"\"\n      }\n    },\n    {\n      \"column\": \"1.71\",\n      \"properties\": {\n        \"dtype\": \"number\",\n        \"std\": 1.119314415116238,\n        \"min\": 0.74,\n        \"max\": 5.8,\n        \"num_unique_values\": 133,\n        \"samples\": [\n          1.21,\n          2.83,\n          1.65\n        ],\n        \"semantic_type\": \"\",\n        \"description\": \"\"\n      }\n    },\n    {\n      \"column\": \"2.43\",\n      \"properties\": {\n        \"dtype\": \"number\",\n        \"std\": 0.2750804383454942,\n        \"min\": 1.36,\n        \"max\": 3.23,\n        \"num_unique_values\": 78,\n        \"samples\": [\n          2.44,\n          2.14,\n          2.4\n        ],\n        \"semantic_type\": \"\",\n        \"description\": \"\"\n      }\n    },\n    {\n      \"column\": \"15.6\",\n      \"properties\": {\n        \"dtype\": \"number\",\n        \"std\": 3.336071070121235,\n        \"min\": 10.6,\n        \"max\": 30.0,\n        \"num_unique_values\": 62,\n        \"samples\": [\n          23.6,\n          28.5,\n          11.2\n        ],\n        \"semantic_type\": \"\",\n        \"description\": \"\"\n      }\n    },\n    {\n      \"column\": \"127\",\n      \"properties\": {\n        \"dtype\": \"number\",\n        \"std\": 14,\n        \"min\": 70,\n        \"max\": 162,\n        \"num_unique_values\": 52,\n        \"samples\": [\n          124,\n          99,\n          134\n        ],\n        \"semantic_type\": \"\",\n        \"description\": \"\"\n      }\n    },\n    {\n      \"column\": \"2.8\",\n      \"properties\": {\n        \"dtype\": \"number\",\n        \"std\": 0.6264650830308146,\n        \"min\": 0.98,\n        \"max\": 3.88,\n        \"num_unique_values\": 97,\n        \"samples\": [\n          1.68,\n          2.11,\n          1.35\n        ],\n        \"semantic_type\": \"\",\n        \"description\": \"\"\n      }\n    },\n    {\n      \"column\": \"3.06\",\n      \"properties\": {\n        \"dtype\": \"number\",\n        \"std\": 0.9986576153088098,\n        \"min\": 0.34,\n        \"max\": 5.08,\n        \"num_unique_values\": 131,\n        \"samples\": [\n          3.18,\n          3.54,\n          2.41\n        ],\n        \"semantic_type\": \"\",\n        \"description\": \"\"\n      }\n    },\n    {\n      \"column\": \".28\",\n      \"properties\": {\n        \"dtype\": \"number\",\n        \"std\": 0.12465293369095114,\n        \"min\": 0.13,\n        \"max\": 0.66,\n        \"num_unique_values\": 39,\n        \"samples\": [\n          0.58,\n          0.41,\n          0.34\n        ],\n        \"semantic_type\": \"\",\n        \"description\": \"\"\n      }\n    },\n    {\n      \"column\": \"2.29\",\n      \"properties\": {\n        \"dtype\": \"number\",\n        \"std\": 0.5715447197884235,\n        \"min\": 0.41,\n        \"max\": 3.58,\n        \"num_unique_values\": 101,\n        \"samples\": [\n          0.75,\n          1.77,\n          1.42\n        ],\n        \"semantic_type\": \"\",\n        \"description\": \"\"\n      }\n    },\n    {\n      \"column\": \"5.64\",\n      \"properties\": {\n        \"dtype\": \"number\",\n        \"std\": 2.3244464252863977,\n        \"min\": 1.28,\n        \"max\": 13.0,\n        \"num_unique_values\": 131,\n        \"samples\": [\n          2.95,\n          5.24,\n          5.65\n        ],\n        \"semantic_type\": \"\",\n        \"description\": \"\"\n      }\n    },\n    {\n      \"column\": \"1.04\",\n      \"properties\": {\n        \"dtype\": \"number\",\n        \"std\": 0.22913504539741586,\n        \"min\": 0.48,\n        \"max\": 1.71,\n        \"num_unique_values\": 78,\n        \"samples\": [\n          1.22,\n          1.05,\n          1.45\n        ],\n        \"semantic_type\": \"\",\n        \"description\": \"\"\n      }\n    },\n    {\n      \"column\": \"3.92\",\n      \"properties\": {\n        \"dtype\": \"number\",\n        \"std\": 0.7051028967590306,\n        \"min\": 1.27,\n        \"max\": 4.0,\n        \"num_unique_values\": 121,\n        \"samples\": [\n          1.82,\n          2.46,\n          2.85\n        ],\n        \"semantic_type\": \"\",\n        \"description\": \"\"\n      }\n    },\n    {\n      \"column\": \"1065\",\n      \"properties\": {\n        \"dtype\": \"number\",\n        \"std\": 314,\n        \"min\": 278,\n        \"max\": 1680,\n        \"num_unique_values\": 121,\n        \"samples\": [\n          1375,\n          1270,\n          1450\n        ],\n        \"semantic_type\": \"\",\n        \"description\": \"\"\n      }\n    }\n  ]\n}"
            }
          },
          "metadata": {},
          "execution_count": 2
        }
      ],
      "source": [
        "wine = pd.read_csv('https://archive.ics.uci.edu/ml/machine-learning-databases/wine/wine.data')\n",
        "wine.head()"
      ]
    },
    {
      "cell_type": "markdown",
      "metadata": {
        "id": "WtmAf2zNFXng"
      },
      "source": [
        "### Step 4. Delete the first, fourth, seventh, nineth, eleventh, thirteenth and fourteenth columns"
      ]
    },
    {
      "cell_type": "code",
      "execution_count": 3,
      "metadata": {
        "colab": {
          "base_uri": "https://localhost:8080/"
        },
        "id": "UTXc5VH_FXnh",
        "outputId": "b0b1b047-08d8-4cba-e23f-44823478178e"
      },
      "outputs": [
        {
          "output_type": "stream",
          "name": "stdout",
          "text": [
            "   14.23  1.71  15.6  127  3.06  2.29  1.04\n",
            "0  13.20  1.78  11.2  100  2.76  1.28  1.05\n",
            "1  13.16  2.36  18.6  101  3.24  2.81  1.03\n",
            "2  14.37  1.95  16.8  113  3.49  2.18  0.86\n",
            "3  13.24  2.59  21.0  118  2.69  1.82  1.04\n",
            "4  14.20  1.76  15.2  112  3.39  1.97  1.05\n"
          ]
        }
      ],
      "source": [
        "# Droping the specified columns by their index\n",
        "wine = wine.drop(wine.columns[[0, 3, 6, 8, 10, 12, 13]], axis=1)\n",
        "\n",
        "# Display the first few rows to verify\n",
        "print(wine.head())"
      ]
    },
    {
      "cell_type": "markdown",
      "metadata": {
        "id": "W8OvRaYaFXnh"
      },
      "source": [
        "### Step 5. Assign the columns as below:\n",
        "\n",
        "The attributes are (donated by Riccardo Leardi, riclea '@' anchem.unige.it):  \n",
        "1) alcohol  \n",
        "2) malic_acid  \n",
        "3) alcalinity_of_ash  \n",
        "4) magnesium  \n",
        "5) flavanoids  \n",
        "6) proanthocyanins  \n",
        "7) hue"
      ]
    },
    {
      "cell_type": "code",
      "execution_count": 4,
      "metadata": {
        "colab": {
          "base_uri": "https://localhost:8080/"
        },
        "id": "Ud3aq3BdFXni",
        "outputId": "a7e6f9b4-d792-4477-d161-d419d979631c"
      },
      "outputs": [
        {
          "output_type": "stream",
          "name": "stdout",
          "text": [
            "   alcohol  malic_acid  alcalinity_of_ash  magnesium  flavanoids  \\\n",
            "0    13.20        1.78               11.2        100        2.76   \n",
            "1    13.16        2.36               18.6        101        3.24   \n",
            "2    14.37        1.95               16.8        113        3.49   \n",
            "3    13.24        2.59               21.0        118        2.69   \n",
            "4    14.20        1.76               15.2        112        3.39   \n",
            "\n",
            "   proanthocyanins   hue  \n",
            "0             1.28  1.05  \n",
            "1             2.81  1.03  \n",
            "2             2.18  0.86  \n",
            "3             1.82  1.04  \n",
            "4             1.97  1.05  \n"
          ]
        }
      ],
      "source": [
        "# Assign the new column names\n",
        "wine.columns = ['alcohol', 'malic_acid', 'alcalinity_of_ash', 'magnesium', 'flavanoids', 'proanthocyanins', 'hue']\n",
        "\n",
        "# Display the first few rows to verify the changes\n",
        "print(wine.head())"
      ]
    },
    {
      "cell_type": "markdown",
      "metadata": {
        "id": "OEbmNbtDFXni"
      },
      "source": [
        "### Step 6. Set the values of the first 3 rows from alcohol as NaN"
      ]
    },
    {
      "cell_type": "code",
      "execution_count": 6,
      "metadata": {
        "colab": {
          "base_uri": "https://localhost:8080/"
        },
        "id": "4IMhdnYIFXnj",
        "outputId": "b56b42b8-12cd-45a2-f0cb-2f93d4edccbc"
      },
      "outputs": [
        {
          "output_type": "stream",
          "name": "stdout",
          "text": [
            "   alcohol  malic_acid  alcalinity_of_ash  magnesium  flavanoids  \\\n",
            "0      NaN        1.78               11.2        100        2.76   \n",
            "1      NaN        2.36               18.6        101        3.24   \n",
            "2      NaN        1.95               16.8        113        3.49   \n",
            "3    13.24        2.59               21.0        118        2.69   \n",
            "4    14.20        1.76               15.2        112        3.39   \n",
            "\n",
            "   proanthocyanins   hue  \n",
            "0             1.28  1.05  \n",
            "1             2.81  1.03  \n",
            "2             2.18  0.86  \n",
            "3             1.82  1.04  \n",
            "4             1.97  1.05  \n"
          ]
        }
      ],
      "source": [
        "# Set the first three rows of the 'alcohol' column to NaN\n",
        "wine.loc[0:2, 'alcohol'] = np.nan\n",
        "\n",
        "# Display the first few rows to verify the changes\n",
        "print(wine.head())"
      ]
    },
    {
      "cell_type": "markdown",
      "metadata": {
        "id": "Zs8SAq2aFXnj"
      },
      "source": [
        "### Step 7. Now set the value of the rows 3 and 4 of magnesium as NaN"
      ]
    },
    {
      "cell_type": "code",
      "execution_count": 7,
      "metadata": {
        "colab": {
          "base_uri": "https://localhost:8080/"
        },
        "id": "bUeswmZuFXnj",
        "outputId": "84490534-88fb-4341-bb74-3b3ce3ab5332"
      },
      "outputs": [
        {
          "output_type": "stream",
          "name": "stdout",
          "text": [
            "   alcohol  malic_acid  alcalinity_of_ash  magnesium  flavanoids  \\\n",
            "0      NaN        1.78               11.2      100.0        2.76   \n",
            "1      NaN        2.36               18.6      101.0        3.24   \n",
            "2      NaN        1.95               16.8        NaN        3.49   \n",
            "3    13.24        2.59               21.0        NaN        2.69   \n",
            "4    14.20        1.76               15.2      112.0        3.39   \n",
            "\n",
            "   proanthocyanins   hue  \n",
            "0             1.28  1.05  \n",
            "1             2.81  1.03  \n",
            "2             2.18  0.86  \n",
            "3             1.82  1.04  \n",
            "4             1.97  1.05  \n"
          ]
        }
      ],
      "source": [
        "# Set the values of rows 3 and 4 in the 'magnesium' column to NaN\n",
        "wine.loc[2:3, 'magnesium'] = np.nan\n",
        "\n",
        "# Display the first few rows to verify the changes\n",
        "print(wine.head())\n"
      ]
    },
    {
      "cell_type": "markdown",
      "metadata": {
        "id": "1ixtUFPDFXnj"
      },
      "source": [
        "### Step 8. Fill the value of NaN with the number 10 in alcohol and 100 in magnesium"
      ]
    },
    {
      "cell_type": "code",
      "execution_count": 8,
      "metadata": {
        "colab": {
          "base_uri": "https://localhost:8080/"
        },
        "id": "bKVAiyYwFXnj",
        "outputId": "4f8bb136-afea-4829-957c-fd74a44b8309"
      },
      "outputs": [
        {
          "output_type": "stream",
          "name": "stdout",
          "text": [
            "   alcohol  malic_acid  alcalinity_of_ash  magnesium  flavanoids  \\\n",
            "0    10.00        1.78               11.2      100.0        2.76   \n",
            "1    10.00        2.36               18.6      101.0        3.24   \n",
            "2    10.00        1.95               16.8      100.0        3.49   \n",
            "3    13.24        2.59               21.0      100.0        2.69   \n",
            "4    14.20        1.76               15.2      112.0        3.39   \n",
            "\n",
            "   proanthocyanins   hue  \n",
            "0             1.28  1.05  \n",
            "1             2.81  1.03  \n",
            "2             2.18  0.86  \n",
            "3             1.82  1.04  \n",
            "4             1.97  1.05  \n"
          ]
        }
      ],
      "source": [
        "# Fill NaN values in the 'alcohol' column with 10\n",
        "wine['alcohol'] = wine['alcohol'].fillna(10)\n",
        "\n",
        "# Fill NaN values in the 'magnesium' column with 100\n",
        "wine['magnesium'] = wine['magnesium'].fillna(100)\n",
        "\n",
        "# Display the first few rows to verify the changes\n",
        "print(wine.head())\n"
      ]
    },
    {
      "cell_type": "markdown",
      "metadata": {
        "id": "nICDLNCZFXnj"
      },
      "source": [
        "### Step 9. Count the number of missing values"
      ]
    },
    {
      "cell_type": "code",
      "execution_count": 9,
      "metadata": {
        "colab": {
          "base_uri": "https://localhost:8080/",
          "height": 303
        },
        "id": "taMc7rSeFXnk",
        "outputId": "7dd32ade-5ebf-40c7-f39c-3499b59c811d"
      },
      "outputs": [
        {
          "output_type": "execute_result",
          "data": {
            "text/plain": [
              "alcohol              0\n",
              "malic_acid           0\n",
              "alcalinity_of_ash    0\n",
              "magnesium            0\n",
              "flavanoids           0\n",
              "proanthocyanins      0\n",
              "hue                  0\n",
              "dtype: int64"
            ],
            "text/html": [
              "<div>\n",
              "<style scoped>\n",
              "    .dataframe tbody tr th:only-of-type {\n",
              "        vertical-align: middle;\n",
              "    }\n",
              "\n",
              "    .dataframe tbody tr th {\n",
              "        vertical-align: top;\n",
              "    }\n",
              "\n",
              "    .dataframe thead th {\n",
              "        text-align: right;\n",
              "    }\n",
              "</style>\n",
              "<table border=\"1\" class=\"dataframe\">\n",
              "  <thead>\n",
              "    <tr style=\"text-align: right;\">\n",
              "      <th></th>\n",
              "      <th>0</th>\n",
              "    </tr>\n",
              "  </thead>\n",
              "  <tbody>\n",
              "    <tr>\n",
              "      <th>alcohol</th>\n",
              "      <td>0</td>\n",
              "    </tr>\n",
              "    <tr>\n",
              "      <th>malic_acid</th>\n",
              "      <td>0</td>\n",
              "    </tr>\n",
              "    <tr>\n",
              "      <th>alcalinity_of_ash</th>\n",
              "      <td>0</td>\n",
              "    </tr>\n",
              "    <tr>\n",
              "      <th>magnesium</th>\n",
              "      <td>0</td>\n",
              "    </tr>\n",
              "    <tr>\n",
              "      <th>flavanoids</th>\n",
              "      <td>0</td>\n",
              "    </tr>\n",
              "    <tr>\n",
              "      <th>proanthocyanins</th>\n",
              "      <td>0</td>\n",
              "    </tr>\n",
              "    <tr>\n",
              "      <th>hue</th>\n",
              "      <td>0</td>\n",
              "    </tr>\n",
              "  </tbody>\n",
              "</table>\n",
              "</div><br><label><b>dtype:</b> int64</label>"
            ]
          },
          "metadata": {},
          "execution_count": 9
        }
      ],
      "source": [
        "wine.isnull().sum()"
      ]
    },
    {
      "cell_type": "markdown",
      "metadata": {
        "id": "a7J20D6KFXnk"
      },
      "source": [
        "### Step 10.  Create an array of 10 random numbers up until 10"
      ]
    },
    {
      "cell_type": "code",
      "execution_count": 10,
      "metadata": {
        "colab": {
          "base_uri": "https://localhost:8080/"
        },
        "id": "UJW2ICCcFXnk",
        "outputId": "69888f9d-f81d-4d73-9ce5-7c45c48fd808"
      },
      "outputs": [
        {
          "output_type": "stream",
          "name": "stdout",
          "text": [
            "[4 1 8 6 8 7 8 8 7 6]\n"
          ]
        }
      ],
      "source": [
        "# Create an array of 10 random numbers between 0 and 10\n",
        "random_numbers = np.random.randint(0, 11, size=10)\n",
        "\n",
        "# Display the array\n",
        "print(random_numbers)\n"
      ]
    },
    {
      "cell_type": "markdown",
      "metadata": {
        "id": "grhgTrzWFXnk"
      },
      "source": [
        "### Step 11.  Use random numbers you generated as an index and assign NaN value to each of cell."
      ]
    },
    {
      "cell_type": "code",
      "execution_count": 11,
      "metadata": {
        "colab": {
          "base_uri": "https://localhost:8080/"
        },
        "id": "rVprs4oHFXnk",
        "outputId": "5704a9e8-0035-404f-a26b-161c2c000b48"
      },
      "outputs": [
        {
          "output_type": "stream",
          "name": "stdout",
          "text": [
            "   alcohol  malic_acid  alcalinity_of_ash  magnesium  flavanoids  \\\n",
            "0    10.00        1.78               11.2      100.0        2.76   \n",
            "1      NaN         NaN                NaN        NaN         NaN   \n",
            "2    10.00        1.95               16.8      100.0        3.49   \n",
            "3    13.24        2.59               21.0      100.0        2.69   \n",
            "4      NaN         NaN                NaN        NaN         NaN   \n",
            "\n",
            "   proanthocyanins   hue  \n",
            "0             1.28  1.05  \n",
            "1              NaN   NaN  \n",
            "2             2.18  0.86  \n",
            "3             1.82  1.04  \n",
            "4              NaN   NaN  \n"
          ]
        }
      ],
      "source": [
        "# Assign NaN values to the rows with the indices from the random_numbers array\n",
        "wine.loc[random_numbers] = np.nan\n",
        "\n",
        "# Display the modified DataFrame to verify the changes\n",
        "print(wine.head())\n"
      ]
    },
    {
      "cell_type": "markdown",
      "metadata": {
        "id": "NGXMYaInFXnk"
      },
      "source": [
        "### Step 12.  How many missing values do we have?"
      ]
    },
    {
      "cell_type": "code",
      "execution_count": 12,
      "metadata": {
        "colab": {
          "base_uri": "https://localhost:8080/",
          "height": 303
        },
        "id": "od-ZSPtiFXnk",
        "outputId": "bb901c37-83cb-4148-afe6-e6ddd606c5f0"
      },
      "outputs": [
        {
          "output_type": "execute_result",
          "data": {
            "text/plain": [
              "alcohol              5\n",
              "malic_acid           5\n",
              "alcalinity_of_ash    5\n",
              "magnesium            5\n",
              "flavanoids           5\n",
              "proanthocyanins      5\n",
              "hue                  5\n",
              "dtype: int64"
            ],
            "text/html": [
              "<div>\n",
              "<style scoped>\n",
              "    .dataframe tbody tr th:only-of-type {\n",
              "        vertical-align: middle;\n",
              "    }\n",
              "\n",
              "    .dataframe tbody tr th {\n",
              "        vertical-align: top;\n",
              "    }\n",
              "\n",
              "    .dataframe thead th {\n",
              "        text-align: right;\n",
              "    }\n",
              "</style>\n",
              "<table border=\"1\" class=\"dataframe\">\n",
              "  <thead>\n",
              "    <tr style=\"text-align: right;\">\n",
              "      <th></th>\n",
              "      <th>0</th>\n",
              "    </tr>\n",
              "  </thead>\n",
              "  <tbody>\n",
              "    <tr>\n",
              "      <th>alcohol</th>\n",
              "      <td>5</td>\n",
              "    </tr>\n",
              "    <tr>\n",
              "      <th>malic_acid</th>\n",
              "      <td>5</td>\n",
              "    </tr>\n",
              "    <tr>\n",
              "      <th>alcalinity_of_ash</th>\n",
              "      <td>5</td>\n",
              "    </tr>\n",
              "    <tr>\n",
              "      <th>magnesium</th>\n",
              "      <td>5</td>\n",
              "    </tr>\n",
              "    <tr>\n",
              "      <th>flavanoids</th>\n",
              "      <td>5</td>\n",
              "    </tr>\n",
              "    <tr>\n",
              "      <th>proanthocyanins</th>\n",
              "      <td>5</td>\n",
              "    </tr>\n",
              "    <tr>\n",
              "      <th>hue</th>\n",
              "      <td>5</td>\n",
              "    </tr>\n",
              "  </tbody>\n",
              "</table>\n",
              "</div><br><label><b>dtype:</b> int64</label>"
            ]
          },
          "metadata": {},
          "execution_count": 12
        }
      ],
      "source": [
        "wine.isnull().sum()"
      ]
    },
    {
      "cell_type": "markdown",
      "metadata": {
        "id": "LpXCn9ZBFXnk"
      },
      "source": [
        "### Step 13. Delete the rows that contain missing values"
      ]
    },
    {
      "cell_type": "code",
      "execution_count": 13,
      "metadata": {
        "colab": {
          "base_uri": "https://localhost:8080/"
        },
        "id": "sph4eUyfFXnl",
        "outputId": "e51757a4-50c8-49df-af4c-ed0429b34352"
      },
      "outputs": [
        {
          "output_type": "stream",
          "name": "stdout",
          "text": [
            "   alcohol  malic_acid  alcalinity_of_ash  magnesium  flavanoids  \\\n",
            "0    10.00        1.78               11.2      100.0        2.76   \n",
            "2    10.00        1.95               16.8      100.0        3.49   \n",
            "3    13.24        2.59               21.0      100.0        2.69   \n",
            "5    14.39        1.87               14.6       96.0        2.52   \n",
            "9    14.10        2.16               18.0      105.0        3.32   \n",
            "\n",
            "   proanthocyanins   hue  \n",
            "0             1.28  1.05  \n",
            "2             2.18  0.86  \n",
            "3             1.82  1.04  \n",
            "5             1.98  1.02  \n",
            "9             2.38  1.25  \n"
          ]
        }
      ],
      "source": [
        "# Drop rows that contain any NaN values\n",
        "wine = wine.dropna()\n",
        "\n",
        "# Display the modified DataFrame to verify the changes\n",
        "print(wine.head())"
      ]
    },
    {
      "cell_type": "markdown",
      "metadata": {
        "id": "4ACqLMBrFXnl"
      },
      "source": [
        "### Step 14. Print only the non-null values in alcohol"
      ]
    },
    {
      "cell_type": "code",
      "execution_count": 14,
      "metadata": {
        "colab": {
          "base_uri": "https://localhost:8080/"
        },
        "id": "rzRMR96WFXnl",
        "outputId": "888daaaa-96db-457a-f93f-57401f597e5a"
      },
      "outputs": [
        {
          "output_type": "stream",
          "name": "stdout",
          "text": [
            "0      10.00\n",
            "2      10.00\n",
            "3      13.24\n",
            "5      14.39\n",
            "9      14.10\n",
            "       ...  \n",
            "172    13.71\n",
            "173    13.40\n",
            "174    13.27\n",
            "175    13.17\n",
            "176    14.13\n",
            "Name: alcohol, Length: 172, dtype: float64\n"
          ]
        }
      ],
      "source": [
        "# Print only the non-null values in the 'alcohol' column\n",
        "print(wine['alcohol'].dropna())"
      ]
    },
    {
      "cell_type": "markdown",
      "metadata": {
        "id": "b9QBL1teFXnl"
      },
      "source": [
        "### Step 15.  Reset the index, so it starts with 0 again"
      ]
    },
    {
      "cell_type": "code",
      "execution_count": 15,
      "metadata": {
        "colab": {
          "base_uri": "https://localhost:8080/"
        },
        "id": "JJNJqet-FXnl",
        "outputId": "4964a03f-686b-46a3-f318-3acad30431b3"
      },
      "outputs": [
        {
          "output_type": "stream",
          "name": "stdout",
          "text": [
            "   alcohol  malic_acid  alcalinity_of_ash  magnesium  flavanoids  \\\n",
            "0    10.00        1.78               11.2      100.0        2.76   \n",
            "1    10.00        1.95               16.8      100.0        3.49   \n",
            "2    13.24        2.59               21.0      100.0        2.69   \n",
            "3    14.39        1.87               14.6       96.0        2.52   \n",
            "4    14.10        2.16               18.0      105.0        3.32   \n",
            "\n",
            "   proanthocyanins   hue  \n",
            "0             1.28  1.05  \n",
            "1             2.18  0.86  \n",
            "2             1.82  1.04  \n",
            "3             1.98  1.02  \n",
            "4             2.38  1.25  \n"
          ]
        }
      ],
      "source": [
        "# Reset the index so it starts from 0\n",
        "wine = wine.reset_index(drop=True)\n",
        "\n",
        "# Display the DataFrame to verify the changes\n",
        "print(wine.head())"
      ]
    },
    {
      "cell_type": "markdown",
      "metadata": {
        "id": "cKitBtueFXnm"
      },
      "source": [
        "### BONUS: Create your own question and answer it.\n",
        "\n",
        "How can I check for duplicate rows in my DataFrame and remove them?"
      ]
    },
    {
      "cell_type": "code",
      "execution_count": 16,
      "metadata": {
        "collapsed": true,
        "colab": {
          "base_uri": "https://localhost:8080/"
        },
        "id": "9V_Sb3oXFXnm",
        "outputId": "ad973d32-681f-4ae9-d6be-01a0b364ef10"
      },
      "outputs": [
        {
          "output_type": "stream",
          "name": "stdout",
          "text": [
            "Empty DataFrame\n",
            "Columns: [alcohol, malic_acid, alcalinity_of_ash, magnesium, flavanoids, proanthocyanins, hue]\n",
            "Index: []\n",
            "   alcohol  malic_acid  alcalinity_of_ash  magnesium  flavanoids  \\\n",
            "0    10.00        1.78               11.2      100.0        2.76   \n",
            "1    10.00        1.95               16.8      100.0        3.49   \n",
            "2    13.24        2.59               21.0      100.0        2.69   \n",
            "3    14.39        1.87               14.6       96.0        2.52   \n",
            "4    14.10        2.16               18.0      105.0        3.32   \n",
            "\n",
            "   proanthocyanins   hue  \n",
            "0             1.28  1.05  \n",
            "1             2.18  0.86  \n",
            "2             1.82  1.04  \n",
            "3             1.98  1.02  \n",
            "4             2.38  1.25  \n"
          ]
        }
      ],
      "source": [
        "# Check for duplicate rows\n",
        "duplicates = wine.duplicated()\n",
        "\n",
        "# Print rows that are duplicates\n",
        "print(wine[duplicates])\n",
        "\n",
        "# Remove duplicate rows\n",
        "wine = wine.drop_duplicates()\n",
        "\n",
        "# Display the DataFrame after removing duplicates\n",
        "print(wine.head())"
      ]
    },
    {
      "cell_type": "code",
      "source": [],
      "metadata": {
        "id": "NqkJgzJRH0Bl"
      },
      "execution_count": null,
      "outputs": []
    }
  ],
  "metadata": {
    "kernelspec": {
      "display_name": "Python 3",
      "name": "python3"
    },
    "language_info": {
      "name": "python"
    },
    "colab": {
      "provenance": [],
      "include_colab_link": true
    }
  },
  "nbformat": 4,
  "nbformat_minor": 0
}
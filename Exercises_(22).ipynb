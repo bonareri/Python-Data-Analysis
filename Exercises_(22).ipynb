{
  "cells": [
    {
      "cell_type": "markdown",
      "metadata": {
        "id": "view-in-github",
        "colab_type": "text"
      },
      "source": [
        "<a href=\"https://colab.research.google.com/github/bonareri/Python-Data-Analysis/blob/main/Exercises_(22).ipynb\" target=\"_parent\"><img src=\"https://colab.research.google.com/assets/colab-badge.svg\" alt=\"Open In Colab\"/></a>"
      ]
    },
    {
      "cell_type": "markdown",
      "metadata": {
        "id": "ixXVOjSEB2af"
      },
      "source": [
        "# Iris"
      ]
    },
    {
      "cell_type": "markdown",
      "metadata": {
        "id": "XauLy_kJB2ai"
      },
      "source": [
        "### Introduction:\n",
        "\n",
        "This exercise may seem a little bit strange, but keep doing it.\n",
        "\n",
        "### Step 1. Import the necessary libraries"
      ]
    },
    {
      "cell_type": "code",
      "execution_count": 1,
      "metadata": {
        "id": "qd96HSQlB2aj"
      },
      "outputs": [],
      "source": [
        "#importing the libraries\n",
        "import pandas as pd\n",
        "import numpy as np"
      ]
    },
    {
      "cell_type": "markdown",
      "metadata": {
        "id": "CtSOWc7PB2aj"
      },
      "source": [
        "### Step 2. Import the dataset from this [address](https://archive.ics.uci.edu/ml/machine-learning-databases/iris/iris.data)."
      ]
    },
    {
      "cell_type": "markdown",
      "metadata": {
        "id": "fFBs2VWxB2ak"
      },
      "source": [
        "### Step 3. Assign it to a variable called iris"
      ]
    },
    {
      "cell_type": "code",
      "execution_count": 7,
      "metadata": {
        "colab": {
          "base_uri": "https://localhost:8080/",
          "height": 423
        },
        "id": "8QBbg9xzB2ak",
        "outputId": "187acfd1-4d0e-4582-ab78-7338464d6979"
      },
      "outputs": [
        {
          "output_type": "execute_result",
          "data": {
            "text/plain": [
              "     5.1  3.5  1.4  0.2     Iris-setosa\n",
              "0    4.9  3.0  1.4  0.2     Iris-setosa\n",
              "1    4.7  3.2  1.3  0.2     Iris-setosa\n",
              "2    4.6  3.1  1.5  0.2     Iris-setosa\n",
              "3    5.0  3.6  1.4  0.2     Iris-setosa\n",
              "4    5.4  3.9  1.7  0.4     Iris-setosa\n",
              "..   ...  ...  ...  ...             ...\n",
              "144  6.7  3.0  5.2  2.3  Iris-virginica\n",
              "145  6.3  2.5  5.0  1.9  Iris-virginica\n",
              "146  6.5  3.0  5.2  2.0  Iris-virginica\n",
              "147  6.2  3.4  5.4  2.3  Iris-virginica\n",
              "148  5.9  3.0  5.1  1.8  Iris-virginica\n",
              "\n",
              "[149 rows x 5 columns]"
            ],
            "text/html": [
              "\n",
              "  <div id=\"df-9b89cee2-ade3-41b2-a56f-b37cd10bc897\" class=\"colab-df-container\">\n",
              "    <div>\n",
              "<style scoped>\n",
              "    .dataframe tbody tr th:only-of-type {\n",
              "        vertical-align: middle;\n",
              "    }\n",
              "\n",
              "    .dataframe tbody tr th {\n",
              "        vertical-align: top;\n",
              "    }\n",
              "\n",
              "    .dataframe thead th {\n",
              "        text-align: right;\n",
              "    }\n",
              "</style>\n",
              "<table border=\"1\" class=\"dataframe\">\n",
              "  <thead>\n",
              "    <tr style=\"text-align: right;\">\n",
              "      <th></th>\n",
              "      <th>5.1</th>\n",
              "      <th>3.5</th>\n",
              "      <th>1.4</th>\n",
              "      <th>0.2</th>\n",
              "      <th>Iris-setosa</th>\n",
              "    </tr>\n",
              "  </thead>\n",
              "  <tbody>\n",
              "    <tr>\n",
              "      <th>0</th>\n",
              "      <td>4.9</td>\n",
              "      <td>3.0</td>\n",
              "      <td>1.4</td>\n",
              "      <td>0.2</td>\n",
              "      <td>Iris-setosa</td>\n",
              "    </tr>\n",
              "    <tr>\n",
              "      <th>1</th>\n",
              "      <td>4.7</td>\n",
              "      <td>3.2</td>\n",
              "      <td>1.3</td>\n",
              "      <td>0.2</td>\n",
              "      <td>Iris-setosa</td>\n",
              "    </tr>\n",
              "    <tr>\n",
              "      <th>2</th>\n",
              "      <td>4.6</td>\n",
              "      <td>3.1</td>\n",
              "      <td>1.5</td>\n",
              "      <td>0.2</td>\n",
              "      <td>Iris-setosa</td>\n",
              "    </tr>\n",
              "    <tr>\n",
              "      <th>3</th>\n",
              "      <td>5.0</td>\n",
              "      <td>3.6</td>\n",
              "      <td>1.4</td>\n",
              "      <td>0.2</td>\n",
              "      <td>Iris-setosa</td>\n",
              "    </tr>\n",
              "    <tr>\n",
              "      <th>4</th>\n",
              "      <td>5.4</td>\n",
              "      <td>3.9</td>\n",
              "      <td>1.7</td>\n",
              "      <td>0.4</td>\n",
              "      <td>Iris-setosa</td>\n",
              "    </tr>\n",
              "    <tr>\n",
              "      <th>...</th>\n",
              "      <td>...</td>\n",
              "      <td>...</td>\n",
              "      <td>...</td>\n",
              "      <td>...</td>\n",
              "      <td>...</td>\n",
              "    </tr>\n",
              "    <tr>\n",
              "      <th>144</th>\n",
              "      <td>6.7</td>\n",
              "      <td>3.0</td>\n",
              "      <td>5.2</td>\n",
              "      <td>2.3</td>\n",
              "      <td>Iris-virginica</td>\n",
              "    </tr>\n",
              "    <tr>\n",
              "      <th>145</th>\n",
              "      <td>6.3</td>\n",
              "      <td>2.5</td>\n",
              "      <td>5.0</td>\n",
              "      <td>1.9</td>\n",
              "      <td>Iris-virginica</td>\n",
              "    </tr>\n",
              "    <tr>\n",
              "      <th>146</th>\n",
              "      <td>6.5</td>\n",
              "      <td>3.0</td>\n",
              "      <td>5.2</td>\n",
              "      <td>2.0</td>\n",
              "      <td>Iris-virginica</td>\n",
              "    </tr>\n",
              "    <tr>\n",
              "      <th>147</th>\n",
              "      <td>6.2</td>\n",
              "      <td>3.4</td>\n",
              "      <td>5.4</td>\n",
              "      <td>2.3</td>\n",
              "      <td>Iris-virginica</td>\n",
              "    </tr>\n",
              "    <tr>\n",
              "      <th>148</th>\n",
              "      <td>5.9</td>\n",
              "      <td>3.0</td>\n",
              "      <td>5.1</td>\n",
              "      <td>1.8</td>\n",
              "      <td>Iris-virginica</td>\n",
              "    </tr>\n",
              "  </tbody>\n",
              "</table>\n",
              "<p>149 rows × 5 columns</p>\n",
              "</div>\n",
              "    <div class=\"colab-df-buttons\">\n",
              "\n",
              "  <div class=\"colab-df-container\">\n",
              "    <button class=\"colab-df-convert\" onclick=\"convertToInteractive('df-9b89cee2-ade3-41b2-a56f-b37cd10bc897')\"\n",
              "            title=\"Convert this dataframe to an interactive table.\"\n",
              "            style=\"display:none;\">\n",
              "\n",
              "  <svg xmlns=\"http://www.w3.org/2000/svg\" height=\"24px\" viewBox=\"0 -960 960 960\">\n",
              "    <path d=\"M120-120v-720h720v720H120Zm60-500h600v-160H180v160Zm220 220h160v-160H400v160Zm0 220h160v-160H400v160ZM180-400h160v-160H180v160Zm440 0h160v-160H620v160ZM180-180h160v-160H180v160Zm440 0h160v-160H620v160Z\"/>\n",
              "  </svg>\n",
              "    </button>\n",
              "\n",
              "  <style>\n",
              "    .colab-df-container {\n",
              "      display:flex;\n",
              "      gap: 12px;\n",
              "    }\n",
              "\n",
              "    .colab-df-convert {\n",
              "      background-color: #E8F0FE;\n",
              "      border: none;\n",
              "      border-radius: 50%;\n",
              "      cursor: pointer;\n",
              "      display: none;\n",
              "      fill: #1967D2;\n",
              "      height: 32px;\n",
              "      padding: 0 0 0 0;\n",
              "      width: 32px;\n",
              "    }\n",
              "\n",
              "    .colab-df-convert:hover {\n",
              "      background-color: #E2EBFA;\n",
              "      box-shadow: 0px 1px 2px rgba(60, 64, 67, 0.3), 0px 1px 3px 1px rgba(60, 64, 67, 0.15);\n",
              "      fill: #174EA6;\n",
              "    }\n",
              "\n",
              "    .colab-df-buttons div {\n",
              "      margin-bottom: 4px;\n",
              "    }\n",
              "\n",
              "    [theme=dark] .colab-df-convert {\n",
              "      background-color: #3B4455;\n",
              "      fill: #D2E3FC;\n",
              "    }\n",
              "\n",
              "    [theme=dark] .colab-df-convert:hover {\n",
              "      background-color: #434B5C;\n",
              "      box-shadow: 0px 1px 3px 1px rgba(0, 0, 0, 0.15);\n",
              "      filter: drop-shadow(0px 1px 2px rgba(0, 0, 0, 0.3));\n",
              "      fill: #FFFFFF;\n",
              "    }\n",
              "  </style>\n",
              "\n",
              "    <script>\n",
              "      const buttonEl =\n",
              "        document.querySelector('#df-9b89cee2-ade3-41b2-a56f-b37cd10bc897 button.colab-df-convert');\n",
              "      buttonEl.style.display =\n",
              "        google.colab.kernel.accessAllowed ? 'block' : 'none';\n",
              "\n",
              "      async function convertToInteractive(key) {\n",
              "        const element = document.querySelector('#df-9b89cee2-ade3-41b2-a56f-b37cd10bc897');\n",
              "        const dataTable =\n",
              "          await google.colab.kernel.invokeFunction('convertToInteractive',\n",
              "                                                    [key], {});\n",
              "        if (!dataTable) return;\n",
              "\n",
              "        const docLinkHtml = 'Like what you see? Visit the ' +\n",
              "          '<a target=\"_blank\" href=https://colab.research.google.com/notebooks/data_table.ipynb>data table notebook</a>'\n",
              "          + ' to learn more about interactive tables.';\n",
              "        element.innerHTML = '';\n",
              "        dataTable['output_type'] = 'display_data';\n",
              "        await google.colab.output.renderOutput(dataTable, element);\n",
              "        const docLink = document.createElement('div');\n",
              "        docLink.innerHTML = docLinkHtml;\n",
              "        element.appendChild(docLink);\n",
              "      }\n",
              "    </script>\n",
              "  </div>\n",
              "\n",
              "\n",
              "<div id=\"df-1f0e7d26-68e2-4704-88c8-03002bd233eb\">\n",
              "  <button class=\"colab-df-quickchart\" onclick=\"quickchart('df-1f0e7d26-68e2-4704-88c8-03002bd233eb')\"\n",
              "            title=\"Suggest charts\"\n",
              "            style=\"display:none;\">\n",
              "\n",
              "<svg xmlns=\"http://www.w3.org/2000/svg\" height=\"24px\"viewBox=\"0 0 24 24\"\n",
              "     width=\"24px\">\n",
              "    <g>\n",
              "        <path d=\"M19 3H5c-1.1 0-2 .9-2 2v14c0 1.1.9 2 2 2h14c1.1 0 2-.9 2-2V5c0-1.1-.9-2-2-2zM9 17H7v-7h2v7zm4 0h-2V7h2v10zm4 0h-2v-4h2v4z\"/>\n",
              "    </g>\n",
              "</svg>\n",
              "  </button>\n",
              "\n",
              "<style>\n",
              "  .colab-df-quickchart {\n",
              "      --bg-color: #E8F0FE;\n",
              "      --fill-color: #1967D2;\n",
              "      --hover-bg-color: #E2EBFA;\n",
              "      --hover-fill-color: #174EA6;\n",
              "      --disabled-fill-color: #AAA;\n",
              "      --disabled-bg-color: #DDD;\n",
              "  }\n",
              "\n",
              "  [theme=dark] .colab-df-quickchart {\n",
              "      --bg-color: #3B4455;\n",
              "      --fill-color: #D2E3FC;\n",
              "      --hover-bg-color: #434B5C;\n",
              "      --hover-fill-color: #FFFFFF;\n",
              "      --disabled-bg-color: #3B4455;\n",
              "      --disabled-fill-color: #666;\n",
              "  }\n",
              "\n",
              "  .colab-df-quickchart {\n",
              "    background-color: var(--bg-color);\n",
              "    border: none;\n",
              "    border-radius: 50%;\n",
              "    cursor: pointer;\n",
              "    display: none;\n",
              "    fill: var(--fill-color);\n",
              "    height: 32px;\n",
              "    padding: 0;\n",
              "    width: 32px;\n",
              "  }\n",
              "\n",
              "  .colab-df-quickchart:hover {\n",
              "    background-color: var(--hover-bg-color);\n",
              "    box-shadow: 0 1px 2px rgba(60, 64, 67, 0.3), 0 1px 3px 1px rgba(60, 64, 67, 0.15);\n",
              "    fill: var(--button-hover-fill-color);\n",
              "  }\n",
              "\n",
              "  .colab-df-quickchart-complete:disabled,\n",
              "  .colab-df-quickchart-complete:disabled:hover {\n",
              "    background-color: var(--disabled-bg-color);\n",
              "    fill: var(--disabled-fill-color);\n",
              "    box-shadow: none;\n",
              "  }\n",
              "\n",
              "  .colab-df-spinner {\n",
              "    border: 2px solid var(--fill-color);\n",
              "    border-color: transparent;\n",
              "    border-bottom-color: var(--fill-color);\n",
              "    animation:\n",
              "      spin 1s steps(1) infinite;\n",
              "  }\n",
              "\n",
              "  @keyframes spin {\n",
              "    0% {\n",
              "      border-color: transparent;\n",
              "      border-bottom-color: var(--fill-color);\n",
              "      border-left-color: var(--fill-color);\n",
              "    }\n",
              "    20% {\n",
              "      border-color: transparent;\n",
              "      border-left-color: var(--fill-color);\n",
              "      border-top-color: var(--fill-color);\n",
              "    }\n",
              "    30% {\n",
              "      border-color: transparent;\n",
              "      border-left-color: var(--fill-color);\n",
              "      border-top-color: var(--fill-color);\n",
              "      border-right-color: var(--fill-color);\n",
              "    }\n",
              "    40% {\n",
              "      border-color: transparent;\n",
              "      border-right-color: var(--fill-color);\n",
              "      border-top-color: var(--fill-color);\n",
              "    }\n",
              "    60% {\n",
              "      border-color: transparent;\n",
              "      border-right-color: var(--fill-color);\n",
              "    }\n",
              "    80% {\n",
              "      border-color: transparent;\n",
              "      border-right-color: var(--fill-color);\n",
              "      border-bottom-color: var(--fill-color);\n",
              "    }\n",
              "    90% {\n",
              "      border-color: transparent;\n",
              "      border-bottom-color: var(--fill-color);\n",
              "    }\n",
              "  }\n",
              "</style>\n",
              "\n",
              "  <script>\n",
              "    async function quickchart(key) {\n",
              "      const quickchartButtonEl =\n",
              "        document.querySelector('#' + key + ' button');\n",
              "      quickchartButtonEl.disabled = true;  // To prevent multiple clicks.\n",
              "      quickchartButtonEl.classList.add('colab-df-spinner');\n",
              "      try {\n",
              "        const charts = await google.colab.kernel.invokeFunction(\n",
              "            'suggestCharts', [key], {});\n",
              "      } catch (error) {\n",
              "        console.error('Error during call to suggestCharts:', error);\n",
              "      }\n",
              "      quickchartButtonEl.classList.remove('colab-df-spinner');\n",
              "      quickchartButtonEl.classList.add('colab-df-quickchart-complete');\n",
              "    }\n",
              "    (() => {\n",
              "      let quickchartButtonEl =\n",
              "        document.querySelector('#df-1f0e7d26-68e2-4704-88c8-03002bd233eb button');\n",
              "      quickchartButtonEl.style.display =\n",
              "        google.colab.kernel.accessAllowed ? 'block' : 'none';\n",
              "    })();\n",
              "  </script>\n",
              "</div>\n",
              "\n",
              "  <div id=\"id_d337ae49-3f70-4177-9bbd-3f87ecfb8f00\">\n",
              "    <style>\n",
              "      .colab-df-generate {\n",
              "        background-color: #E8F0FE;\n",
              "        border: none;\n",
              "        border-radius: 50%;\n",
              "        cursor: pointer;\n",
              "        display: none;\n",
              "        fill: #1967D2;\n",
              "        height: 32px;\n",
              "        padding: 0 0 0 0;\n",
              "        width: 32px;\n",
              "      }\n",
              "\n",
              "      .colab-df-generate:hover {\n",
              "        background-color: #E2EBFA;\n",
              "        box-shadow: 0px 1px 2px rgba(60, 64, 67, 0.3), 0px 1px 3px 1px rgba(60, 64, 67, 0.15);\n",
              "        fill: #174EA6;\n",
              "      }\n",
              "\n",
              "      [theme=dark] .colab-df-generate {\n",
              "        background-color: #3B4455;\n",
              "        fill: #D2E3FC;\n",
              "      }\n",
              "\n",
              "      [theme=dark] .colab-df-generate:hover {\n",
              "        background-color: #434B5C;\n",
              "        box-shadow: 0px 1px 3px 1px rgba(0, 0, 0, 0.15);\n",
              "        filter: drop-shadow(0px 1px 2px rgba(0, 0, 0, 0.3));\n",
              "        fill: #FFFFFF;\n",
              "      }\n",
              "    </style>\n",
              "    <button class=\"colab-df-generate\" onclick=\"generateWithVariable('iris')\"\n",
              "            title=\"Generate code using this dataframe.\"\n",
              "            style=\"display:none;\">\n",
              "\n",
              "  <svg xmlns=\"http://www.w3.org/2000/svg\" height=\"24px\"viewBox=\"0 0 24 24\"\n",
              "       width=\"24px\">\n",
              "    <path d=\"M7,19H8.4L18.45,9,17,7.55,7,17.6ZM5,21V16.75L18.45,3.32a2,2,0,0,1,2.83,0l1.4,1.43a1.91,1.91,0,0,1,.58,1.4,1.91,1.91,0,0,1-.58,1.4L9.25,21ZM18.45,9,17,7.55Zm-12,3A5.31,5.31,0,0,0,4.9,8.1,5.31,5.31,0,0,0,1,6.5,5.31,5.31,0,0,0,4.9,4.9,5.31,5.31,0,0,0,6.5,1,5.31,5.31,0,0,0,8.1,4.9,5.31,5.31,0,0,0,12,6.5,5.46,5.46,0,0,0,6.5,12Z\"/>\n",
              "  </svg>\n",
              "    </button>\n",
              "    <script>\n",
              "      (() => {\n",
              "      const buttonEl =\n",
              "        document.querySelector('#id_d337ae49-3f70-4177-9bbd-3f87ecfb8f00 button.colab-df-generate');\n",
              "      buttonEl.style.display =\n",
              "        google.colab.kernel.accessAllowed ? 'block' : 'none';\n",
              "\n",
              "      buttonEl.onclick = () => {\n",
              "        google.colab.notebook.generateWithVariable('iris');\n",
              "      }\n",
              "      })();\n",
              "    </script>\n",
              "  </div>\n",
              "\n",
              "    </div>\n",
              "  </div>\n"
            ],
            "application/vnd.google.colaboratory.intrinsic+json": {
              "type": "dataframe",
              "variable_name": "iris",
              "summary": "{\n  \"name\": \"iris\",\n  \"rows\": 149,\n  \"fields\": [\n    {\n      \"column\": \"5.1\",\n      \"properties\": {\n        \"dtype\": \"number\",\n        \"std\": 0.8285940572656172,\n        \"min\": 4.3,\n        \"max\": 7.9,\n        \"num_unique_values\": 35,\n        \"samples\": [\n          6.2,\n          4.5,\n          5.6\n        ],\n        \"semantic_type\": \"\",\n        \"description\": \"\"\n      }\n    },\n    {\n      \"column\": \"3.5\",\n      \"properties\": {\n        \"dtype\": \"number\",\n        \"std\": 0.4334988777167477,\n        \"min\": 2.0,\n        \"max\": 4.4,\n        \"num_unique_values\": 23,\n        \"samples\": [\n          2.3,\n          4.4,\n          3.0\n        ],\n        \"semantic_type\": \"\",\n        \"description\": \"\"\n      }\n    },\n    {\n      \"column\": \"1.4\",\n      \"properties\": {\n        \"dtype\": \"number\",\n        \"std\": 1.7596511617753423,\n        \"min\": 1.0,\n        \"max\": 6.9,\n        \"num_unique_values\": 43,\n        \"samples\": [\n          6.7,\n          3.8,\n          3.7\n        ],\n        \"semantic_type\": \"\",\n        \"description\": \"\"\n      }\n    },\n    {\n      \"column\": \"0.2\",\n      \"properties\": {\n        \"dtype\": \"number\",\n        \"std\": 0.7612920413899608,\n        \"min\": 0.1,\n        \"max\": 2.5,\n        \"num_unique_values\": 22,\n        \"samples\": [\n          0.2,\n          1.2,\n          1.3\n        ],\n        \"semantic_type\": \"\",\n        \"description\": \"\"\n      }\n    },\n    {\n      \"column\": \"Iris-setosa\",\n      \"properties\": {\n        \"dtype\": \"category\",\n        \"num_unique_values\": 3,\n        \"samples\": [\n          \"Iris-setosa\",\n          \"Iris-versicolor\",\n          \"Iris-virginica\"\n        ],\n        \"semantic_type\": \"\",\n        \"description\": \"\"\n      }\n    }\n  ]\n}"
            }
          },
          "metadata": {},
          "execution_count": 7
        }
      ],
      "source": [
        "iris = pd.read_csv('https://archive.ics.uci.edu/ml/machine-learning-databases/iris/iris.data')\n",
        "iris"
      ]
    },
    {
      "cell_type": "markdown",
      "metadata": {
        "id": "qYUCMWalB2al"
      },
      "source": [
        "### Step 4. Create columns for the dataset"
      ]
    },
    {
      "cell_type": "code",
      "execution_count": 9,
      "metadata": {
        "colab": {
          "base_uri": "https://localhost:8080/"
        },
        "id": "ERoUkHV_B2al",
        "outputId": "83de6b20-5f82-4cf4-9d27-a90166883694"
      },
      "outputs": [
        {
          "output_type": "stream",
          "name": "stdout",
          "text": [
            "   sepal_length (in cm)  sepal_width (in cm)  petal_length (in cm)  \\\n",
            "0                   4.9                  3.0                   1.4   \n",
            "1                   4.7                  3.2                   1.3   \n",
            "2                   4.6                  3.1                   1.5   \n",
            "3                   5.0                  3.6                   1.4   \n",
            "4                   5.4                  3.9                   1.7   \n",
            "\n",
            "   petal_width (in cm)        class  \n",
            "0                  0.2  Iris-setosa  \n",
            "1                  0.2  Iris-setosa  \n",
            "2                  0.2  Iris-setosa  \n",
            "3                  0.2  Iris-setosa  \n",
            "4                  0.4  Iris-setosa  \n"
          ]
        }
      ],
      "source": [
        "# Rename the columns of the iris dataset\n",
        "iris.columns = ['sepal_length (in cm)', 'sepal_width (in cm)', 'petal_length (in cm)', 'petal_width (in cm)', 'class']\n",
        "\n",
        "# Display the updated DataFrame\n",
        "print(iris.head())"
      ]
    },
    {
      "cell_type": "markdown",
      "metadata": {
        "id": "t-W5gAC5B2am"
      },
      "source": [
        "### Step 5.  Is there any missing value in the dataframe?"
      ]
    },
    {
      "cell_type": "code",
      "execution_count": 10,
      "metadata": {
        "colab": {
          "base_uri": "https://localhost:8080/",
          "height": 241
        },
        "id": "PUaJyNHxB2am",
        "outputId": "50e5fe9e-c5b3-4242-9469-6f7852cce42a"
      },
      "outputs": [
        {
          "output_type": "execute_result",
          "data": {
            "text/plain": [
              "sepal_length (in cm)    0\n",
              "sepal_width (in cm)     0\n",
              "petal_length (in cm)    0\n",
              "petal_width (in cm)     0\n",
              "class                   0\n",
              "dtype: int64"
            ],
            "text/html": [
              "<div>\n",
              "<style scoped>\n",
              "    .dataframe tbody tr th:only-of-type {\n",
              "        vertical-align: middle;\n",
              "    }\n",
              "\n",
              "    .dataframe tbody tr th {\n",
              "        vertical-align: top;\n",
              "    }\n",
              "\n",
              "    .dataframe thead th {\n",
              "        text-align: right;\n",
              "    }\n",
              "</style>\n",
              "<table border=\"1\" class=\"dataframe\">\n",
              "  <thead>\n",
              "    <tr style=\"text-align: right;\">\n",
              "      <th></th>\n",
              "      <th>0</th>\n",
              "    </tr>\n",
              "  </thead>\n",
              "  <tbody>\n",
              "    <tr>\n",
              "      <th>sepal_length (in cm)</th>\n",
              "      <td>0</td>\n",
              "    </tr>\n",
              "    <tr>\n",
              "      <th>sepal_width (in cm)</th>\n",
              "      <td>0</td>\n",
              "    </tr>\n",
              "    <tr>\n",
              "      <th>petal_length (in cm)</th>\n",
              "      <td>0</td>\n",
              "    </tr>\n",
              "    <tr>\n",
              "      <th>petal_width (in cm)</th>\n",
              "      <td>0</td>\n",
              "    </tr>\n",
              "    <tr>\n",
              "      <th>class</th>\n",
              "      <td>0</td>\n",
              "    </tr>\n",
              "  </tbody>\n",
              "</table>\n",
              "</div><br><label><b>dtype:</b> int64</label>"
            ]
          },
          "metadata": {},
          "execution_count": 10
        }
      ],
      "source": [
        "iris.isnull().sum()"
      ]
    },
    {
      "cell_type": "markdown",
      "metadata": {
        "id": "nDrihMOqB2an"
      },
      "source": [
        "### Step 6.  Lets set the values of the rows 10 to 29 of the column 'petal_length' to NaN"
      ]
    },
    {
      "cell_type": "code",
      "execution_count": 11,
      "metadata": {
        "colab": {
          "base_uri": "https://localhost:8080/"
        },
        "id": "RW9t0KEaB2an",
        "outputId": "c2415268-28b8-40d6-c87d-b2439c0e4235"
      },
      "outputs": [
        {
          "output_type": "stream",
          "name": "stdout",
          "text": [
            "    sepal_length (in cm)  sepal_width (in cm)  petal_length (in cm)  \\\n",
            "10                   4.8                  3.4                   NaN   \n",
            "11                   4.8                  3.0                   NaN   \n",
            "12                   4.3                  3.0                   NaN   \n",
            "13                   5.8                  4.0                   NaN   \n",
            "14                   5.7                  4.4                   NaN   \n",
            "15                   5.4                  3.9                   NaN   \n",
            "16                   5.1                  3.5                   NaN   \n",
            "17                   5.7                  3.8                   NaN   \n",
            "18                   5.1                  3.8                   NaN   \n",
            "19                   5.4                  3.4                   NaN   \n",
            "20                   5.1                  3.7                   NaN   \n",
            "21                   4.6                  3.6                   NaN   \n",
            "22                   5.1                  3.3                   NaN   \n",
            "23                   4.8                  3.4                   NaN   \n",
            "24                   5.0                  3.0                   NaN   \n",
            "25                   5.0                  3.4                   NaN   \n",
            "26                   5.2                  3.5                   NaN   \n",
            "27                   5.2                  3.4                   NaN   \n",
            "28                   4.7                  3.2                   NaN   \n",
            "29                   4.8                  3.1                   NaN   \n",
            "\n",
            "    petal_width (in cm)        class  \n",
            "10                  0.2  Iris-setosa  \n",
            "11                  0.1  Iris-setosa  \n",
            "12                  0.1  Iris-setosa  \n",
            "13                  0.2  Iris-setosa  \n",
            "14                  0.4  Iris-setosa  \n",
            "15                  0.4  Iris-setosa  \n",
            "16                  0.3  Iris-setosa  \n",
            "17                  0.3  Iris-setosa  \n",
            "18                  0.3  Iris-setosa  \n",
            "19                  0.2  Iris-setosa  \n",
            "20                  0.4  Iris-setosa  \n",
            "21                  0.2  Iris-setosa  \n",
            "22                  0.5  Iris-setosa  \n",
            "23                  0.2  Iris-setosa  \n",
            "24                  0.2  Iris-setosa  \n",
            "25                  0.4  Iris-setosa  \n",
            "26                  0.2  Iris-setosa  \n",
            "27                  0.2  Iris-setosa  \n",
            "28                  0.2  Iris-setosa  \n",
            "29                  0.2  Iris-setosa  \n"
          ]
        }
      ],
      "source": [
        "# Set rows 10 to 29 of the 'petal_length' column to NaN\n",
        "iris.loc[10:29, 'petal_length (in cm)'] = np.nan\n",
        "\n",
        "# Display the updated DataFrame\n",
        "print(iris.iloc[10:30])  # Display rows 10 to 29 to confirm the change\n"
      ]
    },
    {
      "cell_type": "markdown",
      "metadata": {
        "id": "LGzQSkh7B2an"
      },
      "source": [
        "### Step 7. Good, now lets substitute the NaN values to 1.0"
      ]
    },
    {
      "cell_type": "code",
      "execution_count": 12,
      "metadata": {
        "colab": {
          "base_uri": "https://localhost:8080/"
        },
        "id": "YLCkP71oB2ao",
        "outputId": "87468a60-e3e4-404d-dfaa-0f8ab24f3880"
      },
      "outputs": [
        {
          "output_type": "stream",
          "name": "stdout",
          "text": [
            "    sepal_length (in cm)  sepal_width (in cm)  petal_length (in cm)  \\\n",
            "10                   4.8                  3.4                   1.0   \n",
            "11                   4.8                  3.0                   1.0   \n",
            "12                   4.3                  3.0                   1.0   \n",
            "13                   5.8                  4.0                   1.0   \n",
            "14                   5.7                  4.4                   1.0   \n",
            "15                   5.4                  3.9                   1.0   \n",
            "16                   5.1                  3.5                   1.0   \n",
            "17                   5.7                  3.8                   1.0   \n",
            "18                   5.1                  3.8                   1.0   \n",
            "19                   5.4                  3.4                   1.0   \n",
            "20                   5.1                  3.7                   1.0   \n",
            "21                   4.6                  3.6                   1.0   \n",
            "22                   5.1                  3.3                   1.0   \n",
            "23                   4.8                  3.4                   1.0   \n",
            "24                   5.0                  3.0                   1.0   \n",
            "25                   5.0                  3.4                   1.0   \n",
            "26                   5.2                  3.5                   1.0   \n",
            "27                   5.2                  3.4                   1.0   \n",
            "28                   4.7                  3.2                   1.0   \n",
            "29                   4.8                  3.1                   1.0   \n",
            "\n",
            "    petal_width (in cm)        class  \n",
            "10                  0.2  Iris-setosa  \n",
            "11                  0.1  Iris-setosa  \n",
            "12                  0.1  Iris-setosa  \n",
            "13                  0.2  Iris-setosa  \n",
            "14                  0.4  Iris-setosa  \n",
            "15                  0.4  Iris-setosa  \n",
            "16                  0.3  Iris-setosa  \n",
            "17                  0.3  Iris-setosa  \n",
            "18                  0.3  Iris-setosa  \n",
            "19                  0.2  Iris-setosa  \n",
            "20                  0.4  Iris-setosa  \n",
            "21                  0.2  Iris-setosa  \n",
            "22                  0.5  Iris-setosa  \n",
            "23                  0.2  Iris-setosa  \n",
            "24                  0.2  Iris-setosa  \n",
            "25                  0.4  Iris-setosa  \n",
            "26                  0.2  Iris-setosa  \n",
            "27                  0.2  Iris-setosa  \n",
            "28                  0.2  Iris-setosa  \n",
            "29                  0.2  Iris-setosa  \n"
          ]
        },
        {
          "output_type": "stream",
          "name": "stderr",
          "text": [
            "<ipython-input-12-db118e7d35bd>:2: FutureWarning: A value is trying to be set on a copy of a DataFrame or Series through chained assignment using an inplace method.\n",
            "The behavior will change in pandas 3.0. This inplace method will never work because the intermediate object on which we are setting values always behaves as a copy.\n",
            "\n",
            "For example, when doing 'df[col].method(value, inplace=True)', try using 'df.method({col: value}, inplace=True)' or df[col] = df[col].method(value) instead, to perform the operation inplace on the original object.\n",
            "\n",
            "\n",
            "  iris['petal_length (in cm)'].fillna(1.0, inplace=True)\n"
          ]
        }
      ],
      "source": [
        "# Replace NaN values in 'petal_length (in cm)' column with 1.0\n",
        "iris['petal_length (in cm)'].fillna(1.0, inplace=True)\n",
        "\n",
        "# Display the updated DataFrame to confirm the change\n",
        "print(iris.iloc[10:30])  # Display rows 10 to 29 to confirm the substitution"
      ]
    },
    {
      "cell_type": "markdown",
      "metadata": {
        "id": "ONJgvjiiB2ao"
      },
      "source": [
        "### Step 8. Now let's delete the column class"
      ]
    },
    {
      "cell_type": "code",
      "execution_count": 13,
      "metadata": {
        "colab": {
          "base_uri": "https://localhost:8080/"
        },
        "id": "TLrLLAhyB2ap",
        "outputId": "4a1738c9-b9d5-4bb0-94f6-39e4bf9f0a02"
      },
      "outputs": [
        {
          "output_type": "stream",
          "name": "stdout",
          "text": [
            "   sepal_length (in cm)  sepal_width (in cm)  petal_length (in cm)  \\\n",
            "0                   4.9                  3.0                   1.4   \n",
            "1                   4.7                  3.2                   1.3   \n",
            "2                   4.6                  3.1                   1.5   \n",
            "3                   5.0                  3.6                   1.4   \n",
            "4                   5.4                  3.9                   1.7   \n",
            "\n",
            "   petal_width (in cm)  \n",
            "0                  0.2  \n",
            "1                  0.2  \n",
            "2                  0.2  \n",
            "3                  0.2  \n",
            "4                  0.4  \n"
          ]
        }
      ],
      "source": [
        "# Drop the 'class' column from the DataFrame\n",
        "iris.drop(columns=['class'], inplace=True)\n",
        "\n",
        "# Display the updated DataFrame to confirm the deletion\n",
        "print(iris.head())  # Display the first few rows to check the change"
      ]
    },
    {
      "cell_type": "markdown",
      "metadata": {
        "id": "04-Zo5XoB2ap"
      },
      "source": [
        "### Step 9.  Set the first 3 rows as NaN"
      ]
    },
    {
      "cell_type": "code",
      "execution_count": 14,
      "metadata": {
        "colab": {
          "base_uri": "https://localhost:8080/"
        },
        "id": "92-gH8_rB2ap",
        "outputId": "a37f121f-ba93-456b-9f09-d67279bdf037"
      },
      "outputs": [
        {
          "output_type": "stream",
          "name": "stdout",
          "text": [
            "   sepal_length (in cm)  sepal_width (in cm)  petal_length (in cm)  \\\n",
            "0                   NaN                  NaN                   NaN   \n",
            "1                   NaN                  NaN                   NaN   \n",
            "2                   NaN                  NaN                   NaN   \n",
            "3                   5.0                  3.6                   1.4   \n",
            "4                   5.4                  3.9                   1.7   \n",
            "\n",
            "   petal_width (in cm)  \n",
            "0                  NaN  \n",
            "1                  NaN  \n",
            "2                  NaN  \n",
            "3                  0.2  \n",
            "4                  0.4  \n"
          ]
        }
      ],
      "source": [
        "# Set the first 3 rows as NaN\n",
        "iris.iloc[0:3] = np.nan\n",
        "\n",
        "# Display the updated DataFrame to confirm the change\n",
        "print(iris.head())  # Display the first few rows to check the change\n"
      ]
    },
    {
      "cell_type": "markdown",
      "metadata": {
        "id": "4-HsBEspB2ap"
      },
      "source": [
        "### Step 10.  Delete the rows that have NaN"
      ]
    },
    {
      "cell_type": "code",
      "execution_count": 15,
      "metadata": {
        "colab": {
          "base_uri": "https://localhost:8080/"
        },
        "id": "FuihSTHzB2aq",
        "outputId": "6f1954b9-6abc-4b7a-e937-3cff876e2ec4"
      },
      "outputs": [
        {
          "output_type": "stream",
          "name": "stdout",
          "text": [
            "   sepal_length (in cm)  sepal_width (in cm)  petal_length (in cm)  \\\n",
            "3                   5.0                  3.6                   1.4   \n",
            "4                   5.4                  3.9                   1.7   \n",
            "5                   4.6                  3.4                   1.4   \n",
            "6                   5.0                  3.4                   1.5   \n",
            "7                   4.4                  2.9                   1.4   \n",
            "\n",
            "   petal_width (in cm)  \n",
            "3                  0.2  \n",
            "4                  0.4  \n",
            "5                  0.3  \n",
            "6                  0.2  \n",
            "7                  0.2  \n"
          ]
        }
      ],
      "source": [
        "# Drop rows that contain NaN values\n",
        "iris.dropna(inplace=True)\n",
        "\n",
        "# Display the updated DataFrame to confirm the deletion\n",
        "print(iris.head())  # Display the first few rows to check the change"
      ]
    },
    {
      "cell_type": "markdown",
      "metadata": {
        "id": "ooW5A8q0B2aq"
      },
      "source": [
        "### Step 11. Reset the index so it begins with 0 again"
      ]
    },
    {
      "cell_type": "code",
      "execution_count": 16,
      "metadata": {
        "colab": {
          "base_uri": "https://localhost:8080/"
        },
        "id": "K72QrQT0B2aq",
        "outputId": "1a84c71e-58a4-419a-c9f4-7c55b1d78a9d"
      },
      "outputs": [
        {
          "output_type": "stream",
          "name": "stdout",
          "text": [
            "   sepal_length (in cm)  sepal_width (in cm)  petal_length (in cm)  \\\n",
            "0                   5.0                  3.6                   1.4   \n",
            "1                   5.4                  3.9                   1.7   \n",
            "2                   4.6                  3.4                   1.4   \n",
            "3                   5.0                  3.4                   1.5   \n",
            "4                   4.4                  2.9                   1.4   \n",
            "\n",
            "   petal_width (in cm)  \n",
            "0                  0.2  \n",
            "1                  0.4  \n",
            "2                  0.3  \n",
            "3                  0.2  \n",
            "4                  0.2  \n"
          ]
        }
      ],
      "source": [
        "# Reset the index\n",
        "iris.reset_index(drop=True, inplace=True)\n",
        "\n",
        "# Display the updated DataFrame to confirm the index reset\n",
        "print(iris.head())  # Display the first few rows to check the change"
      ]
    },
    {
      "cell_type": "markdown",
      "metadata": {
        "id": "Wpdhol2eB2aq"
      },
      "source": [
        "### BONUS: Create your own question and answer it.\n",
        "\n"
      ]
    },
    {
      "cell_type": "code",
      "source": [],
      "metadata": {
        "id": "G0CR-3G8E4Q-"
      },
      "execution_count": null,
      "outputs": []
    }
  ],
  "metadata": {
    "kernelspec": {
      "display_name": "Python 3",
      "name": "python3"
    },
    "language_info": {
      "name": "python"
    },
    "colab": {
      "provenance": [],
      "include_colab_link": true
    }
  },
  "nbformat": 4,
  "nbformat_minor": 0
}